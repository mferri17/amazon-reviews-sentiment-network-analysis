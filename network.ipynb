{
  "nbformat": 4,
  "nbformat_minor": 0,
  "metadata": {
    "colab": {
      "name": "network.ipynb",
      "version": "0.3.2",
      "provenance": [],
      "collapsed_sections": [
        "lxwEn1LnX2Kx",
        "g9-2uspkLdAP",
        "9DDZraswLdA-",
        "-YoecvNDLdBB",
        "QD4mUbkXClLl",
        "8jwbpcvQHBsW"
      ],
      "include_colab_link": true
    },
    "language_info": {
      "codemirror_mode": {
        "name": "ipython",
        "version": 3
      },
      "file_extension": ".py",
      "mimetype": "text/x-python",
      "name": "python",
      "nbconvert_exporter": "python",
      "pygments_lexer": "ipython3",
      "version": "3.7.3"
    },
    "kernelspec": {
      "name": "python3",
      "display_name": "Python 3"
    },
    "accelerator": "GPU"
  },
  "cells": [
    {
      "cell_type": "markdown",
      "metadata": {
        "id": "view-in-github",
        "colab_type": "text"
      },
      "source": [
        "<a href=\"https://colab.research.google.com/github/mferri17/amazon-reviews-sentiment-network-analysis/blob/master/network.ipynb\" target=\"_parent\"><img src=\"https://colab.research.google.com/assets/colab-badge.svg\" alt=\"Open In Colab\"/></a>"
      ]
    },
    {
      "cell_type": "markdown",
      "metadata": {
        "id": "ysBCOUbpLc_k",
        "colab_type": "text"
      },
      "source": [
        "# Amazon Reviews Network Analysis - Ferri Marco, Basso Matteo"
      ]
    },
    {
      "cell_type": "markdown",
      "metadata": {
        "id": "FpMdBSI2Lc_l",
        "colab_type": "text"
      },
      "source": [
        "This project aims to experiment with network analysis on [Amazon Reviews](http://jmcauley.ucsd.edu/data/amazon/) in order to build a collaborative filtering model."
      ]
    },
    {
      "cell_type": "markdown",
      "metadata": {
        "id": "LfwyCK9SLc_m",
        "colab_type": "text"
      },
      "source": [
        "## Dataset"
      ]
    },
    {
      "cell_type": "markdown",
      "metadata": {
        "id": "lxwEn1LnX2Kx",
        "colab_type": "text"
      },
      "source": [
        "### Dependencies"
      ]
    },
    {
      "cell_type": "code",
      "metadata": {
        "scrolled": false,
        "id": "ATRnE5hmLc_n",
        "colab_type": "code",
        "colab": {}
      },
      "source": [
        "import os\n",
        "import gzip\n",
        "import fileinput\n",
        "import sys\n",
        "import datetime\n",
        "import io\n",
        "import urllib\n",
        "import pandas as pd\n",
        "import numpy as np\n",
        "import matplotlib.pyplot as plt"
      ],
      "execution_count": 0,
      "outputs": []
    },
    {
      "cell_type": "markdown",
      "metadata": {
        "id": "Ivh_vmWKLc_r",
        "colab_type": "text"
      },
      "source": [
        "### Reading"
      ]
    },
    {
      "cell_type": "markdown",
      "metadata": {
        "id": "HFHgiBhULc_s",
        "colab_type": "text"
      },
      "source": [
        "\n",
        "Util functions to read from JSON and convert into pandas dataframe:"
      ]
    },
    {
      "cell_type": "code",
      "metadata": {
        "scrolled": false,
        "id": "dS8W2vxFLc_t",
        "colab_type": "code",
        "colab": {}
      },
      "source": [
        "def parse(path):\n",
        "  g = gzip.open(path, 'rb')\n",
        "  for l in g:\n",
        "    yield eval(l)\n",
        "\n",
        "def getDF(path):\n",
        "  df = []\n",
        "  for d in parse(path):\n",
        "    df.append(d)\n",
        "  return pd.DataFrame(df)\n",
        "\n",
        "def read_dataset(dataset):      \n",
        "  basepath = r\"datasets\\amazon-5-core\"\n",
        "  df = getDF(os.path.join(basepath, dataset))\n",
        "  return df\n",
        "  \n",
        "def download_dataset(dataset):\n",
        "  request = urllib.request.Request('http://snap.stanford.edu/data/amazon/productGraph/categoryFiles/' + dataset)\n",
        "  request.add_header('Accept-encoding', 'gzip')\n",
        "  response = urllib.request.urlopen(request)\n",
        "  buf = io.BytesIO(response.read())\n",
        "  file = gzip.GzipFile(fileobj=buf)\n",
        "  df = []\n",
        "  for line in file:\n",
        "    df.append(eval(line))\n",
        "  return pd.DataFrame(df)"
      ],
      "execution_count": 0,
      "outputs": []
    },
    {
      "cell_type": "markdown",
      "metadata": {
        "id": "vTmIPVTqLc_v",
        "colab_type": "text"
      },
      "source": [
        "Reading from JSON"
      ]
    },
    {
      "cell_type": "code",
      "metadata": {
        "scrolled": false,
        "id": "GVoQ1KOhLc_w",
        "colab_type": "code",
        "outputId": "78ab3668-951a-41c0-b457-9a8e6ef187c0",
        "colab": {
          "base_uri": "https://localhost:8080/",
          "height": 50
        }
      },
      "source": [
        "#%time dfull = read_dataset(\"reviews_Video_Games_5.json.gz\")\n",
        "%time dfull = download_dataset('reviews_Clothing_Shoes_and_Jewelry_5.json.gz')"
      ],
      "execution_count": 3,
      "outputs": [
        {
          "output_type": "stream",
          "text": [
            "CPU times: user 11 s, sys: 322 ms, total: 11.4 s\n",
            "Wall time: 15 s\n"
          ],
          "name": "stdout"
        }
      ]
    },
    {
      "cell_type": "markdown",
      "metadata": {
        "id": "8FFQDmglLc_9",
        "colab_type": "text"
      },
      "source": [
        "---"
      ]
    },
    {
      "cell_type": "markdown",
      "metadata": {
        "id": "XzU2ogWCLc_-",
        "colab_type": "text"
      },
      "source": [
        "###  Description"
      ]
    },
    {
      "cell_type": "markdown",
      "metadata": {
        "id": "JLiIbGc_Lc__",
        "colab_type": "text"
      },
      "source": [
        "#### Schema"
      ]
    },
    {
      "cell_type": "code",
      "metadata": {
        "scrolled": false,
        "id": "qAnGOIo2Lc__",
        "colab_type": "code",
        "outputId": "f2be2778-3b43-4d00-aefe-b567701cbfbc",
        "colab": {
          "base_uri": "https://localhost:8080/",
          "height": 34
        }
      },
      "source": [
        "print(\"(rows, cols) = \", dfull.shape)"
      ],
      "execution_count": 4,
      "outputs": [
        {
          "output_type": "stream",
          "text": [
            "(rows, cols) =  (278677, 9)\n"
          ],
          "name": "stdout"
        }
      ]
    },
    {
      "cell_type": "code",
      "metadata": {
        "scrolled": false,
        "id": "vs35GBUdLc_3",
        "colab_type": "code",
        "colab": {}
      },
      "source": [
        "dfull = dfull.rename(index=str, columns={\"asin\": \"productID\", \n",
        "                                         \"reviewerID\": \"userID\", \n",
        "                                         \"reviewerName\": \"userName\",\n",
        "                                         \"reviewText\": \"text\",\n",
        "                                         \"overall\": \"rating\"})"
      ],
      "execution_count": 0,
      "outputs": []
    },
    {
      "cell_type": "code",
      "metadata": {
        "scrolled": false,
        "id": "eMz4oHsOLdAE",
        "colab_type": "code",
        "outputId": "4a376065-b85a-4568-c879-7ff07de8a081",
        "colab": {
          "base_uri": "https://localhost:8080/",
          "height": 252
        }
      },
      "source": [
        "dfull.info()"
      ],
      "execution_count": 6,
      "outputs": [
        {
          "output_type": "stream",
          "text": [
            "<class 'pandas.core.frame.DataFrame'>\n",
            "Index: 278677 entries, 0 to 278676\n",
            "Data columns (total 9 columns):\n",
            "productID         278677 non-null object\n",
            "helpful           278677 non-null object\n",
            "rating            278677 non-null float64\n",
            "text              278677 non-null object\n",
            "reviewTime        278677 non-null object\n",
            "userID            278677 non-null object\n",
            "userName          278225 non-null object\n",
            "summary           278677 non-null object\n",
            "unixReviewTime    278677 non-null int64\n",
            "dtypes: float64(1), int64(1), object(7)\n",
            "memory usage: 21.3+ MB\n"
          ],
          "name": "stdout"
        }
      ]
    },
    {
      "cell_type": "code",
      "metadata": {
        "scrolled": false,
        "id": "FfB3d-ZJLdAJ",
        "colab_type": "code",
        "outputId": "f7e0a962-68b1-45bd-f661-f6523d23afc9",
        "colab": {
          "base_uri": "https://localhost:8080/",
          "height": 136
        }
      },
      "source": [
        "dfull.head(3)"
      ],
      "execution_count": 7,
      "outputs": [
        {
          "output_type": "execute_result",
          "data": {
            "text/html": [
              "<div>\n",
              "<style scoped>\n",
              "    .dataframe tbody tr th:only-of-type {\n",
              "        vertical-align: middle;\n",
              "    }\n",
              "\n",
              "    .dataframe tbody tr th {\n",
              "        vertical-align: top;\n",
              "    }\n",
              "\n",
              "    .dataframe thead th {\n",
              "        text-align: right;\n",
              "    }\n",
              "</style>\n",
              "<table border=\"1\" class=\"dataframe\">\n",
              "  <thead>\n",
              "    <tr style=\"text-align: right;\">\n",
              "      <th></th>\n",
              "      <th>productID</th>\n",
              "      <th>helpful</th>\n",
              "      <th>rating</th>\n",
              "      <th>text</th>\n",
              "      <th>reviewTime</th>\n",
              "      <th>userID</th>\n",
              "      <th>userName</th>\n",
              "      <th>summary</th>\n",
              "      <th>unixReviewTime</th>\n",
              "    </tr>\n",
              "  </thead>\n",
              "  <tbody>\n",
              "    <tr>\n",
              "      <th>0</th>\n",
              "      <td>0000031887</td>\n",
              "      <td>[0, 0]</td>\n",
              "      <td>5.0</td>\n",
              "      <td>This is a great tutu and at a really great pri...</td>\n",
              "      <td>02 12, 2011</td>\n",
              "      <td>A1KLRMWW2FWPL4</td>\n",
              "      <td>Amazon Customer \"cameramom\"</td>\n",
              "      <td>Great tutu-  not cheaply made</td>\n",
              "      <td>1297468800</td>\n",
              "    </tr>\n",
              "    <tr>\n",
              "      <th>1</th>\n",
              "      <td>0000031887</td>\n",
              "      <td>[0, 0]</td>\n",
              "      <td>5.0</td>\n",
              "      <td>I bought this for my 4 yr old daughter for dan...</td>\n",
              "      <td>01 19, 2013</td>\n",
              "      <td>A2G5TCU2WDFZ65</td>\n",
              "      <td>Amazon Customer</td>\n",
              "      <td>Very Cute!!</td>\n",
              "      <td>1358553600</td>\n",
              "    </tr>\n",
              "    <tr>\n",
              "      <th>2</th>\n",
              "      <td>0000031887</td>\n",
              "      <td>[0, 0]</td>\n",
              "      <td>5.0</td>\n",
              "      <td>What can I say... my daughters have it in oran...</td>\n",
              "      <td>01 4, 2013</td>\n",
              "      <td>A1RLQXYNCMWRWN</td>\n",
              "      <td>Carola</td>\n",
              "      <td>I have buy more than one</td>\n",
              "      <td>1357257600</td>\n",
              "    </tr>\n",
              "  </tbody>\n",
              "</table>\n",
              "</div>"
            ],
            "text/plain": [
              "    productID helpful  ...                        summary unixReviewTime\n",
              "0  0000031887  [0, 0]  ...  Great tutu-  not cheaply made     1297468800\n",
              "1  0000031887  [0, 0]  ...                    Very Cute!!     1358553600\n",
              "2  0000031887  [0, 0]  ...       I have buy more than one     1357257600\n",
              "\n",
              "[3 rows x 9 columns]"
            ]
          },
          "metadata": {
            "tags": []
          },
          "execution_count": 7
        }
      ]
    },
    {
      "cell_type": "markdown",
      "metadata": {
        "id": "d-SJ_j0eLdAO",
        "colab_type": "text"
      },
      "source": [
        "#### Columns analysis"
      ]
    },
    {
      "cell_type": "markdown",
      "metadata": {
        "id": "g9-2uspkLdAP",
        "colab_type": "text"
      },
      "source": [
        "##### Users and products"
      ]
    },
    {
      "cell_type": "code",
      "metadata": {
        "scrolled": false,
        "id": "z5WL24eHLdAP",
        "colab_type": "code",
        "outputId": "6bc0b507-bfe6-4252-cd5e-8ea26fdcfc28",
        "colab": {
          "base_uri": "https://localhost:8080/",
          "height": 0
        }
      },
      "source": [
        "(rows,cols) = dfull.shape\n",
        "n_users = dfull['userID'].nunique()\n",
        "n_products = dfull['productID'].nunique()\n",
        "print(\"Number of REVIEWS: \", rows)\n",
        "print(\"Number of USERS: \", n_users)\n",
        "print(\"Number of PRODUCTS: \", n_products)\n",
        "print(\"Average REVIEWS PER USER: \", rows/n_users)\n",
        "print(\"Average REVIEWS PER PRODUCT: \", rows/n_products)"
      ],
      "execution_count": 8,
      "outputs": [
        {
          "output_type": "stream",
          "text": [
            "Number of REVIEWS:  278677\n",
            "Number of USERS:  39387\n",
            "Number of PRODUCTS:  23033\n",
            "Average REVIEWS PER USER:  7.075354812501587\n",
            "Average REVIEWS PER PRODUCT:  12.099031823904832\n"
          ],
          "name": "stdout"
        }
      ]
    },
    {
      "cell_type": "markdown",
      "metadata": {
        "id": "0BNqqqraLdAT",
        "colab_type": "text"
      },
      "source": [
        "##### Datetime"
      ]
    },
    {
      "cell_type": "code",
      "metadata": {
        "scrolled": false,
        "id": "JyDC2Oa_LdAT",
        "colab_type": "code",
        "outputId": "3f076ca6-92fb-4028-e580-9a27cecc3b78",
        "colab": {
          "base_uri": "https://localhost:8080/",
          "height": 50
        }
      },
      "source": [
        "dfull['date'] = pd.to_datetime(dfull['unixReviewTime'],unit='s')\n",
        "print(\"First date: \", min(dfull['date']))\n",
        "print(\"Last date: \", max(dfull['date']))"
      ],
      "execution_count": 9,
      "outputs": [
        {
          "output_type": "stream",
          "text": [
            "First date:  2003-03-29 00:00:00\n",
            "Last date:  2014-07-23 00:00:00\n"
          ],
          "name": "stdout"
        }
      ]
    },
    {
      "cell_type": "code",
      "metadata": {
        "scrolled": false,
        "id": "SE8yze1GLdAX",
        "colab_type": "code",
        "outputId": "5f46426b-dfbb-413b-f61b-7cd81fb4036d",
        "colab": {
          "base_uri": "https://localhost:8080/",
          "height": 300
        }
      },
      "source": [
        "date_grouping = dfull.groupby('date').count()[['rating']].sort_values('date', ascending=True)\n",
        "date_grouping = date_grouping.rename(index=str, columns={\"rating\": \"count\"})\n",
        "date_grouping.plot()"
      ],
      "execution_count": 10,
      "outputs": [
        {
          "output_type": "execute_result",
          "data": {
            "text/plain": [
              "<matplotlib.axes._subplots.AxesSubplot at 0x7f8ba21777b8>"
            ]
          },
          "metadata": {
            "tags": []
          },
          "execution_count": 10
        },
        {
          "output_type": "display_data",
          "data": {
            "image/png": "[encoded data removed]",
            "text/plain": [
              "<Figure size 432x288 with 1 Axes>"
            ]
          },
          "metadata": {
            "tags": []
          }
        }
      ]
    },
    {
      "cell_type": "markdown",
      "metadata": {
        "id": "DQkbEqJLLdAc",
        "colab_type": "text"
      },
      "source": [
        "##### Rating"
      ]
    },
    {
      "cell_type": "code",
      "metadata": {
        "scrolled": false,
        "id": "_7uXYtsuLdAd",
        "colab_type": "code",
        "outputId": "4ad60516-3a78-426b-aca7-994ec86db71e",
        "colab": {
          "base_uri": "https://localhost:8080/",
          "height": 34
        }
      },
      "source": [
        "print(\"Average rating: \", dfull['rating'].mean())"
      ],
      "execution_count": 11,
      "outputs": [
        {
          "output_type": "stream",
          "text": [
            "Average rating:  4.245133254628118\n"
          ],
          "name": "stdout"
        }
      ]
    },
    {
      "cell_type": "code",
      "metadata": {
        "scrolled": false,
        "id": "ADgiYAmLLdAh",
        "colab_type": "code",
        "outputId": "61bf29f5-0bd1-4572-dfe0-06dcb2aab4ec",
        "colab": {
          "base_uri": "https://localhost:8080/",
          "height": 302
        }
      },
      "source": [
        "print(\"Rating distribution\")\n",
        "dfull['rating'].hist()"
      ],
      "execution_count": 12,
      "outputs": [
        {
          "output_type": "stream",
          "text": [
            "Rating distribution\n"
          ],
          "name": "stdout"
        },
        {
          "output_type": "execute_result",
          "data": {
            "text/plain": [
              "<matplotlib.axes._subplots.AxesSubplot at 0x7f8b8ea68898>"
            ]
          },
          "metadata": {
            "tags": []
          },
          "execution_count": 12
        },
        {
          "output_type": "display_data",
          "data": {
            "image/png": "[encoded data removed]",
            "text/plain": [
              "<Figure size 432x288 with 1 Axes>"
            ]
          },
          "metadata": {
            "tags": []
          }
        }
      ]
    },
    {
      "cell_type": "markdown",
      "metadata": {
        "id": "0aDAEb4kLdA9",
        "colab_type": "text"
      },
      "source": [
        "### Manipulation"
      ]
    },
    {
      "cell_type": "markdown",
      "metadata": {
        "id": "9DDZraswLdA-",
        "colab_type": "text"
      },
      "source": [
        "#### Rejecting columns"
      ]
    },
    {
      "cell_type": "code",
      "metadata": {
        "scrolled": true,
        "id": "PAY_rpPiLdA_",
        "colab_type": "code",
        "colab": {}
      },
      "source": [
        "dfull = dfull.drop(['helpful', 'reviewTime', 'unixReviewTime', 'userName', 'text', 'summary', 'date', 'sentiment'], axis = 1, errors = 'ignore')"
      ],
      "execution_count": 0,
      "outputs": []
    },
    {
      "cell_type": "code",
      "metadata": {
        "id": "N8zqHOgXbrVK",
        "colab_type": "code",
        "outputId": "05b7b4b1-3e1b-41c1-cebc-a4eb572ac1a6",
        "colab": {
          "base_uri": "https://localhost:8080/",
          "height": 151
        }
      },
      "source": [
        "dfull.info()"
      ],
      "execution_count": 14,
      "outputs": [
        {
          "output_type": "stream",
          "text": [
            "<class 'pandas.core.frame.DataFrame'>\n",
            "Index: 278677 entries, 0 to 278676\n",
            "Data columns (total 3 columns):\n",
            "productID    278677 non-null object\n",
            "rating       278677 non-null float64\n",
            "userID       278677 non-null object\n",
            "dtypes: float64(1), object(2)\n",
            "memory usage: 8.5+ MB\n"
          ],
          "name": "stdout"
        }
      ]
    },
    {
      "cell_type": "markdown",
      "metadata": {
        "id": "-YoecvNDLdBB",
        "colab_type": "text"
      },
      "source": [
        "#### Binarization\n",
        "\n",
        "Since target variable (`rating`) is strongly unbalanced between low and high values, it is preferable to reduce the problem from multi-class to binary. Later on, some technique to manage unbalancement will be applied to the dataset, in order to fill the gap between the two binary classes.\n"
      ]
    },
    {
      "cell_type": "code",
      "metadata": {
        "scrolled": true,
        "id": "APold7gTLdBB",
        "colab_type": "code",
        "colab": {}
      },
      "source": [
        "# dfull['sentiment'] = ['positive' if r > 3 else 'negative' for r in dfull['rating']]\n",
        "\n",
        "# print(\"Sentiment count\")\n",
        "# dfull['sentiment'].value_counts()"
      ],
      "execution_count": 0,
      "outputs": []
    },
    {
      "cell_type": "markdown",
      "metadata": {
        "colab_type": "text",
        "id": "QD4mUbkXClLl"
      },
      "source": [
        "#### Undersampling\n",
        "\n",
        "As previously seen, target column (`rating`) is strongly unbalanced towards the positive class. Undersampling of the majority class is necessary here to achieve good machine learning preformances later. This mainly afftects prediction models *recall* metric."
      ]
    },
    {
      "cell_type": "code",
      "metadata": {
        "colab_type": "code",
        "id": "6zu_9j7OClKU",
        "colab": {}
      },
      "source": [
        "\n",
        "# # Separate majority and minority classes\n",
        "# positive_count = dfull['sentiment'].value_counts()['positive']\n",
        "# negative_count = dfull['sentiment'].value_counts()['negative']\n",
        "# df_majority = dfull[dfull.sentiment==('positive' if positive_count >= negative_count else 'negative')]\n",
        "# df_minority = dfull[dfull.sentiment==('negative' if positive_count >= negative_count else 'positive')]\n",
        " \n",
        "# # Downsample majority class\n",
        "# obj_samples = negative_count if positive_count >= negative_count else positive_count\n",
        "# df_majority_downsampled = resample(df_majority, \n",
        "#                                  replace=False,\n",
        "#                                  n_samples = obj_samples, # match minority class\n",
        "#                                  random_state=123) # reproducible results\n",
        " \n",
        "# # Combine minority class with downsampled majority class\n",
        "# df_downsampled = pd.concat([df_majority_downsampled, df_minority])\n",
        " \n",
        "# # Display new class counts\n",
        "# print(\"Positive/negative distribution post-undersampling\")\n",
        "# df_downsampled['sentiment'].value_counts()"
      ],
      "execution_count": 0,
      "outputs": []
    },
    {
      "cell_type": "markdown",
      "metadata": {
        "colab_type": "text",
        "id": "OAhCE9lzCkhK"
      },
      "source": [
        "\n",
        "\n",
        "---\n",
        "\n"
      ]
    },
    {
      "cell_type": "markdown",
      "metadata": {
        "id": "qTIISXJJLdAm",
        "colab_type": "text"
      },
      "source": [
        "***"
      ]
    },
    {
      "cell_type": "markdown",
      "metadata": {
        "id": "-CoDGz6RcTCl",
        "colab_type": "text"
      },
      "source": [
        "## Network Graph"
      ]
    },
    {
      "cell_type": "code",
      "metadata": {
        "id": "iWf1o2KbhafU",
        "colab_type": "code",
        "colab": {}
      },
      "source": [
        ""
      ],
      "execution_count": 0,
      "outputs": []
    },
    {
      "cell_type": "markdown",
      "metadata": {
        "id": "vmEKV8pTci6L",
        "colab_type": "text"
      },
      "source": [
        "## Centrality Measures"
      ]
    },
    {
      "cell_type": "code",
      "metadata": {
        "id": "BjcrjMLiha8t",
        "colab_type": "code",
        "colab": {}
      },
      "source": [
        ""
      ],
      "execution_count": 0,
      "outputs": []
    },
    {
      "cell_type": "markdown",
      "metadata": {
        "colab_type": "text",
        "id": "p4Zot-1UW6Q_"
      },
      "source": [
        "## Popularity Filtering"
      ]
    },
    {
      "cell_type": "markdown",
      "metadata": {
        "colab_type": "text",
        "id": "_SMNwXnNg0Ft"
      },
      "source": [
        "## Collaborative Filtering"
      ]
    },
    {
      "cell_type": "markdown",
      "metadata": {
        "id": "EgFDou9kj46y",
        "colab_type": "text"
      },
      "source": [
        "### Dependencies"
      ]
    },
    {
      "cell_type": "code",
      "metadata": {
        "id": "6s0FSHKEhXJ3",
        "colab_type": "code",
        "colab": {}
      },
      "source": [
        "from fastai.collab import *\n",
        "from sklearn.utils import resample"
      ],
      "execution_count": 0,
      "outputs": []
    },
    {
      "cell_type": "markdown",
      "metadata": {
        "id": "KG60zI3ej7zi",
        "colab_type": "text"
      },
      "source": [
        "### Undersampling"
      ]
    },
    {
      "cell_type": "code",
      "metadata": {
        "id": "q73WV2NQ0_4d",
        "colab_type": "code",
        "colab": {
          "base_uri": "https://localhost:8080/",
          "height": 286
        },
        "outputId": "acca41a1-bb85-4ace-d62b-7fd37c336c0b"
      },
      "source": [
        "dfull['rating'].hist()"
      ],
      "execution_count": 18,
      "outputs": [
        {
          "output_type": "execute_result",
          "data": {
            "text/plain": [
              "<matplotlib.axes._subplots.AxesSubplot at 0x7f8b87c8dba8>"
            ]
          },
          "metadata": {
            "tags": []
          },
          "execution_count": 18
        },
        {
          "output_type": "display_data",
          "data": {
            "image/png": "[encoded data removed]",
            "text/plain": [
              "<Figure size 432x288 with 1 Axes>"
            ]
          },
          "metadata": {
            "tags": []
          }
        }
      ]
    },
    {
      "cell_type": "code",
      "metadata": {
        "id": "mx-TDVX0zQUl",
        "colab_type": "code",
        "colab": {
          "base_uri": "https://localhost:8080/",
          "height": 286
        },
        "outputId": "92158a65-bb6a-4f52-f01a-e5b931a0aa79"
      },
      "source": [
        "# # Separate majority and minority classes\n",
        "df_minority = dfull[(dfull.rating!=5) & (dfull.rating!=4)]\n",
        "df_4 = dfull[dfull.rating==4]\n",
        "df_5 = dfull[dfull.rating==5]\n",
        "resampling_count = dfull['rating'].value_counts()[3]\n",
        " \n",
        "# Downsample majority class\n",
        "df_4_down = resample(df_4, \n",
        "                     replace=False,\n",
        "                     n_samples = resampling_count,\n",
        "                     random_state=123) # reproducible results\n",
        "\n",
        "# Downsample majority class\n",
        "df_5_down = resample(df_5, \n",
        "                     replace=False,\n",
        "                     n_samples = resampling_count,\n",
        "                     random_state=123) # reproducible results\n",
        " \n",
        "# Combine minority class with downsampled majority class\n",
        "df_downsampled = pd.concat([df_minority, df_4_down, df_5_down])\n",
        " \n",
        "# Display new class counts\n",
        "df_downsampled['rating'].hist()"
      ],
      "execution_count": 19,
      "outputs": [
        {
          "output_type": "execute_result",
          "data": {
            "text/plain": [
              "<matplotlib.axes._subplots.AxesSubplot at 0x7f8b87214da0>"
            ]
          },
          "metadata": {
            "tags": []
          },
          "execution_count": 19
        },
        {
          "output_type": "display_data",
          "data": {
            "image/png": "[encoded data removed]",
            "text/plain": [
              "<Figure size 432x288 with 1 Axes>"
            ]
          },
          "metadata": {
            "tags": []
          }
        }
      ]
    },
    {
      "cell_type": "markdown",
      "metadata": {
        "id": "n1MoAPVpzMro",
        "colab_type": "text"
      },
      "source": [
        "### Creating dataset for collaborative filtering"
      ]
    },
    {
      "cell_type": "code",
      "metadata": {
        "id": "EI_CbWodltkc",
        "colab_type": "code",
        "colab": {
          "base_uri": "https://localhost:8080/",
          "height": 151
        },
        "outputId": "7714d2bf-e83d-4b74-a7f3-c5a660109ad4"
      },
      "source": [
        "dflearn = df_downsampled\n",
        "dflearn.info()"
      ],
      "execution_count": 20,
      "outputs": [
        {
          "output_type": "stream",
          "text": [
            "<class 'pandas.core.frame.DataFrame'>\n",
            "Index: 117930 entries, 15 to 262698\n",
            "Data columns (total 3 columns):\n",
            "productID    117930 non-null object\n",
            "rating       117930 non-null float64\n",
            "userID       117930 non-null object\n",
            "dtypes: float64(1), object(2)\n",
            "memory usage: 3.6+ MB\n"
          ],
          "name": "stdout"
        }
      ]
    },
    {
      "cell_type": "code",
      "metadata": {
        "id": "lV_9QwGXqQpF",
        "colab_type": "code",
        "colab": {
          "base_uri": "https://localhost:8080/",
          "height": 151
        },
        "outputId": "129975d1-7173-4775-f5c0-c5ac586ab133"
      },
      "source": [
        "# converting strings to categories\n",
        "series2cat(dflearn, 'productID', 'userID')\n",
        "\n",
        "# reordering columns for fastai standard format\n",
        "dflearn = dflearn[['userID', 'productID', 'rating']]\n",
        "dflearn.info()"
      ],
      "execution_count": 21,
      "outputs": [
        {
          "output_type": "stream",
          "text": [
            "<class 'pandas.core.frame.DataFrame'>\n",
            "Index: 117930 entries, 15 to 262698\n",
            "Data columns (total 3 columns):\n",
            "userID       117930 non-null category\n",
            "productID    117930 non-null category\n",
            "rating       117930 non-null float64\n",
            "dtypes: category(2), float64(1)\n",
            "memory usage: 4.8+ MB\n"
          ],
          "name": "stdout"
        }
      ]
    },
    {
      "cell_type": "code",
      "metadata": {
        "id": "-MonBiMsojxd",
        "colab_type": "code",
        "colab": {
          "base_uri": "https://localhost:8080/",
          "height": 195
        },
        "outputId": "af55a29c-30b8-4520-e204-1ea3dd741397"
      },
      "source": [
        "# creating collaborative filtering dataset\n",
        "data = CollabDataBunch.from_df(dflearn, seed=42, valid_pct = 0.2)\n",
        "data.show_batch()"
      ],
      "execution_count": 22,
      "outputs": [
        {
          "output_type": "display_data",
          "data": {
            "text/html": [
              "<table border=\"1\" class=\"dataframe\">\n",
              "  <thead>\n",
              "    <tr style=\"text-align: right;\">\n",
              "      <th>userID</th>\n",
              "      <th>productID</th>\n",
              "      <th>target</th>\n",
              "    </tr>\n",
              "  </thead>\n",
              "  <tbody>\n",
              "    <tr>\n",
              "      <td>A1MDBURDIB26IM</td>\n",
              "      <td>B005CSO5VA</td>\n",
              "      <td>3.0</td>\n",
              "    </tr>\n",
              "    <tr>\n",
              "      <td>A58E4MPFSAHOG</td>\n",
              "      <td>B000ESCDJO</td>\n",
              "      <td>5.0</td>\n",
              "    </tr>\n",
              "    <tr>\n",
              "      <td>A36M29ZONPCRV9</td>\n",
              "      <td>B0002TORVW</td>\n",
              "      <td>3.0</td>\n",
              "    </tr>\n",
              "    <tr>\n",
              "      <td>A2IFY6958MRGEM</td>\n",
              "      <td>B0007YVP1W</td>\n",
              "      <td>5.0</td>\n",
              "    </tr>\n",
              "    <tr>\n",
              "      <td>A3TP31S61PPE3G</td>\n",
              "      <td>B004BKIPHK</td>\n",
              "      <td>1.0</td>\n",
              "    </tr>\n",
              "  </tbody>\n",
              "</table>"
            ],
            "text/plain": [
              "<IPython.core.display.HTML object>"
            ]
          },
          "metadata": {
            "tags": []
          }
        }
      ]
    },
    {
      "cell_type": "code",
      "metadata": {
        "id": "5x92tB2ZLj0S",
        "colab_type": "code",
        "colab": {}
      },
      "source": [
        "n_cicles = 5"
      ],
      "execution_count": 0,
      "outputs": []
    },
    {
      "cell_type": "markdown",
      "metadata": {
        "id": "4Fc5UOGeKtF3",
        "colab_type": "text"
      },
      "source": [
        "### EmbeddingDotBias"
      ]
    },
    {
      "cell_type": "code",
      "metadata": {
        "id": "b_4v9L1dsbg4",
        "colab_type": "code",
        "colab": {
          "base_uri": "https://localhost:8080/",
          "height": 464
        },
        "outputId": "4b9e6fc5-7f8f-4740-cc3d-23ec97526ba5"
      },
      "source": [
        "learn = collab_learner(data, n_factors=50, y_range=(1,5), use_nn = False, callback_fns=ShowGraph)\n",
        "#learn.loss_func = torch.nn.MSELoss() # changing loss function (default is MSE)\n",
        "\n",
        "print('Training results')\n",
        "learn.fit_one_cycle(n_cicles, 5e-3, wd=0.1)\n",
        "\n",
        "# learn.save('amazon-reviews-dot-1')"
      ],
      "execution_count": 24,
      "outputs": [
        {
          "output_type": "stream",
          "text": [
            "Training results\n"
          ],
          "name": "stdout"
        },
        {
          "output_type": "display_data",
          "data": {
            "text/html": [
              "<table border=\"1\" class=\"dataframe\">\n",
              "  <thead>\n",
              "    <tr style=\"text-align: left;\">\n",
              "      <th>epoch</th>\n",
              "      <th>train_loss</th>\n",
              "      <th>valid_loss</th>\n",
              "      <th>time</th>\n",
              "    </tr>\n",
              "  </thead>\n",
              "  <tbody>\n",
              "    <tr>\n",
              "      <td>0</td>\n",
              "      <td>1.774140</td>\n",
              "      <td>1.734388</td>\n",
              "      <td>00:10</td>\n",
              "    </tr>\n",
              "    <tr>\n",
              "      <td>1</td>\n",
              "      <td>1.635954</td>\n",
              "      <td>1.670335</td>\n",
              "      <td>00:10</td>\n",
              "    </tr>\n",
              "    <tr>\n",
              "      <td>2</td>\n",
              "      <td>1.308490</td>\n",
              "      <td>1.651701</td>\n",
              "      <td>00:10</td>\n",
              "    </tr>\n",
              "    <tr>\n",
              "      <td>3</td>\n",
              "      <td>0.973935</td>\n",
              "      <td>1.649143</td>\n",
              "      <td>00:11</td>\n",
              "    </tr>\n",
              "    <tr>\n",
              "      <td>4</td>\n",
              "      <td>0.755780</td>\n",
              "      <td>1.648904</td>\n",
              "      <td>00:10</td>\n",
              "    </tr>\n",
              "  </tbody>\n",
              "</table>"
            ],
            "text/plain": [
              "<IPython.core.display.HTML object>"
            ]
          },
          "metadata": {
            "tags": []
          }
        },
        {
          "output_type": "display_data",
          "data": {
            "image/png": "[encoded data removed]",
            "text/plain": [
              "<Figure size 432x288 with 1 Axes>"
            ]
          },
          "metadata": {
            "tags": []
          }
        }
      ]
    },
    {
      "cell_type": "code",
      "metadata": {
        "id": "rmVBvXIQA1-w",
        "colab_type": "code",
        "colab": {
          "base_uri": "https://localhost:8080/",
          "height": 300
        },
        "outputId": "413f88fd-6e1b-4bf2-ef24-75850dc6a444"
      },
      "source": [
        "learn.unfreeze()\n",
        "learn.lr_find() # find learning rate\n",
        "learn.recorder.plot() # plot learning rate graph"
      ],
      "execution_count": 25,
      "outputs": [
        {
          "output_type": "display_data",
          "data": {
            "text/html": [
              ""
            ],
            "text/plain": [
              "<IPython.core.display.HTML object>"
            ]
          },
          "metadata": {
            "tags": []
          }
        },
        {
          "output_type": "stream",
          "text": [
            "LR Finder is complete, type {learner_name}.recorder.plot() to see the graph.\n"
          ],
          "name": "stdout"
        },
        {
          "output_type": "display_data",
          "data": {
            "image/png": "[encoded data removed]",
            "text/plain": [
              "<Figure size 432x288 with 1 Axes>"
            ]
          },
          "metadata": {
            "tags": []
          }
        }
      ]
    },
    {
      "cell_type": "markdown",
      "metadata": {
        "id": "8jwbpcvQHBsW",
        "colab_type": "text"
      },
      "source": [
        "#### Interpretation\n",
        "\n",
        "Trovato qui, ma non so cosa significhi https://towardsdatascience.com/collaborative-filtering-with-fastai-3dbdd4ef4f00"
      ]
    },
    {
      "cell_type": "code",
      "metadata": {
        "id": "jPlbZKPxGnXe",
        "colab_type": "code",
        "colab": {
          "base_uri": "https://localhost:8080/",
          "height": 0
        },
        "outputId": "68e4b684-70c3-4dcb-9bfc-209a008e76e3"
      },
      "source": [
        "g = dflearn.groupby('productID')['rating'].count()\n",
        "top_ratings = g.sort_values(ascending=False).index.values[:1000]\n",
        "top_ratings = top_ratings.astype(str)\n",
        "top_ratings"
      ],
      "execution_count": 26,
      "outputs": [
        {
          "output_type": "execute_result",
          "data": {
            "text/plain": [
              "array(['B005LERHD8', 'B005GYGD7O', 'B000T9VK56', 'B002RADHJC', ..., 'B005LMTW6K', 'B007BZ5CUU', 'B000SMNL2E',\n",
              "       'B003YJ4RYO'], dtype='<U10')"
            ]
          },
          "metadata": {
            "tags": []
          },
          "execution_count": 26
        }
      ]
    },
    {
      "cell_type": "code",
      "metadata": {
        "id": "9GQXiaFrHBDX",
        "colab_type": "code",
        "colab": {
          "base_uri": "https://localhost:8080/",
          "height": 0
        },
        "outputId": "293092a9-c68c-4eb2-8b1a-2eace79f1999"
      },
      "source": [
        "# get biases for top products\n",
        "product_bias = learn.bias(top_ratings, is_item=True)\n",
        "\n",
        "# get mean ratings\n",
        "mean_ratings = dflearn.groupby('productID')['rating'].mean()\n",
        "product_ratings = [(b, top_ratings[i], mean_ratings.loc[tb]) for i, (tb, b) in enumerate(zip(top_ratings, product_bias))]\n",
        "\n",
        "# print product bias information\n",
        "item0 = lambda o:o[0]\n",
        "print(sorted(product_ratings, key=item0)[:15])\n",
        "print(sorted(product_ratings, key=item0, reverse=True)[:15])\n",
        "\n",
        "# get weights\n",
        "product_w = learn.weight(top_ratings, is_item=True)\n",
        "\n",
        "# transform weights to 3 dimensions\n",
        "product_pca = product_w.pca(3)\n",
        "\n",
        "# get prinicipal components\n",
        "fac0,fac1,fac2 = product_pca.t()\n",
        "product_comp = [(f, i) for f,i in zip(fac0, top_ratings)]\n",
        "\n",
        "# print fac0 information\n",
        "print(sorted(product_comp, key=itemgetter(0), reverse=True)[:10])\n",
        "print(sorted(product_comp, key=itemgetter(0))[:10])\n",
        "\n",
        "# print fac1 information\n",
        "product_comp = [(f, i) for f,i in zip(fac1, top_ratings)]\n",
        "print(sorted(product_comp, key=itemgetter(0), reverse=True)[:10])\n",
        "print(sorted(product_comp, key=itemgetter(0))[:10])"
      ],
      "execution_count": 27,
      "outputs": [
        {
          "output_type": "stream",
          "text": [
            "[(tensor(-0.5377), 'B00DNV1IJK', 1.75), (tensor(-0.4151), 'B004WKRAB6', 1.8333333333333333), (tensor(-0.4136), 'B00DM0587K', 2.1176470588235294), (tensor(-0.3887), 'B00FEEA4MG', 2.12), (tensor(-0.3430), 'B00DMWQLB0', 2.4358974358974357), (tensor(-0.3419), 'B00A76LPU6', 2.0), (tensor(-0.3360), 'B00AFPZBUY', 2.0625), (tensor(-0.3334), 'B002K6F79G', 2.706896551724138), (tensor(-0.3223), 'B00FF394VI', 2.238095238095238), (tensor(-0.3114), 'B00IE5QR64', 2.2083333333333335), (tensor(-0.3008), 'B004Z1CZDK', 2.5342465753424657), (tensor(-0.2858), 'B008KM948O', 2.25), (tensor(-0.2848), 'B003WJRVHG', 2.5), (tensor(-0.2827), 'B007HXMQXM', 2.0), (tensor(-0.2786), 'B007KR07ZY', 2.44)]\n",
            "[(tensor(0.7797), 'B002PHLVJA', 4.339285714285714), (tensor(0.6541), 'B0058XIMMM', 3.961038961038961), (tensor(0.6518), 'B0013KDS96', 4.483870967741935), (tensor(0.6420), 'B0068VM5T4', 4.191489361702128), (tensor(0.5599), 'B002KMI7OC', 4.041666666666667), (tensor(0.5338), 'B000WUOVXK', 4.4), (tensor(0.5273), 'B000DZUGOM', 3.9583333333333335), (tensor(0.5236), 'B00BNB36ZG', 4.225806451612903), (tensor(0.5224), 'B000FBO0DM', 3.977272727272727), (tensor(0.5207), 'B0019MPRJW', 4.291666666666667), (tensor(0.5195), 'B000FH4JJQ', 4.1), (tensor(0.5093), 'B001Q5QLP6', 4.03030303030303), (tensor(0.5027), 'B004LP2PIU', 4.55), (tensor(0.4987), 'B005CSNTJY', 3.8846153846153846), (tensor(0.4936), 'B000MQWYM4', 4.583333333333333)]\n",
            "[(tensor(1.4049), 'B0009B3IN6'), (tensor(1.3653), 'B002PHLVJA'), (tensor(1.2892), 'B002RADHJC'), (tensor(1.1509), 'B0009F0Z38'), (tensor(0.8901), 'B000XPIZPE'), (tensor(0.8513), 'B000JIH8WQ'), (tensor(0.7952), 'B00857TG00'), (tensor(0.7935), 'B000KR3D5W'), (tensor(0.7598), 'B004GXA71O'), (tensor(0.7545), 'B00075ZYRW')]\n",
            "[(tensor(-1.3883), 'B008RUOCJU'), (tensor(-1.2644), 'B000T9VK56'), (tensor(-1.1843), 'B000O32MLI'), (tensor(-1.1497), 'B00D1MR8YU'), (tensor(-1.0508), 'B0078FXHNM'), (tensor(-1.0054), 'B004YM2FV2'), (tensor(-0.9940), 'B0012QM8IS'), (tensor(-0.9549), 'B000KKTPD8'), (tensor(-0.9229), 'B000FH4JJQ'), (tensor(-0.8579), 'B007WAU1VY')]\n",
            "[(tensor(1.3881), 'B007WA3K4Y'), (tensor(1.3870), 'B003JKSP78'), (tensor(1.3779), 'B008NCYALM'), (tensor(1.3689), 'B005LERHD8'), (tensor(1.0840), 'B00ACIFHBM'), (tensor(1.0632), 'B007NLX16O'), (tensor(0.9557), 'B00AIIQJ5E'), (tensor(0.9007), 'B00DNV1IJK'), (tensor(0.8690), 'B003ZW18FQ'), (tensor(0.8573), 'B007WA1YJW')]\n",
            "[(tensor(-1.4973), 'B00CKGB85I'), (tensor(-1.1389), 'B008WYDP1C'), (tensor(-1.0460), 'B0007YVP1W'), (tensor(-1.0336), 'B008X0EW44'), (tensor(-0.9381), 'B00BPNX7MO'), (tensor(-0.8653), 'B00CIBCJ62'), (tensor(-0.8510), 'B001B2GMQ2'), (tensor(-0.8283), 'B0051U15E4'), (tensor(-0.8093), 'B00012O12A'), (tensor(-0.7662), 'B004Z1CZDK')]\n"
          ],
          "name": "stdout"
        }
      ]
    },
    {
      "cell_type": "code",
      "metadata": {
        "id": "vzm89ZoDHzDB",
        "colab_type": "code",
        "colab": {
          "base_uri": "https://localhost:8080/",
          "height": 0
        },
        "outputId": "69ddbf08-d91f-4a22-92b8-167fadba1cab"
      },
      "source": [
        "idxs = np.random.choice(len(top_ratings), 50, replace=False)\n",
        "idxs = list(range(50))\n",
        "X = fac0[idxs]\n",
        "Y = fac2[idxs]\n",
        "plt.figure(figsize=(15,15))\n",
        "plt.scatter(X, Y)\n",
        "for i, x, y in zip(top_ratings[idxs], X, Y):\n",
        "    plt.text(x,y,i, color=np.random.rand(3)*0.7, fontsize=11)\n",
        "plt.title('Weight Embedding visualization')\n",
        "plt.show()"
      ],
      "execution_count": 28,
      "outputs": [
        {
          "output_type": "display_data",
          "data": {
            "image/png": "[encoded data removed]",
            "text/plain": [
              "<Figure size 1080x1080 with 1 Axes>"
            ]
          },
          "metadata": {
            "tags": []
          }
        }
      ]
    },
    {
      "cell_type": "markdown",
      "metadata": {
        "id": "hbTWQdbZKKci",
        "colab_type": "text"
      },
      "source": [
        "### EmeddingNN"
      ]
    },
    {
      "cell_type": "code",
      "metadata": {
        "id": "ntNPlNsTKK10",
        "colab_type": "code",
        "colab": {
          "base_uri": "https://localhost:8080/",
          "height": 195
        },
        "outputId": "dc033cd4-47f9-48ee-ed81-4efe8f7f7a92"
      },
      "source": [
        "learn = collab_learner(data, use_nn=True, emb_szs={'userID': 40, 'productID':40}, layers=[256, 128], y_range=(1, 5))\n",
        "learn.fit_one_cycle(n_cicles, 5e-3, wd=0.1)\n",
        "\n",
        "# learn.save('amazon-reviews-nn-1')"
      ],
      "execution_count": 29,
      "outputs": [
        {
          "output_type": "display_data",
          "data": {
            "text/html": [
              "<table border=\"1\" class=\"dataframe\">\n",
              "  <thead>\n",
              "    <tr style=\"text-align: left;\">\n",
              "      <th>epoch</th>\n",
              "      <th>train_loss</th>\n",
              "      <th>valid_loss</th>\n",
              "      <th>time</th>\n",
              "    </tr>\n",
              "  </thead>\n",
              "  <tbody>\n",
              "    <tr>\n",
              "      <td>0</td>\n",
              "      <td>1.535361</td>\n",
              "      <td>1.540568</td>\n",
              "      <td>00:12</td>\n",
              "    </tr>\n",
              "    <tr>\n",
              "      <td>1</td>\n",
              "      <td>1.477032</td>\n",
              "      <td>1.515542</td>\n",
              "      <td>00:12</td>\n",
              "    </tr>\n",
              "    <tr>\n",
              "      <td>2</td>\n",
              "      <td>1.258404</td>\n",
              "      <td>1.561643</td>\n",
              "      <td>00:12</td>\n",
              "    </tr>\n",
              "    <tr>\n",
              "      <td>3</td>\n",
              "      <td>0.943882</td>\n",
              "      <td>1.677768</td>\n",
              "      <td>00:12</td>\n",
              "    </tr>\n",
              "    <tr>\n",
              "      <td>4</td>\n",
              "      <td>0.564075</td>\n",
              "      <td>1.855054</td>\n",
              "      <td>00:12</td>\n",
              "    </tr>\n",
              "  </tbody>\n",
              "</table>"
            ],
            "text/plain": [
              "<IPython.core.display.HTML object>"
            ]
          },
          "metadata": {
            "tags": []
          }
        }
      ]
    },
    {
      "cell_type": "code",
      "metadata": {
        "id": "eat9eaqXMWZq",
        "colab_type": "code",
        "colab": {}
      },
      "source": [
        "interp = ClassificationInterpretation.from_learner(learn)"
      ],
      "execution_count": 0,
      "outputs": []
    },
    {
      "cell_type": "code",
      "metadata": {
        "id": "MRrB63RqNA9F",
        "colab_type": "code",
        "colab": {}
      },
      "source": [
        "# interp.confusion_matrix()"
      ],
      "execution_count": 0,
      "outputs": []
    }
  ]
}