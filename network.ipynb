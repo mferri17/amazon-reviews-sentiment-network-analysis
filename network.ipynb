{
  "nbformat": 4,
  "nbformat_minor": 0,
  "metadata": {
    "colab": {
      "name": "network.ipynb",
      "version": "0.3.2",
      "provenance": [],
      "collapsed_sections": [],
      "toc_visible": true,
      "include_colab_link": true
    },
    "language_info": {
      "codemirror_mode": {
        "name": "ipython",
        "version": 3
      },
      "file_extension": ".py",
      "mimetype": "text/x-python",
      "name": "python",
      "nbconvert_exporter": "python",
      "pygments_lexer": "ipython3",
      "version": "3.7.3"
    },
    "kernelspec": {
      "name": "python3",
      "display_name": "Python 3"
    },
    "accelerator": "GPU"
  },
  "cells": [
    {
      "cell_type": "markdown",
      "metadata": {
        "id": "view-in-github",
        "colab_type": "text"
      },
      "source": [
        "<a href=\"https://colab.research.google.com/github/mferri17/amazon-reviews-sentiment-network-analysis/blob/master/network.ipynb\" target=\"_parent\"><img src=\"https://colab.research.google.com/assets/colab-badge.svg\" alt=\"Open In Colab\"/></a>"
      ]
    },
    {
      "cell_type": "markdown",
      "metadata": {
        "id": "ysBCOUbpLc_k",
        "colab_type": "text"
      },
      "source": [
        "# Amazon Reviews Network Analysis - Ferri Marco, Basso Matteo"
      ]
    },
    {
      "cell_type": "markdown",
      "metadata": {
        "id": "FpMdBSI2Lc_l",
        "colab_type": "text"
      },
      "source": [
        "This project aims to experiment with network analysis on [Amazon Reviews](http://jmcauley.ucsd.edu/data/amazon/) in order to build a collaborative filtering model."
      ]
    },
    {
      "cell_type": "markdown",
      "metadata": {
        "id": "LfwyCK9SLc_m",
        "colab_type": "text"
      },
      "source": [
        "## Dataset"
      ]
    },
    {
      "cell_type": "markdown",
      "metadata": {
        "id": "lxwEn1LnX2Kx",
        "colab_type": "text"
      },
      "source": [
        "### Dependencies"
      ]
    },
    {
      "cell_type": "code",
      "metadata": {
        "scrolled": false,
        "id": "ATRnE5hmLc_n",
        "colab_type": "code",
        "colab": {}
      },
      "source": [
        "import os\n",
        "import gzip\n",
        "import fileinput\n",
        "import sys\n",
        "import datetime\n",
        "import io\n",
        "import urllib\n",
        "import collections\n",
        "import pandas as pd\n",
        "import numpy as np\n",
        "import matplotlib.pyplot as plt\n",
        "\n",
        "from sklearn.utils import resample"
      ],
      "execution_count": 0,
      "outputs": []
    },
    {
      "cell_type": "markdown",
      "metadata": {
        "id": "Ivh_vmWKLc_r",
        "colab_type": "text"
      },
      "source": [
        "### Reading"
      ]
    },
    {
      "cell_type": "markdown",
      "metadata": {
        "id": "HFHgiBhULc_s",
        "colab_type": "text"
      },
      "source": [
        "\n",
        "Util functions to read from JSON and convert into pandas dataframe:"
      ]
    },
    {
      "cell_type": "code",
      "metadata": {
        "scrolled": false,
        "id": "dS8W2vxFLc_t",
        "colab_type": "code",
        "colab": {}
      },
      "source": [
        "def parse(path):\n",
        "  g = gzip.open(path, 'rb')\n",
        "  for l in g:\n",
        "    yield eval(l)\n",
        "\n",
        "def getDF(path):\n",
        "  df = []\n",
        "  for d in parse(path):\n",
        "    df.append(d)\n",
        "  return pd.DataFrame(df)\n",
        "\n",
        "def read_dataset(dataset):      \n",
        "  basepath = r\"datasets\\amazon-5-core\"\n",
        "  df = getDF(os.path.join(basepath, dataset))\n",
        "  return df\n",
        "  \n",
        "def download_dataset(dataset):\n",
        "  request = urllib.request.Request('http://snap.stanford.edu/data/amazon/productGraph/categoryFiles/' + dataset)\n",
        "  request.add_header('Accept-encoding', 'gzip')\n",
        "  response = urllib.request.urlopen(request)\n",
        "  buf = io.BytesIO(response.read())\n",
        "  file = gzip.GzipFile(fileobj=buf)\n",
        "  df = []\n",
        "  for line in file:\n",
        "    df.append(eval(line))\n",
        "  return pd.DataFrame(df)"
      ],
      "execution_count": 0,
      "outputs": []
    },
    {
      "cell_type": "markdown",
      "metadata": {
        "id": "vTmIPVTqLc_v",
        "colab_type": "text"
      },
      "source": [
        "Reading from JSON"
      ]
    },
    {
      "cell_type": "code",
      "metadata": {
        "scrolled": false,
        "id": "GVoQ1KOhLc_w",
        "colab_type": "code",
        "outputId": "e9fa5358-2eb1-40b0-ab02-6009dab36024",
        "colab": {
          "base_uri": "https://localhost:8080/",
          "height": 50
        }
      },
      "source": [
        "#%time dfull = read_dataset(\"reviews_Video_Games_5.json.gz\")\n",
        "%time dfull = download_dataset('reviews_Clothing_Shoes_and_Jewelry_5.json.gz')"
      ],
      "execution_count": 3,
      "outputs": [
        {
          "output_type": "stream",
          "text": [
            "CPU times: user 13.3 s, sys: 488 ms, total: 13.8 s\n",
            "Wall time: 26.9 s\n"
          ],
          "name": "stdout"
        }
      ]
    },
    {
      "cell_type": "markdown",
      "metadata": {
        "id": "8FFQDmglLc_9",
        "colab_type": "text"
      },
      "source": [
        "---"
      ]
    },
    {
      "cell_type": "markdown",
      "metadata": {
        "id": "XzU2ogWCLc_-",
        "colab_type": "text"
      },
      "source": [
        "###  Description"
      ]
    },
    {
      "cell_type": "markdown",
      "metadata": {
        "id": "JLiIbGc_Lc__",
        "colab_type": "text"
      },
      "source": [
        "#### Schema"
      ]
    },
    {
      "cell_type": "code",
      "metadata": {
        "scrolled": false,
        "id": "qAnGOIo2Lc__",
        "colab_type": "code",
        "outputId": "9e9f0870-6223-4885-c952-ccd22c210936",
        "colab": {
          "base_uri": "https://localhost:8080/",
          "height": 34
        }
      },
      "source": [
        "print(\"(rows, cols) = \", dfull.shape)"
      ],
      "execution_count": 4,
      "outputs": [
        {
          "output_type": "stream",
          "text": [
            "(rows, cols) =  (278677, 9)\n"
          ],
          "name": "stdout"
        }
      ]
    },
    {
      "cell_type": "code",
      "metadata": {
        "scrolled": false,
        "id": "vs35GBUdLc_3",
        "colab_type": "code",
        "colab": {}
      },
      "source": [
        "dfull = dfull.rename(index=str, columns={\"asin\": \"productID\", \n",
        "                                         \"reviewerID\": \"userID\", \n",
        "                                         \"reviewerName\": \"userName\",\n",
        "                                         \"reviewText\": \"text\",\n",
        "                                         \"overall\": \"rating\"})"
      ],
      "execution_count": 0,
      "outputs": []
    },
    {
      "cell_type": "code",
      "metadata": {
        "scrolled": false,
        "id": "eMz4oHsOLdAE",
        "colab_type": "code",
        "outputId": "5099677c-9236-4b27-add3-f59c56e836b4",
        "colab": {
          "base_uri": "https://localhost:8080/",
          "height": 252
        }
      },
      "source": [
        "dfull.info()"
      ],
      "execution_count": 6,
      "outputs": [
        {
          "output_type": "stream",
          "text": [
            "<class 'pandas.core.frame.DataFrame'>\n",
            "Index: 278677 entries, 0 to 278676\n",
            "Data columns (total 9 columns):\n",
            "productID         278677 non-null object\n",
            "helpful           278677 non-null object\n",
            "rating            278677 non-null float64\n",
            "text              278677 non-null object\n",
            "reviewTime        278677 non-null object\n",
            "userID            278677 non-null object\n",
            "userName          278225 non-null object\n",
            "summary           278677 non-null object\n",
            "unixReviewTime    278677 non-null int64\n",
            "dtypes: float64(1), int64(1), object(7)\n",
            "memory usage: 21.3+ MB\n"
          ],
          "name": "stdout"
        }
      ]
    },
    {
      "cell_type": "code",
      "metadata": {
        "scrolled": false,
        "id": "FfB3d-ZJLdAJ",
        "colab_type": "code",
        "outputId": "0f5b709b-1f70-41da-8f04-5dfe25975795",
        "colab": {
          "base_uri": "https://localhost:8080/",
          "height": 186
        }
      },
      "source": [
        "dfull.head(3)"
      ],
      "execution_count": 7,
      "outputs": [
        {
          "output_type": "execute_result",
          "data": {
            "text/html": [
              "<div>\n",
              "<style scoped>\n",
              "    .dataframe tbody tr th:only-of-type {\n",
              "        vertical-align: middle;\n",
              "    }\n",
              "\n",
              "    .dataframe tbody tr th {\n",
              "        vertical-align: top;\n",
              "    }\n",
              "\n",
              "    .dataframe thead th {\n",
              "        text-align: right;\n",
              "    }\n",
              "</style>\n",
              "<table border=\"1\" class=\"dataframe\">\n",
              "  <thead>\n",
              "    <tr style=\"text-align: right;\">\n",
              "      <th></th>\n",
              "      <th>productID</th>\n",
              "      <th>helpful</th>\n",
              "      <th>rating</th>\n",
              "      <th>text</th>\n",
              "      <th>reviewTime</th>\n",
              "      <th>userID</th>\n",
              "      <th>userName</th>\n",
              "      <th>summary</th>\n",
              "      <th>unixReviewTime</th>\n",
              "    </tr>\n",
              "  </thead>\n",
              "  <tbody>\n",
              "    <tr>\n",
              "      <th>0</th>\n",
              "      <td>0000031887</td>\n",
              "      <td>[0, 0]</td>\n",
              "      <td>5.0</td>\n",
              "      <td>This is a great tutu and at a really great pri...</td>\n",
              "      <td>02 12, 2011</td>\n",
              "      <td>A1KLRMWW2FWPL4</td>\n",
              "      <td>Amazon Customer \"cameramom\"</td>\n",
              "      <td>Great tutu-  not cheaply made</td>\n",
              "      <td>1297468800</td>\n",
              "    </tr>\n",
              "    <tr>\n",
              "      <th>1</th>\n",
              "      <td>0000031887</td>\n",
              "      <td>[0, 0]</td>\n",
              "      <td>5.0</td>\n",
              "      <td>I bought this for my 4 yr old daughter for dan...</td>\n",
              "      <td>01 19, 2013</td>\n",
              "      <td>A2G5TCU2WDFZ65</td>\n",
              "      <td>Amazon Customer</td>\n",
              "      <td>Very Cute!!</td>\n",
              "      <td>1358553600</td>\n",
              "    </tr>\n",
              "    <tr>\n",
              "      <th>2</th>\n",
              "      <td>0000031887</td>\n",
              "      <td>[0, 0]</td>\n",
              "      <td>5.0</td>\n",
              "      <td>What can I say... my daughters have it in oran...</td>\n",
              "      <td>01 4, 2013</td>\n",
              "      <td>A1RLQXYNCMWRWN</td>\n",
              "      <td>Carola</td>\n",
              "      <td>I have buy more than one</td>\n",
              "      <td>1357257600</td>\n",
              "    </tr>\n",
              "  </tbody>\n",
              "</table>\n",
              "</div>"
            ],
            "text/plain": [
              "    productID helpful  ...                        summary unixReviewTime\n",
              "0  0000031887  [0, 0]  ...  Great tutu-  not cheaply made     1297468800\n",
              "1  0000031887  [0, 0]  ...                    Very Cute!!     1358553600\n",
              "2  0000031887  [0, 0]  ...       I have buy more than one     1357257600\n",
              "\n",
              "[3 rows x 9 columns]"
            ]
          },
          "metadata": {
            "tags": []
          },
          "execution_count": 7
        }
      ]
    },
    {
      "cell_type": "markdown",
      "metadata": {
        "id": "d-SJ_j0eLdAO",
        "colab_type": "text"
      },
      "source": [
        "### Users and products"
      ]
    },
    {
      "cell_type": "code",
      "metadata": {
        "scrolled": false,
        "id": "z5WL24eHLdAP",
        "colab_type": "code",
        "outputId": "594877da-b9d9-4ec0-c966-23b5cea5129f",
        "colab": {
          "base_uri": "https://localhost:8080/",
          "height": 101
        }
      },
      "source": [
        "(rows,cols) = dfull.shape\n",
        "n_users = dfull['userID'].nunique()\n",
        "n_products = dfull['productID'].nunique()\n",
        "print(\"Number of REVIEWS: \", rows)\n",
        "print(\"Number of USERS: \", n_users)\n",
        "print(\"Number of PRODUCTS: \", n_products)\n",
        "print(\"Average REVIEWS PER USER: \", rows/n_users)\n",
        "print(\"Average REVIEWS PER PRODUCT: \", rows/n_products)"
      ],
      "execution_count": 8,
      "outputs": [
        {
          "output_type": "stream",
          "text": [
            "Number of REVIEWS:  278677\n",
            "Number of USERS:  39387\n",
            "Number of PRODUCTS:  23033\n",
            "Average REVIEWS PER USER:  7.075354812501587\n",
            "Average REVIEWS PER PRODUCT:  12.099031823904832\n"
          ],
          "name": "stdout"
        }
      ]
    },
    {
      "cell_type": "markdown",
      "metadata": {
        "id": "0aDAEb4kLdA9",
        "colab_type": "text"
      },
      "source": [
        "### Manipulation"
      ]
    },
    {
      "cell_type": "markdown",
      "metadata": {
        "id": "9DDZraswLdA-",
        "colab_type": "text"
      },
      "source": [
        "#### Rejecting columns"
      ]
    },
    {
      "cell_type": "code",
      "metadata": {
        "scrolled": true,
        "id": "PAY_rpPiLdA_",
        "colab_type": "code",
        "colab": {}
      },
      "source": [
        "dfull = dfull.drop(['helpful', 'reviewTime', 'unixReviewTime', 'userName', 'text', 'summary', 'sentiment'], axis = 1, errors = 'ignore')"
      ],
      "execution_count": 0,
      "outputs": []
    },
    {
      "cell_type": "code",
      "metadata": {
        "id": "N8zqHOgXbrVK",
        "colab_type": "code",
        "outputId": "69d68c8a-5a7b-4793-d7a6-dce5733d57b1",
        "colab": {
          "base_uri": "https://localhost:8080/",
          "height": 151
        }
      },
      "source": [
        "dfull.info()"
      ],
      "execution_count": 10,
      "outputs": [
        {
          "output_type": "stream",
          "text": [
            "<class 'pandas.core.frame.DataFrame'>\n",
            "Index: 278677 entries, 0 to 278676\n",
            "Data columns (total 3 columns):\n",
            "productID    278677 non-null object\n",
            "rating       278677 non-null float64\n",
            "userID       278677 non-null object\n",
            "dtypes: float64(1), object(2)\n",
            "memory usage: 8.5+ MB\n"
          ],
          "name": "stdout"
        }
      ]
    },
    {
      "cell_type": "markdown",
      "metadata": {
        "id": "qTIISXJJLdAm",
        "colab_type": "text"
      },
      "source": [
        "***"
      ]
    },
    {
      "cell_type": "markdown",
      "metadata": {
        "id": "-CoDGz6RcTCl",
        "colab_type": "text"
      },
      "source": [
        "## Network Graph"
      ]
    },
    {
      "cell_type": "code",
      "metadata": {
        "id": "347WYNwCkFtD",
        "colab_type": "code",
        "colab": {}
      },
      "source": [
        "import scipy.sparse as sparse\n",
        "import networkx as nx"
      ],
      "execution_count": 0,
      "outputs": []
    },
    {
      "cell_type": "markdown",
      "metadata": {
        "id": "1c3Xw2PXMxhf",
        "colab_type": "text"
      },
      "source": [
        "**Reducing dataset**"
      ]
    },
    {
      "cell_type": "code",
      "metadata": {
        "id": "Zzc6bCkxNjJP",
        "colab_type": "code",
        "outputId": "9def7989-3986-4b7f-a254-25ac6b7047e3",
        "colab": {
          "base_uri": "https://localhost:8080/",
          "height": 34
        }
      },
      "source": [
        "print('Original reviews: ', len(dfull))"
      ],
      "execution_count": 12,
      "outputs": [
        {
          "output_type": "stream",
          "text": [
            "Original reviews:  278677\n"
          ],
          "name": "stdout"
        }
      ]
    },
    {
      "cell_type": "code",
      "metadata": {
        "id": "Lunp23IIMxm2",
        "colab_type": "code",
        "outputId": "e3ba466d-9d78-4a7d-902c-3f0c92804d86",
        "colab": {
          "base_uri": "https://localhost:8080/",
          "height": 34
        }
      },
      "source": [
        "dfnet = dfull #[(dfull['date'] > '2014-04-01')]\n",
        "print('Reduced reviews: ', len(dfnet))"
      ],
      "execution_count": 13,
      "outputs": [
        {
          "output_type": "stream",
          "text": [
            "Reduced reviews:  278677\n"
          ],
          "name": "stdout"
        }
      ]
    },
    {
      "cell_type": "markdown",
      "metadata": {
        "id": "HWtc4TPN-VXR",
        "colab_type": "text"
      },
      "source": [
        "**Creating graph from Pandas data frame**"
      ]
    },
    {
      "cell_type": "code",
      "metadata": {
        "id": "9SACLesv-Vni",
        "colab_type": "code",
        "outputId": "868ddcb9-45c7-4427-a3ed-ede599254c14",
        "colab": {
          "base_uri": "https://localhost:8080/",
          "height": 34
        }
      },
      "source": [
        "graph = nx.from_pandas_edgelist(df = dfnet, source = 'userID', target = 'productID', edge_attr = 'rating', create_using = nx.DiGraph)\n",
        "graph"
      ],
      "execution_count": 14,
      "outputs": [
        {
          "output_type": "execute_result",
          "data": {
            "text/plain": [
              "<networkx.classes.digraph.DiGraph at 0x7fc2ecd6de48>"
            ]
          },
          "metadata": {
            "tags": []
          },
          "execution_count": 14
        }
      ]
    },
    {
      "cell_type": "markdown",
      "metadata": {
        "id": "LjIHb_j2IQ1Y",
        "colab_type": "text"
      },
      "source": [
        "**Assertions**"
      ]
    },
    {
      "cell_type": "code",
      "metadata": {
        "id": "VlQoMvoMIPdu",
        "colab_type": "code",
        "outputId": "97f7a4a0-c789-4097-d0d2-53684dfd9430",
        "colab": {
          "base_uri": "https://localhost:8080/",
          "height": 101
        }
      },
      "source": [
        "net_users = dfnet.userID.nunique()\n",
        "net_products = dfnet.productID.nunique()\n",
        "\n",
        "\n",
        "edges = nx.number_of_edges(graph)\n",
        "nodes = nx.number_of_nodes(graph)\n",
        "\n",
        "assert edges == len(dfnet), 'wrong edge numbers (it must corresponds to record numbers = reviews)'\n",
        "assert nodes == net_users + net_products, 'wrong nodes numbers (it must corresponds to number of users plus number of products)'\n",
        "print(\"Edges (reviews): \", edges)\n",
        "print(\"Nodes (users + products): \", nodes)\n",
        "\n",
        "print()\n",
        "\n",
        "givers_nodes = [node_degree for node_degree in graph.out_degree() if node_degree[1] > 0]\n",
        "receivers_nodes = [node_degree for node_degree in graph.in_degree() if node_degree[1] > 0]\n",
        "\n",
        "assert len(givers_nodes) == net_users, 'source nodes differ from users'\n",
        "assert len(receivers_nodes) == net_products, 'target nodes differ from products'\n",
        "print(\"Users nodes: \", len(givers_nodes))\n",
        "print(\"Products nodes: \", len(receivers_nodes))"
      ],
      "execution_count": 15,
      "outputs": [
        {
          "output_type": "stream",
          "text": [
            "Edges (reviews):  278677\n",
            "Nodes (users + products):  62420\n",
            "\n",
            "Users nodes:  39387\n",
            "Products nodes:  23033\n"
          ],
          "name": "stdout"
        }
      ]
    },
    {
      "cell_type": "markdown",
      "metadata": {
        "id": "8s4vqvAyLKN_",
        "colab_type": "text"
      },
      "source": [
        "**Example**"
      ]
    },
    {
      "cell_type": "code",
      "metadata": {
        "id": "FmQIU0JOIfEu",
        "colab_type": "code",
        "outputId": "ef9d6f57-a693-481e-8f2f-c2b40fa232e0",
        "colab": {
          "base_uri": "https://localhost:8080/",
          "height": 121
        }
      },
      "source": [
        "userID = dfnet.head(1)['userID'][0]\n",
        "productID = dfnet.head(1)['productID'][0]\n",
        "\n",
        "print('Products reviewed by user', userID, ':\\n', list(graph.successors(userID)))\n",
        "print()\n",
        "print('Users who reviewed product', productID, ':\\n', list(graph.predecessors(productID)))"
      ],
      "execution_count": 16,
      "outputs": [
        {
          "output_type": "stream",
          "text": [
            "Products reviewed by user A1KLRMWW2FWPL4 :\n",
            " ['0000031887', 'B000FH4JJQ', 'B002NPCJ5E', 'B003U3GOFO', 'B00400N6XE', 'B008NBSBHW', 'B009H6NPBE']\n",
            "\n",
            "Users who reviewed product 0000031887 :\n",
            " ['A1KLRMWW2FWPL4', 'A2G5TCU2WDFZ65', 'A1RLQXYNCMWRWN', 'A8U3FAMSJVHS5', 'A3GEOILWLK86XM', 'A27UF1MSF3DB2', 'A16GFPNVF4Y816', 'A2M2APVYIB2U6K', 'A1NJ71X3YPQNQ9', 'A3EERSWHAI6SO', 'AX1QE6IR7CHXM', 'A2A2WZYLU528RO', 'A391EXIT5TFP72', 'A34ATJR9KFIXL9', 'AJ6B83I4YJHYW', 'A26A4KKLAVTMCC', 'A1MXJVYXE2QU6H', 'A2XJ13PIXVJFJH', 'A287XY94U7JDM8', 'A1JR9KKF6UKUWW', 'A2SX7X8QGQVCJU', 'A2Q6UWR5PBHTJS', 'AJZPHJR944IBB']\n"
          ],
          "name": "stdout"
        }
      ]
    },
    {
      "cell_type": "markdown",
      "metadata": {
        "id": "8IWjtDChBu7J",
        "colab_type": "text"
      },
      "source": [
        "**Saving to graphML file**"
      ]
    },
    {
      "cell_type": "code",
      "metadata": {
        "id": "wQwI9o7L_-ru",
        "colab_type": "code",
        "colab": {}
      },
      "source": [
        "# from google.colab import drive\n",
        "# drive.mount('/content/drive')\n",
        "# drivepath = '/content/drive/My Drive/Data Analytics/'\n",
        "\n",
        "# nx.write_graphml(graph, drivepath + f'network-{len(dfnet)}.graphml')"
      ],
      "execution_count": 0,
      "outputs": []
    },
    {
      "cell_type": "markdown",
      "metadata": {
        "id": "a6xLl8fdRozv",
        "colab_type": "text"
      },
      "source": [
        "### Degree"
      ]
    },
    {
      "cell_type": "code",
      "metadata": {
        "id": "nTt7VhU9IJeh",
        "colab_type": "code",
        "outputId": "87bc9417-bc4e-413f-9a43-49f85eaa1c6a",
        "colab": {
          "base_uri": "https://localhost:8080/",
          "height": 70
        }
      },
      "source": [
        "print(\"Most 10 active users: \", sorted(graph.out_degree, key=lambda x: x[1], reverse=True)[:10])\n",
        "print(\"Most 10 popular products: \", sorted(graph.in_degree, key=lambda x: x[1], reverse=True)[:10])"
      ],
      "execution_count": 18,
      "outputs": [
        {
          "output_type": "stream",
          "text": [
            "Most 10 active users:  [('A2J4XMWKR8PPD0', 136), ('A2GA55P7WGHJCP', 76), ('A2KBV88FL48CFS', 69), ('AENH50GW3OKDA', 68), ('A2V5R832QCSOMX', 62), ('AVUJP7Z6BNT11', 61), ('A132ETQPMHQ585', 60), ('A2UO040HWOP0C2', 59), ('A2GP4EJIAA2OE0', 59), ('A1LM4PSE0HJQDW', 55)]\n",
            "Most 10 popular products:  [('B005LERHD8', 441), ('B005GYGD7O', 286), ('B008WYDP1C', 249), ('B0058XIMMM', 241), ('B00CKGB85I', 225), ('B007RD9DS8', 217), ('B002RADHJC', 211), ('B000T9VK56', 207), ('B0000C321X', 205), ('B0001ZNZJM', 197)]\n"
          ],
          "name": "stdout"
        }
      ]
    },
    {
      "cell_type": "markdown",
      "metadata": {
        "id": "5GpcgwBz6-HT",
        "colab_type": "text"
      },
      "source": [
        "**In-degree (reviews received)**"
      ]
    },
    {
      "cell_type": "code",
      "metadata": {
        "id": "t1cd1c-3zNct",
        "colab_type": "code",
        "outputId": "b65abfdd-ea30-4fb4-ae99-b75824903f64",
        "colab": {
          "base_uri": "https://localhost:8080/",
          "height": 300
        }
      },
      "source": [
        "in_degrees = [x[1] for x in graph.in_degree]\n",
        "degreeCount = collections.Counter(in_degrees)\n",
        "deg, cnt = zip(*degreeCount.items()) # unroll (degree, count) into different lists for matplotlib\n",
        "\n",
        "plt.ylabel('number of nodes')\n",
        "plt.xlabel('in-degree')\n",
        "plt.bar(deg, cnt, log = True)"
      ],
      "execution_count": 19,
      "outputs": [
        {
          "output_type": "execute_result",
          "data": {
            "text/plain": [
              "<BarContainer object of 153 artists>"
            ]
          },
          "metadata": {
            "tags": []
          },
          "execution_count": 19
        },
        {
          "output_type": "display_data",
          "data": {
            "image/png": "[encoded data removed]",
            "text/plain": [
              "<Figure size 432x288 with 1 Axes>"
            ]
          },
          "metadata": {
            "tags": []
          }
        }
      ]
    },
    {
      "cell_type": "markdown",
      "metadata": {
        "id": "WQX0B91x6_vT",
        "colab_type": "text"
      },
      "source": [
        "**Out-degree (reviews given)**"
      ]
    },
    {
      "cell_type": "code",
      "metadata": {
        "id": "AjKbtNPt4Ena",
        "colab_type": "code",
        "outputId": "5c3ab6cb-4aa4-4640-c987-2cbef882159d",
        "colab": {
          "base_uri": "https://localhost:8080/",
          "height": 300
        }
      },
      "source": [
        "out_degrees = [x[1] for x in graph.out_degree]\n",
        "degreeCount = collections.Counter(out_degrees)\n",
        "deg, cnt = zip(*degreeCount.items()) # unroll (degree, count) into different lists for matplotlib\n",
        "\n",
        "plt.ylabel('number of nodes')\n",
        "plt.xlabel('out-degree')\n",
        "plt.bar(deg, cnt, log = True)"
      ],
      "execution_count": 20,
      "outputs": [
        {
          "output_type": "execute_result",
          "data": {
            "text/plain": [
              "<BarContainer object of 57 artists>"
            ]
          },
          "metadata": {
            "tags": []
          },
          "execution_count": 20
        },
        {
          "output_type": "display_data",
          "data": {
            "image/png": "[encoded data removed]",
            "text/plain": [
              "<Figure size 432x288 with 1 Axes>"
            ]
          },
          "metadata": {
            "tags": []
          }
        }
      ]
    },
    {
      "cell_type": "markdown",
      "metadata": {
        "id": "ERBnVxYgSnvo",
        "colab_type": "text"
      },
      "source": [
        "\n",
        "\n",
        "---\n",
        "\n"
      ]
    },
    {
      "cell_type": "markdown",
      "metadata": {
        "colab_type": "text",
        "id": "_SMNwXnNg0Ft"
      },
      "source": [
        "## Collaborative Filtering"
      ]
    },
    {
      "cell_type": "markdown",
      "metadata": {
        "id": "XMHiccko9Iw_",
        "colab_type": "text"
      },
      "source": [
        "### Dependencies"
      ]
    },
    {
      "cell_type": "code",
      "metadata": {
        "id": "XfGg7WvN9HvJ",
        "colab_type": "code",
        "colab": {}
      },
      "source": [
        "import torch\n",
        "import fastai\n",
        "from fastai.collab import *"
      ],
      "execution_count": 0,
      "outputs": []
    },
    {
      "cell_type": "markdown",
      "metadata": {
        "id": "KG60zI3ej7zi",
        "colab_type": "text"
      },
      "source": [
        "### Undersampling"
      ]
    },
    {
      "cell_type": "code",
      "metadata": {
        "id": "q73WV2NQ0_4d",
        "colab_type": "code",
        "outputId": "d964573e-da6b-4140-dbf5-e03497b5b543",
        "colab": {
          "base_uri": "https://localhost:8080/",
          "height": 286
        }
      },
      "source": [
        "dfull['rating'].hist()"
      ],
      "execution_count": 22,
      "outputs": [
        {
          "output_type": "execute_result",
          "data": {
            "text/plain": [
              "<matplotlib.axes._subplots.AxesSubplot at 0x7fc289ad2f60>"
            ]
          },
          "metadata": {
            "tags": []
          },
          "execution_count": 22
        },
        {
          "output_type": "display_data",
          "data": {
            "image/png": "[encoded data removed]",
            "text/plain": [
              "<Figure size 432x288 with 1 Axes>"
            ]
          },
          "metadata": {
            "tags": []
          }
        }
      ]
    },
    {
      "cell_type": "code",
      "metadata": {
        "id": "mx-TDVX0zQUl",
        "colab_type": "code",
        "outputId": "3954bd86-9448-43ab-938a-29acd49bdeb4",
        "colab": {
          "base_uri": "https://localhost:8080/",
          "height": 286
        }
      },
      "source": [
        "# # Separate majority and minority classes\n",
        "df_minority = dfull[(dfull.rating!=5) & (dfull.rating!=4)]\n",
        "df_4 = dfull[dfull.rating==4]\n",
        "df_5 = dfull[dfull.rating==5]\n",
        "resampling_count = dfull['rating'].value_counts()[3]\n",
        " \n",
        "# Downsample majority class\n",
        "df_4_down = resample(df_4, \n",
        "                     replace=False,\n",
        "                     n_samples = resampling_count,\n",
        "                     random_state=123) # reproducible results\n",
        "\n",
        "# Downsample majority class\n",
        "df_5_down = resample(df_5, \n",
        "                     replace=False,\n",
        "                     n_samples = resampling_count,\n",
        "                     random_state=123) # reproducible results\n",
        " \n",
        "# Combine minority class with downsampled majority class\n",
        "df_downsampled = pd.concat([df_minority, df_4_down, df_5_down])\n",
        " \n",
        "# Display new class counts\n",
        "df_downsampled['rating'].hist()"
      ],
      "execution_count": 23,
      "outputs": [
        {
          "output_type": "execute_result",
          "data": {
            "text/plain": [
              "<matplotlib.axes._subplots.AxesSubplot at 0x7fc289a6e8d0>"
            ]
          },
          "metadata": {
            "tags": []
          },
          "execution_count": 23
        },
        {
          "output_type": "display_data",
          "data": {
            "image/png": "[encoded data removed]",
            "text/plain": [
              "<Figure size 432x288 with 1 Axes>"
            ]
          },
          "metadata": {
            "tags": []
          }
        }
      ]
    },
    {
      "cell_type": "markdown",
      "metadata": {
        "id": "n1MoAPVpzMro",
        "colab_type": "text"
      },
      "source": [
        "### Creating dataset for collaborative filtering\n",
        "\n",
        "Choose between `dfull` and `df_downsampled` for using full or downsampled (and balanced) dataset"
      ]
    },
    {
      "cell_type": "code",
      "metadata": {
        "id": "EI_CbWodltkc",
        "colab_type": "code",
        "outputId": "eb03fcf1-204d-47e3-9e60-1a9d15c9c673",
        "colab": {
          "base_uri": "https://localhost:8080/",
          "height": 151
        }
      },
      "source": [
        "dflearn = dfull\n",
        "dflearn.info()"
      ],
      "execution_count": 24,
      "outputs": [
        {
          "output_type": "stream",
          "text": [
            "<class 'pandas.core.frame.DataFrame'>\n",
            "Index: 278677 entries, 0 to 278676\n",
            "Data columns (total 3 columns):\n",
            "productID    278677 non-null object\n",
            "rating       278677 non-null float64\n",
            "userID       278677 non-null object\n",
            "dtypes: float64(1), object(2)\n",
            "memory usage: 8.5+ MB\n"
          ],
          "name": "stdout"
        }
      ]
    },
    {
      "cell_type": "code",
      "metadata": {
        "id": "lV_9QwGXqQpF",
        "colab_type": "code",
        "outputId": "8403ade3-3557-4c0c-d61b-c649ed62aecc",
        "colab": {
          "base_uri": "https://localhost:8080/",
          "height": 151
        }
      },
      "source": [
        "# converting strings to categories\n",
        "series2cat(dflearn, 'productID', 'userID')\n",
        "\n",
        "# reordering columns for fastai standard format\n",
        "dflearn = dflearn[['userID', 'productID', 'rating']]\n",
        "dflearn.info()"
      ],
      "execution_count": 25,
      "outputs": [
        {
          "output_type": "stream",
          "text": [
            "<class 'pandas.core.frame.DataFrame'>\n",
            "Index: 278677 entries, 0 to 278676\n",
            "Data columns (total 3 columns):\n",
            "userID       278677 non-null category\n",
            "productID    278677 non-null category\n",
            "rating       278677 non-null float64\n",
            "dtypes: category(2), float64(1)\n",
            "memory usage: 8.2+ MB\n"
          ],
          "name": "stdout"
        }
      ]
    },
    {
      "cell_type": "code",
      "metadata": {
        "id": "-MonBiMsojxd",
        "colab_type": "code",
        "outputId": "dd6651e5-fa85-4b65-b622-55f9a8d6eb9f",
        "colab": {
          "base_uri": "https://localhost:8080/",
          "height": 195
        }
      },
      "source": [
        "# creating collaborative filtering dataset\n",
        "data = CollabDataBunch.from_df(dflearn, seed=42, valid_pct = 0.3)\n",
        "data.show_batch()"
      ],
      "execution_count": 26,
      "outputs": [
        {
          "output_type": "display_data",
          "data": {
            "text/html": [
              "<table border=\"1\" class=\"dataframe\">\n",
              "  <thead>\n",
              "    <tr style=\"text-align: right;\">\n",
              "      <th>userID</th>\n",
              "      <th>productID</th>\n",
              "      <th>target</th>\n",
              "    </tr>\n",
              "  </thead>\n",
              "  <tbody>\n",
              "    <tr>\n",
              "      <td>A1V3VBGN8Y0Q7X</td>\n",
              "      <td>B003WZZVEU</td>\n",
              "      <td>5.0</td>\n",
              "    </tr>\n",
              "    <tr>\n",
              "      <td>A3LFVYR9A27NLT</td>\n",
              "      <td>B0024FAPTA</td>\n",
              "      <td>5.0</td>\n",
              "    </tr>\n",
              "    <tr>\n",
              "      <td>ASUUBVGXK8IJM</td>\n",
              "      <td>B0088LONB0</td>\n",
              "      <td>5.0</td>\n",
              "    </tr>\n",
              "    <tr>\n",
              "      <td>A3ADU4J047UKT1</td>\n",
              "      <td>B000WAPCQ0</td>\n",
              "      <td>5.0</td>\n",
              "    </tr>\n",
              "    <tr>\n",
              "      <td>AJES485KARIKQ</td>\n",
              "      <td>B0043EVI9G</td>\n",
              "      <td>5.0</td>\n",
              "    </tr>\n",
              "  </tbody>\n",
              "</table>"
            ],
            "text/plain": [
              "<IPython.core.display.HTML object>"
            ]
          },
          "metadata": {
            "tags": []
          }
        }
      ]
    },
    {
      "cell_type": "markdown",
      "metadata": {
        "id": "gMN2-nvg8fO4",
        "colab_type": "text"
      },
      "source": [
        "### Some parameters"
      ]
    },
    {
      "cell_type": "code",
      "metadata": {
        "id": "5x92tB2ZLj0S",
        "colab_type": "code",
        "colab": {}
      },
      "source": [
        "n_cicles = 5\n",
        "n_factors = 20\n",
        "y_range = (1.,5.)"
      ],
      "execution_count": 0,
      "outputs": []
    },
    {
      "cell_type": "markdown",
      "metadata": {
        "id": "4Fc5UOGeKtF3",
        "colab_type": "text"
      },
      "source": [
        "### EmbeddingDotBias"
      ]
    },
    {
      "cell_type": "code",
      "metadata": {
        "id": "wbl4My1Qx3-5",
        "colab_type": "code",
        "colab": {}
      },
      "source": [
        "learn = collab_learner(data, \n",
        "                       n_factors=n_factors, # embeddings size\n",
        "                       y_range=y_range, # target domain\n",
        "                       use_nn = False, # if False EmbeddingDotBias is used, otherwise EmbeddingNN\n",
        "                       callback_fns=ShowGraph) # optimization function\n",
        "\n",
        "#learn.loss_func = torch.nn.MSELoss() # changing loss function (default is MSE)"
      ],
      "execution_count": 0,
      "outputs": []
    },
    {
      "cell_type": "code",
      "metadata": {
        "id": "rmVBvXIQA1-w",
        "colab_type": "code",
        "outputId": "8f6b1059-ec0b-4238-d73f-9b7fba1abc1b",
        "colab": {
          "base_uri": "https://localhost:8080/",
          "height": 334
        }
      },
      "source": [
        "learn.unfreeze()\n",
        "learn.lr_find() # find learning rate\n",
        "learn.recorder.plot(suggestion = True) # plot learning rate graph"
      ],
      "execution_count": 29,
      "outputs": [
        {
          "output_type": "display_data",
          "data": {
            "text/html": [
              ""
            ],
            "text/plain": [
              "<IPython.core.display.HTML object>"
            ]
          },
          "metadata": {
            "tags": []
          }
        },
        {
          "output_type": "stream",
          "text": [
            "LR Finder is complete, type {learner_name}.recorder.plot() to see the graph.\n",
            "Min numerical gradient: 6.31E-07\n",
            "Min loss divided by 10: 7.59E-08\n"
          ],
          "name": "stdout"
        },
        {
          "output_type": "display_data",
          "data": {
            "image/png": "[encoded data removed]",
            "text/plain": [
              "<Figure size 432x288 with 1 Axes>"
            ]
          },
          "metadata": {
            "tags": []
          }
        }
      ]
    },
    {
      "cell_type": "code",
      "metadata": {
        "id": "b_4v9L1dsbg4",
        "colab_type": "code",
        "outputId": "bbfe0dee-1d6d-4946-aed8-fc3be3c7b41e",
        "colab": {
          "base_uri": "https://localhost:8080/",
          "height": 464
        }
      },
      "source": [
        "print('Training results')\n",
        "learn.fit_one_cycle(n_cicles, 6e-4, wd=0.1)\n",
        "\n",
        "# learn.save('amazon-reviews-dot-1')"
      ],
      "execution_count": 30,
      "outputs": [
        {
          "output_type": "stream",
          "text": [
            "Training results\n"
          ],
          "name": "stdout"
        },
        {
          "output_type": "display_data",
          "data": {
            "text/html": [
              "<table border=\"1\" class=\"dataframe\">\n",
              "  <thead>\n",
              "    <tr style=\"text-align: left;\">\n",
              "      <th>epoch</th>\n",
              "      <th>train_loss</th>\n",
              "      <th>valid_loss</th>\n",
              "      <th>time</th>\n",
              "    </tr>\n",
              "  </thead>\n",
              "  <tbody>\n",
              "    <tr>\n",
              "      <td>0</td>\n",
              "      <td>2.701597</td>\n",
              "      <td>2.697746</td>\n",
              "      <td>00:35</td>\n",
              "    </tr>\n",
              "    <tr>\n",
              "      <td>1</td>\n",
              "      <td>2.515754</td>\n",
              "      <td>2.543709</td>\n",
              "      <td>00:35</td>\n",
              "    </tr>\n",
              "    <tr>\n",
              "      <td>2</td>\n",
              "      <td>2.413669</td>\n",
              "      <td>2.443601</td>\n",
              "      <td>00:34</td>\n",
              "    </tr>\n",
              "    <tr>\n",
              "      <td>3</td>\n",
              "      <td>2.330179</td>\n",
              "      <td>2.401501</td>\n",
              "      <td>00:34</td>\n",
              "    </tr>\n",
              "    <tr>\n",
              "      <td>4</td>\n",
              "      <td>2.322225</td>\n",
              "      <td>2.394819</td>\n",
              "      <td>00:34</td>\n",
              "    </tr>\n",
              "  </tbody>\n",
              "</table>"
            ],
            "text/plain": [
              "<IPython.core.display.HTML object>"
            ]
          },
          "metadata": {
            "tags": []
          }
        },
        {
          "output_type": "display_data",
          "data": {
            "image/png": "[encoded data removed]",
            "text/plain": [
              "<Figure size 432x288 with 1 Axes>"
            ]
          },
          "metadata": {
            "tags": []
          }
        }
      ]
    },
    {
      "cell_type": "code",
      "metadata": {
        "id": "ZnZw8kOh5iix",
        "colab_type": "code",
        "outputId": "83130bc6-f3d1-41a9-e88b-67c46e5a9795",
        "colab": {
          "base_uri": "https://localhost:8080/",
          "height": 50
        }
      },
      "source": [
        "userID = 'A3KPKHNR12SPAG'\n",
        "productID = 'B00DNVIO4M'\n",
        "\n",
        "print(\"Actual\", dflearn[(dflearn['userID'] == userID) & (dflearn['productID'] == productID)]['rating'][0])\n",
        "\n",
        "learn.predict({\n",
        "    \"userID\": userID,\n",
        "    \"productID\": productID\n",
        "})"
      ],
      "execution_count": 31,
      "outputs": [
        {
          "output_type": "stream",
          "text": [
            "Actual 5.0\n"
          ],
          "name": "stdout"
        },
        {
          "output_type": "execute_result",
          "data": {
            "text/plain": [
              "(FloatItem 3.1335256, tensor(3.1335), tensor(3.1335))"
            ]
          },
          "metadata": {
            "tags": []
          },
          "execution_count": 31
        }
      ]
    },
    {
      "cell_type": "code",
      "metadata": {
        "id": "9PzzLVF75rc1",
        "colab_type": "code",
        "outputId": "fdaaeb35-3b57-4529-b849-fb2d1496d8ca",
        "colab": {
          "base_uri": "https://localhost:8080/",
          "height": 458
        }
      },
      "source": [
        "import seaborn as sns\n",
        "\n",
        "# get only 10000 samples, cause of computation time\n",
        "frac = 1000 / dflearn.shape[0]\n",
        "\n",
        "# get samples with rating equally distributed\n",
        "subset = dflearn.groupby('rating') \\\n",
        "  .apply(pd.DataFrame.sample, frac=frac) \\\n",
        "  .reset_index(drop=True)\n",
        "\n",
        "actuals = subset['rating']\n",
        "predictions = [float(str(learn.predict({ \"userID\": x.userID, \"productID\": x.productID })[0])) for i,x in subset.iterrows()]\n",
        "\n",
        "sns.jointplot('x', 'y', data = pd.DataFrame(\n",
        "    {'x': predictions,\n",
        "     'y': actuals\n",
        "    })\n",
        ", kind='hex', stat_func=None)"
      ],
      "execution_count": 32,
      "outputs": [
        {
          "output_type": "execute_result",
          "data": {
            "text/plain": [
              "<seaborn.axisgrid.JointGrid at 0x7fc2896606a0>"
            ]
          },
          "metadata": {
            "tags": []
          },
          "execution_count": 32
        },
        {
          "output_type": "display_data",
          "data": {
            "image/png": "[encoded data removed]",
            "text/plain": [
              "<Figure size 432x432 with 3 Axes>"
            ]
          },
          "metadata": {
            "tags": []
          }
        }
      ]
    },
    {
      "cell_type": "markdown",
      "metadata": {
        "id": "8jwbpcvQHBsW",
        "colab_type": "text"
      },
      "source": [
        "#### Interpretation\n",
        "\n",
        "Let's try to interpret how embeddings are created."
      ]
    },
    {
      "cell_type": "code",
      "metadata": {
        "id": "jPlbZKPxGnXe",
        "colab_type": "code",
        "outputId": "571880f4-2767-4306-e421-8f5c3f06f4e9",
        "colab": {
          "base_uri": "https://localhost:8080/",
          "height": 50
        }
      },
      "source": [
        "g = dflearn.groupby('productID')['rating'].count()\n",
        "top_ratings = g.sort_values(ascending=False).index.values[:1000]\n",
        "top_ratings = top_ratings.astype(str)\n",
        "top_ratings"
      ],
      "execution_count": 33,
      "outputs": [
        {
          "output_type": "execute_result",
          "data": {
            "text/plain": [
              "array(['B005LERHD8', 'B005GYGD7O', 'B008WYDP1C', 'B0058XIMMM', ..., 'B006R0CDN4', 'B0034G54BM', 'B00902G8RS',\n",
              "       'B00C11AM2C'], dtype='<U10')"
            ]
          },
          "metadata": {
            "tags": []
          },
          "execution_count": 33
        }
      ]
    },
    {
      "cell_type": "code",
      "metadata": {
        "id": "9GQXiaFrHBDX",
        "colab_type": "code",
        "outputId": "81c6334c-6bc1-4b0c-81ba-d9454704dbb4",
        "colab": {
          "base_uri": "https://localhost:8080/",
          "height": 138
        }
      },
      "source": [
        "# get biases for top products\n",
        "product_bias = learn.bias(top_ratings, is_item=True)\n",
        "\n",
        "# get mean ratings\n",
        "mean_ratings = dflearn.groupby('productID')['rating'].mean()\n",
        "product_ratings = [(b, top_ratings[i], mean_ratings.loc[tb]) for i, (tb, b) in enumerate(zip(top_ratings, product_bias))]\n",
        "\n",
        "# print product bias information\n",
        "item0 = lambda o:o[0]\n",
        "print(sorted(product_ratings, key=item0)[:15])\n",
        "print(sorted(product_ratings, key=item0, reverse=True)[:15])\n",
        "\n",
        "# get weights\n",
        "product_w = learn.weight(top_ratings, is_item=True)\n",
        "\n",
        "# transform weights to 3 dimensions\n",
        "product_pca = product_w.pca(3)\n",
        "\n",
        "# get prinicipal components\n",
        "fac0,fac1,fac2 = product_pca.t()\n",
        "product_comp = [(f, i) for f,i in zip(fac0, top_ratings)]\n",
        "\n",
        "# print fac0 information\n",
        "print(sorted(product_comp, key=itemgetter(0), reverse=True)[:10])\n",
        "print(sorted(product_comp, key=itemgetter(0))[:10])\n",
        "\n",
        "# print fac1 information\n",
        "product_comp = [(f, i) for f,i in zip(fac1, top_ratings)]\n",
        "print(sorted(product_comp, key=itemgetter(0), reverse=True)[:10])\n",
        "print(sorted(product_comp, key=itemgetter(0))[:10])"
      ],
      "execution_count": 34,
      "outputs": [
        {
          "output_type": "stream",
          "text": [
            "[(tensor(-0.1312), 'B00DNV1IJK', 2.375), (tensor(-0.0613), 'B00DMWQLB0', 2.8333333333333335), (tensor(0.0017), 'B00DM0587K', 2.98), (tensor(0.0230), 'B003QMMSZ4', 3.267857142857143), (tensor(0.0231), 'B007KR07ZY', 3.135135135135135), (tensor(0.0286), 'B0074DAHWC', 3.391304347826087), (tensor(0.0309), 'B00FEEA4MG', 2.972972972972973), (tensor(0.0314), 'B004Z1CZDK', 3.1923076923076925), (tensor(0.0322), 'B004VW55NA', 3.395348837209302), (tensor(0.0384), 'B000AO7PXQ', 3.4390243902439024), (tensor(0.0409), 'B000JIH8WQ', 3.305084745762712), (tensor(0.0499), 'B000M9JJ7O', 3.3076923076923075), (tensor(0.0519), 'B000VK2GXS', 3.3728813559322033), (tensor(0.0566), 'B002866MZG', 3.55), (tensor(0.0650), 'B0081OYUO4', 3.5405405405405403)]\n",
            "[(tensor(0.7131), 'B0058XIMMM', 4.618257261410788), (tensor(0.6676), 'B005LERHD8', 4.290249433106576), (tensor(0.5840), 'B001IB70JY', 4.527777777777778), (tensor(0.5743), 'B0008EOEPK', 4.559139784946237), (tensor(0.5711), 'B008KK0ZJ8', 4.683229813664596), (tensor(0.5677), 'B002PHLVJA', 4.654320987654321), (tensor(0.5556), 'B007NLX16O', 4.507936507936508), (tensor(0.5553), 'B0001ZNZJM', 4.472081218274112), (tensor(0.5473), 'B005GYGD7O', 4.241258741258742), (tensor(0.5394), 'B0013KDS96', 4.781512605042017), (tensor(0.5368), 'B001Q5QLP6', 4.673913043478261), (tensor(0.5270), 'B008WYDP1C', 4.257028112449799), (tensor(0.5245), 'B002KMI7OC', 4.5928571428571425), (tensor(0.5165), 'B003NX87U6', 4.398809523809524), (tensor(0.5144), 'B007WNWEFC', 4.243654822335025)]\n",
            "[(tensor(1.1652), 'B005LERHD8'), (tensor(0.9026), 'B0067GUM2W'), (tensor(0.8170), 'B0078FXHNM'), (tensor(0.8147), 'B00DMWQK0W'), (tensor(0.6575), 'B007RD9DS8'), (tensor(0.6409), 'B007WNWEFC'), (tensor(0.6058), 'B008UKZ868'), (tensor(0.5354), 'B00DNQIIE8'), (tensor(0.5053), 'B00DMWQOYY'), (tensor(0.5022), 'B003XDVUEQ')]\n",
            "[(tensor(-0.3629), 'B0058XIMMM'), (tensor(-0.3225), 'B00AHRDLAW'), (tensor(-0.3164), 'B0051U15E4'), (tensor(-0.2843), 'B002Q8AJSM'), (tensor(-0.2676), 'B000072UMJ'), (tensor(-0.2615), 'B005UVM368'), (tensor(-0.2440), 'B002KMI7OC'), (tensor(-0.2400), 'B0029F269C'), (tensor(-0.2388), 'B006PGGJOE'), (tensor(-0.2377), 'B002RADHJC')]\n",
            "[(tensor(0.5442), 'B0001ZNZJM'), (tensor(0.3959), 'B008WYDP1C'), (tensor(0.3812), 'B000O32MLI'), (tensor(0.3697), 'B0012M0V7W'), (tensor(0.3440), 'B0009F0Z38'), (tensor(0.2941), 'B001AOZVSQ'), (tensor(0.2776), 'B005D6B5OG'), (tensor(0.2756), 'B001Q5QLP6'), (tensor(0.2601), 'B00BPNX7MO'), (tensor(0.2544), 'B000OWC1HE')]\n",
            "[(tensor(-0.5119), 'B004Q7AB4I'), (tensor(-0.4260), 'B000T9VK56'), (tensor(-0.3795), 'B0008EOEPK'), (tensor(-0.3712), 'B000KD44G8'), (tensor(-0.3697), 'B0007YVP1W'), (tensor(-0.3054), 'B0000C321X'), (tensor(-0.3048), 'B004R1CL96'), (tensor(-0.2951), 'B007WAEBPQ'), (tensor(-0.2815), 'B0051U15E4'), (tensor(-0.2708), 'B007WAU1VY')]\n"
          ],
          "name": "stdout"
        }
      ]
    },
    {
      "cell_type": "code",
      "metadata": {
        "id": "vzm89ZoDHzDB",
        "colab_type": "code",
        "outputId": "cb5ce517-213e-4392-ff53-c0e7872d4900",
        "colab": {
          "base_uri": "https://localhost:8080/",
          "height": 879
        }
      },
      "source": [
        "idxs = np.random.choice(len(top_ratings), 50, replace=False)\n",
        "idxs = list(range(50))\n",
        "X = fac0[idxs]\n",
        "Y = fac2[idxs]\n",
        "plt.figure(figsize=(15,15))\n",
        "plt.scatter(X, Y)\n",
        "for i, x, y in zip(top_ratings[idxs], X, Y):\n",
        "    plt.text(x,y,i, color=np.random.rand(3)*0.7, fontsize=11)\n",
        "plt.title('Weight Embedding visualization')\n",
        "plt.show()"
      ],
      "execution_count": 35,
      "outputs": [
        {
          "output_type": "display_data",
          "data": {
            "image/png": "[encoded data removed]",
            "text/plain": [
              "<Figure size 1080x1080 with 1 Axes>"
            ]
          },
          "metadata": {
            "tags": []
          }
        }
      ]
    },
    {
      "cell_type": "markdown",
      "metadata": {
        "id": "hbTWQdbZKKci",
        "colab_type": "text"
      },
      "source": [
        "### EmeddingNN"
      ]
    },
    {
      "cell_type": "code",
      "metadata": {
        "id": "XW1LQZBk-mI_",
        "colab_type": "code",
        "colab": {}
      },
      "source": [
        "learnNN = collab_learner(data, use_nn=True, emb_szs={'userID': n_factors, 'productID':n_factors}, layers=[256, 128], y_range=y_range)"
      ],
      "execution_count": 0,
      "outputs": []
    },
    {
      "cell_type": "code",
      "metadata": {
        "id": "01E7L_R--jWY",
        "colab_type": "code",
        "outputId": "842e35f1-3318-4ed9-833f-37e3316ea149",
        "colab": {
          "base_uri": "https://localhost:8080/",
          "height": 334
        }
      },
      "source": [
        "learn.unfreeze()\n",
        "learnNN.lr_find() # find learning rate\n",
        "learnNN.recorder.plot(suggestion = True) # plot learning rate graph"
      ],
      "execution_count": 37,
      "outputs": [
        {
          "output_type": "display_data",
          "data": {
            "text/html": [
              ""
            ],
            "text/plain": [
              "<IPython.core.display.HTML object>"
            ]
          },
          "metadata": {
            "tags": []
          }
        },
        {
          "output_type": "stream",
          "text": [
            "LR Finder is complete, type {learner_name}.recorder.plot() to see the graph.\n",
            "Min numerical gradient: 2.29E-02\n",
            "Min loss divided by 10: 3.31E-01\n"
          ],
          "name": "stdout"
        },
        {
          "output_type": "display_data",
          "data": {
            "image/png": "[encoded data removed]",
            "text/plain": [
              "<Figure size 432x288 with 1 Axes>"
            ]
          },
          "metadata": {
            "tags": []
          }
        }
      ]
    },
    {
      "cell_type": "code",
      "metadata": {
        "id": "ntNPlNsTKK10",
        "colab_type": "code",
        "outputId": "5d9aed68-1ab4-44fb-cac1-2513dd2a735a",
        "colab": {
          "base_uri": "https://localhost:8080/",
          "height": 195
        }
      },
      "source": [
        "learnNN.fit_one_cycle(n_cicles, 3.31E-01, wd=0.1)\n",
        "\n",
        "# learn.save('amazon-reviews-nn-1')"
      ],
      "execution_count": 38,
      "outputs": [
        {
          "output_type": "display_data",
          "data": {
            "text/html": [
              "<table border=\"1\" class=\"dataframe\">\n",
              "  <thead>\n",
              "    <tr style=\"text-align: left;\">\n",
              "      <th>epoch</th>\n",
              "      <th>train_loss</th>\n",
              "      <th>valid_loss</th>\n",
              "      <th>time</th>\n",
              "    </tr>\n",
              "  </thead>\n",
              "  <tbody>\n",
              "    <tr>\n",
              "      <td>0</td>\n",
              "      <td>1.818127</td>\n",
              "      <td>1.794493</td>\n",
              "      <td>00:41</td>\n",
              "    </tr>\n",
              "    <tr>\n",
              "      <td>1</td>\n",
              "      <td>2.540792</td>\n",
              "      <td>1.817126</td>\n",
              "      <td>00:41</td>\n",
              "    </tr>\n",
              "    <tr>\n",
              "      <td>2</td>\n",
              "      <td>1.814746</td>\n",
              "      <td>1.795612</td>\n",
              "      <td>00:42</td>\n",
              "    </tr>\n",
              "    <tr>\n",
              "      <td>3</td>\n",
              "      <td>1.205687</td>\n",
              "      <td>1.283109</td>\n",
              "      <td>00:42</td>\n",
              "    </tr>\n",
              "    <tr>\n",
              "      <td>4</td>\n",
              "      <td>1.140987</td>\n",
              "      <td>1.137457</td>\n",
              "      <td>00:41</td>\n",
              "    </tr>\n",
              "  </tbody>\n",
              "</table>"
            ],
            "text/plain": [
              "<IPython.core.display.HTML object>"
            ]
          },
          "metadata": {
            "tags": []
          }
        }
      ]
    },
    {
      "cell_type": "markdown",
      "metadata": {
        "id": "TDxMbAiPQ-v4",
        "colab_type": "text"
      },
      "source": [
        "Same loss as before. Let's try a prediction."
      ]
    },
    {
      "cell_type": "code",
      "metadata": {
        "id": "ZTNx8Wmj9_aA",
        "colab_type": "code",
        "outputId": "83691252-24bf-4b9a-dc80-56a146079df6",
        "colab": {
          "base_uri": "https://localhost:8080/",
          "height": 50
        }
      },
      "source": [
        "userID = 'A1HS7WN91ISGYY'\n",
        "productID = 'B007WA2Q5I'\n",
        "\n",
        "print(\"Actual\", dflearn[(dflearn['userID'] == userID) & (dflearn['productID'] == productID)]['rating'][0])\n",
        "\n",
        "learnNN.predict({\n",
        "    \"userID\": userID,\n",
        "    \"productID\": productID\n",
        "})"
      ],
      "execution_count": 39,
      "outputs": [
        {
          "output_type": "stream",
          "text": [
            "Actual 4.0\n"
          ],
          "name": "stdout"
        },
        {
          "output_type": "execute_result",
          "data": {
            "text/plain": [
              "(FloatItem [3.900496], tensor([3.9005]), tensor([3.9005]))"
            ]
          },
          "metadata": {
            "tags": []
          },
          "execution_count": 39
        }
      ]
    }
  ]
}