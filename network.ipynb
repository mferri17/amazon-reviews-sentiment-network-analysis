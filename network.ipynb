{
  "nbformat": 4,
  "nbformat_minor": 0,
  "metadata": {
    "colab": {
      "name": "network.ipynb",
      "version": "0.3.2",
      "provenance": [],
      "collapsed_sections": [
        "-YoecvNDLdBB",
        "QD4mUbkXClLl",
        "zdAndero_zGE",
        "8jwbpcvQHBsW"
      ],
      "include_colab_link": true
    },
    "language_info": {
      "codemirror_mode": {
        "name": "ipython",
        "version": 3
      },
      "file_extension": ".py",
      "mimetype": "text/x-python",
      "name": "python",
      "nbconvert_exporter": "python",
      "pygments_lexer": "ipython3",
      "version": "3.7.3"
    },
    "kernelspec": {
      "name": "python3",
      "display_name": "Python 3"
    },
    "accelerator": "GPU"
  },
  "cells": [
    {
      "cell_type": "markdown",
      "metadata": {
        "id": "view-in-github",
        "colab_type": "text"
      },
      "source": [
        "<a href=\"https://colab.research.google.com/github/mferri17/amazon-reviews-sentiment-network-analysis/blob/master/network.ipynb\" target=\"_parent\"><img src=\"https://colab.research.google.com/assets/colab-badge.svg\" alt=\"Open In Colab\"/></a>"
      ]
    },
    {
      "cell_type": "markdown",
      "metadata": {
        "id": "ysBCOUbpLc_k",
        "colab_type": "text"
      },
      "source": [
        "# Amazon Reviews Network Analysis - Ferri Marco, Basso Matteo"
      ]
    },
    {
      "cell_type": "markdown",
      "metadata": {
        "id": "FpMdBSI2Lc_l",
        "colab_type": "text"
      },
      "source": [
        "This project aims to experiment with network analysis on [Amazon Reviews](http://jmcauley.ucsd.edu/data/amazon/) in order to build a collaborative filtering model."
      ]
    },
    {
      "cell_type": "markdown",
      "metadata": {
        "id": "LfwyCK9SLc_m",
        "colab_type": "text"
      },
      "source": [
        "## Dataset"
      ]
    },
    {
      "cell_type": "markdown",
      "metadata": {
        "id": "lxwEn1LnX2Kx",
        "colab_type": "text"
      },
      "source": [
        "### Dependencies"
      ]
    },
    {
      "cell_type": "code",
      "metadata": {
        "scrolled": false,
        "id": "ATRnE5hmLc_n",
        "colab_type": "code",
        "colab": {}
      },
      "source": [
        "import os\n",
        "import gzip\n",
        "import fileinput\n",
        "import sys\n",
        "import datetime\n",
        "import io\n",
        "import urllib\n",
        "import pandas as pd\n",
        "import numpy as np\n",
        "import matplotlib.pyplot as plt\n",
        "\n",
        "from fastai.collab import *\n",
        "from sklearn.utils import resample"
      ],
      "execution_count": 0,
      "outputs": []
    },
    {
      "cell_type": "markdown",
      "metadata": {
        "id": "Ivh_vmWKLc_r",
        "colab_type": "text"
      },
      "source": [
        "### Reading"
      ]
    },
    {
      "cell_type": "markdown",
      "metadata": {
        "id": "HFHgiBhULc_s",
        "colab_type": "text"
      },
      "source": [
        "\n",
        "Util functions to read from JSON and convert into pandas dataframe:"
      ]
    },
    {
      "cell_type": "code",
      "metadata": {
        "scrolled": false,
        "id": "dS8W2vxFLc_t",
        "colab_type": "code",
        "colab": {}
      },
      "source": [
        "def parse(path):\n",
        "  g = gzip.open(path, 'rb')\n",
        "  for l in g:\n",
        "    yield eval(l)\n",
        "\n",
        "def getDF(path):\n",
        "  df = []\n",
        "  for d in parse(path):\n",
        "    df.append(d)\n",
        "  return pd.DataFrame(df)\n",
        "\n",
        "def read_dataset(dataset):      \n",
        "  basepath = r\"datasets\\amazon-5-core\"\n",
        "  df = getDF(os.path.join(basepath, dataset))\n",
        "  return df\n",
        "  \n",
        "def download_dataset(dataset):\n",
        "  request = urllib.request.Request('http://snap.stanford.edu/data/amazon/productGraph/categoryFiles/' + dataset)\n",
        "  request.add_header('Accept-encoding', 'gzip')\n",
        "  response = urllib.request.urlopen(request)\n",
        "  buf = io.BytesIO(response.read())\n",
        "  file = gzip.GzipFile(fileobj=buf)\n",
        "  df = []\n",
        "  for line in file:\n",
        "    df.append(eval(line))\n",
        "  return pd.DataFrame(df)"
      ],
      "execution_count": 0,
      "outputs": []
    },
    {
      "cell_type": "markdown",
      "metadata": {
        "id": "vTmIPVTqLc_v",
        "colab_type": "text"
      },
      "source": [
        "Reading from JSON"
      ]
    },
    {
      "cell_type": "code",
      "metadata": {
        "scrolled": false,
        "id": "GVoQ1KOhLc_w",
        "colab_type": "code",
        "outputId": "7cc4b4da-91df-422d-a0b3-93744ea9140b",
        "colab": {
          "base_uri": "https://localhost:8080/",
          "height": 50
        }
      },
      "source": [
        "#%time dfull = read_dataset(\"reviews_Video_Games_5.json.gz\")\n",
        "%time dfull = download_dataset('reviews_Clothing_Shoes_and_Jewelry_5.json.gz')"
      ],
      "execution_count": 3,
      "outputs": [
        {
          "output_type": "stream",
          "text": [
            "CPU times: user 12.6 s, sys: 394 ms, total: 13 s\n",
            "Wall time: 15.5 s\n"
          ],
          "name": "stdout"
        }
      ]
    },
    {
      "cell_type": "markdown",
      "metadata": {
        "id": "8FFQDmglLc_9",
        "colab_type": "text"
      },
      "source": [
        "---"
      ]
    },
    {
      "cell_type": "markdown",
      "metadata": {
        "id": "XzU2ogWCLc_-",
        "colab_type": "text"
      },
      "source": [
        "###  Description"
      ]
    },
    {
      "cell_type": "markdown",
      "metadata": {
        "id": "JLiIbGc_Lc__",
        "colab_type": "text"
      },
      "source": [
        "#### Schema"
      ]
    },
    {
      "cell_type": "code",
      "metadata": {
        "scrolled": false,
        "id": "qAnGOIo2Lc__",
        "colab_type": "code",
        "outputId": "c7a99a77-2dde-4494-8e03-441ea48071b0",
        "colab": {
          "base_uri": "https://localhost:8080/",
          "height": 34
        }
      },
      "source": [
        "print(\"(rows, cols) = \", dfull.shape)"
      ],
      "execution_count": 4,
      "outputs": [
        {
          "output_type": "stream",
          "text": [
            "(rows, cols) =  (278677, 9)\n"
          ],
          "name": "stdout"
        }
      ]
    },
    {
      "cell_type": "code",
      "metadata": {
        "scrolled": false,
        "id": "vs35GBUdLc_3",
        "colab_type": "code",
        "colab": {}
      },
      "source": [
        "dfull = dfull.rename(index=str, columns={\"asin\": \"productID\", \n",
        "                                         \"reviewerID\": \"userID\", \n",
        "                                         \"reviewerName\": \"userName\",\n",
        "                                         \"reviewText\": \"text\",\n",
        "                                         \"overall\": \"rating\"})"
      ],
      "execution_count": 0,
      "outputs": []
    },
    {
      "cell_type": "code",
      "metadata": {
        "scrolled": false,
        "id": "eMz4oHsOLdAE",
        "colab_type": "code",
        "outputId": "a0dc5e79-d876-4326-ca71-0fc25a7a1507",
        "colab": {
          "base_uri": "https://localhost:8080/",
          "height": 252
        }
      },
      "source": [
        "dfull.info()"
      ],
      "execution_count": 6,
      "outputs": [
        {
          "output_type": "stream",
          "text": [
            "<class 'pandas.core.frame.DataFrame'>\n",
            "Index: 278677 entries, 0 to 278676\n",
            "Data columns (total 9 columns):\n",
            "productID         278677 non-null object\n",
            "helpful           278677 non-null object\n",
            "rating            278677 non-null float64\n",
            "text              278677 non-null object\n",
            "reviewTime        278677 non-null object\n",
            "userID            278677 non-null object\n",
            "userName          278225 non-null object\n",
            "summary           278677 non-null object\n",
            "unixReviewTime    278677 non-null int64\n",
            "dtypes: float64(1), int64(1), object(7)\n",
            "memory usage: 21.3+ MB\n"
          ],
          "name": "stdout"
        }
      ]
    },
    {
      "cell_type": "code",
      "metadata": {
        "scrolled": false,
        "id": "FfB3d-ZJLdAJ",
        "colab_type": "code",
        "outputId": "af11b3d2-a1ac-47f7-f62b-ecf3a5f26612",
        "colab": {
          "base_uri": "https://localhost:8080/",
          "height": 136
        }
      },
      "source": [
        "dfull.head(3)"
      ],
      "execution_count": 7,
      "outputs": [
        {
          "output_type": "execute_result",
          "data": {
            "text/html": [
              "<div>\n",
              "<style scoped>\n",
              "    .dataframe tbody tr th:only-of-type {\n",
              "        vertical-align: middle;\n",
              "    }\n",
              "\n",
              "    .dataframe tbody tr th {\n",
              "        vertical-align: top;\n",
              "    }\n",
              "\n",
              "    .dataframe thead th {\n",
              "        text-align: right;\n",
              "    }\n",
              "</style>\n",
              "<table border=\"1\" class=\"dataframe\">\n",
              "  <thead>\n",
              "    <tr style=\"text-align: right;\">\n",
              "      <th></th>\n",
              "      <th>productID</th>\n",
              "      <th>helpful</th>\n",
              "      <th>rating</th>\n",
              "      <th>text</th>\n",
              "      <th>reviewTime</th>\n",
              "      <th>userID</th>\n",
              "      <th>userName</th>\n",
              "      <th>summary</th>\n",
              "      <th>unixReviewTime</th>\n",
              "    </tr>\n",
              "  </thead>\n",
              "  <tbody>\n",
              "    <tr>\n",
              "      <th>0</th>\n",
              "      <td>0000031887</td>\n",
              "      <td>[0, 0]</td>\n",
              "      <td>5.0</td>\n",
              "      <td>This is a great tutu and at a really great pri...</td>\n",
              "      <td>02 12, 2011</td>\n",
              "      <td>A1KLRMWW2FWPL4</td>\n",
              "      <td>Amazon Customer \"cameramom\"</td>\n",
              "      <td>Great tutu-  not cheaply made</td>\n",
              "      <td>1297468800</td>\n",
              "    </tr>\n",
              "    <tr>\n",
              "      <th>1</th>\n",
              "      <td>0000031887</td>\n",
              "      <td>[0, 0]</td>\n",
              "      <td>5.0</td>\n",
              "      <td>I bought this for my 4 yr old daughter for dan...</td>\n",
              "      <td>01 19, 2013</td>\n",
              "      <td>A2G5TCU2WDFZ65</td>\n",
              "      <td>Amazon Customer</td>\n",
              "      <td>Very Cute!!</td>\n",
              "      <td>1358553600</td>\n",
              "    </tr>\n",
              "    <tr>\n",
              "      <th>2</th>\n",
              "      <td>0000031887</td>\n",
              "      <td>[0, 0]</td>\n",
              "      <td>5.0</td>\n",
              "      <td>What can I say... my daughters have it in oran...</td>\n",
              "      <td>01 4, 2013</td>\n",
              "      <td>A1RLQXYNCMWRWN</td>\n",
              "      <td>Carola</td>\n",
              "      <td>I have buy more than one</td>\n",
              "      <td>1357257600</td>\n",
              "    </tr>\n",
              "  </tbody>\n",
              "</table>\n",
              "</div>"
            ],
            "text/plain": [
              "    productID helpful  ...                        summary unixReviewTime\n",
              "0  0000031887  [0, 0]  ...  Great tutu-  not cheaply made     1297468800\n",
              "1  0000031887  [0, 0]  ...                    Very Cute!!     1358553600\n",
              "2  0000031887  [0, 0]  ...       I have buy more than one     1357257600\n",
              "\n",
              "[3 rows x 9 columns]"
            ]
          },
          "metadata": {
            "tags": []
          },
          "execution_count": 7
        }
      ]
    },
    {
      "cell_type": "markdown",
      "metadata": {
        "id": "d-SJ_j0eLdAO",
        "colab_type": "text"
      },
      "source": [
        "#### Columns analysis"
      ]
    },
    {
      "cell_type": "markdown",
      "metadata": {
        "id": "g9-2uspkLdAP",
        "colab_type": "text"
      },
      "source": [
        "##### Users and products"
      ]
    },
    {
      "cell_type": "code",
      "metadata": {
        "scrolled": false,
        "id": "z5WL24eHLdAP",
        "colab_type": "code",
        "outputId": "f52efe08-6753-4ac2-ccaa-cbbb6777839c",
        "colab": {
          "base_uri": "https://localhost:8080/",
          "height": 101
        }
      },
      "source": [
        "(rows,cols) = dfull.shape\n",
        "n_users = dfull['userID'].nunique()\n",
        "n_products = dfull['productID'].nunique()\n",
        "print(\"Number of REVIEWS: \", rows)\n",
        "print(\"Number of USERS: \", n_users)\n",
        "print(\"Number of PRODUCTS: \", n_products)\n",
        "print(\"Average REVIEWS PER USER: \", rows/n_users)\n",
        "print(\"Average REVIEWS PER PRODUCT: \", rows/n_products)"
      ],
      "execution_count": 8,
      "outputs": [
        {
          "output_type": "stream",
          "text": [
            "Number of REVIEWS:  278677\n",
            "Number of USERS:  39387\n",
            "Number of PRODUCTS:  23033\n",
            "Average REVIEWS PER USER:  7.075354812501587\n",
            "Average REVIEWS PER PRODUCT:  12.099031823904832\n"
          ],
          "name": "stdout"
        }
      ]
    },
    {
      "cell_type": "markdown",
      "metadata": {
        "id": "0BNqqqraLdAT",
        "colab_type": "text"
      },
      "source": [
        "##### Datetime"
      ]
    },
    {
      "cell_type": "code",
      "metadata": {
        "scrolled": false,
        "id": "JyDC2Oa_LdAT",
        "colab_type": "code",
        "outputId": "38630487-7feb-46c0-e5d9-e6265e591771",
        "colab": {
          "base_uri": "https://localhost:8080/",
          "height": 50
        }
      },
      "source": [
        "dfull['date'] = pd.to_datetime(dfull['unixReviewTime'],unit='s')\n",
        "print(\"First date: \", min(dfull['date']))\n",
        "print(\"Last date: \", max(dfull['date']))"
      ],
      "execution_count": 9,
      "outputs": [
        {
          "output_type": "stream",
          "text": [
            "First date:  2003-03-29 00:00:00\n",
            "Last date:  2014-07-23 00:00:00\n"
          ],
          "name": "stdout"
        }
      ]
    },
    {
      "cell_type": "code",
      "metadata": {
        "scrolled": false,
        "id": "SE8yze1GLdAX",
        "colab_type": "code",
        "outputId": "4e7be1ad-1ddd-4620-bbc6-eda99ef4acf1",
        "colab": {
          "base_uri": "https://localhost:8080/",
          "height": 300
        }
      },
      "source": [
        "date_grouping = dfull.groupby('date').count()[['rating']].sort_values('date', ascending=True)\n",
        "date_grouping = date_grouping.rename(index=str, columns={\"rating\": \"count\"})\n",
        "date_grouping.plot()"
      ],
      "execution_count": 10,
      "outputs": [
        {
          "output_type": "execute_result",
          "data": {
            "text/plain": [
              "<matplotlib.axes._subplots.AxesSubplot at 0x7f16a2be8470>"
            ]
          },
          "metadata": {
            "tags": []
          },
          "execution_count": 10
        },
        {
          "output_type": "display_data",
          "data": {
            "image/png": "[encoded data removed]",
            "text/plain": [
              "<Figure size 432x288 with 1 Axes>"
            ]
          },
          "metadata": {
            "tags": []
          }
        }
      ]
    },
    {
      "cell_type": "markdown",
      "metadata": {
        "id": "DQkbEqJLLdAc",
        "colab_type": "text"
      },
      "source": [
        "##### Rating"
      ]
    },
    {
      "cell_type": "code",
      "metadata": {
        "scrolled": false,
        "id": "_7uXYtsuLdAd",
        "colab_type": "code",
        "outputId": "1d333931-101b-4fc3-f967-2bbab4371e1c",
        "colab": {
          "base_uri": "https://localhost:8080/",
          "height": 34
        }
      },
      "source": [
        "print(\"Average rating: \", dfull['rating'].mean())"
      ],
      "execution_count": 11,
      "outputs": [
        {
          "output_type": "stream",
          "text": [
            "Average rating:  4.245133254628118\n"
          ],
          "name": "stdout"
        }
      ]
    },
    {
      "cell_type": "code",
      "metadata": {
        "scrolled": false,
        "id": "ADgiYAmLLdAh",
        "colab_type": "code",
        "outputId": "d3b02335-9111-4070-99c2-f4053623e227",
        "colab": {
          "base_uri": "https://localhost:8080/",
          "height": 302
        }
      },
      "source": [
        "print(\"Rating distribution\")\n",
        "dfull['rating'].hist()"
      ],
      "execution_count": 12,
      "outputs": [
        {
          "output_type": "stream",
          "text": [
            "Rating distribution\n"
          ],
          "name": "stdout"
        },
        {
          "output_type": "execute_result",
          "data": {
            "text/plain": [
              "<matplotlib.axes._subplots.AxesSubplot at 0x7f16a2e24e80>"
            ]
          },
          "metadata": {
            "tags": []
          },
          "execution_count": 12
        },
        {
          "output_type": "display_data",
          "data": {
            "image/png": "[encoded data removed]",
            "text/plain": [
              "<Figure size 432x288 with 1 Axes>"
            ]
          },
          "metadata": {
            "tags": []
          }
        }
      ]
    },
    {
      "cell_type": "markdown",
      "metadata": {
        "id": "0aDAEb4kLdA9",
        "colab_type": "text"
      },
      "source": [
        "### Manipulation"
      ]
    },
    {
      "cell_type": "markdown",
      "metadata": {
        "id": "9DDZraswLdA-",
        "colab_type": "text"
      },
      "source": [
        "#### Rejecting columns"
      ]
    },
    {
      "cell_type": "code",
      "metadata": {
        "scrolled": true,
        "id": "PAY_rpPiLdA_",
        "colab_type": "code",
        "colab": {}
      },
      "source": [
        "dfull = dfull.drop(['helpful', 'reviewTime', 'unixReviewTime', 'userName', 'text', 'summary', 'sentiment'], axis = 1, errors = 'ignore')"
      ],
      "execution_count": 0,
      "outputs": []
    },
    {
      "cell_type": "code",
      "metadata": {
        "id": "N8zqHOgXbrVK",
        "colab_type": "code",
        "outputId": "4826c253-2a92-430d-adac-9a5e8a9b1090",
        "colab": {
          "base_uri": "https://localhost:8080/",
          "height": 168
        }
      },
      "source": [
        "dfull.info()"
      ],
      "execution_count": 14,
      "outputs": [
        {
          "output_type": "stream",
          "text": [
            "<class 'pandas.core.frame.DataFrame'>\n",
            "Index: 278677 entries, 0 to 278676\n",
            "Data columns (total 4 columns):\n",
            "productID    278677 non-null object\n",
            "rating       278677 non-null float64\n",
            "userID       278677 non-null object\n",
            "date         278677 non-null datetime64[ns]\n",
            "dtypes: datetime64[ns](1), float64(1), object(2)\n",
            "memory usage: 10.6+ MB\n"
          ],
          "name": "stdout"
        }
      ]
    },
    {
      "cell_type": "markdown",
      "metadata": {
        "id": "-YoecvNDLdBB",
        "colab_type": "text"
      },
      "source": [
        "#### Binarization\n",
        "\n",
        "Since target variable (`rating`) is strongly unbalanced between low and high values, it is preferable to reduce the problem from multi-class to binary. Later on, some technique to manage unbalancement will be applied to the dataset, in order to fill the gap between the two binary classes.\n"
      ]
    },
    {
      "cell_type": "code",
      "metadata": {
        "scrolled": true,
        "id": "APold7gTLdBB",
        "colab_type": "code",
        "colab": {}
      },
      "source": [
        "# dfull['sentiment'] = ['positive' if r > 3 else 'negative' for r in dfull['rating']]\n",
        "\n",
        "# print(\"Sentiment count\")\n",
        "# dfull['sentiment'].value_counts()"
      ],
      "execution_count": 0,
      "outputs": []
    },
    {
      "cell_type": "markdown",
      "metadata": {
        "colab_type": "text",
        "id": "QD4mUbkXClLl"
      },
      "source": [
        "#### Undersampling\n",
        "\n",
        "As previously seen, target column (`rating`) is strongly unbalanced towards the positive class. Undersampling of the majority class is necessary here to achieve good machine learning preformances later. This mainly afftects prediction models *recall* metric."
      ]
    },
    {
      "cell_type": "code",
      "metadata": {
        "colab_type": "code",
        "id": "6zu_9j7OClKU",
        "colab": {}
      },
      "source": [
        "\n",
        "# # Separate majority and minority classes\n",
        "# positive_count = dfull['sentiment'].value_counts()['positive']\n",
        "# negative_count = dfull['sentiment'].value_counts()['negative']\n",
        "# df_majority = dfull[dfull.sentiment==('positive' if positive_count >= negative_count else 'negative')]\n",
        "# df_minority = dfull[dfull.sentiment==('negative' if positive_count >= negative_count else 'positive')]\n",
        " \n",
        "# # Downsample majority class\n",
        "# obj_samples = negative_count if positive_count >= negative_count else positive_count\n",
        "# df_majority_downsampled = resample(df_majority, \n",
        "#                                  replace=False,\n",
        "#                                  n_samples = obj_samples, # match minority class\n",
        "#                                  random_state=123) # reproducible results\n",
        " \n",
        "# # Combine minority class with downsampled majority class\n",
        "# df_downsampled = pd.concat([df_majority_downsampled, df_minority])\n",
        " \n",
        "# # Display new class counts\n",
        "# print(\"Positive/negative distribution post-undersampling\")\n",
        "# df_downsampled['sentiment'].value_counts()"
      ],
      "execution_count": 0,
      "outputs": []
    },
    {
      "cell_type": "markdown",
      "metadata": {
        "colab_type": "text",
        "id": "OAhCE9lzCkhK"
      },
      "source": [
        "\n",
        "\n",
        "---\n",
        "\n"
      ]
    },
    {
      "cell_type": "markdown",
      "metadata": {
        "id": "qTIISXJJLdAm",
        "colab_type": "text"
      },
      "source": [
        "***"
      ]
    },
    {
      "cell_type": "markdown",
      "metadata": {
        "id": "-CoDGz6RcTCl",
        "colab_type": "text"
      },
      "source": [
        "## Network Graph"
      ]
    },
    {
      "cell_type": "code",
      "metadata": {
        "id": "347WYNwCkFtD",
        "colab_type": "code",
        "colab": {}
      },
      "source": [
        "import scipy.sparse as sparse\n",
        "import networkx as nx"
      ],
      "execution_count": 0,
      "outputs": []
    },
    {
      "cell_type": "markdown",
      "metadata": {
        "id": "1c3Xw2PXMxhf",
        "colab_type": "text"
      },
      "source": [
        "**Reducing dataset**"
      ]
    },
    {
      "cell_type": "code",
      "metadata": {
        "id": "Zzc6bCkxNjJP",
        "colab_type": "code",
        "colab": {
          "base_uri": "https://localhost:8080/",
          "height": 34
        },
        "outputId": "e9d322dc-8323-466d-ba38-00beb4ef8f73"
      },
      "source": [
        "print('Original reviews: ', len(dfull))"
      ],
      "execution_count": 18,
      "outputs": [
        {
          "output_type": "stream",
          "text": [
            "Original reviews:  278677\n"
          ],
          "name": "stdout"
        }
      ]
    },
    {
      "cell_type": "code",
      "metadata": {
        "id": "Lunp23IIMxm2",
        "colab_type": "code",
        "colab": {
          "base_uri": "https://localhost:8080/",
          "height": 34
        },
        "outputId": "97674b4d-88a5-4b94-e102-7d6f42f8cdd6"
      },
      "source": [
        "dfnet = dfull[(dfull['date'] > '2014-04-01')] # 1st of april\n",
        "print('Reduced reviews: ', len(dfnet))"
      ],
      "execution_count": 19,
      "outputs": [
        {
          "output_type": "stream",
          "text": [
            "Reduced reviews:  49835\n"
          ],
          "name": "stdout"
        }
      ]
    },
    {
      "cell_type": "markdown",
      "metadata": {
        "id": "HWtc4TPN-VXR",
        "colab_type": "text"
      },
      "source": [
        "**Creating graph from Pandas data frame**"
      ]
    },
    {
      "cell_type": "code",
      "metadata": {
        "id": "9SACLesv-Vni",
        "colab_type": "code",
        "colab": {
          "base_uri": "https://localhost:8080/",
          "height": 34
        },
        "outputId": "f260fcfd-676d-4330-d3d4-3717e79ce65b"
      },
      "source": [
        "graph = nx.from_pandas_edgelist(df = dfnet, source = 'userID', target = 'productID', edge_attr = 'rating', create_using = nx.DiGraph)\n",
        "graph"
      ],
      "execution_count": 20,
      "outputs": [
        {
          "output_type": "execute_result",
          "data": {
            "text/plain": [
              "<networkx.classes.digraph.DiGraph at 0x7f168cd38898>"
            ]
          },
          "metadata": {
            "tags": []
          },
          "execution_count": 20
        }
      ]
    },
    {
      "cell_type": "markdown",
      "metadata": {
        "id": "LjIHb_j2IQ1Y",
        "colab_type": "text"
      },
      "source": [
        "**Assertions**"
      ]
    },
    {
      "cell_type": "code",
      "metadata": {
        "id": "VlQoMvoMIPdu",
        "colab_type": "code",
        "colab": {
          "base_uri": "https://localhost:8080/",
          "height": 101
        },
        "outputId": "c2e334f5-ff48-42e4-acd2-a14f129f4c29"
      },
      "source": [
        "net_users = dfnet.userID.nunique()\n",
        "net_products = dfnet.productID.nunique()\n",
        "\n",
        "\n",
        "edges = nx.number_of_edges(graph)\n",
        "nodes = nx.number_of_nodes(graph)\n",
        "\n",
        "assert edges == len(dfnet), 'wrong edge numbers (it must corresponds to record numbers = reviews)'\n",
        "assert nodes == net_users + net_products, 'wrong nodes numbers (it must corresponds to number of users plus number of products)'\n",
        "print(\"Edges (reviews): \", edges)\n",
        "print(\"Nodes (users + products): \", nodes)\n",
        "\n",
        "print()\n",
        "\n",
        "givers_nodes = [node_degree for node_degree in graph.out_degree() if node_degree[1] > 0]\n",
        "receivers_nodes = [node_degree for node_degree in graph.in_degree() if node_degree[1] > 0]\n",
        "\n",
        "assert len(givers_nodes) == net_users, 'source nodes differ from users'\n",
        "assert len(receivers_nodes) == net_products, 'target nodes differ from products'\n",
        "print(\"Users nodes: \", len(givers_nodes))\n",
        "print(\"Products nodes: \", len(receivers_nodes))"
      ],
      "execution_count": 21,
      "outputs": [
        {
          "output_type": "stream",
          "text": [
            "Edges (reviews):  49835\n",
            "Nodes (users + products):  33267\n",
            "\n",
            "Users nodes:  18009\n",
            "Products nodes:  15258\n"
          ],
          "name": "stdout"
        }
      ]
    },
    {
      "cell_type": "markdown",
      "metadata": {
        "id": "8s4vqvAyLKN_",
        "colab_type": "text"
      },
      "source": [
        "**Example**"
      ]
    },
    {
      "cell_type": "code",
      "metadata": {
        "id": "FmQIU0JOIfEu",
        "colab_type": "code",
        "colab": {
          "base_uri": "https://localhost:8080/",
          "height": 101
        },
        "outputId": "8ec2262f-9aaf-4cad-bba5-5cc6aec4753a"
      },
      "source": [
        "userID = dfnet.head(1)['userID'][0]\n",
        "productID = dfnet.head(1)['productID'][0]\n",
        "\n",
        "print('Products reviewed by user', userID, ':\\n', list(graph.successors(userID)))\n",
        "print()\n",
        "print('Users who reviewed product', productID, ':\\n', list(graph.predecessors(productID)))"
      ],
      "execution_count": 22,
      "outputs": [
        {
          "output_type": "stream",
          "text": [
            "Products reviewed by user A8U3FAMSJVHS5 :\n",
            " ['0000031887', 'B0002USAW8', 'B001AZJVPO', 'B002NPCJ5E', 'B003DZ11ZC', 'B004QLBTD6', 'B0071645IO', 'B007A2OGV0']\n",
            "\n",
            "Users who reviewed product 0000031887 :\n",
            " ['A8U3FAMSJVHS5', 'A16GFPNVF4Y816', 'A2XJ13PIXVJFJH']\n"
          ],
          "name": "stdout"
        }
      ]
    },
    {
      "cell_type": "markdown",
      "metadata": {
        "id": "8IWjtDChBu7J",
        "colab_type": "text"
      },
      "source": [
        "**Saving to graphML file**"
      ]
    },
    {
      "cell_type": "code",
      "metadata": {
        "id": "wQwI9o7L_-ru",
        "colab_type": "code",
        "colab": {
          "base_uri": "https://localhost:8080/",
          "height": 34
        },
        "outputId": "3d423307-3575-4007-d003-9d0aa2ca4c04"
      },
      "source": [
        "from google.colab import drive\n",
        "drive.mount('/content/drive')\n",
        "drivepath = '/content/drive/My Drive/Data Analytics/'\n",
        "\n",
        "nx.write_graphml(graph, drivepath + 'test.graphml')"
      ],
      "execution_count": 23,
      "outputs": [
        {
          "output_type": "stream",
          "text": [
            "Drive already mounted at /content/drive; to attempt to forcibly remount, call drive.mount(\"/content/drive\", force_remount=True).\n"
          ],
          "name": "stdout"
        }
      ]
    },
    {
      "cell_type": "markdown",
      "metadata": {
        "id": "F4cy8oY_By8o",
        "colab_type": "text"
      },
      "source": [
        "**Degrees**"
      ]
    },
    {
      "cell_type": "code",
      "metadata": {
        "id": "NCrbboRfDX0G",
        "colab_type": "code",
        "colab": {
          "base_uri": "https://localhost:8080/",
          "height": 67
        },
        "outputId": "2ababa4c-388d-4583-9c04-acb18a44bc35"
      },
      "source": [
        "degrees = [node_degree[1] for node_degree in graph.degree()]\n",
        "print(\"Average degree:\\t\", np.mean(degrees))\n",
        "\n",
        "in_degrees = [node_degree[1] for node_degree in givers_nodes]\n",
        "print(\"Average in degree:\\t\", np.mean(in_degrees))\n",
        "\n",
        "out_degrees = [node_degree[1] for node_degree in receivers_nodes]\n",
        "print(\"Average out degree:\\t\", np.mean(out_degrees))"
      ],
      "execution_count": 24,
      "outputs": [
        {
          "output_type": "stream",
          "text": [
            "Average degree:\t 2.9960621637057745\n",
            "Average in degree:\t 2.76722749736243\n",
            "Average out degree:\t 3.266155459431118\n"
          ],
          "name": "stdout"
        }
      ]
    },
    {
      "cell_type": "markdown",
      "metadata": {
        "id": "zdAndero_zGE",
        "colab_type": "text"
      },
      "source": [
        "### Fail"
      ]
    },
    {
      "cell_type": "markdown",
      "metadata": {
        "id": "jEYi4K_r3PV4",
        "colab_type": "text"
      },
      "source": [
        "**Dataframe manipulation to create adjacency matrix**\n",
        "\n",
        "Both products and users have to be drawn in the network graph, so they must have "
      ]
    },
    {
      "cell_type": "code",
      "metadata": {
        "id": "iWf1o2KbhafU",
        "colab_type": "code",
        "colab": {}
      },
      "source": [
        "# dfnet = dfull.copy()\n",
        "\n",
        "# #n_users = dfnet['userID'].nunique()\n",
        "# n_products = dfnet['productID'].nunique()\n",
        "\n",
        "# # converting strings to categories\n",
        "# series2cat(dfnet, 'productID', 'userID')\n",
        "\n",
        "# # converting categories to integer\n",
        "# dfnet['productID'] = dfnet.productID.cat.codes\n",
        "# dfnet['userID'] = dfnet.userID.cat.codes + n_products # products and users id must be different\n",
        "# dfnet['rating'] = pd.to_numeric(dfnet['rating'], downcast='integer')\n",
        "\n",
        "# # reordering columns\n",
        "# dfnet = dfnet[['userID', 'productID', 'rating']]\n",
        "# dfnet.info()"
      ],
      "execution_count": 0,
      "outputs": []
    },
    {
      "cell_type": "markdown",
      "metadata": {
        "id": "f7fUn0PByTDl",
        "colab_type": "text"
      },
      "source": [
        "**Converting pandas dataframe to sparse Scipy's adjacency matrix**\n",
        "\n",
        "Rows are **users**, columns are **products**. Values are **ratings**."
      ]
    },
    {
      "cell_type": "code",
      "metadata": {
        "id": "bTbysJiLjsJA",
        "colab_type": "code",
        "colab": {}
      },
      "source": [
        "# https://stackoverflow.com/questions/29146892/numpy-scipy-build-adjacency-matrix-from-weighted-edgelist\n",
        "\n",
        "# arr = np.array(dfnet)\n",
        "# n_nodes = max(tuple(arr.max(axis=0)+1)) # getting adj matrix square shape\n",
        "# coo = sparse.coo_matrix((arr[:, 2], (arr[:, 0], arr[:, 1])), shape=(n_nodes,n_nodes), dtype=arr.dtype)"
      ],
      "execution_count": 0,
      "outputs": []
    },
    {
      "cell_type": "markdown",
      "metadata": {
        "id": "x4O3Fx6m25da",
        "colab_type": "text"
      },
      "source": [
        "**Creating graph from adjacency matrix**"
      ]
    },
    {
      "cell_type": "code",
      "metadata": {
        "id": "xVMwPAaxqN1O",
        "colab_type": "code",
        "colab": {}
      },
      "source": [
        "# graph = nx.from_scipy_sparse_matrix(coo, create_using=nx.DiGraph)\n",
        "\n",
        "# assert nx.number_of_edges(graph) == len(dfnet), 'wrong edge numbers (it must corresponds to record numbers = reviews)'\n",
        "# assert nx.number_of_nodes(graph) == n_users + n_products, 'wrong nodes numbers (it must corresponds to number of users plus number of products)'"
      ],
      "execution_count": 0,
      "outputs": []
    },
    {
      "cell_type": "markdown",
      "metadata": {
        "id": "wsD9dglpAGhD",
        "colab_type": "text"
      },
      "source": [
        "\n",
        "\n",
        "---\n",
        "\n"
      ]
    },
    {
      "cell_type": "markdown",
      "metadata": {
        "id": "vmEKV8pTci6L",
        "colab_type": "text"
      },
      "source": [
        "## Centrality Measures"
      ]
    },
    {
      "cell_type": "markdown",
      "metadata": {
        "id": "a6xLl8fdRozv",
        "colab_type": "text"
      },
      "source": [
        "### Degree Centrality ??"
      ]
    },
    {
      "cell_type": "code",
      "metadata": {
        "id": "BjcrjMLiha8t",
        "colab_type": "code",
        "colab": {
          "base_uri": "https://localhost:8080/",
          "height": 67
        },
        "outputId": "84710670-a3a9-4969-9dcf-2ba1e929b2ae"
      },
      "source": [
        "nodes_degree_centralities = nx.algorithms.centrality.degree_centrality(graph)\n",
        "print('Average degree centrality:', np.mean([x for x in nodes_degree_centralities.values()]))\n",
        "\n",
        "in_nodes_degree_centralities = nx.algorithms.centrality.in_degree_centrality(graph)\n",
        "print('Average in degree centrality:', np.mean([x for x in in_nodes_degree_centralities.values()]))\n",
        "\n",
        "out_nodes_degree_centralities = nx.algorithms.centrality.out_degree_centrality(graph)\n",
        "print('Average out degree centrality:', np.mean([x for x in out_nodes_degree_centralities.values()]))"
      ],
      "execution_count": 28,
      "outputs": [
        {
          "output_type": "stream",
          "text": [
            "Average degree centrality: 9.006379377459791e-05\n",
            "Average in degree centrality: 4.5031896887298956e-05\n",
            "Average out degree centrality: 4.503189688729896e-05\n"
          ],
          "name": "stdout"
        }
      ]
    },
    {
      "cell_type": "markdown",
      "metadata": {
        "id": "QRmZpMubAIwM",
        "colab_type": "text"
      },
      "source": [
        "\n",
        "\n",
        "---\n",
        "\n"
      ]
    },
    {
      "cell_type": "markdown",
      "metadata": {
        "colab_type": "text",
        "id": "p4Zot-1UW6Q_"
      },
      "source": [
        "## Popularity Filtering"
      ]
    },
    {
      "cell_type": "markdown",
      "metadata": {
        "id": "PZT3lqJ8AJ2w",
        "colab_type": "text"
      },
      "source": [
        "\n",
        "\n",
        "---\n",
        "\n"
      ]
    },
    {
      "cell_type": "markdown",
      "metadata": {
        "colab_type": "text",
        "id": "_SMNwXnNg0Ft"
      },
      "source": [
        "## Collaborative Filtering"
      ]
    },
    {
      "cell_type": "markdown",
      "metadata": {
        "id": "KG60zI3ej7zi",
        "colab_type": "text"
      },
      "source": [
        "### Undersampling"
      ]
    },
    {
      "cell_type": "code",
      "metadata": {
        "id": "q73WV2NQ0_4d",
        "colab_type": "code",
        "outputId": "f785ad13-7c60-4450-b3dd-9a0d0ba00e8d",
        "colab": {
          "base_uri": "https://localhost:8080/",
          "height": 286
        }
      },
      "source": [
        "dfull['rating'].hist()"
      ],
      "execution_count": 29,
      "outputs": [
        {
          "output_type": "execute_result",
          "data": {
            "text/plain": [
              "<matplotlib.axes._subplots.AxesSubplot at 0x7f168cd38be0>"
            ]
          },
          "metadata": {
            "tags": []
          },
          "execution_count": 29
        },
        {
          "output_type": "display_data",
          "data": {
            "image/png": "[encoded data removed]",
            "text/plain": [
              "<Figure size 432x288 with 1 Axes>"
            ]
          },
          "metadata": {
            "tags": []
          }
        }
      ]
    },
    {
      "cell_type": "code",
      "metadata": {
        "id": "mx-TDVX0zQUl",
        "colab_type": "code",
        "outputId": "14c99072-0128-4539-e0cd-f5d6f4a43ab7",
        "colab": {
          "base_uri": "https://localhost:8080/",
          "height": 286
        }
      },
      "source": [
        "# # Separate majority and minority classes\n",
        "df_minority = dfull[(dfull.rating!=5) & (dfull.rating!=4)]\n",
        "df_4 = dfull[dfull.rating==4]\n",
        "df_5 = dfull[dfull.rating==5]\n",
        "resampling_count = dfull['rating'].value_counts()[3]\n",
        " \n",
        "# Downsample majority class\n",
        "df_4_down = resample(df_4, \n",
        "                     replace=False,\n",
        "                     n_samples = resampling_count,\n",
        "                     random_state=123) # reproducible results\n",
        "\n",
        "# Downsample majority class\n",
        "df_5_down = resample(df_5, \n",
        "                     replace=False,\n",
        "                     n_samples = resampling_count,\n",
        "                     random_state=123) # reproducible results\n",
        " \n",
        "# Combine minority class with downsampled majority class\n",
        "df_downsampled = pd.concat([df_minority, df_4_down, df_5_down])\n",
        " \n",
        "# Display new class counts\n",
        "df_downsampled['rating'].hist()"
      ],
      "execution_count": 30,
      "outputs": [
        {
          "output_type": "execute_result",
          "data": {
            "text/plain": [
              "<matplotlib.axes._subplots.AxesSubplot at 0x7f168a9dd4a8>"
            ]
          },
          "metadata": {
            "tags": []
          },
          "execution_count": 30
        },
        {
          "output_type": "display_data",
          "data": {
            "image/png": "[encoded data removed]",
            "text/plain": [
              "<Figure size 432x288 with 1 Axes>"
            ]
          },
          "metadata": {
            "tags": []
          }
        }
      ]
    },
    {
      "cell_type": "markdown",
      "metadata": {
        "id": "n1MoAPVpzMro",
        "colab_type": "text"
      },
      "source": [
        "### Creating dataset for collaborative filtering"
      ]
    },
    {
      "cell_type": "code",
      "metadata": {
        "id": "EI_CbWodltkc",
        "colab_type": "code",
        "outputId": "53df1ae7-0caa-47f0-bc86-d8f791a32fa1",
        "colab": {
          "base_uri": "https://localhost:8080/",
          "height": 168
        }
      },
      "source": [
        "dflearn = df_downsampled\n",
        "dflearn.info()"
      ],
      "execution_count": 31,
      "outputs": [
        {
          "output_type": "stream",
          "text": [
            "<class 'pandas.core.frame.DataFrame'>\n",
            "Index: 117930 entries, 15 to 262698\n",
            "Data columns (total 4 columns):\n",
            "productID    117930 non-null object\n",
            "rating       117930 non-null float64\n",
            "userID       117930 non-null object\n",
            "date         117930 non-null datetime64[ns]\n",
            "dtypes: datetime64[ns](1), float64(1), object(2)\n",
            "memory usage: 4.5+ MB\n"
          ],
          "name": "stdout"
        }
      ]
    },
    {
      "cell_type": "code",
      "metadata": {
        "id": "lV_9QwGXqQpF",
        "colab_type": "code",
        "outputId": "df5fa570-d4f2-4a1d-a47b-7288ea901c1c",
        "colab": {
          "base_uri": "https://localhost:8080/",
          "height": 151
        }
      },
      "source": [
        "# converting strings to categories\n",
        "series2cat(dflearn, 'productID', 'userID')\n",
        "\n",
        "# reordering columns for fastai standard format\n",
        "dflearn = dflearn[['userID', 'productID', 'rating']]\n",
        "dflearn.info()"
      ],
      "execution_count": 32,
      "outputs": [
        {
          "output_type": "stream",
          "text": [
            "<class 'pandas.core.frame.DataFrame'>\n",
            "Index: 117930 entries, 15 to 262698\n",
            "Data columns (total 3 columns):\n",
            "userID       117930 non-null category\n",
            "productID    117930 non-null category\n",
            "rating       117930 non-null float64\n",
            "dtypes: category(2), float64(1)\n",
            "memory usage: 4.8+ MB\n"
          ],
          "name": "stdout"
        }
      ]
    },
    {
      "cell_type": "code",
      "metadata": {
        "id": "-MonBiMsojxd",
        "colab_type": "code",
        "outputId": "66656124-eb8c-4dfe-adf9-577a1eb4a1a5",
        "colab": {
          "base_uri": "https://localhost:8080/",
          "height": 195
        }
      },
      "source": [
        "# creating collaborative filtering dataset\n",
        "data = CollabDataBunch.from_df(dflearn, seed=42, valid_pct = 0.2)\n",
        "data.show_batch()"
      ],
      "execution_count": 33,
      "outputs": [
        {
          "output_type": "display_data",
          "data": {
            "text/html": [
              "<table border=\"1\" class=\"dataframe\">\n",
              "  <thead>\n",
              "    <tr style=\"text-align: right;\">\n",
              "      <th>userID</th>\n",
              "      <th>productID</th>\n",
              "      <th>target</th>\n",
              "    </tr>\n",
              "  </thead>\n",
              "  <tbody>\n",
              "    <tr>\n",
              "      <td>AGH7CAV7REAL0</td>\n",
              "      <td>B00E1JPW0E</td>\n",
              "      <td>4.0</td>\n",
              "    </tr>\n",
              "    <tr>\n",
              "      <td>A168UNVODFOWU3</td>\n",
              "      <td>B000G5TDGQ</td>\n",
              "      <td>4.0</td>\n",
              "    </tr>\n",
              "    <tr>\n",
              "      <td>A2VW5QYY56BT1S</td>\n",
              "      <td>B005VNFCZO</td>\n",
              "      <td>3.0</td>\n",
              "    </tr>\n",
              "    <tr>\n",
              "      <td>A1N5PHW99PM5DL</td>\n",
              "      <td>B000ZHZRTM</td>\n",
              "      <td>3.0</td>\n",
              "    </tr>\n",
              "    <tr>\n",
              "      <td>A6K47JSRTUS90</td>\n",
              "      <td>B009D3IXGI</td>\n",
              "      <td>4.0</td>\n",
              "    </tr>\n",
              "  </tbody>\n",
              "</table>"
            ],
            "text/plain": [
              "<IPython.core.display.HTML object>"
            ]
          },
          "metadata": {
            "tags": []
          }
        }
      ]
    },
    {
      "cell_type": "code",
      "metadata": {
        "id": "5x92tB2ZLj0S",
        "colab_type": "code",
        "colab": {}
      },
      "source": [
        "n_cicles = 5"
      ],
      "execution_count": 0,
      "outputs": []
    },
    {
      "cell_type": "markdown",
      "metadata": {
        "id": "4Fc5UOGeKtF3",
        "colab_type": "text"
      },
      "source": [
        "### EmbeddingDotBias"
      ]
    },
    {
      "cell_type": "code",
      "metadata": {
        "id": "b_4v9L1dsbg4",
        "colab_type": "code",
        "outputId": "b3246675-2fea-432e-ed67-a67b50ac9cb4",
        "colab": {
          "base_uri": "https://localhost:8080/",
          "height": 464
        }
      },
      "source": [
        "learn = collab_learner(data, n_factors=50, y_range=(1,5), use_nn = False, callback_fns=ShowGraph)\n",
        "#learn.loss_func = torch.nn.MSELoss() # changing loss function (default is MSE)\n",
        "\n",
        "print('Training results')\n",
        "learn.fit_one_cycle(n_cicles, 5e-3, wd=0.1)\n",
        "\n",
        "# learn.save('amazon-reviews-dot-1')"
      ],
      "execution_count": 35,
      "outputs": [
        {
          "output_type": "stream",
          "text": [
            "Training results\n"
          ],
          "name": "stdout"
        },
        {
          "output_type": "display_data",
          "data": {
            "text/html": [
              "<table border=\"1\" class=\"dataframe\">\n",
              "  <thead>\n",
              "    <tr style=\"text-align: left;\">\n",
              "      <th>epoch</th>\n",
              "      <th>train_loss</th>\n",
              "      <th>valid_loss</th>\n",
              "      <th>time</th>\n",
              "    </tr>\n",
              "  </thead>\n",
              "  <tbody>\n",
              "    <tr>\n",
              "      <td>0</td>\n",
              "      <td>1.743303</td>\n",
              "      <td>1.733613</td>\n",
              "      <td>00:11</td>\n",
              "    </tr>\n",
              "    <tr>\n",
              "      <td>1</td>\n",
              "      <td>1.642146</td>\n",
              "      <td>1.671777</td>\n",
              "      <td>00:12</td>\n",
              "    </tr>\n",
              "    <tr>\n",
              "      <td>2</td>\n",
              "      <td>1.291814</td>\n",
              "      <td>1.652049</td>\n",
              "      <td>00:12</td>\n",
              "    </tr>\n",
              "    <tr>\n",
              "      <td>3</td>\n",
              "      <td>0.970356</td>\n",
              "      <td>1.648955</td>\n",
              "      <td>00:12</td>\n",
              "    </tr>\n",
              "    <tr>\n",
              "      <td>4</td>\n",
              "      <td>0.742901</td>\n",
              "      <td>1.649019</td>\n",
              "      <td>00:12</td>\n",
              "    </tr>\n",
              "  </tbody>\n",
              "</table>"
            ],
            "text/plain": [
              "<IPython.core.display.HTML object>"
            ]
          },
          "metadata": {
            "tags": []
          }
        },
        {
          "output_type": "display_data",
          "data": {
            "image/png": "[encoded data removed]",
            "text/plain": [
              "<Figure size 432x288 with 1 Axes>"
            ]
          },
          "metadata": {
            "tags": []
          }
        }
      ]
    },
    {
      "cell_type": "code",
      "metadata": {
        "id": "rmVBvXIQA1-w",
        "colab_type": "code",
        "outputId": "dad93e21-7f60-451a-de15-e3db5d031fb2",
        "colab": {
          "base_uri": "https://localhost:8080/",
          "height": 300
        }
      },
      "source": [
        "learn.unfreeze()\n",
        "learn.lr_find() # find learning rate\n",
        "learn.recorder.plot() # plot learning rate graph"
      ],
      "execution_count": 36,
      "outputs": [
        {
          "output_type": "display_data",
          "data": {
            "text/html": [
              ""
            ],
            "text/plain": [
              "<IPython.core.display.HTML object>"
            ]
          },
          "metadata": {
            "tags": []
          }
        },
        {
          "output_type": "stream",
          "text": [
            "LR Finder is complete, type {learner_name}.recorder.plot() to see the graph.\n"
          ],
          "name": "stdout"
        },
        {
          "output_type": "display_data",
          "data": {
            "image/png": "[encoded data removed]",
            "text/plain": [
              "<Figure size 432x288 with 1 Axes>"
            ]
          },
          "metadata": {
            "tags": []
          }
        }
      ]
    },
    {
      "cell_type": "markdown",
      "metadata": {
        "id": "8jwbpcvQHBsW",
        "colab_type": "text"
      },
      "source": [
        "#### Interpretation\n",
        "\n",
        "Trovato qui, ma non so cosa significhi https://towardsdatascience.com/collaborative-filtering-with-fastai-3dbdd4ef4f00"
      ]
    },
    {
      "cell_type": "code",
      "metadata": {
        "id": "jPlbZKPxGnXe",
        "colab_type": "code",
        "outputId": "7a761f8c-83b7-4a5b-88b1-379524588127",
        "colab": {
          "base_uri": "https://localhost:8080/",
          "height": 0
        }
      },
      "source": [
        "g = dflearn.groupby('productID')['rating'].count()\n",
        "top_ratings = g.sort_values(ascending=False).index.values[:1000]\n",
        "top_ratings = top_ratings.astype(str)\n",
        "top_ratings"
      ],
      "execution_count": 37,
      "outputs": [
        {
          "output_type": "execute_result",
          "data": {
            "text/plain": [
              "array(['B005LERHD8', 'B005GYGD7O', 'B000T9VK56', 'B002RADHJC', ..., 'B005LMTW6K', 'B007BZ5CUU', 'B000SMNL2E',\n",
              "       'B003YJ4RYO'], dtype='<U10')"
            ]
          },
          "metadata": {
            "tags": []
          },
          "execution_count": 37
        }
      ]
    },
    {
      "cell_type": "code",
      "metadata": {
        "id": "9GQXiaFrHBDX",
        "colab_type": "code",
        "outputId": "b879920b-47d6-458b-afbc-adfe94b36fdf",
        "colab": {
          "base_uri": "https://localhost:8080/",
          "height": 0
        }
      },
      "source": [
        "# get biases for top products\n",
        "product_bias = learn.bias(top_ratings, is_item=True)\n",
        "\n",
        "# get mean ratings\n",
        "mean_ratings = dflearn.groupby('productID')['rating'].mean()\n",
        "product_ratings = [(b, top_ratings[i], mean_ratings.loc[tb]) for i, (tb, b) in enumerate(zip(top_ratings, product_bias))]\n",
        "\n",
        "# print product bias information\n",
        "item0 = lambda o:o[0]\n",
        "print(sorted(product_ratings, key=item0)[:15])\n",
        "print(sorted(product_ratings, key=item0, reverse=True)[:15])\n",
        "\n",
        "# get weights\n",
        "product_w = learn.weight(top_ratings, is_item=True)\n",
        "\n",
        "# transform weights to 3 dimensions\n",
        "product_pca = product_w.pca(3)\n",
        "\n",
        "# get prinicipal components\n",
        "fac0,fac1,fac2 = product_pca.t()\n",
        "product_comp = [(f, i) for f,i in zip(fac0, top_ratings)]\n",
        "\n",
        "# print fac0 information\n",
        "print(sorted(product_comp, key=itemgetter(0), reverse=True)[:10])\n",
        "print(sorted(product_comp, key=itemgetter(0))[:10])\n",
        "\n",
        "# print fac1 information\n",
        "product_comp = [(f, i) for f,i in zip(fac1, top_ratings)]\n",
        "print(sorted(product_comp, key=itemgetter(0), reverse=True)[:10])\n",
        "print(sorted(product_comp, key=itemgetter(0))[:10])"
      ],
      "execution_count": 38,
      "outputs": [
        {
          "output_type": "stream",
          "text": [
            "[(tensor(-0.5433), 'B00DNV1IJK', 1.75), (tensor(-0.4035), 'B00DM0587K', 2.1176470588235294), (tensor(-0.3652), 'B00AFPZBUY', 2.0625), (tensor(-0.3643), 'B00FEEA4MG', 2.12), (tensor(-0.3633), 'B004WKRAB6', 1.8333333333333333), (tensor(-0.3589), 'B008KM948O', 2.25), (tensor(-0.3449), 'B00DMWQLB0', 2.4358974358974357), (tensor(-0.3288), 'B002K6F79G', 2.706896551724138), (tensor(-0.3194), 'B00IE5QR64', 2.2083333333333335), (tensor(-0.3169), 'B00FF394VI', 2.238095238095238), (tensor(-0.3040), 'B003WJRVHG', 2.5), (tensor(-0.2937), 'B004ZGBXUQ', 2.235294117647059), (tensor(-0.2925), 'B00A76LPU6', 2.0), (tensor(-0.2670), 'B00E8CN6MA', 2.3684210526315788), (tensor(-0.2670), 'B002JWF6OC', 2.45)]\n",
            "[(tensor(0.7476), 'B002PHLVJA', 4.339285714285714), (tensor(0.6826), 'B0058XIMMM', 3.961038961038961), (tensor(0.6600), 'B0013KDS96', 4.483870967741935), (tensor(0.5914), 'B0068VM5T4', 4.191489361702128), (tensor(0.5781), 'B00BNB36ZG', 4.225806451612903), (tensor(0.5604), 'B000WUOVXK', 4.4), (tensor(0.5512), 'B0019MPRJW', 4.291666666666667), (tensor(0.5510), 'B001Q5QLP6', 4.03030303030303), (tensor(0.5360), 'B002KMI7OC', 4.041666666666667), (tensor(0.5354), 'B000FBO0DM', 3.977272727272727), (tensor(0.5328), 'B008X061B6', 4.173913043478261), (tensor(0.5182), 'B006LHM9P0', 4.384615384615385), (tensor(0.5135), 'B009ZDEXQK', 4.32258064516129), (tensor(0.5131), 'B005CSNTJY', 3.8846153846153846), (tensor(0.5078), 'B001H0F2ZA', 4.0)]\n",
            "[(tensor(1.9287), 'B005LERHD8'), (tensor(1.5615), 'B007RD9DS8'), (tensor(1.3104), 'B0007YVP1W'), (tensor(1.0841), 'B006UY80QG'), (tensor(1.0057), 'B000EIJG0I'), (tensor(0.9958), 'B00012O12A'), (tensor(0.9903), 'B001FOR2CY'), (tensor(0.9682), 'B007WADJ7M'), (tensor(0.9428), 'B000GOVRDE'), (tensor(0.9303), 'B002PHLVJA')]\n",
            "[(tensor(-1.1380), 'B00DNV1IJK'), (tensor(-0.9219), 'B0007TLLAC'), (tensor(-0.9012), 'B0000ZEPGA'), (tensor(-0.8886), 'B003XDVUEQ'), (tensor(-0.8865), 'B0000ANHST'), (tensor(-0.8813), 'B001D75RJ8'), (tensor(-0.8733), 'B00FY7VAQM'), (tensor(-0.8563), 'B007L6IDHS'), (tensor(-0.8451), 'B00BPNX7MO'), (tensor(-0.8207), 'B00008ECKG')]\n",
            "[(tensor(1.3237), 'B005ZEWGSA'), (tensor(1.2810), 'B002RADHJC'), (tensor(1.2039), 'B000DZUGOM'), (tensor(1.1387), 'B005LERHD8'), (tensor(1.0874), 'B004YM2FV2'), (tensor(0.9608), 'B000T9VK56'), (tensor(0.9475), 'B00DNQIIE8'), (tensor(0.9245), 'B0059WCB8S'), (tensor(0.8612), 'B0018KU696'), (tensor(0.8334), 'B00BNB36ZG')]\n",
            "[(tensor(-1.0989), 'B000GOVRDE'), (tensor(-1.0631), 'B000O32MLI'), (tensor(-1.0530), 'B0006LMBJ6'), (tensor(-0.9585), 'B0002TOZ1E'), (tensor(-0.8694), 'B0000C321X'), (tensor(-0.8482), 'B0015A6WKQ'), (tensor(-0.8358), 'B008X0EW44'), (tensor(-0.7777), 'B0032XXSUQ'), (tensor(-0.7761), 'B004LKXG9W'), (tensor(-0.7749), 'B0002TOZ1Y')]\n"
          ],
          "name": "stdout"
        }
      ]
    },
    {
      "cell_type": "code",
      "metadata": {
        "id": "vzm89ZoDHzDB",
        "colab_type": "code",
        "outputId": "b4bb7a23-c6e0-4485-d9c7-ca19f7dcf5bc",
        "colab": {
          "base_uri": "https://localhost:8080/",
          "height": 0
        }
      },
      "source": [
        "idxs = np.random.choice(len(top_ratings), 50, replace=False)\n",
        "idxs = list(range(50))\n",
        "X = fac0[idxs]\n",
        "Y = fac2[idxs]\n",
        "plt.figure(figsize=(15,15))\n",
        "plt.scatter(X, Y)\n",
        "for i, x, y in zip(top_ratings[idxs], X, Y):\n",
        "    plt.text(x,y,i, color=np.random.rand(3)*0.7, fontsize=11)\n",
        "plt.title('Weight Embedding visualization')\n",
        "plt.show()"
      ],
      "execution_count": 39,
      "outputs": [
        {
          "output_type": "display_data",
          "data": {
            "image/png": "[encoded data removed]",
            "text/plain": [
              "<Figure size 1080x1080 with 1 Axes>"
            ]
          },
          "metadata": {
            "tags": []
          }
        }
      ]
    },
    {
      "cell_type": "markdown",
      "metadata": {
        "id": "hbTWQdbZKKci",
        "colab_type": "text"
      },
      "source": [
        "### EmeddingNN"
      ]
    },
    {
      "cell_type": "code",
      "metadata": {
        "id": "ntNPlNsTKK10",
        "colab_type": "code",
        "outputId": "33947cad-5f62-4328-bb67-0e8ffe4fcbc3",
        "colab": {
          "base_uri": "https://localhost:8080/",
          "height": 195
        }
      },
      "source": [
        "learn = collab_learner(data, use_nn=True, emb_szs={'userID': 40, 'productID':40}, layers=[256, 128], y_range=(1, 5))\n",
        "learn.fit_one_cycle(n_cicles, 5e-3, wd=0.1)\n",
        "\n",
        "# learn.save('amazon-reviews-nn-1')"
      ],
      "execution_count": 40,
      "outputs": [
        {
          "output_type": "display_data",
          "data": {
            "text/html": [
              "<table border=\"1\" class=\"dataframe\">\n",
              "  <thead>\n",
              "    <tr style=\"text-align: left;\">\n",
              "      <th>epoch</th>\n",
              "      <th>train_loss</th>\n",
              "      <th>valid_loss</th>\n",
              "      <th>time</th>\n",
              "    </tr>\n",
              "  </thead>\n",
              "  <tbody>\n",
              "    <tr>\n",
              "      <td>0</td>\n",
              "      <td>1.527893</td>\n",
              "      <td>1.544509</td>\n",
              "      <td>00:14</td>\n",
              "    </tr>\n",
              "    <tr>\n",
              "      <td>1</td>\n",
              "      <td>1.485407</td>\n",
              "      <td>1.517108</td>\n",
              "      <td>00:14</td>\n",
              "    </tr>\n",
              "    <tr>\n",
              "      <td>2</td>\n",
              "      <td>1.293632</td>\n",
              "      <td>1.565487</td>\n",
              "      <td>00:14</td>\n",
              "    </tr>\n",
              "    <tr>\n",
              "      <td>3</td>\n",
              "      <td>0.952338</td>\n",
              "      <td>1.696732</td>\n",
              "      <td>00:14</td>\n",
              "    </tr>\n",
              "    <tr>\n",
              "      <td>4</td>\n",
              "      <td>0.531923</td>\n",
              "      <td>1.865674</td>\n",
              "      <td>00:14</td>\n",
              "    </tr>\n",
              "  </tbody>\n",
              "</table>"
            ],
            "text/plain": [
              "<IPython.core.display.HTML object>"
            ]
          },
          "metadata": {
            "tags": []
          }
        }
      ]
    },
    {
      "cell_type": "code",
      "metadata": {
        "id": "eat9eaqXMWZq",
        "colab_type": "code",
        "colab": {}
      },
      "source": [
        "interp = ClassificationInterpretation.from_learner(learn)"
      ],
      "execution_count": 0,
      "outputs": []
    },
    {
      "cell_type": "code",
      "metadata": {
        "id": "MRrB63RqNA9F",
        "colab_type": "code",
        "colab": {}
      },
      "source": [
        "# interp.confusion_matrix()"
      ],
      "execution_count": 0,
      "outputs": []
    }
  ]
}