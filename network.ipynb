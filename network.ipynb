{
  "nbformat": 4,
  "nbformat_minor": 0,
  "metadata": {
    "colab": {
      "name": "network.ipynb",
      "version": "0.3.2",
      "provenance": [],
      "collapsed_sections": [],
      "toc_visible": true,
      "include_colab_link": true
    },
    "language_info": {
      "codemirror_mode": {
        "name": "ipython",
        "version": 3
      },
      "file_extension": ".py",
      "mimetype": "text/x-python",
      "name": "python",
      "nbconvert_exporter": "python",
      "pygments_lexer": "ipython3",
      "version": "3.7.3"
    },
    "kernelspec": {
      "name": "python3",
      "display_name": "Python 3"
    },
    "accelerator": "GPU"
  },
  "cells": [
    {
      "cell_type": "markdown",
      "metadata": {
        "id": "view-in-github",
        "colab_type": "text"
      },
      "source": [
        "<a href=\"https://colab.research.google.com/github/mferri17/amazon-reviews-sentiment-network-analysis/blob/master/network.ipynb\" target=\"_parent\"><img src=\"https://colab.research.google.com/assets/colab-badge.svg\" alt=\"Open In Colab\"/></a>"
      ]
    },
    {
      "cell_type": "markdown",
      "metadata": {
        "id": "ysBCOUbpLc_k",
        "colab_type": "text"
      },
      "source": [
        "# Amazon Reviews Network Analysis - Ferri Marco, Basso Matteo"
      ]
    },
    {
      "cell_type": "markdown",
      "metadata": {
        "id": "FpMdBSI2Lc_l",
        "colab_type": "text"
      },
      "source": [
        "This project aims to experiment with network analysis on [Amazon Reviews](http://jmcauley.ucsd.edu/data/amazon/) in order to build a collaborative filtering model."
      ]
    },
    {
      "cell_type": "markdown",
      "metadata": {
        "id": "LfwyCK9SLc_m",
        "colab_type": "text"
      },
      "source": [
        "## Dataset"
      ]
    },
    {
      "cell_type": "markdown",
      "metadata": {
        "id": "lxwEn1LnX2Kx",
        "colab_type": "text"
      },
      "source": [
        "### Dependencies"
      ]
    },
    {
      "cell_type": "code",
      "metadata": {
        "scrolled": false,
        "id": "ATRnE5hmLc_n",
        "colab_type": "code",
        "colab": {}
      },
      "source": [
        "import os\n",
        "import gzip\n",
        "import fileinput\n",
        "import sys\n",
        "import datetime\n",
        "import io\n",
        "import urllib\n",
        "import pandas as pd\n",
        "import numpy as np\n",
        "import matplotlib.pyplot as plt\n",
        "\n",
        "from fastai.collab import *\n",
        "from sklearn.utils import resample"
      ],
      "execution_count": 0,
      "outputs": []
    },
    {
      "cell_type": "markdown",
      "metadata": {
        "id": "Ivh_vmWKLc_r",
        "colab_type": "text"
      },
      "source": [
        "### Reading"
      ]
    },
    {
      "cell_type": "markdown",
      "metadata": {
        "id": "HFHgiBhULc_s",
        "colab_type": "text"
      },
      "source": [
        "\n",
        "Util functions to read from JSON and convert into pandas dataframe:"
      ]
    },
    {
      "cell_type": "code",
      "metadata": {
        "scrolled": false,
        "id": "dS8W2vxFLc_t",
        "colab_type": "code",
        "colab": {}
      },
      "source": [
        "def parse(path):\n",
        "  g = gzip.open(path, 'rb')\n",
        "  for l in g:\n",
        "    yield eval(l)\n",
        "\n",
        "def getDF(path):\n",
        "  df = []\n",
        "  for d in parse(path):\n",
        "    df.append(d)\n",
        "  return pd.DataFrame(df)\n",
        "\n",
        "def read_dataset(dataset):      \n",
        "  basepath = r\"datasets\\amazon-5-core\"\n",
        "  df = getDF(os.path.join(basepath, dataset))\n",
        "  return df\n",
        "  \n",
        "def download_dataset(dataset):\n",
        "  request = urllib.request.Request('http://snap.stanford.edu/data/amazon/productGraph/categoryFiles/' + dataset)\n",
        "  request.add_header('Accept-encoding', 'gzip')\n",
        "  response = urllib.request.urlopen(request)\n",
        "  buf = io.BytesIO(response.read())\n",
        "  file = gzip.GzipFile(fileobj=buf)\n",
        "  df = []\n",
        "  for line in file:\n",
        "    df.append(eval(line))\n",
        "  return pd.DataFrame(df)"
      ],
      "execution_count": 0,
      "outputs": []
    },
    {
      "cell_type": "markdown",
      "metadata": {
        "id": "vTmIPVTqLc_v",
        "colab_type": "text"
      },
      "source": [
        "Reading from JSON"
      ]
    },
    {
      "cell_type": "code",
      "metadata": {
        "scrolled": false,
        "id": "GVoQ1KOhLc_w",
        "colab_type": "code",
        "outputId": "2e6fa9d4-b8a0-491e-95c3-109596020922",
        "colab": {
          "base_uri": "https://localhost:8080/",
          "height": 50
        }
      },
      "source": [
        "#%time dfull = read_dataset(\"reviews_Video_Games_5.json.gz\")\n",
        "%time dfull = download_dataset('reviews_Clothing_Shoes_and_Jewelry_5.json.gz')"
      ],
      "execution_count": 3,
      "outputs": [
        {
          "output_type": "stream",
          "text": [
            "CPU times: user 11.4 s, sys: 339 ms, total: 11.7 s\n",
            "Wall time: 16.2 s\n"
          ],
          "name": "stdout"
        }
      ]
    },
    {
      "cell_type": "markdown",
      "metadata": {
        "id": "8FFQDmglLc_9",
        "colab_type": "text"
      },
      "source": [
        "---"
      ]
    },
    {
      "cell_type": "markdown",
      "metadata": {
        "id": "XzU2ogWCLc_-",
        "colab_type": "text"
      },
      "source": [
        "###  Description"
      ]
    },
    {
      "cell_type": "markdown",
      "metadata": {
        "id": "JLiIbGc_Lc__",
        "colab_type": "text"
      },
      "source": [
        "#### Schema"
      ]
    },
    {
      "cell_type": "code",
      "metadata": {
        "scrolled": false,
        "id": "qAnGOIo2Lc__",
        "colab_type": "code",
        "outputId": "3f4a4c39-5ecc-42c9-c9d0-6e0bb8ebaf9b",
        "colab": {
          "base_uri": "https://localhost:8080/",
          "height": 34
        }
      },
      "source": [
        "print(\"(rows, cols) = \", dfull.shape)"
      ],
      "execution_count": 4,
      "outputs": [
        {
          "output_type": "stream",
          "text": [
            "(rows, cols) =  (278677, 9)\n"
          ],
          "name": "stdout"
        }
      ]
    },
    {
      "cell_type": "code",
      "metadata": {
        "scrolled": false,
        "id": "vs35GBUdLc_3",
        "colab_type": "code",
        "colab": {}
      },
      "source": [
        "dfull = dfull.rename(index=str, columns={\"asin\": \"productID\", \n",
        "                                         \"reviewerID\": \"userID\", \n",
        "                                         \"reviewerName\": \"userName\",\n",
        "                                         \"reviewText\": \"text\",\n",
        "                                         \"overall\": \"rating\"})"
      ],
      "execution_count": 0,
      "outputs": []
    },
    {
      "cell_type": "code",
      "metadata": {
        "scrolled": false,
        "id": "eMz4oHsOLdAE",
        "colab_type": "code",
        "outputId": "2189a963-f286-4ecf-95f5-d07937a65bf1",
        "colab": {
          "base_uri": "https://localhost:8080/",
          "height": 252
        }
      },
      "source": [
        "dfull.info()"
      ],
      "execution_count": 6,
      "outputs": [
        {
          "output_type": "stream",
          "text": [
            "<class 'pandas.core.frame.DataFrame'>\n",
            "Index: 278677 entries, 0 to 278676\n",
            "Data columns (total 9 columns):\n",
            "productID         278677 non-null object\n",
            "helpful           278677 non-null object\n",
            "rating            278677 non-null float64\n",
            "text              278677 non-null object\n",
            "reviewTime        278677 non-null object\n",
            "userID            278677 non-null object\n",
            "userName          278225 non-null object\n",
            "summary           278677 non-null object\n",
            "unixReviewTime    278677 non-null int64\n",
            "dtypes: float64(1), int64(1), object(7)\n",
            "memory usage: 21.3+ MB\n"
          ],
          "name": "stdout"
        }
      ]
    },
    {
      "cell_type": "code",
      "metadata": {
        "scrolled": false,
        "id": "FfB3d-ZJLdAJ",
        "colab_type": "code",
        "outputId": "d0469c97-2131-42da-f0a9-8034af6875de",
        "colab": {
          "base_uri": "https://localhost:8080/",
          "height": 186
        }
      },
      "source": [
        "dfull.head(3)"
      ],
      "execution_count": 7,
      "outputs": [
        {
          "output_type": "execute_result",
          "data": {
            "text/html": [
              "<div>\n",
              "<style scoped>\n",
              "    .dataframe tbody tr th:only-of-type {\n",
              "        vertical-align: middle;\n",
              "    }\n",
              "\n",
              "    .dataframe tbody tr th {\n",
              "        vertical-align: top;\n",
              "    }\n",
              "\n",
              "    .dataframe thead th {\n",
              "        text-align: right;\n",
              "    }\n",
              "</style>\n",
              "<table border=\"1\" class=\"dataframe\">\n",
              "  <thead>\n",
              "    <tr style=\"text-align: right;\">\n",
              "      <th></th>\n",
              "      <th>productID</th>\n",
              "      <th>helpful</th>\n",
              "      <th>rating</th>\n",
              "      <th>text</th>\n",
              "      <th>reviewTime</th>\n",
              "      <th>userID</th>\n",
              "      <th>userName</th>\n",
              "      <th>summary</th>\n",
              "      <th>unixReviewTime</th>\n",
              "    </tr>\n",
              "  </thead>\n",
              "  <tbody>\n",
              "    <tr>\n",
              "      <th>0</th>\n",
              "      <td>0000031887</td>\n",
              "      <td>[0, 0]</td>\n",
              "      <td>5.0</td>\n",
              "      <td>This is a great tutu and at a really great pri...</td>\n",
              "      <td>02 12, 2011</td>\n",
              "      <td>A1KLRMWW2FWPL4</td>\n",
              "      <td>Amazon Customer \"cameramom\"</td>\n",
              "      <td>Great tutu-  not cheaply made</td>\n",
              "      <td>1297468800</td>\n",
              "    </tr>\n",
              "    <tr>\n",
              "      <th>1</th>\n",
              "      <td>0000031887</td>\n",
              "      <td>[0, 0]</td>\n",
              "      <td>5.0</td>\n",
              "      <td>I bought this for my 4 yr old daughter for dan...</td>\n",
              "      <td>01 19, 2013</td>\n",
              "      <td>A2G5TCU2WDFZ65</td>\n",
              "      <td>Amazon Customer</td>\n",
              "      <td>Very Cute!!</td>\n",
              "      <td>1358553600</td>\n",
              "    </tr>\n",
              "    <tr>\n",
              "      <th>2</th>\n",
              "      <td>0000031887</td>\n",
              "      <td>[0, 0]</td>\n",
              "      <td>5.0</td>\n",
              "      <td>What can I say... my daughters have it in oran...</td>\n",
              "      <td>01 4, 2013</td>\n",
              "      <td>A1RLQXYNCMWRWN</td>\n",
              "      <td>Carola</td>\n",
              "      <td>I have buy more than one</td>\n",
              "      <td>1357257600</td>\n",
              "    </tr>\n",
              "  </tbody>\n",
              "</table>\n",
              "</div>"
            ],
            "text/plain": [
              "    productID helpful  ...                        summary unixReviewTime\n",
              "0  0000031887  [0, 0]  ...  Great tutu-  not cheaply made     1297468800\n",
              "1  0000031887  [0, 0]  ...                    Very Cute!!     1358553600\n",
              "2  0000031887  [0, 0]  ...       I have buy more than one     1357257600\n",
              "\n",
              "[3 rows x 9 columns]"
            ]
          },
          "metadata": {
            "tags": []
          },
          "execution_count": 7
        }
      ]
    },
    {
      "cell_type": "markdown",
      "metadata": {
        "id": "d-SJ_j0eLdAO",
        "colab_type": "text"
      },
      "source": [
        "### Users and products"
      ]
    },
    {
      "cell_type": "code",
      "metadata": {
        "scrolled": false,
        "id": "z5WL24eHLdAP",
        "colab_type": "code",
        "outputId": "f5321520-62db-4a72-e96f-6048505b89c5",
        "colab": {
          "base_uri": "https://localhost:8080/",
          "height": 101
        }
      },
      "source": [
        "(rows,cols) = dfull.shape\n",
        "n_users = dfull['userID'].nunique()\n",
        "n_products = dfull['productID'].nunique()\n",
        "print(\"Number of REVIEWS: \", rows)\n",
        "print(\"Number of USERS: \", n_users)\n",
        "print(\"Number of PRODUCTS: \", n_products)\n",
        "print(\"Average REVIEWS PER USER: \", rows/n_users)\n",
        "print(\"Average REVIEWS PER PRODUCT: \", rows/n_products)"
      ],
      "execution_count": 8,
      "outputs": [
        {
          "output_type": "stream",
          "text": [
            "Number of REVIEWS:  278677\n",
            "Number of USERS:  39387\n",
            "Number of PRODUCTS:  23033\n",
            "Average REVIEWS PER USER:  7.075354812501587\n",
            "Average REVIEWS PER PRODUCT:  12.099031823904832\n"
          ],
          "name": "stdout"
        }
      ]
    },
    {
      "cell_type": "markdown",
      "metadata": {
        "id": "0aDAEb4kLdA9",
        "colab_type": "text"
      },
      "source": [
        "### Manipulation"
      ]
    },
    {
      "cell_type": "markdown",
      "metadata": {
        "id": "9DDZraswLdA-",
        "colab_type": "text"
      },
      "source": [
        "#### Rejecting columns"
      ]
    },
    {
      "cell_type": "code",
      "metadata": {
        "scrolled": true,
        "id": "PAY_rpPiLdA_",
        "colab_type": "code",
        "colab": {}
      },
      "source": [
        "dfull = dfull.drop(['helpful', 'reviewTime', 'unixReviewTime', 'userName', 'text', 'summary', 'sentiment'], axis = 1, errors = 'ignore')"
      ],
      "execution_count": 0,
      "outputs": []
    },
    {
      "cell_type": "code",
      "metadata": {
        "id": "N8zqHOgXbrVK",
        "colab_type": "code",
        "outputId": "63961be2-6898-4475-ea1c-6a0d92c54a31",
        "colab": {
          "base_uri": "https://localhost:8080/",
          "height": 151
        }
      },
      "source": [
        "dfull.info()"
      ],
      "execution_count": 10,
      "outputs": [
        {
          "output_type": "stream",
          "text": [
            "<class 'pandas.core.frame.DataFrame'>\n",
            "Index: 278677 entries, 0 to 278676\n",
            "Data columns (total 3 columns):\n",
            "productID    278677 non-null object\n",
            "rating       278677 non-null float64\n",
            "userID       278677 non-null object\n",
            "dtypes: float64(1), object(2)\n",
            "memory usage: 8.5+ MB\n"
          ],
          "name": "stdout"
        }
      ]
    },
    {
      "cell_type": "markdown",
      "metadata": {
        "id": "-YoecvNDLdBB",
        "colab_type": "text"
      },
      "source": [
        "#### Binarization\n",
        "\n",
        "Since target variable (`rating`) is strongly unbalanced between low and high values, it is preferable to reduce the problem from multi-class to binary. Later on, some technique to manage unbalancement will be applied to the dataset, in order to fill the gap between the two binary classes.\n"
      ]
    },
    {
      "cell_type": "code",
      "metadata": {
        "scrolled": true,
        "id": "APold7gTLdBB",
        "colab_type": "code",
        "colab": {}
      },
      "source": [
        "# dfull['sentiment'] = ['positive' if r > 3 else 'negative' for r in dfull['rating']]\n",
        "\n",
        "# print(\"Sentiment count\")\n",
        "# dfull['sentiment'].value_counts()"
      ],
      "execution_count": 0,
      "outputs": []
    },
    {
      "cell_type": "markdown",
      "metadata": {
        "colab_type": "text",
        "id": "QD4mUbkXClLl"
      },
      "source": [
        "#### Undersampling\n",
        "\n",
        "As previously seen, target column (`rating`) is strongly unbalanced towards the positive class. Undersampling of the majority class is necessary here to achieve good machine learning preformances later. This mainly afftects prediction models *recall* metric."
      ]
    },
    {
      "cell_type": "code",
      "metadata": {
        "colab_type": "code",
        "id": "6zu_9j7OClKU",
        "colab": {}
      },
      "source": [
        "\n",
        "# # Separate majority and minority classes\n",
        "# positive_count = dfull['sentiment'].value_counts()['positive']\n",
        "# negative_count = dfull['sentiment'].value_counts()['negative']\n",
        "# df_majority = dfull[dfull.sentiment==('positive' if positive_count >= negative_count else 'negative')]\n",
        "# df_minority = dfull[dfull.sentiment==('negative' if positive_count >= negative_count else 'positive')]\n",
        " \n",
        "# # Downsample majority class\n",
        "# obj_samples = negative_count if positive_count >= negative_count else positive_count\n",
        "# df_majority_downsampled = resample(df_majority, \n",
        "#                                  replace=False,\n",
        "#                                  n_samples = obj_samples, # match minority class\n",
        "#                                  random_state=123) # reproducible results\n",
        " \n",
        "# # Combine minority class with downsampled majority class\n",
        "# df_downsampled = pd.concat([df_majority_downsampled, df_minority])\n",
        " \n",
        "# # Display new class counts\n",
        "# print(\"Positive/negative distribution post-undersampling\")\n",
        "# df_downsampled['sentiment'].value_counts()"
      ],
      "execution_count": 0,
      "outputs": []
    },
    {
      "cell_type": "markdown",
      "metadata": {
        "colab_type": "text",
        "id": "OAhCE9lzCkhK"
      },
      "source": [
        "\n",
        "\n",
        "---\n",
        "\n"
      ]
    },
    {
      "cell_type": "markdown",
      "metadata": {
        "id": "qTIISXJJLdAm",
        "colab_type": "text"
      },
      "source": [
        "***"
      ]
    },
    {
      "cell_type": "markdown",
      "metadata": {
        "id": "-CoDGz6RcTCl",
        "colab_type": "text"
      },
      "source": [
        "## Network Graph"
      ]
    },
    {
      "cell_type": "code",
      "metadata": {
        "id": "347WYNwCkFtD",
        "colab_type": "code",
        "colab": {}
      },
      "source": [
        "import scipy.sparse as sparse\n",
        "import networkx as nx"
      ],
      "execution_count": 0,
      "outputs": []
    },
    {
      "cell_type": "markdown",
      "metadata": {
        "id": "1c3Xw2PXMxhf",
        "colab_type": "text"
      },
      "source": [
        "**Reducing dataset**"
      ]
    },
    {
      "cell_type": "code",
      "metadata": {
        "id": "Zzc6bCkxNjJP",
        "colab_type": "code",
        "outputId": "a73e022e-127f-43aa-d5e3-6371e0a59418",
        "colab": {
          "base_uri": "https://localhost:8080/",
          "height": 34
        }
      },
      "source": [
        "print('Original reviews: ', len(dfull))"
      ],
      "execution_count": 14,
      "outputs": [
        {
          "output_type": "stream",
          "text": [
            "Original reviews:  278677\n"
          ],
          "name": "stdout"
        }
      ]
    },
    {
      "cell_type": "code",
      "metadata": {
        "id": "Lunp23IIMxm2",
        "colab_type": "code",
        "outputId": "7cfe4f60-3d20-420d-a7a9-16ab2416590e",
        "colab": {
          "base_uri": "https://localhost:8080/",
          "height": 34
        }
      },
      "source": [
        "dfnet = dfull #[(dfull['date'] > '2014-04-01')]\n",
        "print('Reduced reviews: ', len(dfnet))"
      ],
      "execution_count": 15,
      "outputs": [
        {
          "output_type": "stream",
          "text": [
            "Reduced reviews:  278677\n"
          ],
          "name": "stdout"
        }
      ]
    },
    {
      "cell_type": "markdown",
      "metadata": {
        "id": "HWtc4TPN-VXR",
        "colab_type": "text"
      },
      "source": [
        "**Creating graph from Pandas data frame**"
      ]
    },
    {
      "cell_type": "code",
      "metadata": {
        "id": "9SACLesv-Vni",
        "colab_type": "code",
        "outputId": "507be6ef-3215-4fc4-f520-ec5ba97479d4",
        "colab": {
          "base_uri": "https://localhost:8080/",
          "height": 34
        }
      },
      "source": [
        "graph = nx.from_pandas_edgelist(df = dfnet, source = 'userID', target = 'productID', edge_attr = 'rating', create_using = nx.DiGraph)\n",
        "graph"
      ],
      "execution_count": 16,
      "outputs": [
        {
          "output_type": "execute_result",
          "data": {
            "text/plain": [
              "<networkx.classes.digraph.DiGraph at 0x7ffa589a9438>"
            ]
          },
          "metadata": {
            "tags": []
          },
          "execution_count": 16
        }
      ]
    },
    {
      "cell_type": "markdown",
      "metadata": {
        "id": "LjIHb_j2IQ1Y",
        "colab_type": "text"
      },
      "source": [
        "**Assertions**"
      ]
    },
    {
      "cell_type": "code",
      "metadata": {
        "id": "VlQoMvoMIPdu",
        "colab_type": "code",
        "outputId": "3a57b8fb-11a8-49fc-9e95-97377ad0a99e",
        "colab": {
          "base_uri": "https://localhost:8080/",
          "height": 101
        }
      },
      "source": [
        "net_users = dfnet.userID.nunique()\n",
        "net_products = dfnet.productID.nunique()\n",
        "\n",
        "\n",
        "edges = nx.number_of_edges(graph)\n",
        "nodes = nx.number_of_nodes(graph)\n",
        "\n",
        "assert edges == len(dfnet), 'wrong edge numbers (it must corresponds to record numbers = reviews)'\n",
        "assert nodes == net_users + net_products, 'wrong nodes numbers (it must corresponds to number of users plus number of products)'\n",
        "print(\"Edges (reviews): \", edges)\n",
        "print(\"Nodes (users + products): \", nodes)\n",
        "\n",
        "print()\n",
        "\n",
        "givers_nodes = [node_degree for node_degree in graph.out_degree() if node_degree[1] > 0]\n",
        "receivers_nodes = [node_degree for node_degree in graph.in_degree() if node_degree[1] > 0]\n",
        "\n",
        "assert len(givers_nodes) == net_users, 'source nodes differ from users'\n",
        "assert len(receivers_nodes) == net_products, 'target nodes differ from products'\n",
        "print(\"Users nodes: \", len(givers_nodes))\n",
        "print(\"Products nodes: \", len(receivers_nodes))"
      ],
      "execution_count": 17,
      "outputs": [
        {
          "output_type": "stream",
          "text": [
            "Edges (reviews):  278677\n",
            "Nodes (users + products):  62420\n",
            "\n",
            "Users nodes:  39387\n",
            "Products nodes:  23033\n"
          ],
          "name": "stdout"
        }
      ]
    },
    {
      "cell_type": "markdown",
      "metadata": {
        "id": "8s4vqvAyLKN_",
        "colab_type": "text"
      },
      "source": [
        "**Example**"
      ]
    },
    {
      "cell_type": "code",
      "metadata": {
        "id": "FmQIU0JOIfEu",
        "colab_type": "code",
        "outputId": "bd1dab70-e330-40b4-c361-eca89d137936",
        "colab": {
          "base_uri": "https://localhost:8080/",
          "height": 121
        }
      },
      "source": [
        "userID = dfnet.head(1)['userID'][0]\n",
        "productID = dfnet.head(1)['productID'][0]\n",
        "\n",
        "print('Products reviewed by user', userID, ':\\n', list(graph.successors(userID)))\n",
        "print()\n",
        "print('Users who reviewed product', productID, ':\\n', list(graph.predecessors(productID)))"
      ],
      "execution_count": 18,
      "outputs": [
        {
          "output_type": "stream",
          "text": [
            "Products reviewed by user A1KLRMWW2FWPL4 :\n",
            " ['0000031887', 'B000FH4JJQ', 'B002NPCJ5E', 'B003U3GOFO', 'B00400N6XE', 'B008NBSBHW', 'B009H6NPBE']\n",
            "\n",
            "Users who reviewed product 0000031887 :\n",
            " ['A1KLRMWW2FWPL4', 'A2G5TCU2WDFZ65', 'A1RLQXYNCMWRWN', 'A8U3FAMSJVHS5', 'A3GEOILWLK86XM', 'A27UF1MSF3DB2', 'A16GFPNVF4Y816', 'A2M2APVYIB2U6K', 'A1NJ71X3YPQNQ9', 'A3EERSWHAI6SO', 'AX1QE6IR7CHXM', 'A2A2WZYLU528RO', 'A391EXIT5TFP72', 'A34ATJR9KFIXL9', 'AJ6B83I4YJHYW', 'A26A4KKLAVTMCC', 'A1MXJVYXE2QU6H', 'A2XJ13PIXVJFJH', 'A287XY94U7JDM8', 'A1JR9KKF6UKUWW', 'A2SX7X8QGQVCJU', 'A2Q6UWR5PBHTJS', 'AJZPHJR944IBB']\n"
          ],
          "name": "stdout"
        }
      ]
    },
    {
      "cell_type": "markdown",
      "metadata": {
        "id": "8IWjtDChBu7J",
        "colab_type": "text"
      },
      "source": [
        "**Saving to graphML file**"
      ]
    },
    {
      "cell_type": "code",
      "metadata": {
        "id": "wQwI9o7L_-ru",
        "colab_type": "code",
        "colab": {}
      },
      "source": [
        "# from google.colab import drive\n",
        "# drive.mount('/content/drive')\n",
        "# drivepath = '/content/drive/My Drive/Data Analytics/'\n",
        "\n",
        "# nx.write_graphml(graph, drivepath + f'network-{len(dfnet)}.graphml')"
      ],
      "execution_count": 0,
      "outputs": []
    },
    {
      "cell_type": "markdown",
      "metadata": {
        "id": "a6xLl8fdRozv",
        "colab_type": "text"
      },
      "source": [
        "### Degree"
      ]
    },
    {
      "cell_type": "code",
      "metadata": {
        "id": "nTt7VhU9IJeh",
        "colab_type": "code",
        "colab": {
          "base_uri": "https://localhost:8080/",
          "height": 70
        },
        "outputId": "494fc08e-26f4-406e-dd27-05960601eb42"
      },
      "source": [
        "print(\"Most 10 active users: \", sorted(graph.out_degree, key=lambda x: x[1], reverse=True)[:10])\n",
        "print(\"Most 10 popular products: \", sorted(graph.in_degree, key=lambda x: x[1], reverse=True)[:10])"
      ],
      "execution_count": 56,
      "outputs": [
        {
          "output_type": "stream",
          "text": [
            "Most 10 active users:  [('A2J4XMWKR8PPD0', 136), ('A2GA55P7WGHJCP', 76), ('A2KBV88FL48CFS', 69), ('AENH50GW3OKDA', 68), ('A2V5R832QCSOMX', 62), ('AVUJP7Z6BNT11', 61), ('A132ETQPMHQ585', 60), ('A2UO040HWOP0C2', 59), ('A2GP4EJIAA2OE0', 59), ('A1LM4PSE0HJQDW', 55)]\n",
            "Most 10 popular products:  [('B005LERHD8', 441), ('B005GYGD7O', 286), ('B008WYDP1C', 249), ('B0058XIMMM', 241), ('B00CKGB85I', 225), ('B007RD9DS8', 217), ('B002RADHJC', 211), ('B000T9VK56', 207), ('B0000C321X', 205), ('B0001ZNZJM', 197)]\n"
          ],
          "name": "stdout"
        }
      ]
    },
    {
      "cell_type": "markdown",
      "metadata": {
        "id": "5GpcgwBz6-HT",
        "colab_type": "text"
      },
      "source": [
        "**In-degree (reviews received)**"
      ]
    },
    {
      "cell_type": "code",
      "metadata": {
        "id": "t1cd1c-3zNct",
        "colab_type": "code",
        "outputId": "a207ab45-c58e-4010-f880-5cbbe99393c5",
        "colab": {
          "base_uri": "https://localhost:8080/",
          "height": 300
        }
      },
      "source": [
        "in_degrees = [x[1] for x in graph.in_degree]\n",
        "degreeCount = collections.Counter(in_degrees)\n",
        "deg, cnt = zip(*degreeCount.items()) # unroll (degree, count) into different lists for matplotlib\n",
        "\n",
        "plt.ylabel('number of nodes')\n",
        "plt.xlabel('in-degree')\n",
        "plt.bar(deg, cnt, log = True)"
      ],
      "execution_count": 46,
      "outputs": [
        {
          "output_type": "execute_result",
          "data": {
            "text/plain": [
              "<BarContainer object of 153 artists>"
            ]
          },
          "metadata": {
            "tags": []
          },
          "execution_count": 46
        },
        {
          "output_type": "display_data",
          "data": {
            "image/png": "[encoded data removed]",
            "text/plain": [
              "<Figure size 432x288 with 1 Axes>"
            ]
          },
          "metadata": {
            "tags": []
          }
        }
      ]
    },
    {
      "cell_type": "markdown",
      "metadata": {
        "id": "WQX0B91x6_vT",
        "colab_type": "text"
      },
      "source": [
        "**Out-degree (reviews given)**"
      ]
    },
    {
      "cell_type": "code",
      "metadata": {
        "id": "AjKbtNPt4Ena",
        "colab_type": "code",
        "outputId": "cf75d8cb-68a0-4e4e-e26e-9b94ee8b6bac",
        "colab": {
          "base_uri": "https://localhost:8080/",
          "height": 300
        }
      },
      "source": [
        "out_degrees = [x[1] for x in graph.out_degree]\n",
        "degreeCount = collections.Counter(out_degrees)\n",
        "deg, cnt = zip(*degreeCount.items()) # unroll (degree, count) into different lists for matplotlib\n",
        "\n",
        "plt.ylabel('number of nodes')\n",
        "plt.xlabel('out-degree')\n",
        "plt.bar(deg, cnt, log = True)"
      ],
      "execution_count": 39,
      "outputs": [
        {
          "output_type": "execute_result",
          "data": {
            "text/plain": [
              "<BarContainer object of 57 artists>"
            ]
          },
          "metadata": {
            "tags": []
          },
          "execution_count": 39
        },
        {
          "output_type": "display_data",
          "data": {
            "image/png": "[encoded data removed]",
            "text/plain": [
              "<Figure size 432x288 with 1 Axes>"
            ]
          },
          "metadata": {
            "tags": []
          }
        }
      ]
    },
    {
      "cell_type": "markdown",
      "metadata": {
        "id": "vmEKV8pTci6L",
        "colab_type": "text"
      },
      "source": [
        "## Centrality Measures"
      ]
    },
    {
      "cell_type": "markdown",
      "metadata": {
        "colab_type": "text",
        "id": "_SMNwXnNg0Ft"
      },
      "source": [
        "## Collaborative Filtering"
      ]
    },
    {
      "cell_type": "markdown",
      "metadata": {
        "id": "KG60zI3ej7zi",
        "colab_type": "text"
      },
      "source": [
        "### Undersampling"
      ]
    },
    {
      "cell_type": "code",
      "metadata": {
        "id": "q73WV2NQ0_4d",
        "colab_type": "code",
        "outputId": "93d2d0b0-5b4d-49d6-a86f-411145fad28d",
        "colab": {
          "base_uri": "https://localhost:8080/",
          "height": 286
        }
      },
      "source": [
        "dfull['rating'].hist()"
      ],
      "execution_count": 22,
      "outputs": [
        {
          "output_type": "execute_result",
          "data": {
            "text/plain": [
              "<matplotlib.axes._subplots.AxesSubplot at 0x7ffa38566160>"
            ]
          },
          "metadata": {
            "tags": []
          },
          "execution_count": 22
        },
        {
          "output_type": "display_data",
          "data": {
            "image/png": "[encoded data removed]",
            "text/plain": [
              "<Figure size 432x288 with 1 Axes>"
            ]
          },
          "metadata": {
            "tags": []
          }
        }
      ]
    },
    {
      "cell_type": "code",
      "metadata": {
        "id": "mx-TDVX0zQUl",
        "colab_type": "code",
        "outputId": "cdfe1950-58cb-468f-9594-b7dfe12f8259",
        "colab": {
          "base_uri": "https://localhost:8080/",
          "height": 286
        }
      },
      "source": [
        "# # Separate majority and minority classes\n",
        "df_minority = dfull[(dfull.rating!=5) & (dfull.rating!=4)]\n",
        "df_4 = dfull[dfull.rating==4]\n",
        "df_5 = dfull[dfull.rating==5]\n",
        "resampling_count = dfull['rating'].value_counts()[3]\n",
        " \n",
        "# Downsample majority class\n",
        "df_4_down = resample(df_4, \n",
        "                     replace=False,\n",
        "                     n_samples = resampling_count,\n",
        "                     random_state=123) # reproducible results\n",
        "\n",
        "# Downsample majority class\n",
        "df_5_down = resample(df_5, \n",
        "                     replace=False,\n",
        "                     n_samples = resampling_count,\n",
        "                     random_state=123) # reproducible results\n",
        " \n",
        "# Combine minority class with downsampled majority class\n",
        "df_downsampled = pd.concat([df_minority, df_4_down, df_5_down])\n",
        " \n",
        "# Display new class counts\n",
        "df_downsampled['rating'].hist()"
      ],
      "execution_count": 23,
      "outputs": [
        {
          "output_type": "execute_result",
          "data": {
            "text/plain": [
              "<matplotlib.axes._subplots.AxesSubplot at 0x7ffa385114e0>"
            ]
          },
          "metadata": {
            "tags": []
          },
          "execution_count": 23
        },
        {
          "output_type": "display_data",
          "data": {
            "image/png": "[encoded data removed]",
            "text/plain": [
              "<Figure size 432x288 with 1 Axes>"
            ]
          },
          "metadata": {
            "tags": []
          }
        }
      ]
    },
    {
      "cell_type": "markdown",
      "metadata": {
        "id": "n1MoAPVpzMro",
        "colab_type": "text"
      },
      "source": [
        "### Creating dataset for collaborative filtering"
      ]
    },
    {
      "cell_type": "code",
      "metadata": {
        "id": "EI_CbWodltkc",
        "colab_type": "code",
        "outputId": "e89124ab-2d2b-435a-fbd0-64f88e031ad1",
        "colab": {
          "base_uri": "https://localhost:8080/",
          "height": 151
        }
      },
      "source": [
        "dflearn = df_downsampled\n",
        "dflearn.info()"
      ],
      "execution_count": 24,
      "outputs": [
        {
          "output_type": "stream",
          "text": [
            "<class 'pandas.core.frame.DataFrame'>\n",
            "Index: 117930 entries, 15 to 262698\n",
            "Data columns (total 3 columns):\n",
            "productID    117930 non-null object\n",
            "rating       117930 non-null float64\n",
            "userID       117930 non-null object\n",
            "dtypes: float64(1), object(2)\n",
            "memory usage: 3.6+ MB\n"
          ],
          "name": "stdout"
        }
      ]
    },
    {
      "cell_type": "code",
      "metadata": {
        "id": "lV_9QwGXqQpF",
        "colab_type": "code",
        "outputId": "b22e474d-9b9b-49cd-b519-83024014da01",
        "colab": {
          "base_uri": "https://localhost:8080/",
          "height": 151
        }
      },
      "source": [
        "# converting strings to categories\n",
        "series2cat(dflearn, 'productID', 'userID')\n",
        "\n",
        "# reordering columns for fastai standard format\n",
        "dflearn = dflearn[['userID', 'productID', 'rating']]\n",
        "dflearn.info()"
      ],
      "execution_count": 25,
      "outputs": [
        {
          "output_type": "stream",
          "text": [
            "<class 'pandas.core.frame.DataFrame'>\n",
            "Index: 117930 entries, 15 to 262698\n",
            "Data columns (total 3 columns):\n",
            "userID       117930 non-null category\n",
            "productID    117930 non-null category\n",
            "rating       117930 non-null float64\n",
            "dtypes: category(2), float64(1)\n",
            "memory usage: 4.8+ MB\n"
          ],
          "name": "stdout"
        }
      ]
    },
    {
      "cell_type": "code",
      "metadata": {
        "id": "-MonBiMsojxd",
        "colab_type": "code",
        "outputId": "8bd2a6f3-123d-4ba8-dcdb-728e7bad6f84",
        "colab": {
          "base_uri": "https://localhost:8080/",
          "height": 195
        }
      },
      "source": [
        "# creating collaborative filtering dataset\n",
        "data = CollabDataBunch.from_df(dflearn, seed=42, valid_pct = 0.2)\n",
        "data.show_batch()"
      ],
      "execution_count": 26,
      "outputs": [
        {
          "output_type": "display_data",
          "data": {
            "text/html": [
              "<table border=\"1\" class=\"dataframe\">\n",
              "  <thead>\n",
              "    <tr style=\"text-align: right;\">\n",
              "      <th>userID</th>\n",
              "      <th>productID</th>\n",
              "      <th>target</th>\n",
              "    </tr>\n",
              "  </thead>\n",
              "  <tbody>\n",
              "    <tr>\n",
              "      <td>A3M02YQFAJHW07</td>\n",
              "      <td>B001H0F3TK</td>\n",
              "      <td>4.0</td>\n",
              "    </tr>\n",
              "    <tr>\n",
              "      <td>A1LMEFZMY0LY7W</td>\n",
              "      <td>B004V96OL0</td>\n",
              "      <td>2.0</td>\n",
              "    </tr>\n",
              "    <tr>\n",
              "      <td>A2CQTEDDHLZ3US</td>\n",
              "      <td>B00BXJRKXM</td>\n",
              "      <td>2.0</td>\n",
              "    </tr>\n",
              "    <tr>\n",
              "      <td>A1G3UH66R42RY8</td>\n",
              "      <td>B001W97MWC</td>\n",
              "      <td>5.0</td>\n",
              "    </tr>\n",
              "    <tr>\n",
              "      <td>A22A19DIHY5L0G</td>\n",
              "      <td>B001HEF6W0</td>\n",
              "      <td>5.0</td>\n",
              "    </tr>\n",
              "  </tbody>\n",
              "</table>"
            ],
            "text/plain": [
              "<IPython.core.display.HTML object>"
            ]
          },
          "metadata": {
            "tags": []
          }
        }
      ]
    },
    {
      "cell_type": "code",
      "metadata": {
        "id": "5x92tB2ZLj0S",
        "colab_type": "code",
        "colab": {}
      },
      "source": [
        "n_cicles = 5"
      ],
      "execution_count": 0,
      "outputs": []
    },
    {
      "cell_type": "markdown",
      "metadata": {
        "id": "4Fc5UOGeKtF3",
        "colab_type": "text"
      },
      "source": [
        "### EmbeddingDotBias"
      ]
    },
    {
      "cell_type": "code",
      "metadata": {
        "id": "wbl4My1Qx3-5",
        "colab_type": "code",
        "colab": {}
      },
      "source": [
        "learn = collab_learner(data, n_factors=50, y_range=(1,5), use_nn = False, callback_fns=ShowGraph)\n",
        "#learn.loss_func = torch.nn.MSELoss() # changing loss function (default is MSE)"
      ],
      "execution_count": 0,
      "outputs": []
    },
    {
      "cell_type": "code",
      "metadata": {
        "id": "rmVBvXIQA1-w",
        "colab_type": "code",
        "outputId": "78f85a50-76ba-47be-d5c2-6085c954d942",
        "colab": {
          "base_uri": "https://localhost:8080/",
          "height": 334
        }
      },
      "source": [
        "# learn.unfreeze()\n",
        "learn.lr_find() # find learning rate\n",
        "learn.recorder.plot(suggestion = True) # plot learning rate graph"
      ],
      "execution_count": 29,
      "outputs": [
        {
          "output_type": "display_data",
          "data": {
            "text/html": [
              ""
            ],
            "text/plain": [
              "<IPython.core.display.HTML object>"
            ]
          },
          "metadata": {
            "tags": []
          }
        },
        {
          "output_type": "stream",
          "text": [
            "LR Finder is complete, type {learner_name}.recorder.plot() to see the graph.\n",
            "Min numerical gradient: 7.59E-07\n",
            "Min loss divided by 10: 7.59E-04\n"
          ],
          "name": "stdout"
        },
        {
          "output_type": "display_data",
          "data": {
            "image/png": "[encoded data removed]",
            "text/plain": [
              "<Figure size 432x288 with 1 Axes>"
            ]
          },
          "metadata": {
            "tags": []
          }
        }
      ]
    },
    {
      "cell_type": "code",
      "metadata": {
        "id": "b_4v9L1dsbg4",
        "colab_type": "code",
        "outputId": "d98600db-823e-4f6a-d90a-32135e0094c2",
        "colab": {
          "base_uri": "https://localhost:8080/",
          "height": 464
        }
      },
      "source": [
        "print('Training results')\n",
        "learn.fit_one_cycle(n_cicles, 1e-4, wd=0.1)\n",
        "\n",
        "# learn.save('amazon-reviews-dot-1')"
      ],
      "execution_count": 30,
      "outputs": [
        {
          "output_type": "stream",
          "text": [
            "Training results\n"
          ],
          "name": "stdout"
        },
        {
          "output_type": "display_data",
          "data": {
            "text/html": [
              "<table border=\"1\" class=\"dataframe\">\n",
              "  <thead>\n",
              "    <tr style=\"text-align: left;\">\n",
              "      <th>epoch</th>\n",
              "      <th>train_loss</th>\n",
              "      <th>valid_loss</th>\n",
              "      <th>time</th>\n",
              "    </tr>\n",
              "  </thead>\n",
              "  <tbody>\n",
              "    <tr>\n",
              "      <td>0</td>\n",
              "      <td>1.782505</td>\n",
              "      <td>1.780767</td>\n",
              "      <td>00:10</td>\n",
              "    </tr>\n",
              "    <tr>\n",
              "      <td>1</td>\n",
              "      <td>1.773154</td>\n",
              "      <td>1.777198</td>\n",
              "      <td>00:10</td>\n",
              "    </tr>\n",
              "    <tr>\n",
              "      <td>2</td>\n",
              "      <td>1.784532</td>\n",
              "      <td>1.774300</td>\n",
              "      <td>00:10</td>\n",
              "    </tr>\n",
              "    <tr>\n",
              "      <td>3</td>\n",
              "      <td>1.808489</td>\n",
              "      <td>1.772889</td>\n",
              "      <td>00:10</td>\n",
              "    </tr>\n",
              "    <tr>\n",
              "      <td>4</td>\n",
              "      <td>1.807695</td>\n",
              "      <td>1.772659</td>\n",
              "      <td>00:10</td>\n",
              "    </tr>\n",
              "  </tbody>\n",
              "</table>"
            ],
            "text/plain": [
              "<IPython.core.display.HTML object>"
            ]
          },
          "metadata": {
            "tags": []
          }
        },
        {
          "output_type": "display_data",
          "data": {
            "image/png": "[encoded data removed]",
            "text/plain": [
              "<Figure size 432x288 with 1 Axes>"
            ]
          },
          "metadata": {
            "tags": []
          }
        }
      ]
    },
    {
      "cell_type": "code",
      "metadata": {
        "id": "ZnZw8kOh5iix",
        "colab_type": "code",
        "outputId": "1beaee20-cbe5-4147-ac38-04295459d2eb",
        "colab": {
          "base_uri": "https://localhost:8080/",
          "height": 34
        }
      },
      "source": [
        "learn.predict({\n",
        "    \"userID\": 'A1UWP1ZNYQKEA7',\n",
        "    \"productID\": 'B00CIZG8GK'\n",
        "})"
      ],
      "execution_count": 31,
      "outputs": [
        {
          "output_type": "execute_result",
          "data": {
            "text/plain": [
              "(FloatItem 2.997974, tensor(2.9980), tensor(2.9980))"
            ]
          },
          "metadata": {
            "tags": []
          },
          "execution_count": 31
        }
      ]
    },
    {
      "cell_type": "markdown",
      "metadata": {
        "id": "8jwbpcvQHBsW",
        "colab_type": "text"
      },
      "source": [
        "#### Interpretation\n",
        "\n",
        "https://towardsdatascience.com/collaborative-filtering-with-fastai-3dbdd4ef4f00"
      ]
    },
    {
      "cell_type": "code",
      "metadata": {
        "id": "jPlbZKPxGnXe",
        "colab_type": "code",
        "outputId": "555d071c-13b9-4113-f18b-c31b55ffb48c",
        "colab": {
          "base_uri": "https://localhost:8080/",
          "height": 50
        }
      },
      "source": [
        "g = dflearn.groupby('productID')['rating'].count()\n",
        "top_ratings = g.sort_values(ascending=False).index.values[:1000]\n",
        "top_ratings = top_ratings.astype(str)\n",
        "top_ratings"
      ],
      "execution_count": 32,
      "outputs": [
        {
          "output_type": "execute_result",
          "data": {
            "text/plain": [
              "array(['B005LERHD8', 'B005GYGD7O', 'B000T9VK56', 'B002RADHJC', ..., 'B005LMTW6K', 'B007BZ5CUU', 'B000SMNL2E',\n",
              "       'B003YJ4RYO'], dtype='<U10')"
            ]
          },
          "metadata": {
            "tags": []
          },
          "execution_count": 32
        }
      ]
    },
    {
      "cell_type": "code",
      "metadata": {
        "id": "9GQXiaFrHBDX",
        "colab_type": "code",
        "outputId": "e06f53c6-818c-4410-afaf-6aad09b543c6",
        "colab": {
          "base_uri": "https://localhost:8080/",
          "height": 138
        }
      },
      "source": [
        "# get biases for top products\n",
        "product_bias = learn.bias(top_ratings, is_item=True)\n",
        "\n",
        "# get mean ratings\n",
        "mean_ratings = dflearn.groupby('productID')['rating'].mean()\n",
        "product_ratings = [(b, top_ratings[i], mean_ratings.loc[tb]) for i, (tb, b) in enumerate(zip(top_ratings, product_bias))]\n",
        "\n",
        "# print product bias information\n",
        "item0 = lambda o:o[0]\n",
        "print(sorted(product_ratings, key=item0)[:15])\n",
        "print(sorted(product_ratings, key=item0, reverse=True)[:15])\n",
        "\n",
        "# get weights\n",
        "product_w = learn.weight(top_ratings, is_item=True)\n",
        "\n",
        "# transform weights to 3 dimensions\n",
        "product_pca = product_w.pca(3)\n",
        "\n",
        "# get prinicipal components\n",
        "fac0,fac1,fac2 = product_pca.t()\n",
        "product_comp = [(f, i) for f,i in zip(fac0, top_ratings)]\n",
        "\n",
        "# print fac0 information\n",
        "print(sorted(product_comp, key=itemgetter(0), reverse=True)[:10])\n",
        "print(sorted(product_comp, key=itemgetter(0))[:10])\n",
        "\n",
        "# print fac1 information\n",
        "product_comp = [(f, i) for f,i in zip(fac1, top_ratings)]\n",
        "print(sorted(product_comp, key=itemgetter(0), reverse=True)[:10])\n",
        "print(sorted(product_comp, key=itemgetter(0))[:10])"
      ],
      "execution_count": 33,
      "outputs": [
        {
          "output_type": "stream",
          "text": [
            "[(tensor(-0.0298), 'B008KM948O', 2.25), (tensor(-0.0291), 'B00FF394VI', 2.238095238095238), (tensor(-0.0284), 'B00FGPMV74', 2.423076923076923), (tensor(-0.0281), 'B00DNV1IJK', 1.75), (tensor(-0.0278), 'B003QMMSZ4', 2.3823529411764706), (tensor(-0.0251), 'B00FEEA4MG', 2.12), (tensor(-0.0248), 'B000OTRDZ2', 2.55), (tensor(-0.0246), 'B00E8CN6MA', 2.3684210526315788), (tensor(-0.0243), 'B003N9BT7S', 2.6923076923076925), (tensor(-0.0242), 'B000M9JJ7O', 2.638888888888889), (tensor(-0.0241), 'B005D6B5NW', 2.823529411764706), (tensor(-0.0239), 'B00368CL0A', 2.607142857142857), (tensor(-0.0239), 'B0006IT6JC', 2.65625), (tensor(-0.0239), 'B00DM0587K', 2.1176470588235294), (tensor(-0.0230), 'B002K6F79G', 2.706896551724138)]\n",
            "[(tensor(0.0504), 'B0013KDS96', 4.483870967741935), (tensor(0.0477), 'B008X061B6', 4.173913043478261), (tensor(0.0469), 'B002KMI7OC', 4.041666666666667), (tensor(0.0467), 'B005LERHD8', 3.6054054054054054), (tensor(0.0458), 'B001Q5QLP6', 4.03030303030303), (tensor(0.0452), 'B003NX87U6', 3.7419354838709675), (tensor(0.0451), 'B000FBO0DM', 3.977272727272727), (tensor(0.0435), 'B0058XIMMM', 3.961038961038961), (tensor(0.0435), 'B007NLX16O', 3.9178082191780823), (tensor(0.0427), 'B007WAEBPQ', 3.8627450980392157), (tensor(0.0425), 'B002PHLVJA', 4.339285714285714), (tensor(0.0420), 'B0006U67WE', 4.1), (tensor(0.0416), 'B003ZW18FQ', 4.0), (tensor(0.0413), 'B004XGBS3K', 3.9545454545454546), (tensor(0.0409), 'B000DZUGOM', 3.9583333333333335)]\n",
            "[(tensor(0.0583), 'B006PGGJOE'), (tensor(0.0483), 'B00028B4U0'), (tensor(0.0415), 'B004YM2FV2'), (tensor(0.0412), 'B00AKSBSQW'), (tensor(0.0381), 'B00722CA16'), (tensor(0.0378), 'B007L6IDHS'), (tensor(0.0373), 'B005GYGDFG'), (tensor(0.0365), 'B00E1JLOI8'), (tensor(0.0360), 'B00B2PMF1Y'), (tensor(0.0358), 'B004A7YLN6')]\n",
            "[(tensor(-0.0463), 'B00D1MR8YU'), (tensor(-0.0454), 'B00CKGB85I'), (tensor(-0.0445), 'B0008172S4'), (tensor(-0.0412), 'B005GYGD7O'), (tensor(-0.0403), 'B0076R6KY0'), (tensor(-0.0402), 'B001GCUHBI'), (tensor(-0.0399), 'B000F1SCU4'), (tensor(-0.0395), 'B000KR3D5W'), (tensor(-0.0377), 'B000NGKLNC'), (tensor(-0.0374), 'B0087ZR24M')]\n",
            "[(tensor(0.0522), 'B00DM05BU4'), (tensor(0.0472), 'B004Q7AB4I'), (tensor(0.0451), 'B007WAF02E'), (tensor(0.0440), 'B000F5TH6S'), (tensor(0.0431), 'B003XDVUEQ'), (tensor(0.0404), 'B003N9BV12'), (tensor(0.0388), 'B0001ZNZF6'), (tensor(0.0387), 'B00F2V77JE'), (tensor(0.0386), 'B00BJDLVR8'), (tensor(0.0378), 'B004L4B7HG')]\n",
            "[(tensor(-0.0475), 'B007BHXBQ0'), (tensor(-0.0471), 'B006PGGJOE'), (tensor(-0.0437), 'B005LERHD8'), (tensor(-0.0418), 'B001AOEIVW'), (tensor(-0.0410), 'B004R1II48'), (tensor(-0.0402), 'B00192PP76'), (tensor(-0.0397), 'B008H2ET0U'), (tensor(-0.0378), 'B009DJCGME'), (tensor(-0.0363), 'B0009B3IN6'), (tensor(-0.0362), 'B005CSORVI')]\n"
          ],
          "name": "stdout"
        }
      ]
    },
    {
      "cell_type": "code",
      "metadata": {
        "id": "vzm89ZoDHzDB",
        "colab_type": "code",
        "outputId": "2cb850d7-b942-43e2-bfc1-dae49d76f97f",
        "colab": {
          "base_uri": "https://localhost:8080/",
          "height": 879
        }
      },
      "source": [
        "idxs = np.random.choice(len(top_ratings), 50, replace=False)\n",
        "idxs = list(range(50))\n",
        "X = fac0[idxs]\n",
        "Y = fac2[idxs]\n",
        "plt.figure(figsize=(15,15))\n",
        "plt.scatter(X, Y)\n",
        "for i, x, y in zip(top_ratings[idxs], X, Y):\n",
        "    plt.text(x,y,i, color=np.random.rand(3)*0.7, fontsize=11)\n",
        "plt.title('Weight Embedding visualization')\n",
        "plt.show()"
      ],
      "execution_count": 34,
      "outputs": [
        {
          "output_type": "display_data",
          "data": {
            "image/png": "[encoded data removed]",
            "text/plain": [
              "<Figure size 1080x1080 with 1 Axes>"
            ]
          },
          "metadata": {
            "tags": []
          }
        }
      ]
    },
    {
      "cell_type": "markdown",
      "metadata": {
        "id": "hbTWQdbZKKci",
        "colab_type": "text"
      },
      "source": [
        "### EmeddingNN"
      ]
    },
    {
      "cell_type": "code",
      "metadata": {
        "id": "ntNPlNsTKK10",
        "colab_type": "code",
        "colab": {}
      },
      "source": [
        "learn = collab_learner(data, use_nn=True, emb_szs={'userID': 40, 'productID':40}, layers=[256, 128], y_range=(1, 5))\n",
        "learn.fit_one_cycle(n_cicles, 1e-3, wd=0.1)\n",
        "\n",
        "# learn.save('amazon-reviews-nn-1')"
      ],
      "execution_count": 0,
      "outputs": []
    },
    {
      "cell_type": "code",
      "metadata": {
        "id": "eat9eaqXMWZq",
        "colab_type": "code",
        "colab": {}
      },
      "source": [
        "interp = ClassificationInterpretation.from_learner(learn)"
      ],
      "execution_count": 0,
      "outputs": []
    },
    {
      "cell_type": "code",
      "metadata": {
        "id": "MRrB63RqNA9F",
        "colab_type": "code",
        "colab": {}
      },
      "source": [
        "# interp.confusion_matrix()"
      ],
      "execution_count": 0,
      "outputs": []
    }
  ]
}