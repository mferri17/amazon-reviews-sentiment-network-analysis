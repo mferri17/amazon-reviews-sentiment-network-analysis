{
  "nbformat": 4,
  "nbformat_minor": 0,
  "metadata": {
    "colab": {
      "name": "network.ipynb",
      "version": "0.3.2",
      "provenance": [],
      "collapsed_sections": [],
      "toc_visible": true,
      "include_colab_link": true
    },
    "language_info": {
      "codemirror_mode": {
        "name": "ipython",
        "version": 3
      },
      "file_extension": ".py",
      "mimetype": "text/x-python",
      "name": "python",
      "nbconvert_exporter": "python",
      "pygments_lexer": "ipython3",
      "version": "3.7.3"
    },
    "kernelspec": {
      "name": "python3",
      "display_name": "Python 3"
    },
    "accelerator": "GPU"
  },
  "cells": [
    {
      "cell_type": "markdown",
      "metadata": {
        "id": "view-in-github",
        "colab_type": "text"
      },
      "source": [
        "<a href=\"https://colab.research.google.com/github/mferri17/amazon-reviews-sentiment-network-analysis/blob/master/network.ipynb\" target=\"_parent\"><img src=\"https://colab.research.google.com/assets/colab-badge.svg\" alt=\"Open In Colab\"/></a>"
      ]
    },
    {
      "cell_type": "markdown",
      "metadata": {
        "id": "ysBCOUbpLc_k",
        "colab_type": "text"
      },
      "source": [
        "# Amazon Reviews Network Analysis - Ferri Marco, Basso Matteo"
      ]
    },
    {
      "cell_type": "markdown",
      "metadata": {
        "id": "FpMdBSI2Lc_l",
        "colab_type": "text"
      },
      "source": [
        "This project aims to experiment with network analysis on [Amazon Reviews](http://jmcauley.ucsd.edu/data/amazon/) in order to build a collaborative filtering model."
      ]
    },
    {
      "cell_type": "markdown",
      "metadata": {
        "id": "LfwyCK9SLc_m",
        "colab_type": "text"
      },
      "source": [
        "## Dataset"
      ]
    },
    {
      "cell_type": "markdown",
      "metadata": {
        "id": "lxwEn1LnX2Kx",
        "colab_type": "text"
      },
      "source": [
        "### Dependencies"
      ]
    },
    {
      "cell_type": "code",
      "metadata": {
        "scrolled": false,
        "id": "ATRnE5hmLc_n",
        "colab_type": "code",
        "colab": {}
      },
      "source": [
        "import os\n",
        "import gzip\n",
        "import fileinput\n",
        "import sys\n",
        "import datetime\n",
        "import io\n",
        "import urllib\n",
        "import pandas as pd\n",
        "import numpy as np\n",
        "import matplotlib.pyplot as plt\n",
        "\n",
        "from fastai.collab import *\n",
        "from sklearn.utils import resample"
      ],
      "execution_count": 0,
      "outputs": []
    },
    {
      "cell_type": "markdown",
      "metadata": {
        "id": "Ivh_vmWKLc_r",
        "colab_type": "text"
      },
      "source": [
        "### Reading"
      ]
    },
    {
      "cell_type": "markdown",
      "metadata": {
        "id": "HFHgiBhULc_s",
        "colab_type": "text"
      },
      "source": [
        "\n",
        "Util functions to read from JSON and convert into pandas dataframe:"
      ]
    },
    {
      "cell_type": "code",
      "metadata": {
        "scrolled": false,
        "id": "dS8W2vxFLc_t",
        "colab_type": "code",
        "colab": {}
      },
      "source": [
        "def parse(path):\n",
        "  g = gzip.open(path, 'rb')\n",
        "  for l in g:\n",
        "    yield eval(l)\n",
        "\n",
        "def getDF(path):\n",
        "  df = []\n",
        "  for d in parse(path):\n",
        "    df.append(d)\n",
        "  return pd.DataFrame(df)\n",
        "\n",
        "def read_dataset(dataset):      \n",
        "  basepath = r\"datasets\\amazon-5-core\"\n",
        "  df = getDF(os.path.join(basepath, dataset))\n",
        "  return df\n",
        "  \n",
        "def download_dataset(dataset):\n",
        "  request = urllib.request.Request('http://snap.stanford.edu/data/amazon/productGraph/categoryFiles/' + dataset)\n",
        "  request.add_header('Accept-encoding', 'gzip')\n",
        "  response = urllib.request.urlopen(request)\n",
        "  buf = io.BytesIO(response.read())\n",
        "  file = gzip.GzipFile(fileobj=buf)\n",
        "  df = []\n",
        "  for line in file:\n",
        "    df.append(eval(line))\n",
        "  return pd.DataFrame(df)"
      ],
      "execution_count": 0,
      "outputs": []
    },
    {
      "cell_type": "markdown",
      "metadata": {
        "id": "vTmIPVTqLc_v",
        "colab_type": "text"
      },
      "source": [
        "Reading from JSON"
      ]
    },
    {
      "cell_type": "code",
      "metadata": {
        "scrolled": false,
        "id": "GVoQ1KOhLc_w",
        "colab_type": "code",
        "outputId": "b708dc64-ff50-4dfd-c55c-bd020f1751f3",
        "colab": {
          "base_uri": "https://localhost:8080/",
          "height": 50
        }
      },
      "source": [
        "#%time dfull = read_dataset(\"reviews_Video_Games_5.json.gz\")\n",
        "%time dfull = download_dataset('reviews_Clothing_Shoes_and_Jewelry_5.json.gz')"
      ],
      "execution_count": 3,
      "outputs": [
        {
          "output_type": "stream",
          "text": [
            "CPU times: user 13.5 s, sys: 449 ms, total: 14 s\n",
            "Wall time: 24.1 s\n"
          ],
          "name": "stdout"
        }
      ]
    },
    {
      "cell_type": "markdown",
      "metadata": {
        "id": "8FFQDmglLc_9",
        "colab_type": "text"
      },
      "source": [
        "---"
      ]
    },
    {
      "cell_type": "markdown",
      "metadata": {
        "id": "XzU2ogWCLc_-",
        "colab_type": "text"
      },
      "source": [
        "###  Description"
      ]
    },
    {
      "cell_type": "markdown",
      "metadata": {
        "id": "JLiIbGc_Lc__",
        "colab_type": "text"
      },
      "source": [
        "#### Schema"
      ]
    },
    {
      "cell_type": "code",
      "metadata": {
        "scrolled": false,
        "id": "qAnGOIo2Lc__",
        "colab_type": "code",
        "outputId": "19084caa-001d-4cb6-ed17-3f2a29ae0308",
        "colab": {
          "base_uri": "https://localhost:8080/",
          "height": 34
        }
      },
      "source": [
        "print(\"(rows, cols) = \", dfull.shape)"
      ],
      "execution_count": 4,
      "outputs": [
        {
          "output_type": "stream",
          "text": [
            "(rows, cols) =  (278677, 9)\n"
          ],
          "name": "stdout"
        }
      ]
    },
    {
      "cell_type": "code",
      "metadata": {
        "scrolled": false,
        "id": "vs35GBUdLc_3",
        "colab_type": "code",
        "colab": {}
      },
      "source": [
        "dfull = dfull.rename(index=str, columns={\"asin\": \"productID\", \n",
        "                                         \"reviewerID\": \"userID\", \n",
        "                                         \"reviewerName\": \"userName\",\n",
        "                                         \"reviewText\": \"text\",\n",
        "                                         \"overall\": \"rating\"})"
      ],
      "execution_count": 0,
      "outputs": []
    },
    {
      "cell_type": "code",
      "metadata": {
        "scrolled": false,
        "id": "eMz4oHsOLdAE",
        "colab_type": "code",
        "outputId": "8e0dd76a-8ab7-4adb-e53d-9fb9641bfb14",
        "colab": {
          "base_uri": "https://localhost:8080/",
          "height": 252
        }
      },
      "source": [
        "dfull.info()"
      ],
      "execution_count": 6,
      "outputs": [
        {
          "output_type": "stream",
          "text": [
            "<class 'pandas.core.frame.DataFrame'>\n",
            "Index: 278677 entries, 0 to 278676\n",
            "Data columns (total 9 columns):\n",
            "productID         278677 non-null object\n",
            "helpful           278677 non-null object\n",
            "rating            278677 non-null float64\n",
            "text              278677 non-null object\n",
            "reviewTime        278677 non-null object\n",
            "userID            278677 non-null object\n",
            "userName          278225 non-null object\n",
            "summary           278677 non-null object\n",
            "unixReviewTime    278677 non-null int64\n",
            "dtypes: float64(1), int64(1), object(7)\n",
            "memory usage: 21.3+ MB\n"
          ],
          "name": "stdout"
        }
      ]
    },
    {
      "cell_type": "code",
      "metadata": {
        "scrolled": false,
        "id": "FfB3d-ZJLdAJ",
        "colab_type": "code",
        "outputId": "d1c451e1-7ec2-4322-cf80-177a7a0070c3",
        "colab": {
          "base_uri": "https://localhost:8080/",
          "height": 186
        }
      },
      "source": [
        "dfull.head(3)"
      ],
      "execution_count": 7,
      "outputs": [
        {
          "output_type": "execute_result",
          "data": {
            "text/html": [
              "<div>\n",
              "<style scoped>\n",
              "    .dataframe tbody tr th:only-of-type {\n",
              "        vertical-align: middle;\n",
              "    }\n",
              "\n",
              "    .dataframe tbody tr th {\n",
              "        vertical-align: top;\n",
              "    }\n",
              "\n",
              "    .dataframe thead th {\n",
              "        text-align: right;\n",
              "    }\n",
              "</style>\n",
              "<table border=\"1\" class=\"dataframe\">\n",
              "  <thead>\n",
              "    <tr style=\"text-align: right;\">\n",
              "      <th></th>\n",
              "      <th>productID</th>\n",
              "      <th>helpful</th>\n",
              "      <th>rating</th>\n",
              "      <th>text</th>\n",
              "      <th>reviewTime</th>\n",
              "      <th>userID</th>\n",
              "      <th>userName</th>\n",
              "      <th>summary</th>\n",
              "      <th>unixReviewTime</th>\n",
              "    </tr>\n",
              "  </thead>\n",
              "  <tbody>\n",
              "    <tr>\n",
              "      <th>0</th>\n",
              "      <td>0000031887</td>\n",
              "      <td>[0, 0]</td>\n",
              "      <td>5.0</td>\n",
              "      <td>This is a great tutu and at a really great pri...</td>\n",
              "      <td>02 12, 2011</td>\n",
              "      <td>A1KLRMWW2FWPL4</td>\n",
              "      <td>Amazon Customer \"cameramom\"</td>\n",
              "      <td>Great tutu-  not cheaply made</td>\n",
              "      <td>1297468800</td>\n",
              "    </tr>\n",
              "    <tr>\n",
              "      <th>1</th>\n",
              "      <td>0000031887</td>\n",
              "      <td>[0, 0]</td>\n",
              "      <td>5.0</td>\n",
              "      <td>I bought this for my 4 yr old daughter for dan...</td>\n",
              "      <td>01 19, 2013</td>\n",
              "      <td>A2G5TCU2WDFZ65</td>\n",
              "      <td>Amazon Customer</td>\n",
              "      <td>Very Cute!!</td>\n",
              "      <td>1358553600</td>\n",
              "    </tr>\n",
              "    <tr>\n",
              "      <th>2</th>\n",
              "      <td>0000031887</td>\n",
              "      <td>[0, 0]</td>\n",
              "      <td>5.0</td>\n",
              "      <td>What can I say... my daughters have it in oran...</td>\n",
              "      <td>01 4, 2013</td>\n",
              "      <td>A1RLQXYNCMWRWN</td>\n",
              "      <td>Carola</td>\n",
              "      <td>I have buy more than one</td>\n",
              "      <td>1357257600</td>\n",
              "    </tr>\n",
              "  </tbody>\n",
              "</table>\n",
              "</div>"
            ],
            "text/plain": [
              "    productID helpful  ...                        summary unixReviewTime\n",
              "0  0000031887  [0, 0]  ...  Great tutu-  not cheaply made     1297468800\n",
              "1  0000031887  [0, 0]  ...                    Very Cute!!     1358553600\n",
              "2  0000031887  [0, 0]  ...       I have buy more than one     1357257600\n",
              "\n",
              "[3 rows x 9 columns]"
            ]
          },
          "metadata": {
            "tags": []
          },
          "execution_count": 7
        }
      ]
    },
    {
      "cell_type": "markdown",
      "metadata": {
        "id": "d-SJ_j0eLdAO",
        "colab_type": "text"
      },
      "source": [
        "### Users and products"
      ]
    },
    {
      "cell_type": "code",
      "metadata": {
        "scrolled": false,
        "id": "z5WL24eHLdAP",
        "colab_type": "code",
        "outputId": "4492de34-eda2-4bff-d65a-a5995d9cfea0",
        "colab": {
          "base_uri": "https://localhost:8080/",
          "height": 101
        }
      },
      "source": [
        "(rows,cols) = dfull.shape\n",
        "n_users = dfull['userID'].nunique()\n",
        "n_products = dfull['productID'].nunique()\n",
        "print(\"Number of REVIEWS: \", rows)\n",
        "print(\"Number of USERS: \", n_users)\n",
        "print(\"Number of PRODUCTS: \", n_products)\n",
        "print(\"Average REVIEWS PER USER: \", rows/n_users)\n",
        "print(\"Average REVIEWS PER PRODUCT: \", rows/n_products)"
      ],
      "execution_count": 8,
      "outputs": [
        {
          "output_type": "stream",
          "text": [
            "Number of REVIEWS:  278677\n",
            "Number of USERS:  39387\n",
            "Number of PRODUCTS:  23033\n",
            "Average REVIEWS PER USER:  7.075354812501587\n",
            "Average REVIEWS PER PRODUCT:  12.099031823904832\n"
          ],
          "name": "stdout"
        }
      ]
    },
    {
      "cell_type": "markdown",
      "metadata": {
        "id": "0aDAEb4kLdA9",
        "colab_type": "text"
      },
      "source": [
        "### Manipulation"
      ]
    },
    {
      "cell_type": "markdown",
      "metadata": {
        "id": "9DDZraswLdA-",
        "colab_type": "text"
      },
      "source": [
        "#### Rejecting columns"
      ]
    },
    {
      "cell_type": "code",
      "metadata": {
        "scrolled": true,
        "id": "PAY_rpPiLdA_",
        "colab_type": "code",
        "colab": {}
      },
      "source": [
        "dfull = dfull.drop(['helpful', 'reviewTime', 'unixReviewTime', 'userName', 'text', 'summary', 'sentiment'], axis = 1, errors = 'ignore')"
      ],
      "execution_count": 0,
      "outputs": []
    },
    {
      "cell_type": "code",
      "metadata": {
        "id": "N8zqHOgXbrVK",
        "colab_type": "code",
        "outputId": "ee2aa515-31d3-4b85-bd4b-7f1e000b77bf",
        "colab": {
          "base_uri": "https://localhost:8080/",
          "height": 151
        }
      },
      "source": [
        "dfull.info()"
      ],
      "execution_count": 10,
      "outputs": [
        {
          "output_type": "stream",
          "text": [
            "<class 'pandas.core.frame.DataFrame'>\n",
            "Index: 278677 entries, 0 to 278676\n",
            "Data columns (total 3 columns):\n",
            "productID    278677 non-null object\n",
            "rating       278677 non-null float64\n",
            "userID       278677 non-null object\n",
            "dtypes: float64(1), object(2)\n",
            "memory usage: 8.5+ MB\n"
          ],
          "name": "stdout"
        }
      ]
    },
    {
      "cell_type": "markdown",
      "metadata": {
        "id": "-YoecvNDLdBB",
        "colab_type": "text"
      },
      "source": [
        "#### Binarization\n",
        "\n",
        "Since target variable (`rating`) is strongly unbalanced between low and high values, it is preferable to reduce the problem from multi-class to binary. Later on, some technique to manage unbalancement will be applied to the dataset, in order to fill the gap between the two binary classes.\n"
      ]
    },
    {
      "cell_type": "code",
      "metadata": {
        "scrolled": true,
        "id": "APold7gTLdBB",
        "colab_type": "code",
        "colab": {}
      },
      "source": [
        "# dfull['sentiment'] = ['positive' if r > 3 else 'negative' for r in dfull['rating']]\n",
        "\n",
        "# print(\"Sentiment count\")\n",
        "# dfull['sentiment'].value_counts()"
      ],
      "execution_count": 0,
      "outputs": []
    },
    {
      "cell_type": "markdown",
      "metadata": {
        "colab_type": "text",
        "id": "QD4mUbkXClLl"
      },
      "source": [
        "#### Undersampling\n",
        "\n",
        "As previously seen, target column (`rating`) is strongly unbalanced towards the positive class. Undersampling of the majority class is necessary here to achieve good machine learning preformances later. This mainly afftects prediction models *recall* metric."
      ]
    },
    {
      "cell_type": "code",
      "metadata": {
        "colab_type": "code",
        "id": "6zu_9j7OClKU",
        "colab": {}
      },
      "source": [
        "\n",
        "# # Separate majority and minority classes\n",
        "# positive_count = dfull['sentiment'].value_counts()['positive']\n",
        "# negative_count = dfull['sentiment'].value_counts()['negative']\n",
        "# df_majority = dfull[dfull.sentiment==('positive' if positive_count >= negative_count else 'negative')]\n",
        "# df_minority = dfull[dfull.sentiment==('negative' if positive_count >= negative_count else 'positive')]\n",
        " \n",
        "# # Downsample majority class\n",
        "# obj_samples = negative_count if positive_count >= negative_count else positive_count\n",
        "# df_majority_downsampled = resample(df_majority, \n",
        "#                                  replace=False,\n",
        "#                                  n_samples = obj_samples, # match minority class\n",
        "#                                  random_state=123) # reproducible results\n",
        " \n",
        "# # Combine minority class with downsampled majority class\n",
        "# df_downsampled = pd.concat([df_majority_downsampled, df_minority])\n",
        " \n",
        "# # Display new class counts\n",
        "# print(\"Positive/negative distribution post-undersampling\")\n",
        "# df_downsampled['sentiment'].value_counts()"
      ],
      "execution_count": 0,
      "outputs": []
    },
    {
      "cell_type": "markdown",
      "metadata": {
        "colab_type": "text",
        "id": "OAhCE9lzCkhK"
      },
      "source": [
        "\n",
        "\n",
        "---\n",
        "\n"
      ]
    },
    {
      "cell_type": "markdown",
      "metadata": {
        "id": "qTIISXJJLdAm",
        "colab_type": "text"
      },
      "source": [
        "***"
      ]
    },
    {
      "cell_type": "markdown",
      "metadata": {
        "id": "-CoDGz6RcTCl",
        "colab_type": "text"
      },
      "source": [
        "## Network Graph"
      ]
    },
    {
      "cell_type": "code",
      "metadata": {
        "id": "347WYNwCkFtD",
        "colab_type": "code",
        "colab": {}
      },
      "source": [
        "import scipy.sparse as sparse\n",
        "import networkx as nx"
      ],
      "execution_count": 0,
      "outputs": []
    },
    {
      "cell_type": "markdown",
      "metadata": {
        "id": "1c3Xw2PXMxhf",
        "colab_type": "text"
      },
      "source": [
        "**Reducing dataset**"
      ]
    },
    {
      "cell_type": "code",
      "metadata": {
        "id": "Zzc6bCkxNjJP",
        "colab_type": "code",
        "outputId": "7de053e4-37e8-4682-94a7-8879b4959e3a",
        "colab": {
          "base_uri": "https://localhost:8080/",
          "height": 34
        }
      },
      "source": [
        "print('Original reviews: ', len(dfull))"
      ],
      "execution_count": 14,
      "outputs": [
        {
          "output_type": "stream",
          "text": [
            "Original reviews:  278677\n"
          ],
          "name": "stdout"
        }
      ]
    },
    {
      "cell_type": "code",
      "metadata": {
        "id": "Lunp23IIMxm2",
        "colab_type": "code",
        "outputId": "920ea3d8-1699-4fe7-b725-3dcf828aa7aa",
        "colab": {
          "base_uri": "https://localhost:8080/",
          "height": 34
        }
      },
      "source": [
        "dfnet = dfull #[(dfull['date'] > '2014-04-01')]\n",
        "print('Reduced reviews: ', len(dfnet))"
      ],
      "execution_count": 15,
      "outputs": [
        {
          "output_type": "stream",
          "text": [
            "Reduced reviews:  278677\n"
          ],
          "name": "stdout"
        }
      ]
    },
    {
      "cell_type": "markdown",
      "metadata": {
        "id": "HWtc4TPN-VXR",
        "colab_type": "text"
      },
      "source": [
        "**Creating graph from Pandas data frame**"
      ]
    },
    {
      "cell_type": "code",
      "metadata": {
        "id": "9SACLesv-Vni",
        "colab_type": "code",
        "outputId": "4ddb234e-765d-4d06-b360-9054ec8a34e2",
        "colab": {
          "base_uri": "https://localhost:8080/",
          "height": 34
        }
      },
      "source": [
        "graph = nx.from_pandas_edgelist(df = dfnet, source = 'userID', target = 'productID', edge_attr = 'rating', create_using = nx.DiGraph)\n",
        "graph"
      ],
      "execution_count": 16,
      "outputs": [
        {
          "output_type": "execute_result",
          "data": {
            "text/plain": [
              "<networkx.classes.digraph.DiGraph at 0x7f1bc1a4b2e8>"
            ]
          },
          "metadata": {
            "tags": []
          },
          "execution_count": 16
        }
      ]
    },
    {
      "cell_type": "markdown",
      "metadata": {
        "id": "LjIHb_j2IQ1Y",
        "colab_type": "text"
      },
      "source": [
        "**Assertions**"
      ]
    },
    {
      "cell_type": "code",
      "metadata": {
        "id": "VlQoMvoMIPdu",
        "colab_type": "code",
        "outputId": "a1bb37d2-9022-4c77-bdb8-9173b276313e",
        "colab": {
          "base_uri": "https://localhost:8080/",
          "height": 101
        }
      },
      "source": [
        "net_users = dfnet.userID.nunique()\n",
        "net_products = dfnet.productID.nunique()\n",
        "\n",
        "\n",
        "edges = nx.number_of_edges(graph)\n",
        "nodes = nx.number_of_nodes(graph)\n",
        "\n",
        "assert edges == len(dfnet), 'wrong edge numbers (it must corresponds to record numbers = reviews)'\n",
        "assert nodes == net_users + net_products, 'wrong nodes numbers (it must corresponds to number of users plus number of products)'\n",
        "print(\"Edges (reviews): \", edges)\n",
        "print(\"Nodes (users + products): \", nodes)\n",
        "\n",
        "print()\n",
        "\n",
        "givers_nodes = [node_degree for node_degree in graph.out_degree() if node_degree[1] > 0]\n",
        "receivers_nodes = [node_degree for node_degree in graph.in_degree() if node_degree[1] > 0]\n",
        "\n",
        "assert len(givers_nodes) == net_users, 'source nodes differ from users'\n",
        "assert len(receivers_nodes) == net_products, 'target nodes differ from products'\n",
        "print(\"Users nodes: \", len(givers_nodes))\n",
        "print(\"Products nodes: \", len(receivers_nodes))"
      ],
      "execution_count": 17,
      "outputs": [
        {
          "output_type": "stream",
          "text": [
            "Edges (reviews):  278677\n",
            "Nodes (users + products):  62420\n",
            "\n",
            "Users nodes:  39387\n",
            "Products nodes:  23033\n"
          ],
          "name": "stdout"
        }
      ]
    },
    {
      "cell_type": "markdown",
      "metadata": {
        "id": "8s4vqvAyLKN_",
        "colab_type": "text"
      },
      "source": [
        "**Example**"
      ]
    },
    {
      "cell_type": "code",
      "metadata": {
        "id": "FmQIU0JOIfEu",
        "colab_type": "code",
        "outputId": "636d625c-3b9b-4a49-8e1e-5835ce780b2a",
        "colab": {
          "base_uri": "https://localhost:8080/",
          "height": 121
        }
      },
      "source": [
        "userID = dfnet.head(1)['userID'][0]\n",
        "productID = dfnet.head(1)['productID'][0]\n",
        "\n",
        "print('Products reviewed by user', userID, ':\\n', list(graph.successors(userID)))\n",
        "print()\n",
        "print('Users who reviewed product', productID, ':\\n', list(graph.predecessors(productID)))"
      ],
      "execution_count": 18,
      "outputs": [
        {
          "output_type": "stream",
          "text": [
            "Products reviewed by user A1KLRMWW2FWPL4 :\n",
            " ['0000031887', 'B000FH4JJQ', 'B002NPCJ5E', 'B003U3GOFO', 'B00400N6XE', 'B008NBSBHW', 'B009H6NPBE']\n",
            "\n",
            "Users who reviewed product 0000031887 :\n",
            " ['A1KLRMWW2FWPL4', 'A2G5TCU2WDFZ65', 'A1RLQXYNCMWRWN', 'A8U3FAMSJVHS5', 'A3GEOILWLK86XM', 'A27UF1MSF3DB2', 'A16GFPNVF4Y816', 'A2M2APVYIB2U6K', 'A1NJ71X3YPQNQ9', 'A3EERSWHAI6SO', 'AX1QE6IR7CHXM', 'A2A2WZYLU528RO', 'A391EXIT5TFP72', 'A34ATJR9KFIXL9', 'AJ6B83I4YJHYW', 'A26A4KKLAVTMCC', 'A1MXJVYXE2QU6H', 'A2XJ13PIXVJFJH', 'A287XY94U7JDM8', 'A1JR9KKF6UKUWW', 'A2SX7X8QGQVCJU', 'A2Q6UWR5PBHTJS', 'AJZPHJR944IBB']\n"
          ],
          "name": "stdout"
        }
      ]
    },
    {
      "cell_type": "markdown",
      "metadata": {
        "id": "8IWjtDChBu7J",
        "colab_type": "text"
      },
      "source": [
        "**Saving to graphML file**"
      ]
    },
    {
      "cell_type": "code",
      "metadata": {
        "id": "wQwI9o7L_-ru",
        "colab_type": "code",
        "colab": {
          "base_uri": "https://localhost:8080/",
          "height": 121
        },
        "outputId": "3c675ba2-19cc-4a3e-e425-4cc411d86cad"
      },
      "source": [
        "from google.colab import drive\n",
        "drive.mount('/content/drive')\n",
        "drivepath = '/content/drive/My Drive/Data Analytics/'\n",
        "\n",
        "nx.write_graphml(graph, drivepath + f'network-{len(dfnet)}.graphml')"
      ],
      "execution_count": 19,
      "outputs": [
        {
          "output_type": "stream",
          "text": [
            "Go to this URL in a browser: https://accounts.google.com/o/oauth2/auth?client_id=947318989803-6bn6qk8qdgf4n4g3pfee6491hc0brc4i.apps.googleusercontent.com&redirect_uri=urn%3Aietf%3Awg%3Aoauth%3A2.0%3Aoob&scope=email%20https%3A%2F%2Fwww.googleapis.com%2Fauth%2Fdocs.test%20https%3A%2F%2Fwww.googleapis.com%2Fauth%2Fdrive%20https%3A%2F%2Fwww.googleapis.com%2Fauth%2Fdrive.photos.readonly%20https%3A%2F%2Fwww.googleapis.com%2Fauth%2Fpeopleapi.readonly&response_type=code\n",
            "\n",
            "Enter your authorization code:\n",
            "··········\n",
            "Mounted at /content/drive\n"
          ],
          "name": "stdout"
        }
      ]
    },
    {
      "cell_type": "markdown",
      "metadata": {
        "id": "a6xLl8fdRozv",
        "colab_type": "text"
      },
      "source": [
        "### Degree"
      ]
    },
    {
      "cell_type": "markdown",
      "metadata": {
        "id": "5GpcgwBz6-HT",
        "colab_type": "text"
      },
      "source": [
        "**In-degree (reviews received)**"
      ]
    },
    {
      "cell_type": "code",
      "metadata": {
        "id": "t1cd1c-3zNct",
        "colab_type": "code",
        "outputId": "e6c31d2c-9cc1-4158-abf7-8829fd24c327",
        "colab": {
          "base_uri": "https://localhost:8080/",
          "height": 286
        }
      },
      "source": [
        "in_degrees = [x[1] for x in graph.in_degree]\n",
        "degreeCount = collections.Counter(in_degrees)\n",
        "deg, cnt = zip(*degreeCount.items()) # unroll (degree, count) into different lists for matplotlib\n",
        "plt.bar(deg, cnt, log = True)"
      ],
      "execution_count": 20,
      "outputs": [
        {
          "output_type": "execute_result",
          "data": {
            "text/plain": [
              "<BarContainer object of 153 artists>"
            ]
          },
          "metadata": {
            "tags": []
          },
          "execution_count": 20
        },
        {
          "output_type": "display_data",
          "data": {
            "image/png": "[encoded data removed]",
            "text/plain": [
              "<Figure size 432x288 with 1 Axes>"
            ]
          },
          "metadata": {
            "tags": []
          }
        }
      ]
    },
    {
      "cell_type": "markdown",
      "metadata": {
        "id": "WQX0B91x6_vT",
        "colab_type": "text"
      },
      "source": [
        "**Out-degree (reviews given)**"
      ]
    },
    {
      "cell_type": "code",
      "metadata": {
        "id": "AjKbtNPt4Ena",
        "colab_type": "code",
        "outputId": "7c8d6be6-826b-4bf9-fb0f-531efb4d792a",
        "colab": {
          "base_uri": "https://localhost:8080/",
          "height": 286
        }
      },
      "source": [
        "out_degrees = [x[1] for x in graph.out_degree]\n",
        "degreeCount = collections.Counter(out_degrees)\n",
        "deg, cnt = zip(*degreeCount.items()) # unroll (degree, count) into different lists for matplotlib\n",
        "plt.bar(deg, cnt, log = True)"
      ],
      "execution_count": 21,
      "outputs": [
        {
          "output_type": "execute_result",
          "data": {
            "text/plain": [
              "<BarContainer object of 57 artists>"
            ]
          },
          "metadata": {
            "tags": []
          },
          "execution_count": 21
        },
        {
          "output_type": "display_data",
          "data": {
            "image/png": "[encoded data removed]",
            "text/plain": [
              "<Figure size 432x288 with 1 Axes>"
            ]
          },
          "metadata": {
            "tags": []
          }
        }
      ]
    },
    {
      "cell_type": "markdown",
      "metadata": {
        "id": "vmEKV8pTci6L",
        "colab_type": "text"
      },
      "source": [
        "## Centrality Measures"
      ]
    },
    {
      "cell_type": "markdown",
      "metadata": {
        "colab_type": "text",
        "id": "_SMNwXnNg0Ft"
      },
      "source": [
        "## Collaborative Filtering"
      ]
    },
    {
      "cell_type": "markdown",
      "metadata": {
        "id": "KG60zI3ej7zi",
        "colab_type": "text"
      },
      "source": [
        "### Undersampling"
      ]
    },
    {
      "cell_type": "code",
      "metadata": {
        "id": "q73WV2NQ0_4d",
        "colab_type": "code",
        "outputId": "70fc3921-f416-43d7-c4c9-249823319a46",
        "colab": {
          "base_uri": "https://localhost:8080/",
          "height": 286
        }
      },
      "source": [
        "dfull['rating'].hist()"
      ],
      "execution_count": 22,
      "outputs": [
        {
          "output_type": "execute_result",
          "data": {
            "text/plain": [
              "<matplotlib.axes._subplots.AxesSubplot at 0x7f1ba27fa6d8>"
            ]
          },
          "metadata": {
            "tags": []
          },
          "execution_count": 22
        },
        {
          "output_type": "display_data",
          "data": {
            "image/png": "[encoded data removed]",
            "text/plain": [
              "<Figure size 432x288 with 1 Axes>"
            ]
          },
          "metadata": {
            "tags": []
          }
        }
      ]
    },
    {
      "cell_type": "code",
      "metadata": {
        "id": "mx-TDVX0zQUl",
        "colab_type": "code",
        "outputId": "b704dacd-ae9e-4582-e6a4-52e74d91043f",
        "colab": {
          "base_uri": "https://localhost:8080/",
          "height": 286
        }
      },
      "source": [
        "# # Separate majority and minority classes\n",
        "df_minority = dfull[(dfull.rating!=5) & (dfull.rating!=4)]\n",
        "df_4 = dfull[dfull.rating==4]\n",
        "df_5 = dfull[dfull.rating==5]\n",
        "resampling_count = dfull['rating'].value_counts()[3]\n",
        " \n",
        "# Downsample majority class\n",
        "df_4_down = resample(df_4, \n",
        "                     replace=False,\n",
        "                     n_samples = resampling_count,\n",
        "                     random_state=123) # reproducible results\n",
        "\n",
        "# Downsample majority class\n",
        "df_5_down = resample(df_5, \n",
        "                     replace=False,\n",
        "                     n_samples = resampling_count,\n",
        "                     random_state=123) # reproducible results\n",
        " \n",
        "# Combine minority class with downsampled majority class\n",
        "df_downsampled = pd.concat([df_minority, df_4_down, df_5_down])\n",
        " \n",
        "# Display new class counts\n",
        "df_downsampled['rating'].hist()"
      ],
      "execution_count": 23,
      "outputs": [
        {
          "output_type": "execute_result",
          "data": {
            "text/plain": [
              "<matplotlib.axes._subplots.AxesSubplot at 0x7f1ba26efa20>"
            ]
          },
          "metadata": {
            "tags": []
          },
          "execution_count": 23
        },
        {
          "output_type": "display_data",
          "data": {
            "image/png": "[encoded data removed]",
            "text/plain": [
              "<Figure size 432x288 with 1 Axes>"
            ]
          },
          "metadata": {
            "tags": []
          }
        }
      ]
    },
    {
      "cell_type": "markdown",
      "metadata": {
        "id": "n1MoAPVpzMro",
        "colab_type": "text"
      },
      "source": [
        "### Creating dataset for collaborative filtering"
      ]
    },
    {
      "cell_type": "code",
      "metadata": {
        "id": "EI_CbWodltkc",
        "colab_type": "code",
        "outputId": "22a508ed-658b-49b9-80cb-97b0f7bf1735",
        "colab": {
          "base_uri": "https://localhost:8080/",
          "height": 151
        }
      },
      "source": [
        "dflearn = df_downsampled\n",
        "dflearn.info()"
      ],
      "execution_count": 24,
      "outputs": [
        {
          "output_type": "stream",
          "text": [
            "<class 'pandas.core.frame.DataFrame'>\n",
            "Index: 117930 entries, 15 to 262698\n",
            "Data columns (total 3 columns):\n",
            "productID    117930 non-null object\n",
            "rating       117930 non-null float64\n",
            "userID       117930 non-null object\n",
            "dtypes: float64(1), object(2)\n",
            "memory usage: 3.6+ MB\n"
          ],
          "name": "stdout"
        }
      ]
    },
    {
      "cell_type": "code",
      "metadata": {
        "id": "lV_9QwGXqQpF",
        "colab_type": "code",
        "outputId": "627e0601-487a-4865-c88f-f0dc54745dd3",
        "colab": {
          "base_uri": "https://localhost:8080/",
          "height": 151
        }
      },
      "source": [
        "# converting strings to categories\n",
        "series2cat(dflearn, 'productID', 'userID')\n",
        "\n",
        "# reordering columns for fastai standard format\n",
        "dflearn = dflearn[['userID', 'productID', 'rating']]\n",
        "dflearn.info()"
      ],
      "execution_count": 25,
      "outputs": [
        {
          "output_type": "stream",
          "text": [
            "<class 'pandas.core.frame.DataFrame'>\n",
            "Index: 117930 entries, 15 to 262698\n",
            "Data columns (total 3 columns):\n",
            "userID       117930 non-null category\n",
            "productID    117930 non-null category\n",
            "rating       117930 non-null float64\n",
            "dtypes: category(2), float64(1)\n",
            "memory usage: 4.8+ MB\n"
          ],
          "name": "stdout"
        }
      ]
    },
    {
      "cell_type": "code",
      "metadata": {
        "id": "-MonBiMsojxd",
        "colab_type": "code",
        "outputId": "b58abb54-ff0b-47a8-a976-bd202edfe5c6",
        "colab": {
          "base_uri": "https://localhost:8080/",
          "height": 195
        }
      },
      "source": [
        "# creating collaborative filtering dataset\n",
        "data = CollabDataBunch.from_df(dflearn, seed=42, valid_pct = 0.2)\n",
        "data.show_batch()"
      ],
      "execution_count": 26,
      "outputs": [
        {
          "output_type": "display_data",
          "data": {
            "text/html": [
              "<table border=\"1\" class=\"dataframe\">\n",
              "  <thead>\n",
              "    <tr style=\"text-align: right;\">\n",
              "      <th>userID</th>\n",
              "      <th>productID</th>\n",
              "      <th>target</th>\n",
              "    </tr>\n",
              "  </thead>\n",
              "  <tbody>\n",
              "    <tr>\n",
              "      <td>A1JBP9R0PA5DW3</td>\n",
              "      <td>B00134L8XU</td>\n",
              "      <td>3.0</td>\n",
              "    </tr>\n",
              "    <tr>\n",
              "      <td>A29CEI6U2BLLCK</td>\n",
              "      <td>B005LERHD8</td>\n",
              "      <td>4.0</td>\n",
              "    </tr>\n",
              "    <tr>\n",
              "      <td>A24HUA0ATCXTSZ</td>\n",
              "      <td>B0083M23HA</td>\n",
              "      <td>5.0</td>\n",
              "    </tr>\n",
              "    <tr>\n",
              "      <td>A34YCUDOCJOYTC</td>\n",
              "      <td>B004VW55NA</td>\n",
              "      <td>3.0</td>\n",
              "    </tr>\n",
              "    <tr>\n",
              "      <td>A3F7M2JW9TZSAV</td>\n",
              "      <td>B007VQNFNK</td>\n",
              "      <td>4.0</td>\n",
              "    </tr>\n",
              "  </tbody>\n",
              "</table>"
            ],
            "text/plain": [
              "<IPython.core.display.HTML object>"
            ]
          },
          "metadata": {
            "tags": []
          }
        }
      ]
    },
    {
      "cell_type": "code",
      "metadata": {
        "id": "5x92tB2ZLj0S",
        "colab_type": "code",
        "colab": {}
      },
      "source": [
        "n_cicles = 5"
      ],
      "execution_count": 0,
      "outputs": []
    },
    {
      "cell_type": "markdown",
      "metadata": {
        "id": "4Fc5UOGeKtF3",
        "colab_type": "text"
      },
      "source": [
        "### EmbeddingDotBias"
      ]
    },
    {
      "cell_type": "code",
      "metadata": {
        "id": "wbl4My1Qx3-5",
        "colab_type": "code",
        "colab": {}
      },
      "source": [
        "learn = collab_learner(data, n_factors=50, y_range=(1,5), use_nn = False, callback_fns=ShowGraph)\n",
        "#learn.loss_func = torch.nn.MSELoss() # changing loss function (default is MSE)"
      ],
      "execution_count": 0,
      "outputs": []
    },
    {
      "cell_type": "code",
      "metadata": {
        "id": "rmVBvXIQA1-w",
        "colab_type": "code",
        "outputId": "86e544e1-d3bf-4112-de3f-12d65567b1f8",
        "colab": {
          "base_uri": "https://localhost:8080/",
          "height": 334
        }
      },
      "source": [
        "# learn.unfreeze()\n",
        "learn.lr_find() # find learning rate\n",
        "learn.recorder.plot(suggestion = True) # plot learning rate graph"
      ],
      "execution_count": 29,
      "outputs": [
        {
          "output_type": "display_data",
          "data": {
            "text/html": [
              ""
            ],
            "text/plain": [
              "<IPython.core.display.HTML object>"
            ]
          },
          "metadata": {
            "tags": []
          }
        },
        {
          "output_type": "stream",
          "text": [
            "LR Finder is complete, type {learner_name}.recorder.plot() to see the graph.\n",
            "Min numerical gradient: 7.59E-05\n",
            "Min loss divided by 10: 6.31E-08\n"
          ],
          "name": "stdout"
        },
        {
          "output_type": "display_data",
          "data": {
            "image/png": "[encoded data removed]",
            "text/plain": [
              "<Figure size 432x288 with 1 Axes>"
            ]
          },
          "metadata": {
            "tags": []
          }
        }
      ]
    },
    {
      "cell_type": "code",
      "metadata": {
        "id": "b_4v9L1dsbg4",
        "colab_type": "code",
        "outputId": "099d7721-e1d7-4471-914d-7bafe34fe749",
        "colab": {
          "base_uri": "https://localhost:8080/",
          "height": 464
        }
      },
      "source": [
        "print('Training results')\n",
        "learn.fit_one_cycle(n_cicles, 5e-3, wd=0.1)\n",
        "\n",
        "# learn.save('amazon-reviews-dot-1')"
      ],
      "execution_count": 30,
      "outputs": [
        {
          "output_type": "stream",
          "text": [
            "Training results\n"
          ],
          "name": "stdout"
        },
        {
          "output_type": "display_data",
          "data": {
            "text/html": [
              "<table border=\"1\" class=\"dataframe\">\n",
              "  <thead>\n",
              "    <tr style=\"text-align: left;\">\n",
              "      <th>epoch</th>\n",
              "      <th>train_loss</th>\n",
              "      <th>valid_loss</th>\n",
              "      <th>time</th>\n",
              "    </tr>\n",
              "  </thead>\n",
              "  <tbody>\n",
              "    <tr>\n",
              "      <td>0</td>\n",
              "      <td>1.760529</td>\n",
              "      <td>1.734778</td>\n",
              "      <td>00:16</td>\n",
              "    </tr>\n",
              "    <tr>\n",
              "      <td>1</td>\n",
              "      <td>1.601338</td>\n",
              "      <td>1.672045</td>\n",
              "      <td>00:16</td>\n",
              "    </tr>\n",
              "    <tr>\n",
              "      <td>2</td>\n",
              "      <td>1.290431</td>\n",
              "      <td>1.653075</td>\n",
              "      <td>00:16</td>\n",
              "    </tr>\n",
              "    <tr>\n",
              "      <td>3</td>\n",
              "      <td>0.982802</td>\n",
              "      <td>1.650395</td>\n",
              "      <td>00:16</td>\n",
              "    </tr>\n",
              "    <tr>\n",
              "      <td>4</td>\n",
              "      <td>0.757469</td>\n",
              "      <td>1.650385</td>\n",
              "      <td>00:16</td>\n",
              "    </tr>\n",
              "  </tbody>\n",
              "</table>"
            ],
            "text/plain": [
              "<IPython.core.display.HTML object>"
            ]
          },
          "metadata": {
            "tags": []
          }
        },
        {
          "output_type": "display_data",
          "data": {
            "image/png": "[encoded data removed]",
            "text/plain": [
              "<Figure size 432x288 with 1 Axes>"
            ]
          },
          "metadata": {
            "tags": []
          }
        }
      ]
    },
    {
      "cell_type": "markdown",
      "metadata": {
        "id": "8jwbpcvQHBsW",
        "colab_type": "text"
      },
      "source": [
        "#### Interpretation\n",
        "\n",
        "https://towardsdatascience.com/collaborative-filtering-with-fastai-3dbdd4ef4f00"
      ]
    },
    {
      "cell_type": "code",
      "metadata": {
        "id": "jPlbZKPxGnXe",
        "colab_type": "code",
        "outputId": "b59cf90f-abbd-4584-bdf2-1cac0cc97034",
        "colab": {
          "base_uri": "https://localhost:8080/",
          "height": 50
        }
      },
      "source": [
        "g = dflearn.groupby('productID')['rating'].count()\n",
        "top_ratings = g.sort_values(ascending=False).index.values[:1000]\n",
        "top_ratings = top_ratings.astype(str)\n",
        "top_ratings"
      ],
      "execution_count": 31,
      "outputs": [
        {
          "output_type": "execute_result",
          "data": {
            "text/plain": [
              "array(['B005LERHD8', 'B005GYGD7O', 'B000T9VK56', 'B002RADHJC', ..., 'B005LMTW6K', 'B007BZ5CUU', 'B000SMNL2E',\n",
              "       'B003YJ4RYO'], dtype='<U10')"
            ]
          },
          "metadata": {
            "tags": []
          },
          "execution_count": 31
        }
      ]
    },
    {
      "cell_type": "code",
      "metadata": {
        "id": "9GQXiaFrHBDX",
        "colab_type": "code",
        "outputId": "47cbe255-0e1d-46f4-8d2d-ac216622dfdf",
        "colab": {
          "base_uri": "https://localhost:8080/",
          "height": 138
        }
      },
      "source": [
        "# get biases for top products\n",
        "product_bias = learn.bias(top_ratings, is_item=True)\n",
        "\n",
        "# get mean ratings\n",
        "mean_ratings = dflearn.groupby('productID')['rating'].mean()\n",
        "product_ratings = [(b, top_ratings[i], mean_ratings.loc[tb]) for i, (tb, b) in enumerate(zip(top_ratings, product_bias))]\n",
        "\n",
        "# print product bias information\n",
        "item0 = lambda o:o[0]\n",
        "print(sorted(product_ratings, key=item0)[:15])\n",
        "print(sorted(product_ratings, key=item0, reverse=True)[:15])\n",
        "\n",
        "# get weights\n",
        "product_w = learn.weight(top_ratings, is_item=True)\n",
        "\n",
        "# transform weights to 3 dimensions\n",
        "product_pca = product_w.pca(3)\n",
        "\n",
        "# get prinicipal components\n",
        "fac0,fac1,fac2 = product_pca.t()\n",
        "product_comp = [(f, i) for f,i in zip(fac0, top_ratings)]\n",
        "\n",
        "# print fac0 information\n",
        "print(sorted(product_comp, key=itemgetter(0), reverse=True)[:10])\n",
        "print(sorted(product_comp, key=itemgetter(0))[:10])\n",
        "\n",
        "# print fac1 information\n",
        "product_comp = [(f, i) for f,i in zip(fac1, top_ratings)]\n",
        "print(sorted(product_comp, key=itemgetter(0), reverse=True)[:10])\n",
        "print(sorted(product_comp, key=itemgetter(0))[:10])"
      ],
      "execution_count": 32,
      "outputs": [
        {
          "output_type": "stream",
          "text": [
            "[(tensor(-0.5439), 'B00DNV1IJK', 1.75), (tensor(-0.4070), 'B00DM0587K', 2.1176470588235294), (tensor(-0.3778), 'B004WKRAB6', 1.8333333333333333), (tensor(-0.3584), 'B00AFPZBUY', 2.0625), (tensor(-0.3554), 'B00FEEA4MG', 2.12), (tensor(-0.3397), 'B00DMWQLB0', 2.4358974358974357), (tensor(-0.3159), 'B00A76LPU6', 2.0), (tensor(-0.3127), 'B008KM948O', 2.25), (tensor(-0.2976), 'B002K6F79G', 2.706896551724138), (tensor(-0.2958), 'B004Z1CZDK', 2.5342465753424657), (tensor(-0.2936), 'B007HXMQXM', 2.0), (tensor(-0.2890), 'B004ZGBXUQ', 2.235294117647059), (tensor(-0.2843), 'B00FF394VI', 2.238095238095238), (tensor(-0.2835), 'B003QMMSZ4', 2.3823529411764706), (tensor(-0.2833), 'B002JWF6OC', 2.45)]\n",
            "[(tensor(0.7667), 'B002PHLVJA', 4.339285714285714), (tensor(0.6797), 'B0013KDS96', 4.483870967741935), (tensor(0.6377), 'B0058XIMMM', 3.961038961038961), (tensor(0.6306), 'B0068VM5T4', 4.191489361702128), (tensor(0.5686), 'B002KMI7OC', 4.041666666666667), (tensor(0.5556), 'B0019MPRJW', 4.291666666666667), (tensor(0.5454), 'B000WUOVXK', 4.4), (tensor(0.5355), 'B008X061B6', 4.173913043478261), (tensor(0.5352), 'B000FBO0DM', 3.977272727272727), (tensor(0.5278), 'B000DZUGOM', 3.9583333333333335), (tensor(0.5277), 'B007NLX16O', 3.9178082191780823), (tensor(0.5130), 'B00BNB36ZG', 4.225806451612903), (tensor(0.5096), 'B009ZDEXQK', 4.32258064516129), (tensor(0.5006), 'B000B8P7Y0', 4.4), (tensor(0.4904), 'B005CSNTJY', 3.8846153846153846)]\n",
            "[(tensor(1.4389), 'B008UKZ868'), (tensor(1.3841), 'B005LERHD8'), (tensor(1.0731), 'B0067GUM2W'), (tensor(0.9332), 'B00BNB3A0W'), (tensor(0.8467), 'B0002TOZ1E'), (tensor(0.8407), 'B007HON75C'), (tensor(0.8316), 'B000B14ERS'), (tensor(0.8298), 'B0011D2FL2'), (tensor(0.8288), 'B003YBHF82'), (tensor(0.8138), 'B005CSNTJY')]\n",
            "[(tensor(-1.2975), 'B0008172S4'), (tensor(-1.2908), 'B000QW6LE6'), (tensor(-1.2613), 'B00012O12A'), (tensor(-1.0650), 'B007WA3K4Y'), (tensor(-0.9521), 'B009YRM6MK'), (tensor(-0.9510), 'B0006LMBJ6'), (tensor(-0.9474), 'B00DSV2ESE'), (tensor(-0.9091), 'B00DMWQOYY'), (tensor(-0.8423), 'B000GOVRDE'), (tensor(-0.8246), 'B00CN47GXA')]\n",
            "[(tensor(1.3351), 'B003XDVUEQ'), (tensor(1.1536), 'B00DQYNS3I'), (tensor(1.0594), 'B0078FXHNM'), (tensor(0.9711), 'B00F9RNVM8'), (tensor(0.9081), 'B0012M0XSE'), (tensor(0.8942), 'B0058XIMMM'), (tensor(0.8725), 'B000NGKLNC'), (tensor(0.8678), 'B000MQWYM4'), (tensor(0.8626), 'B000P50VWM'), (tensor(0.8447), 'B004A7XXLM')]\n",
            "[(tensor(-1.7363), 'B002RADHJC'), (tensor(-1.6437), 'B000KEG4V0'), (tensor(-0.9885), 'B004Z1CZDK'), (tensor(-0.9501), 'B004M6XUI2'), (tensor(-0.9430), 'B00016QOTE'), (tensor(-0.9427), 'B00075ZWR4'), (tensor(-0.9382), 'B008X0EW44'), (tensor(-0.8923), 'B0018OM1TU'), (tensor(-0.8649), 'B009QPSX5E'), (tensor(-0.8110), 'B003P2VPV8')]\n"
          ],
          "name": "stdout"
        }
      ]
    },
    {
      "cell_type": "code",
      "metadata": {
        "id": "vzm89ZoDHzDB",
        "colab_type": "code",
        "outputId": "236e1e0c-7a5f-4ac9-b01a-8a2a91646354",
        "colab": {
          "base_uri": "https://localhost:8080/",
          "height": 879
        }
      },
      "source": [
        "idxs = np.random.choice(len(top_ratings), 50, replace=False)\n",
        "idxs = list(range(50))\n",
        "X = fac0[idxs]\n",
        "Y = fac2[idxs]\n",
        "plt.figure(figsize=(15,15))\n",
        "plt.scatter(X, Y)\n",
        "for i, x, y in zip(top_ratings[idxs], X, Y):\n",
        "    plt.text(x,y,i, color=np.random.rand(3)*0.7, fontsize=11)\n",
        "plt.title('Weight Embedding visualization')\n",
        "plt.show()"
      ],
      "execution_count": 33,
      "outputs": [
        {
          "output_type": "display_data",
          "data": {
            "image/png": "[encoded data removed]",
            "text/plain": [
              "<Figure size 1080x1080 with 1 Axes>"
            ]
          },
          "metadata": {
            "tags": []
          }
        }
      ]
    },
    {
      "cell_type": "markdown",
      "metadata": {
        "id": "hbTWQdbZKKci",
        "colab_type": "text"
      },
      "source": [
        "### EmeddingNN"
      ]
    },
    {
      "cell_type": "code",
      "metadata": {
        "id": "ntNPlNsTKK10",
        "colab_type": "code",
        "outputId": "8a49a5d5-ba01-426f-fc05-3ef53ba7cdd1",
        "colab": {
          "base_uri": "https://localhost:8080/",
          "height": 195
        }
      },
      "source": [
        "learn = collab_learner(data, use_nn=True, emb_szs={'userID': 40, 'productID':40}, layers=[256, 128], y_range=(1, 5))\n",
        "learn.fit_one_cycle(n_cicles, 1e-3, wd=0.1)\n",
        "\n",
        "# learn.save('amazon-reviews-nn-1')"
      ],
      "execution_count": 34,
      "outputs": [
        {
          "output_type": "display_data",
          "data": {
            "text/html": [
              "<table border=\"1\" class=\"dataframe\">\n",
              "  <thead>\n",
              "    <tr style=\"text-align: left;\">\n",
              "      <th>epoch</th>\n",
              "      <th>train_loss</th>\n",
              "      <th>valid_loss</th>\n",
              "      <th>time</th>\n",
              "    </tr>\n",
              "  </thead>\n",
              "  <tbody>\n",
              "    <tr>\n",
              "      <td>0</td>\n",
              "      <td>1.552157</td>\n",
              "      <td>1.556052</td>\n",
              "      <td>00:20</td>\n",
              "    </tr>\n",
              "    <tr>\n",
              "      <td>1</td>\n",
              "      <td>1.436589</td>\n",
              "      <td>1.504095</td>\n",
              "      <td>00:20</td>\n",
              "    </tr>\n",
              "    <tr>\n",
              "      <td>2</td>\n",
              "      <td>0.994892</td>\n",
              "      <td>1.663971</td>\n",
              "      <td>00:20</td>\n",
              "    </tr>\n",
              "    <tr>\n",
              "      <td>3</td>\n",
              "      <td>0.465726</td>\n",
              "      <td>1.729782</td>\n",
              "      <td>00:20</td>\n",
              "    </tr>\n",
              "    <tr>\n",
              "      <td>4</td>\n",
              "      <td>0.224915</td>\n",
              "      <td>1.760545</td>\n",
              "      <td>00:20</td>\n",
              "    </tr>\n",
              "  </tbody>\n",
              "</table>"
            ],
            "text/plain": [
              "<IPython.core.display.HTML object>"
            ]
          },
          "metadata": {
            "tags": []
          }
        }
      ]
    },
    {
      "cell_type": "code",
      "metadata": {
        "id": "eat9eaqXMWZq",
        "colab_type": "code",
        "colab": {}
      },
      "source": [
        "interp = ClassificationInterpretation.from_learner(learn)"
      ],
      "execution_count": 0,
      "outputs": []
    },
    {
      "cell_type": "code",
      "metadata": {
        "id": "MRrB63RqNA9F",
        "colab_type": "code",
        "colab": {}
      },
      "source": [
        "# interp.confusion_matrix()"
      ],
      "execution_count": 0,
      "outputs": []
    }
  ]
}