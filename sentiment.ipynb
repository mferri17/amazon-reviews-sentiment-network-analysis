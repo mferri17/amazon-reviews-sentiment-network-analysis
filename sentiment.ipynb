{
  "nbformat": 4,
  "nbformat_minor": 0,
  "metadata": {
    "colab": {
      "name": "sentiment.ipynb",
      "version": "0.3.2",
      "provenance": [],
      "collapsed_sections": [],
      "include_colab_link": true
    },
    "language_info": {
      "codemirror_mode": {
        "name": "ipython",
        "version": 3
      },
      "file_extension": ".py",
      "mimetype": "text/x-python",
      "name": "python",
      "nbconvert_exporter": "python",
      "pygments_lexer": "ipython3",
      "version": "3.7.3"
    },
    "kernelspec": {
      "display_name": "Python 3",
      "language": "python",
      "name": "python3"
    }
  },
  "cells": [
    {
      "cell_type": "markdown",
      "metadata": {
        "id": "view-in-github",
        "colab_type": "text"
      },
      "source": [
        "<a href=\"https://colab.research.google.com/github/mferri17/amazon-reviews-sentiment-network-analysis/blob/master/sentiment.ipynb\" target=\"_parent\"><img src=\"https://colab.research.google.com/assets/colab-badge.svg\" alt=\"Open In Colab\"/></a>"
      ]
    },
    {
      "cell_type": "markdown",
      "metadata": {
        "id": "ysBCOUbpLc_k",
        "colab_type": "text"
      },
      "source": [
        "# Amazon Reviews Sentiment Analysis - Ferri Marco, Basso Matteo"
      ]
    },
    {
      "cell_type": "markdown",
      "metadata": {
        "id": "FpMdBSI2Lc_l",
        "colab_type": "text"
      },
      "source": [
        "This project aims to experiment with sentiment analysis on [Amazon Reviews](http://jmcauley.ucsd.edu/data/amazon/) in order to build a prediction model for rating, based on NLP."
      ]
    },
    {
      "cell_type": "markdown",
      "metadata": {
        "id": "LfwyCK9SLc_m",
        "colab_type": "text"
      },
      "source": [
        "## Dataset"
      ]
    },
    {
      "cell_type": "markdown",
      "metadata": {
        "id": "lxwEn1LnX2Kx",
        "colab_type": "text"
      },
      "source": [
        "### Dependencies"
      ]
    },
    {
      "cell_type": "code",
      "metadata": {
        "scrolled": false,
        "id": "ATRnE5hmLc_n",
        "colab_type": "code",
        "colab": {}
      },
      "source": [
        "import os\n",
        "import gzip\n",
        "import fileinput\n",
        "import sys\n",
        "import datetime\n",
        "import io\n",
        "import urllib\n",
        "import pandas as pd\n",
        "import numpy as np\n",
        "import matplotlib.pyplot as plt"
      ],
      "execution_count": 0,
      "outputs": []
    },
    {
      "cell_type": "markdown",
      "metadata": {
        "id": "Ivh_vmWKLc_r",
        "colab_type": "text"
      },
      "source": [
        "### Reading"
      ]
    },
    {
      "cell_type": "markdown",
      "metadata": {
        "id": "HFHgiBhULc_s",
        "colab_type": "text"
      },
      "source": [
        "\n",
        "Util functions to read from JSON and convert into pandas dataframe:"
      ]
    },
    {
      "cell_type": "code",
      "metadata": {
        "scrolled": false,
        "id": "dS8W2vxFLc_t",
        "colab_type": "code",
        "colab": {}
      },
      "source": [
        "def parse(path):\n",
        "  g = gzip.open(path, 'rb')\n",
        "  for l in g:\n",
        "    yield eval(l)\n",
        "\n",
        "def getDF(path):\n",
        "  df = []\n",
        "  for d in parse(path):\n",
        "    df.append(d)\n",
        "  return pd.DataFrame(df)\n",
        "\n",
        "def read_dataset(dataset):      \n",
        "    basepath = r\"datasets\\amazon-5-core\"\n",
        "    df = getDF(os.path.join(basepath, dataset))\n",
        "    return df\n",
        "  \n",
        "def download_dataset(dataset):\n",
        "    request = urllib.request.Request('http://snap.stanford.edu/data/amazon/productGraph/categoryFiles/' + dataset)\n",
        "    request.add_header('Accept-encoding', 'gzip')\n",
        "    response = urllib.request.urlopen(request)\n",
        "    buf = io.BytesIO(response.read())\n",
        "    file = gzip.GzipFile(fileobj=buf)\n",
        "    df = []\n",
        "    for line in file:\n",
        "      df.append(eval(line))\n",
        "    return pd.DataFrame(df)"
      ],
      "execution_count": 0,
      "outputs": []
    },
    {
      "cell_type": "markdown",
      "metadata": {
        "id": "vTmIPVTqLc_v",
        "colab_type": "text"
      },
      "source": [
        "Reading from JSON"
      ]
    },
    {
      "cell_type": "code",
      "metadata": {
        "scrolled": false,
        "id": "GVoQ1KOhLc_w",
        "colab_type": "code",
        "outputId": "a24640a8-7bd5-4878-8e01-5b0aebd4db98",
        "colab": {
          "base_uri": "https://localhost:8080/",
          "height": 50
        }
      },
      "source": [
        "#%time dfull = read_dataset(\"reviews_Video_Games_5.json.gz\")\n",
        "%time dfull = download_dataset('reviews_Sports_and_Outdoors_5.json.gz')"
      ],
      "execution_count": 347,
      "outputs": [
        {
          "output_type": "stream",
          "text": [
            "CPU times: user 18.4 s, sys: 334 ms, total: 18.8 s\n",
            "Wall time: 2min 17s\n"
          ],
          "name": "stdout"
        }
      ]
    },
    {
      "cell_type": "markdown",
      "metadata": {
        "id": "92UOH1xyLc_6",
        "colab_type": "text"
      },
      "source": [
        "#### Reading performance"
      ]
    },
    {
      "cell_type": "markdown",
      "metadata": {
        "id": "dJKjYztBLc_7",
        "colab_type": "text"
      },
      "source": [
        "!pip install py-heat-magic\n",
        "%load_ext heat"
      ]
    },
    {
      "cell_type": "markdown",
      "metadata": {
        "id": "6H8fXbCULc_8",
        "colab_type": "text"
      },
      "source": [
        "%%heat\n",
        "import os\n",
        "import gzip\n",
        "import fileinput\n",
        "import re\n",
        "import sys\n",
        "import pandas as pd\n",
        "import numpy as np\n",
        "import matplotlib.pyplot as plt\n",
        "\n",
        "def parse(path):\n",
        "  g = gzip.open(path, 'rb')\n",
        "  for l in g:\n",
        "    yield eval(l)\n",
        "\n",
        "def getDF(path):\n",
        "  df = []\n",
        "  for d in parse(path):\n",
        "    df.append(d)\n",
        "  return pd.DataFrame(df)\n",
        "\n",
        "def read_dataset(dataset):\n",
        "    basepath = r\"datasets\\amazon-5-core\"\n",
        "    df = getDF(os.path.join(basepath, dataset))\n",
        "    return df\n",
        "\n",
        "dfull = read_dataset(\"reviews_Video_Games_5.json.gz\")"
      ]
    },
    {
      "cell_type": "markdown",
      "metadata": {
        "id": "QZejB5dWLc_9",
        "colab_type": "text"
      },
      "source": [
        "![reading performances](https://github.com/mferri17/amazon-reviews-sentiment-network-analysis/blob/master/docs/images/00_dataset_reading_performances.png?raw=true)"
      ]
    },
    {
      "cell_type": "markdown",
      "metadata": {
        "id": "8FFQDmglLc_9",
        "colab_type": "text"
      },
      "source": [
        "---"
      ]
    },
    {
      "cell_type": "markdown",
      "metadata": {
        "id": "XzU2ogWCLc_-",
        "colab_type": "text"
      },
      "source": [
        "###  Description"
      ]
    },
    {
      "cell_type": "markdown",
      "metadata": {
        "id": "JLiIbGc_Lc__",
        "colab_type": "text"
      },
      "source": [
        "#### Schema"
      ]
    },
    {
      "cell_type": "code",
      "metadata": {
        "scrolled": false,
        "id": "qAnGOIo2Lc__",
        "colab_type": "code",
        "outputId": "472535d8-cbb8-4e6e-a458-ff73a8b51f5b",
        "colab": {
          "base_uri": "https://localhost:8080/",
          "height": 34
        }
      },
      "source": [
        "dfull.shape"
      ],
      "execution_count": 348,
      "outputs": [
        {
          "output_type": "execute_result",
          "data": {
            "text/plain": [
              "(296337, 9)"
            ]
          },
          "metadata": {
            "tags": []
          },
          "execution_count": 348
        }
      ]
    },
    {
      "cell_type": "code",
      "metadata": {
        "scrolled": false,
        "id": "vs35GBUdLc_3",
        "colab_type": "code",
        "colab": {}
      },
      "source": [
        "dfull = dfull.rename(index=str, columns={\"asin\": \"productID\", \n",
        "                                         \"reviewerID\": \"userID\", \n",
        "                                         \"reviewerName\": \"userName\",\n",
        "                                         \"reviewText\": \"text\",\n",
        "                                         \"overall\": \"rating\"})"
      ],
      "execution_count": 0,
      "outputs": []
    },
    {
      "cell_type": "code",
      "metadata": {
        "scrolled": false,
        "id": "eMz4oHsOLdAE",
        "colab_type": "code",
        "outputId": "1a5e1bcb-3e82-4a26-eba2-374495de59f6",
        "colab": {
          "base_uri": "https://localhost:8080/",
          "height": 252
        }
      },
      "source": [
        "dfull.info()"
      ],
      "execution_count": 350,
      "outputs": [
        {
          "output_type": "stream",
          "text": [
            "<class 'pandas.core.frame.DataFrame'>\n",
            "Index: 296337 entries, 0 to 296336\n",
            "Data columns (total 9 columns):\n",
            "productID         296337 non-null object\n",
            "helpful           296337 non-null object\n",
            "rating            296337 non-null float64\n",
            "text              296337 non-null object\n",
            "reviewTime        296337 non-null object\n",
            "userID            296337 non-null object\n",
            "userName          294935 non-null object\n",
            "summary           296337 non-null object\n",
            "unixReviewTime    296337 non-null int64\n",
            "dtypes: float64(1), int64(1), object(7)\n",
            "memory usage: 22.6+ MB\n"
          ],
          "name": "stdout"
        }
      ]
    },
    {
      "cell_type": "markdown",
      "metadata": {
        "id": "tXUbC-ACLdAI",
        "colab_type": "text"
      },
      "source": [
        "Little dataset preview:"
      ]
    },
    {
      "cell_type": "code",
      "metadata": {
        "scrolled": false,
        "id": "FfB3d-ZJLdAJ",
        "colab_type": "code",
        "outputId": "91f7474e-6317-41d1-c4a2-48538a3a4d79",
        "colab": {
          "base_uri": "https://localhost:8080/",
          "height": 136
        }
      },
      "source": [
        "dfull.head(3)"
      ],
      "execution_count": 351,
      "outputs": [
        {
          "output_type": "execute_result",
          "data": {
            "text/html": [
              "<div>\n",
              "<style scoped>\n",
              "    .dataframe tbody tr th:only-of-type {\n",
              "        vertical-align: middle;\n",
              "    }\n",
              "\n",
              "    .dataframe tbody tr th {\n",
              "        vertical-align: top;\n",
              "    }\n",
              "\n",
              "    .dataframe thead th {\n",
              "        text-align: right;\n",
              "    }\n",
              "</style>\n",
              "<table border=\"1\" class=\"dataframe\">\n",
              "  <thead>\n",
              "    <tr style=\"text-align: right;\">\n",
              "      <th></th>\n",
              "      <th>productID</th>\n",
              "      <th>helpful</th>\n",
              "      <th>rating</th>\n",
              "      <th>text</th>\n",
              "      <th>reviewTime</th>\n",
              "      <th>userID</th>\n",
              "      <th>userName</th>\n",
              "      <th>summary</th>\n",
              "      <th>unixReviewTime</th>\n",
              "    </tr>\n",
              "  </thead>\n",
              "  <tbody>\n",
              "    <tr>\n",
              "      <th>0</th>\n",
              "      <td>1881509818</td>\n",
              "      <td>[0, 0]</td>\n",
              "      <td>5.0</td>\n",
              "      <td>This came in on time and I am veru happy with ...</td>\n",
              "      <td>01 26, 2014</td>\n",
              "      <td>AIXZKN4ACSKI</td>\n",
              "      <td>David Briner</td>\n",
              "      <td>Woks very good</td>\n",
              "      <td>1390694400</td>\n",
              "    </tr>\n",
              "    <tr>\n",
              "      <th>1</th>\n",
              "      <td>1881509818</td>\n",
              "      <td>[1, 1]</td>\n",
              "      <td>5.0</td>\n",
              "      <td>I had a factory Glock tool that I was using fo...</td>\n",
              "      <td>02 2, 2012</td>\n",
              "      <td>A1L5P841VIO02V</td>\n",
              "      <td>Jason A. Kramer</td>\n",
              "      <td>Works as well as the factory tool</td>\n",
              "      <td>1328140800</td>\n",
              "    </tr>\n",
              "    <tr>\n",
              "      <th>2</th>\n",
              "      <td>1881509818</td>\n",
              "      <td>[2, 2]</td>\n",
              "      <td>4.0</td>\n",
              "      <td>If you don't have a 3/32 punch or would like t...</td>\n",
              "      <td>02 28, 2012</td>\n",
              "      <td>AB2W04NI4OEAD</td>\n",
              "      <td>J. Fernald</td>\n",
              "      <td>It's a punch, that's all.</td>\n",
              "      <td>1330387200</td>\n",
              "    </tr>\n",
              "  </tbody>\n",
              "</table>\n",
              "</div>"
            ],
            "text/plain": [
              "    productID helpful  rating  \\\n",
              "0  1881509818  [0, 0]     5.0   \n",
              "1  1881509818  [1, 1]     5.0   \n",
              "2  1881509818  [2, 2]     4.0   \n",
              "\n",
              "                                                text   reviewTime  \\\n",
              "0  This came in on time and I am veru happy with ...  01 26, 2014   \n",
              "1  I had a factory Glock tool that I was using fo...   02 2, 2012   \n",
              "2  If you don't have a 3/32 punch or would like t...  02 28, 2012   \n",
              "\n",
              "           userID         userName                            summary  \\\n",
              "0    AIXZKN4ACSKI     David Briner                     Woks very good   \n",
              "1  A1L5P841VIO02V  Jason A. Kramer  Works as well as the factory tool   \n",
              "2   AB2W04NI4OEAD       J. Fernald          It's a punch, that's all.   \n",
              "\n",
              "   unixReviewTime  \n",
              "0      1390694400  \n",
              "1      1328140800  \n",
              "2      1330387200  "
            ]
          },
          "metadata": {
            "tags": []
          },
          "execution_count": 351
        }
      ]
    },
    {
      "cell_type": "markdown",
      "metadata": {
        "id": "d-SJ_j0eLdAO",
        "colab_type": "text"
      },
      "source": [
        "#### Columns analysis"
      ]
    },
    {
      "cell_type": "markdown",
      "metadata": {
        "id": "g9-2uspkLdAP",
        "colab_type": "text"
      },
      "source": [
        "##### Users and products"
      ]
    },
    {
      "cell_type": "code",
      "metadata": {
        "scrolled": false,
        "id": "z5WL24eHLdAP",
        "colab_type": "code",
        "outputId": "ccece2f3-e657-46c5-c3d0-73ad3af944ab",
        "colab": {
          "base_uri": "https://localhost:8080/",
          "height": 101
        }
      },
      "source": [
        "(rows,cols) = dfull.shape\n",
        "n_users = dfull['userID'].nunique()\n",
        "n_products = dfull['productID'].nunique()\n",
        "print(\"Number of REVIEWS: \", rows)\n",
        "print(\"Number of USERS: \", n_users)\n",
        "print(\"Number of PRODUCTS: \", n_products)\n",
        "print(\"Avarage REVIEWS PER USER: \", rows/n_users)\n",
        "print(\"Avarage REVIEWS PER PRODUCT: \", rows/n_products)"
      ],
      "execution_count": 352,
      "outputs": [
        {
          "output_type": "stream",
          "text": [
            "Number of REVIEWS:  296337\n",
            "Number of USERS:  35598\n",
            "Number of PRODUCTS:  18357\n",
            "Avarage REVIEWS PER USER:  8.324540704533963\n",
            "Avarage REVIEWS PER PRODUCT:  16.142997221768262\n"
          ],
          "name": "stdout"
        }
      ]
    },
    {
      "cell_type": "markdown",
      "metadata": {
        "id": "0BNqqqraLdAT",
        "colab_type": "text"
      },
      "source": [
        "##### Datetime"
      ]
    },
    {
      "cell_type": "code",
      "metadata": {
        "scrolled": false,
        "id": "JyDC2Oa_LdAT",
        "colab_type": "code",
        "outputId": "eec8524b-4769-40c8-c0f1-ee1ccfc9e178",
        "colab": {
          "base_uri": "https://localhost:8080/",
          "height": 50
        }
      },
      "source": [
        "dfull['date'] = pd.to_datetime(dfull['unixReviewTime'],unit='s')\n",
        "print(\"First date: \", min(dfull['date']))\n",
        "print(\"Last date: \", max(dfull['date']))"
      ],
      "execution_count": 353,
      "outputs": [
        {
          "output_type": "stream",
          "text": [
            "First date:  2002-03-07 00:00:00\n",
            "Last date:  2014-07-23 00:00:00\n"
          ],
          "name": "stdout"
        }
      ]
    },
    {
      "cell_type": "code",
      "metadata": {
        "scrolled": false,
        "id": "SE8yze1GLdAX",
        "colab_type": "code",
        "outputId": "65aef623-ca9f-44bf-ad15-3425f9703192",
        "colab": {
          "base_uri": "https://localhost:8080/",
          "height": 300
        }
      },
      "source": [
        "date_grouping = dfull.groupby('date').count()[['rating']].sort_values('date', ascending=True)\n",
        "date_grouping = date_grouping.rename(index=str, columns={\"rating\": \"count\"})\n",
        "date_grouping.plot()"
      ],
      "execution_count": 354,
      "outputs": [
        {
          "output_type": "execute_result",
          "data": {
            "text/plain": [
              "<matplotlib.axes._subplots.AxesSubplot at 0x7f197ea9ea90>"
            ]
          },
          "metadata": {
            "tags": []
          },
          "execution_count": 354
        },
        {
          "output_type": "display_data",
          "data": {
            "image/png": "[encoded data removed]",
            "text/plain": [
              "<Figure size 432x288 with 1 Axes>"
            ]
          },
          "metadata": {
            "tags": []
          }
        }
      ]
    },
    {
      "cell_type": "markdown",
      "metadata": {
        "id": "DQkbEqJLLdAc",
        "colab_type": "text"
      },
      "source": [
        "##### Rating"
      ]
    },
    {
      "cell_type": "code",
      "metadata": {
        "scrolled": false,
        "id": "_7uXYtsuLdAd",
        "colab_type": "code",
        "outputId": "0f6cd4e5-3380-4579-cef4-6a86c8be98e9",
        "colab": {
          "base_uri": "https://localhost:8080/",
          "height": 34
        }
      },
      "source": [
        "dfull['rating'].mean()"
      ],
      "execution_count": 355,
      "outputs": [
        {
          "output_type": "execute_result",
          "data": {
            "text/plain": [
              "4.393450699710128"
            ]
          },
          "metadata": {
            "tags": []
          },
          "execution_count": 355
        }
      ]
    },
    {
      "cell_type": "code",
      "metadata": {
        "scrolled": false,
        "id": "ADgiYAmLLdAh",
        "colab_type": "code",
        "outputId": "91488f21-a9b6-4e38-b843-408eb83822a4",
        "colab": {
          "base_uri": "https://localhost:8080/",
          "height": 286
        }
      },
      "source": [
        "dfull['rating'].hist()"
      ],
      "execution_count": 356,
      "outputs": [
        {
          "output_type": "execute_result",
          "data": {
            "text/plain": [
              "<matplotlib.axes._subplots.AxesSubplot at 0x7f197eab39b0>"
            ]
          },
          "metadata": {
            "tags": []
          },
          "execution_count": 356
        },
        {
          "output_type": "display_data",
          "data": {
            "image/png": "[encoded data removed]",
            "text/plain": [
              "<Figure size 432x288 with 1 Axes>"
            ]
          },
          "metadata": {
            "tags": []
          }
        }
      ]
    },
    {
      "cell_type": "markdown",
      "metadata": {
        "id": "0aDAEb4kLdA9",
        "colab_type": "text"
      },
      "source": [
        "### Manipulation"
      ]
    },
    {
      "cell_type": "markdown",
      "metadata": {
        "id": "9DDZraswLdA-",
        "colab_type": "text"
      },
      "source": [
        "#### Rejecting columns"
      ]
    },
    {
      "cell_type": "code",
      "metadata": {
        "scrolled": true,
        "id": "PAY_rpPiLdA_",
        "colab_type": "code",
        "colab": {}
      },
      "source": [
        "dfull = dfull.drop(['helpful', 'reviewTime', 'unixReviewTime', 'userName'], axis = 1)"
      ],
      "execution_count": 0,
      "outputs": []
    },
    {
      "cell_type": "markdown",
      "metadata": {
        "id": "-YoecvNDLdBB",
        "colab_type": "text"
      },
      "source": [
        "#### Binarization"
      ]
    },
    {
      "cell_type": "code",
      "metadata": {
        "collapsed": true,
        "scrolled": true,
        "id": "APold7gTLdBB",
        "colab_type": "code",
        "outputId": "3c376486-eae1-448d-ce9c-a8a9faf25965",
        "colab": {
          "base_uri": "https://localhost:8080/",
          "height": 67
        }
      },
      "source": [
        "dfull['sentiment'] = ['positive' if r > 3 else 'negative' for r in dfull['rating']]\n",
        "dfull['sentiment'].value_counts()\n",
        "#dfull.sentiment.hist()"
      ],
      "execution_count": 358,
      "outputs": [
        {
          "output_type": "execute_result",
          "data": {
            "text/plain": [
              "positive    253017\n",
              "negative     43320\n",
              "Name: sentiment, dtype: int64"
            ]
          },
          "metadata": {
            "tags": []
          },
          "execution_count": 358
        }
      ]
    },
    {
      "cell_type": "markdown",
      "metadata": {
        "id": "qTIISXJJLdAm",
        "colab_type": "text"
      },
      "source": [
        "***"
      ]
    },
    {
      "cell_type": "markdown",
      "metadata": {
        "id": "SL-U94NbLdAq",
        "colab_type": "text"
      },
      "source": [
        "## Sentiment Analysis"
      ]
    },
    {
      "cell_type": "markdown",
      "metadata": {
        "id": "3KNllyAmX-4K",
        "colab_type": "text"
      },
      "source": [
        "### Dependencies"
      ]
    },
    {
      "cell_type": "code",
      "metadata": {
        "id": "vYXJCv0yX-MK",
        "colab_type": "code",
        "outputId": "a701d995-cf72-4b86-dfac-7882aac2069a",
        "colab": {
          "base_uri": "https://localhost:8080/",
          "height": 84
        }
      },
      "source": [
        "import nltk\n",
        "from nltk.tokenize import word_tokenize\n",
        "from nltk.tokenize import TweetTokenizer\n",
        "from nltk.tokenize import PunktSentenceTokenizer\n",
        "from nltk.corpus import stopwords\n",
        "from nltk.stem.snowball import SnowballStemmer\n",
        "\n",
        "nltk.download('stopwords')\n",
        "nltk.download('punkt')\n",
        "\n",
        "from PIL import Image\n",
        "from wordcloud import WordCloud\n",
        "\n",
        "from collections import Counter\n",
        "import itertools\n"
      ],
      "execution_count": 359,
      "outputs": [
        {
          "output_type": "stream",
          "text": [
            "[nltk_data] Downloading package stopwords to /root/nltk_data...\n",
            "[nltk_data]   Package stopwords is already up-to-date!\n",
            "[nltk_data] Downloading package punkt to /root/nltk_data...\n",
            "[nltk_data]   Package punkt is already up-to-date!\n"
          ],
          "name": "stdout"
        }
      ]
    },
    {
      "cell_type": "markdown",
      "metadata": {
        "id": "pooIbfTGYQTj",
        "colab_type": "text"
      },
      "source": [
        "### Text pre-processing"
      ]
    },
    {
      "cell_type": "markdown",
      "metadata": {
        "id": "cxty9Q2stvWz",
        "colab_type": "text"
      },
      "source": [
        "**Tokenizer**"
      ]
    },
    {
      "cell_type": "code",
      "metadata": {
        "id": "UiyEbcZxkA6k",
        "colab_type": "code",
        "colab": {}
      },
      "source": [
        "from nltk.tokenize import RegexpTokenizer\n",
        "tokenizer = RegexpTokenizer(r'[^\\d\\W][\\w\\']*') # preserve words but not numbers preserving contractions"
      ],
      "execution_count": 0,
      "outputs": []
    },
    {
      "cell_type": "markdown",
      "metadata": {
        "id": "AicoDKQnt0K1",
        "colab_type": "text"
      },
      "source": [
        "**Stop words**"
      ]
    },
    {
      "cell_type": "code",
      "metadata": {
        "scrolled": true,
        "id": "Fx6ui2JjLdAz",
        "colab_type": "code",
        "outputId": "cf413842-369c-4411-f75d-fad294d7c696",
        "colab": {
          "base_uri": "https://localhost:8080/",
          "height": 54
        }
      },
      "source": [
        "#stopset = set(stopwords.words('english')) # too aggressive\n",
        "stopset = {\n",
        "    'a', 'ain', 'and', 'any', 'are', 'as', 'at', \n",
        "    'be', 'because', 'being', 'between', 'both', 'by', \n",
        "    'doing', 'during', 'each', 'few', 'for', 'from', 'further', \n",
        "    'has', 'have', 'haven', \"haven't\", 'having', 'he', 'her', 'here', \n",
        "    'hers', 'herself', 'him', 'himself', 'his', 'how', 'i', 'if', 'in', 'into', \n",
        "    'is', 'it', \"it's\", 'its', 'itself', 'just', 'll', 'm', 'ma', 'me', 'my', 'myself', \n",
        "    'now', 'o', 'of', 'off', 'on', 'once', 'or', 'our', 'ours', 'ourselves', 'out', 'over', 'own', \n",
        "    're', 's', 'same', 'shan', \"shan't\", 'she', \"she's\", 'should', \"should've\", 'so', 'some', 'such', \n",
        "    't', 'than', 'that', \"that'll\", 'the', 'their', 'theirs', 'them', 'themselves', 'then', \n",
        "    'there', 'these', 'they', 'this', 'those', 'through', 'to', 'until', 'up', 've', \n",
        "    'was', 'we', 'were', 'what', 'when', 'where', 'which', 'while', 'who', 'whom', 'why', 'with', \n",
        "    'y', 'you', \"you're\", \"you've\", 'your', 'yours', 'yourself', 'yourselves'}\n",
        "\n",
        "print(list(stopset))"
      ],
      "execution_count": 361,
      "outputs": [
        {
          "output_type": "stream",
          "text": [
            "['themselves', 're', 'own', 'yourself', 'because', 'there', \"should've\", 'itself', 'has', 'into', 'doing', 'theirs', 'such', 'shan', 's', 'both', 'o', 'by', 'they', 'here', 'yours', 'who', 'to', 'a', 'once', 'how', 'we', 'myself', 'himself', \"it's\", 'being', 'this', 'i', 'ma', 'the', 'y', 'm', 'them', 'haven', 'than', 'were', 'it', 'which', 'so', \"you're\", 'off', 'further', 'as', 'same', 'she', 'until', 'then', 'our', 'of', 'or', 'your', 'any', 'is', 'his', 'll', 'yourselves', 'when', 'have', 'with', 'he', 'now', 'each', 'from', 've', 'on', 'her', 'up', 'that', 'between', 'are', 'whom', \"that'll\", 'ours', \"haven't\", 'him', 'what', 'be', 'ourselves', 'its', 'at', 'was', 'through', 'should', 'my', 'during', 'for', 'and', 'just', 'their', 'in', 'having', 'me', 'if', 'those', 'these', 'some', 'where', 'while', 'you', \"you've\", 'few', 't', 'hers', \"she's\", 'out', 'why', 'herself', \"shan't\", 'over', 'ain']\n"
          ],
          "name": "stdout"
        }
      ]
    },
    {
      "cell_type": "markdown",
      "metadata": {
        "id": "L6rkxtvW4hUh",
        "colab_type": "text"
      },
      "source": [
        "**Stemmer**"
      ]
    },
    {
      "cell_type": "code",
      "metadata": {
        "id": "HDoftPlY4i9Y",
        "colab_type": "code",
        "colab": {}
      },
      "source": [
        "stemmer = SnowballStemmer('english')"
      ],
      "execution_count": 0,
      "outputs": []
    },
    {
      "cell_type": "markdown",
      "metadata": {
        "id": "O9zmBZqewI0F",
        "colab_type": "text"
      },
      "source": [
        "**Example**"
      ]
    },
    {
      "cell_type": "code",
      "metadata": {
        "id": "s24Sy7ptwJEh",
        "colab_type": "code",
        "outputId": "fc757947-1a58-4446-f4ea-8844a609673a",
        "colab": {
          "base_uri": "https://localhost:8080/",
          "height": 121
        }
      },
      "source": [
        "text = \"Hi! This... isn't a beautiful sentence with some interesting $70 and €5,50 features like people's names and Mr. Fox thoughts for number such as 23, 4 and 7 or peer2peer and wi-fi with snake_case but not kebab-case.\"\n",
        "print(\"TEXT: \", text) # original\n",
        "\n",
        "# tokenizing\n",
        "tokens = tokenizer.tokenize(text)\n",
        "print(\"TOKENIZED: \", tokens)\n",
        "\n",
        "# lowercasing\n",
        "tokens = [t.lower() for t in tokens] \n",
        "print(\"LOWERCASED: \", tokens)\n",
        "\n",
        "# removing stopwords\n",
        "tokens = [t for t in tokens if not t in stopset]  \n",
        "print(\"NO STOPWORDS: \", tokens)\n",
        "\n",
        "# stemming\n",
        "tokens = [stemmer.stem(t) for t in tokens]\n",
        "print(\"STEMMED: \", tokens)"
      ],
      "execution_count": 363,
      "outputs": [
        {
          "output_type": "stream",
          "text": [
            "TEXT:  Hi! This... isn't a beautiful sentence with some interesting $70 and €5,50 features like people's names and Mr. Fox thoughts for number such as 23, 4 and 7 or peer2peer and wi-fi with snake_case but not kebab-case.\n",
            "TOKENIZED:  ['Hi', 'This', \"isn't\", 'a', 'beautiful', 'sentence', 'with', 'some', 'interesting', 'and', 'features', 'like', \"people's\", 'names', 'and', 'Mr', 'Fox', 'thoughts', 'for', 'number', 'such', 'as', 'and', 'or', 'peer2peer', 'and', 'wi', 'fi', 'with', 'snake_case', 'but', 'not', 'kebab', 'case']\n",
            "LOWERCASED:  ['hi', 'this', \"isn't\", 'a', 'beautiful', 'sentence', 'with', 'some', 'interesting', 'and', 'features', 'like', \"people's\", 'names', 'and', 'mr', 'fox', 'thoughts', 'for', 'number', 'such', 'as', 'and', 'or', 'peer2peer', 'and', 'wi', 'fi', 'with', 'snake_case', 'but', 'not', 'kebab', 'case']\n",
            "NO STOPWORDS:  ['hi', \"isn't\", 'beautiful', 'sentence', 'interesting', 'features', 'like', \"people's\", 'names', 'mr', 'fox', 'thoughts', 'number', 'peer2peer', 'wi', 'fi', 'snake_case', 'but', 'not', 'kebab', 'case']\n",
            "STEMMED:  ['hi', \"isn't\", 'beauti', 'sentenc', 'interest', 'featur', 'like', 'peopl', 'name', 'mr', 'fox', 'thought', 'number', 'peer2peer', 'wi', 'fi', 'snake_cas', 'but', 'not', 'kebab', 'case']\n"
          ],
          "name": "stdout"
        }
      ]
    },
    {
      "cell_type": "markdown",
      "metadata": {
        "id": "7_5ZwQeXxqFo",
        "colab_type": "text"
      },
      "source": [
        "**On dataset**"
      ]
    },
    {
      "cell_type": "code",
      "metadata": {
        "id": "992EhtETxpfH",
        "colab_type": "code",
        "colab": {
          "base_uri": "https://localhost:8080/",
          "height": 50
        },
        "outputId": "7777bfae-95f8-48fb-cba7-17bb590ec9e2"
      },
      "source": [
        "pd.set_option('display.max_columns', 150)\n",
        "\n",
        "\n",
        "def text_processing():\n",
        "\n",
        "  reviews = dfull['text']\n",
        "  reviews = reviews.apply(tokenizer.tokenize)\n",
        "  reviews = reviews.apply(lambda tokens_list: [token.lower() for token in tokens_list])\n",
        "  reviews = reviews.apply(lambda tokens_list: [token for token in tokens_list if token not in stopset])\n",
        "  #reviews = reviews.apply(lambda tokens_list: [stemmer.stem(token) for token in tokens_list])\n",
        "\n",
        "  summaries = dfull['summary']\n",
        "  summaries = summaries.apply(tokenizer.tokenize)\n",
        "  summaries = summaries.apply(lambda tokens_list: [token.lower() for token in tokens_list])\n",
        "  summaries = summaries.apply(lambda tokens_list: [token for token in tokens_list if token not in stopset])\n",
        "  #summaries = summaries.apply(lambda tokens_list: [stemmer.stem(token) for token in tokens_list])\n",
        "  \n",
        "  \n",
        "%time text_processing()"
      ],
      "execution_count": 375,
      "outputs": [
        {
          "output_type": "stream",
          "text": [
            "CPU times: user 29.8 s, sys: 1.55 s, total: 31.4 s\n",
            "Wall time: 31.3 s\n"
          ],
          "name": "stdout"
        }
      ]
    },
    {
      "cell_type": "code",
      "metadata": {
        "id": "vRpt9OhJUG2j",
        "colab_type": "code",
        "outputId": "6b17ff52-a930-48eb-bf95-54ce0d43e3a6",
        "colab": {
          "base_uri": "https://localhost:8080/",
          "height": 397
        }
      },
      "source": [
        "dfull['text_tokens'] = reviews\n",
        "dfull['summary_tokens'] = summaries\n",
        "dfull['text_normalized'] = reviews.apply(lambda tokens_list: ' '.join(tokens_list))\n",
        "dfull['summary_normalized'] = summaries.apply(lambda tokens_list: ' '.join(tokens_list))\n",
        "dfull.head(5)"
      ],
      "execution_count": 376,
      "outputs": [
        {
          "output_type": "execute_result",
          "data": {
            "text/html": [
              "<div>\n",
              "<style scoped>\n",
              "    .dataframe tbody tr th:only-of-type {\n",
              "        vertical-align: middle;\n",
              "    }\n",
              "\n",
              "    .dataframe tbody tr th {\n",
              "        vertical-align: top;\n",
              "    }\n",
              "\n",
              "    .dataframe thead th {\n",
              "        text-align: right;\n",
              "    }\n",
              "</style>\n",
              "<table border=\"1\" class=\"dataframe\">\n",
              "  <thead>\n",
              "    <tr style=\"text-align: right;\">\n",
              "      <th></th>\n",
              "      <th>productID</th>\n",
              "      <th>rating</th>\n",
              "      <th>text</th>\n",
              "      <th>userID</th>\n",
              "      <th>summary</th>\n",
              "      <th>date</th>\n",
              "      <th>sentiment</th>\n",
              "      <th>text_tokens</th>\n",
              "      <th>summary_tokens</th>\n",
              "      <th>text_normalized</th>\n",
              "      <th>symmary_normalized</th>\n",
              "      <th>summary_normalized</th>\n",
              "    </tr>\n",
              "  </thead>\n",
              "  <tbody>\n",
              "    <tr>\n",
              "      <th>0</th>\n",
              "      <td>1881509818</td>\n",
              "      <td>5.0</td>\n",
              "      <td>This came in on time and I am veru happy with ...</td>\n",
              "      <td>AIXZKN4ACSKI</td>\n",
              "      <td>Woks very good</td>\n",
              "      <td>2014-01-26</td>\n",
              "      <td>positive</td>\n",
              "      <td>[came, time, am, veru, happy, haved, used, alr...</td>\n",
              "      <td>[woks, very, good]</td>\n",
              "      <td>came time am veru happy haved used already mak...</td>\n",
              "      <td>woks very good</td>\n",
              "      <td>woks very good</td>\n",
              "    </tr>\n",
              "    <tr>\n",
              "      <th>1</th>\n",
              "      <td>1881509818</td>\n",
              "      <td>5.0</td>\n",
              "      <td>I had a factory Glock tool that I was using fo...</td>\n",
              "      <td>A1L5P841VIO02V</td>\n",
              "      <td>Works as well as the factory tool</td>\n",
              "      <td>2012-02-02</td>\n",
              "      <td>positive</td>\n",
              "      <td>[had, factory, glock, tool, using, glock, i've...</td>\n",
              "      <td>[works, well, factory, tool]</td>\n",
              "      <td>had factory glock tool using glock i've since ...</td>\n",
              "      <td>works well factory tool</td>\n",
              "      <td>works well factory tool</td>\n",
              "    </tr>\n",
              "    <tr>\n",
              "      <th>2</th>\n",
              "      <td>1881509818</td>\n",
              "      <td>4.0</td>\n",
              "      <td>If you don't have a 3/32 punch or would like t...</td>\n",
              "      <td>AB2W04NI4OEAD</td>\n",
              "      <td>It's a punch, that's all.</td>\n",
              "      <td>2012-02-28</td>\n",
              "      <td>positive</td>\n",
              "      <td>[don't, punch, would, like, one, glock, bag, o...</td>\n",
              "      <td>[punch, that's, all]</td>\n",
              "      <td>don't punch would like one glock bag okay butt...</td>\n",
              "      <td>punch that's all</td>\n",
              "      <td>punch that's all</td>\n",
              "    </tr>\n",
              "    <tr>\n",
              "      <th>3</th>\n",
              "      <td>1881509818</td>\n",
              "      <td>4.0</td>\n",
              "      <td>This works no better than any 3/32 punch you w...</td>\n",
              "      <td>A148SVSWKTJKU6</td>\n",
              "      <td>It's a punch with a Glock logo.</td>\n",
              "      <td>2012-02-05</td>\n",
              "      <td>positive</td>\n",
              "      <td>[works, no, better, punch, would, find, hardwa...</td>\n",
              "      <td>[punch, glock, logo]</td>\n",
              "      <td>works no better punch would find hardware stor...</td>\n",
              "      <td>punch glock logo</td>\n",
              "      <td>punch glock logo</td>\n",
              "    </tr>\n",
              "    <tr>\n",
              "      <th>4</th>\n",
              "      <td>1881509818</td>\n",
              "      <td>4.0</td>\n",
              "      <td>I purchased this thinking maybe I need a speci...</td>\n",
              "      <td>AAAWJ6LW9WMOO</td>\n",
              "      <td>Ok,tool does what a regular punch does.</td>\n",
              "      <td>2013-04-23</td>\n",
              "      <td>positive</td>\n",
              "      <td>[purchased, thinking, maybe, need, special, to...</td>\n",
              "      <td>[ok, tool, does, regular, punch, does]</td>\n",
              "      <td>purchased thinking maybe need special tool eas...</td>\n",
              "      <td>ok tool does regular punch does</td>\n",
              "      <td>ok tool does regular punch does</td>\n",
              "    </tr>\n",
              "  </tbody>\n",
              "</table>\n",
              "</div>"
            ],
            "text/plain": [
              "    productID  rating                                               text  \\\n",
              "0  1881509818     5.0  This came in on time and I am veru happy with ...   \n",
              "1  1881509818     5.0  I had a factory Glock tool that I was using fo...   \n",
              "2  1881509818     4.0  If you don't have a 3/32 punch or would like t...   \n",
              "3  1881509818     4.0  This works no better than any 3/32 punch you w...   \n",
              "4  1881509818     4.0  I purchased this thinking maybe I need a speci...   \n",
              "\n",
              "           userID                                  summary       date  \\\n",
              "0    AIXZKN4ACSKI                           Woks very good 2014-01-26   \n",
              "1  A1L5P841VIO02V        Works as well as the factory tool 2012-02-02   \n",
              "2   AB2W04NI4OEAD                It's a punch, that's all. 2012-02-28   \n",
              "3  A148SVSWKTJKU6          It's a punch with a Glock logo. 2012-02-05   \n",
              "4   AAAWJ6LW9WMOO  Ok,tool does what a regular punch does. 2013-04-23   \n",
              "\n",
              "  sentiment                                        text_tokens  \\\n",
              "0  positive  [came, time, am, veru, happy, haved, used, alr...   \n",
              "1  positive  [had, factory, glock, tool, using, glock, i've...   \n",
              "2  positive  [don't, punch, would, like, one, glock, bag, o...   \n",
              "3  positive  [works, no, better, punch, would, find, hardwa...   \n",
              "4  positive  [purchased, thinking, maybe, need, special, to...   \n",
              "\n",
              "                           summary_tokens  \\\n",
              "0                      [woks, very, good]   \n",
              "1            [works, well, factory, tool]   \n",
              "2                    [punch, that's, all]   \n",
              "3                    [punch, glock, logo]   \n",
              "4  [ok, tool, does, regular, punch, does]   \n",
              "\n",
              "                                     text_normalized  \\\n",
              "0  came time am veru happy haved used already mak...   \n",
              "1  had factory glock tool using glock i've since ...   \n",
              "2  don't punch would like one glock bag okay butt...   \n",
              "3  works no better punch would find hardware stor...   \n",
              "4  purchased thinking maybe need special tool eas...   \n",
              "\n",
              "                symmary_normalized               summary_normalized  \n",
              "0                   woks very good                   woks very good  \n",
              "1          works well factory tool          works well factory tool  \n",
              "2                 punch that's all                 punch that's all  \n",
              "3                 punch glock logo                 punch glock logo  \n",
              "4  ok tool does regular punch does  ok tool does regular punch does  "
            ]
          },
          "metadata": {
            "tags": []
          },
          "execution_count": 376
        }
      ]
    },
    {
      "cell_type": "markdown",
      "metadata": {
        "id": "MOpPKW1qLdAr",
        "colab_type": "text"
      },
      "source": [
        "### Common Words"
      ]
    },
    {
      "cell_type": "code",
      "metadata": {
        "scrolled": true,
        "id": "CHz_8UkGLdA3",
        "colab_type": "code",
        "colab": {}
      },
      "source": [
        "# sentences = (list(itertools.chain(dfull)))\n",
        "# flat_list = [item for sublist in sentences for item in sublist]\n",
        "  \n",
        "# fig = plt.figure(figsize=(20,14))\n",
        "# wordcloud = WordCloud(background_color=\"white\").generate(\" \".join(flat_list))\n",
        "# plt.imshow(wordcloud,interpolation='bilinear')\n",
        "# plt.axis(\"off\")"
      ],
      "execution_count": 0,
      "outputs": []
    },
    {
      "cell_type": "markdown",
      "metadata": {
        "id": "oi75l2oNq7aN",
        "colab_type": "text"
      },
      "source": [
        "\n",
        "\n",
        "---\n",
        "\n"
      ]
    },
    {
      "cell_type": "markdown",
      "metadata": {
        "id": "Jp3m7D4Y5A4G",
        "colab_type": "text"
      },
      "source": [
        "## Machine Learning"
      ]
    },
    {
      "cell_type": "markdown",
      "metadata": {
        "id": "Cj3YXUHgqXmZ",
        "colab_type": "text"
      },
      "source": [
        "### Undersampling"
      ]
    },
    {
      "cell_type": "code",
      "metadata": {
        "id": "DHgHyYGw6YZR",
        "colab_type": "code",
        "outputId": "16bace05-a24a-455b-f14f-15bc29ddaabc",
        "colab": {
          "base_uri": "https://localhost:8080/",
          "height": 67
        }
      },
      "source": [
        "from sklearn.utils import *\n",
        "\n",
        "# Separate majority and minority classes\n",
        "positive_count = dfull['sentiment'].value_counts()['positive']\n",
        "negative_count = dfull['sentiment'].value_counts()['negative']\n",
        "df_majority = dfull[dfull.sentiment==('positive' if positive_count >= negative_count else 'negative')]\n",
        "df_minority = dfull[dfull.sentiment==('negative' if positive_count >= negative_count else 'positive')]\n",
        " \n",
        "# Downsample majority class\n",
        "obj_samples = negative_count if positive_count >= negative_count else positive_count\n",
        "df_majority_downsampled = resample(df_majority, \n",
        "                                 replace=False,\n",
        "                                 n_samples = obj_samples, # match minority class\n",
        "                                 random_state=123) # reproducible results\n",
        " \n",
        "# Combine minority class with downsampled majority class\n",
        "df_downsampled = pd.concat([df_majority_downsampled, df_minority])\n",
        " \n",
        "# Display new class counts\n",
        "df_downsampled['sentiment'].value_counts()"
      ],
      "execution_count": 399,
      "outputs": [
        {
          "output_type": "execute_result",
          "data": {
            "text/plain": [
              "negative    43320\n",
              "positive    43320\n",
              "Name: sentiment, dtype: int64"
            ]
          },
          "metadata": {
            "tags": []
          },
          "execution_count": 399
        }
      ]
    },
    {
      "cell_type": "markdown",
      "metadata": {
        "id": "64WhvQEkqcLd",
        "colab_type": "text"
      },
      "source": [
        "### TF-IDF (term frequency - inverse document frequency)"
      ]
    },
    {
      "cell_type": "code",
      "metadata": {
        "id": "Zg7LAbR713Gt",
        "colab_type": "code",
        "outputId": "3d2bb3f9-be4f-40ce-cc39-ca0a711ce4a5",
        "colab": {
          "base_uri": "https://localhost:8080/",
          "height": 50
        }
      },
      "source": [
        "from sklearn.feature_extraction.text import TfidfVectorizer\n",
        "\n",
        "df_downsampled = df_downsampled.drop(['rating'], axis = 1) # directly infers sentiment\n",
        "\n",
        "tvec = TfidfVectorizer(use_idf=True,\n",
        "                       strip_accents=None,\n",
        "                       stop_words=None,\n",
        "                       lowercase=False) # Tf-idf settings\n",
        "\n",
        "Y = df_downsampled.sentiment\n",
        "X = tvec.fit_transform(df_downsampled.summary_normalized) # learning vocabulary and idf\n",
        "\n",
        "print(Y.shape) # actual target\n",
        "print(X.shape) # Tf-idf-weighted document-term matrix"
      ],
      "execution_count": 400,
      "outputs": [
        {
          "output_type": "stream",
          "text": [
            "(86640,)\n",
            "(86640, 15123)\n"
          ],
          "name": "stdout"
        }
      ]
    },
    {
      "cell_type": "markdown",
      "metadata": {
        "id": "IGV8phoHqMDK",
        "colab_type": "text"
      },
      "source": [
        "### Term Weights"
      ]
    },
    {
      "cell_type": "code",
      "metadata": {
        "id": "OUbROh6c4zLX",
        "colab_type": "code",
        "colab": {
          "base_uri": "https://localhost:8080/",
          "height": 343
        },
        "outputId": "4e123e6a-e341-4a87-b54d-50db521b855c"
      },
      "source": [
        "weights = np.asarray(X.mean(axis=0)).ravel().tolist()\n",
        "weights_df = pd.DataFrame({'term': tvec.get_feature_names(), 'weight': weights})\n",
        "weights_df.sort_values(by='weight', ascending=False).head(10)"
      ],
      "execution_count": 401,
      "outputs": [
        {
          "output_type": "execute_result",
          "data": {
            "text/html": [
              "<div>\n",
              "<style scoped>\n",
              "    .dataframe tbody tr th:only-of-type {\n",
              "        vertical-align: middle;\n",
              "    }\n",
              "\n",
              "    .dataframe tbody tr th {\n",
              "        vertical-align: top;\n",
              "    }\n",
              "\n",
              "    .dataframe thead th {\n",
              "        text-align: right;\n",
              "    }\n",
              "</style>\n",
              "<table border=\"1\" class=\"dataframe\">\n",
              "  <thead>\n",
              "    <tr style=\"text-align: right;\">\n",
              "      <th></th>\n",
              "      <th>term</th>\n",
              "      <th>weight</th>\n",
              "    </tr>\n",
              "  </thead>\n",
              "  <tbody>\n",
              "    <tr>\n",
              "      <th>5559</th>\n",
              "      <td>great</td>\n",
              "      <td>0.044849</td>\n",
              "    </tr>\n",
              "    <tr>\n",
              "      <th>5455</th>\n",
              "      <td>good</td>\n",
              "      <td>0.034516</td>\n",
              "    </tr>\n",
              "    <tr>\n",
              "      <th>8729</th>\n",
              "      <td>not</td>\n",
              "      <td>0.031376</td>\n",
              "    </tr>\n",
              "    <tr>\n",
              "      <th>14822</th>\n",
              "      <td>works</td>\n",
              "      <td>0.021034</td>\n",
              "    </tr>\n",
              "    <tr>\n",
              "      <th>1745</th>\n",
              "      <td>but</td>\n",
              "      <td>0.020693</td>\n",
              "    </tr>\n",
              "    <tr>\n",
              "      <th>8625</th>\n",
              "      <td>nice</td>\n",
              "      <td>0.017409</td>\n",
              "    </tr>\n",
              "    <tr>\n",
              "      <th>8877</th>\n",
              "      <td>ok</td>\n",
              "      <td>0.016891</td>\n",
              "    </tr>\n",
              "    <tr>\n",
              "      <th>9993</th>\n",
              "      <td>product</td>\n",
              "      <td>0.015933</td>\n",
              "    </tr>\n",
              "    <tr>\n",
              "      <th>9926</th>\n",
              "      <td>price</td>\n",
              "      <td>0.013778</td>\n",
              "    </tr>\n",
              "    <tr>\n",
              "      <th>14288</th>\n",
              "      <td>very</td>\n",
              "      <td>0.013346</td>\n",
              "    </tr>\n",
              "  </tbody>\n",
              "</table>\n",
              "</div>"
            ],
            "text/plain": [
              "          term    weight\n",
              "5559     great  0.044849\n",
              "5455      good  0.034516\n",
              "8729       not  0.031376\n",
              "14822    works  0.021034\n",
              "1745       but  0.020693\n",
              "8625      nice  0.017409\n",
              "8877        ok  0.016891\n",
              "9993   product  0.015933\n",
              "9926     price  0.013778\n",
              "14288     very  0.013346"
            ]
          },
          "metadata": {
            "tags": []
          },
          "execution_count": 401
        }
      ]
    },
    {
      "cell_type": "markdown",
      "metadata": {
        "id": "n9FzPKlXvoyw",
        "colab_type": "text"
      },
      "source": [
        "### Splitting training and test set"
      ]
    },
    {
      "cell_type": "code",
      "metadata": {
        "id": "YhsFSXv2vpBi",
        "colab_type": "code",
        "colab": {}
      },
      "source": [
        "X_train, X_test, Y_train, Y_test = train_test_split(X, Y, test_size = 0.3, shuffle = True)"
      ],
      "execution_count": 0,
      "outputs": []
    },
    {
      "cell_type": "markdown",
      "metadata": {
        "id": "AMwlHEZGqG6L",
        "colab_type": "text"
      },
      "source": [
        "### Models"
      ]
    },
    {
      "cell_type": "code",
      "metadata": {
        "id": "WWi08pFM5F3Q",
        "colab_type": "code",
        "colab": {}
      },
      "source": [
        "from sklearn.model_selection import train_test_split\n",
        "from sklearn import metrics\n",
        "from sklearn import naive_bayes\n",
        "from sklearn.linear_model import SGDClassifier\n",
        "from sklearn.ensemble import RandomForestClassifier"
      ],
      "execution_count": 0,
      "outputs": []
    },
    {
      "cell_type": "code",
      "metadata": {
        "id": "ifr8fDDUoz9D",
        "colab_type": "code",
        "colab": {
          "base_uri": "https://localhost:8080/",
          "height": 269
        },
        "outputId": "e9499abd-b6ba-4e3c-b31d-e2fc72253a60"
      },
      "source": [
        "forest = RandomForestClassifier(n_estimators = 10)\n",
        "%time forest.fit(X_train, Y_train)\n",
        "\n",
        "print()\n",
        "\n",
        "predictions = forest.predict(X_test)\n",
        "print(\"Random Forest confusion matrix\")\n",
        "print(metrics.classification_report(Y_test, predictions))\n",
        "print(\"Random Forest Accuracy: \", np.mean(predictions == Y_test)) # comparing predictions with actual\n",
        "pred_probs = forest.predict_proba(X_test)[:,1] # prediction probabilities for positive class\n",
        "print(\"Random Forest AUROC: \", metrics.roc_auc_score(Y_test, pred_probs)) # AUC"
      ],
      "execution_count": 410,
      "outputs": [
        {
          "output_type": "stream",
          "text": [
            "CPU times: user 32 s, sys: 13.2 ms, total: 32 s\n",
            "Wall time: 32 s\n",
            "\n",
            "Random Forest confusion matrix\n",
            "              precision    recall  f1-score   support\n",
            "\n",
            "    negative       0.78      0.83      0.81     12982\n",
            "    positive       0.82      0.77      0.79     13010\n",
            "\n",
            "    accuracy                           0.80     25992\n",
            "   macro avg       0.80      0.80      0.80     25992\n",
            "weighted avg       0.80      0.80      0.80     25992\n",
            "\n",
            "Random Forest Accuracy:  0.8004770698676515\n",
            "Random Forest AUROC:  0.8774344948264557\n"
          ],
          "name": "stdout"
        }
      ]
    },
    {
      "cell_type": "code",
      "metadata": {
        "id": "a93hUjQamMJb",
        "colab_type": "code",
        "colab": {
          "base_uri": "https://localhost:8080/",
          "height": 269
        },
        "outputId": "a4d5814c-d21f-452d-ef3a-ca6258815261"
      },
      "source": [
        "bayes = naive_bayes.MultinomialNB()\n",
        "%time bayes.fit(X_train, Y_train)\n",
        "\n",
        "print()\n",
        "\n",
        "predictions = bayes.predict(X_test)\n",
        "print(\"Bayes confusion matrix\")\n",
        "print(metrics.classification_report(Y_test, predictions))\n",
        "print(\"Bayes Accuracy: \", np.mean(predictions == Y_test)) # comparing predictions with actual\n",
        "pred_probs = bayes.predict_proba(X_test)[:,1] # prediction probabilities for positive class\n",
        "print(\"Bayes AUROC: \", metrics.roc_auc_score(Y_test, pred_probs)) # AUC"
      ],
      "execution_count": 411,
      "outputs": [
        {
          "output_type": "stream",
          "text": [
            "CPU times: user 158 ms, sys: 1 ms, total: 159 ms\n",
            "Wall time: 164 ms\n",
            "\n",
            "Bayes confusion matrix\n",
            "              precision    recall  f1-score   support\n",
            "\n",
            "    negative       0.80      0.78      0.79     12982\n",
            "    positive       0.79      0.80      0.79     13010\n",
            "\n",
            "    accuracy                           0.79     25992\n",
            "   macro avg       0.79      0.79      0.79     25992\n",
            "weighted avg       0.79      0.79      0.79     25992\n",
            "\n",
            "Bayes Accuracy:  0.7922437673130194\n",
            "Bayes AUROC:  0.8735269025604068\n"
          ],
          "name": "stdout"
        }
      ]
    },
    {
      "cell_type": "code",
      "metadata": {
        "id": "jKpqMgDTmM1n",
        "colab_type": "code",
        "colab": {
          "base_uri": "https://localhost:8080/",
          "height": 269
        },
        "outputId": "6c99fc74-a0f8-431f-ad7e-a683849edca9"
      },
      "source": [
        "svm = SGDClassifier(loss='log')\n",
        "%time svm.fit(X_train, Y_train)\n",
        "\n",
        "print()\n",
        "\n",
        "predictions = svm.predict(X_test)\n",
        "print(\"SVM confusion matrix\")\n",
        "print(metrics.classification_report(Y_test, predictions))\n",
        "print(\"SVM Accuracy: \", np.mean(predictions == Y_test)) # comparing predictions with actual\n",
        "pred_probs = svm.predict_proba(X_test)[:,1] # prediction probabilities for positive class\n",
        "print(\"SVM AUROC: \", metrics.roc_auc_score(Y_test, pred_probs)) # AUC"
      ],
      "execution_count": 412,
      "outputs": [
        {
          "output_type": "stream",
          "text": [
            "CPU times: user 212 ms, sys: 84 ms, total: 296 ms\n",
            "Wall time: 191 ms\n",
            "\n",
            "SVM confusion matrix\n",
            "              precision    recall  f1-score   support\n",
            "\n",
            "    negative       0.80      0.81      0.81     12982\n",
            "    positive       0.81      0.80      0.81     13010\n",
            "\n",
            "    accuracy                           0.81     25992\n",
            "   macro avg       0.81      0.81      0.81     25992\n",
            "weighted avg       0.81      0.81      0.81     25992\n",
            "\n",
            "SVM Accuracy:  0.8069021237303786\n",
            "SVM AUROC:  0.8860323452646727\n"
          ],
          "name": "stdout"
        }
      ]
    },
    {
      "cell_type": "markdown",
      "metadata": {
        "id": "fHH9UuKULdA7",
        "colab_type": "text"
      },
      "source": [
        "---"
      ]
    }
  ]
}