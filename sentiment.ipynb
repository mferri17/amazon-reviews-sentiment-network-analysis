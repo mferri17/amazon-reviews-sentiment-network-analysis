{
    "nbformat": 4,
    "nbformat_minor": 0,
    "metadata": {
        "colab": {
            "name": "sentiment.ipynb",
            "version": "0.3.2",
            "provenance": [],
            "collapsed_sections": ["lxwEn1LnX2Kx", "Ivh_vmWKLc_r", "92UOH1xyLc_6", "JLiIbGc_Lc__", "g9-2uspkLdAP", "0BNqqqraLdAT", "DQkbEqJLLdAc", "3KNllyAmX-4K", "pooIbfTGYQTj", "MOpPKW1qLdAr"]
        },
        "language_info": {
            "codemirror_mode": {
                "name": "ipython",
                "version": 3
            },
            "file_extension": ".py",
            "mimetype": "text/x-python",
            "name": "python",
            "nbconvert_exporter": "python",
            "pygments_lexer": "ipython3",
            "version": "3.7.3"
        },
        "kernelspec": {
            "display_name": "Python 3",
            "language": "python",
            "name": "python3"
        }
    },
    "cells": [{
        "cell_type": "markdown",
        "metadata": {
            "id": "ysBCOUbpLc_k",
            "colab_type": "text"
        },
        "source": ["# Amazon Reviews Sentiment Analysis - Ferri Marco, Basso Matteo"]
    }, {
        "cell_type": "markdown",
        "metadata": {
            "id": "FpMdBSI2Lc_l",
            "colab_type": "text"
        },
        "source": ["This project aims to experiment with sentiment analysis on [Amazon Reviews](http://jmcauley.ucsd.edu/data/amazon/) in order to build a prediction model for rating, based on NLP."]
    }, {
        "cell_type": "markdown",
        "metadata": {
            "id": "LfwyCK9SLc_m",
            "colab_type": "text"
        },
        "source": ["## Dataset"]
    }, {
        "cell_type": "markdown",
        "metadata": {
            "id": "lxwEn1LnX2Kx",
            "colab_type": "text"
        },
        "source": ["### Dependencies"]
    }, {
        "cell_type": "code",
        "metadata": {
            "scrolled": false,
            "id": "ATRnE5hmLc_n",
            "colab_type": "code",
            "colab": {}
        },
        "source": ["import os\n", "import gzip\n", "import fileinput\n", "import sys\n", "import datetime\n", "import io\n", "import urllib\n", "import pandas as pd\n", "import numpy as np\n", "import matplotlib.pyplot as plt"],
        "execution_count": 0,
        "outputs": []
    }, {
        "cell_type": "markdown",
        "metadata": {
            "id": "Ivh_vmWKLc_r",
            "colab_type": "text"
        },
        "source": ["### Reading"]
    }, {
        "cell_type": "markdown",
        "metadata": {
            "id": "HFHgiBhULc_s",
            "colab_type": "text"
        },
        "source": ["\n", "Util functions to read from JSON and convert into pandas dataframe:"]
    }, {
        "cell_type": "code",
        "metadata": {
            "scrolled": false,
            "id": "dS8W2vxFLc_t",
            "colab_type": "code",
            "colab": {}
        },
        "source": ["def parse(path):\n", "  g = gzip.open(path, 'rb')\n", "  for l in g:\n", "    yield eval(l)\n", "\n", "def getDF(path):\n", "  df = []\n", "  for d in parse(path):\n", "    df.append(d)\n", "  return pd.DataFrame(df)\n", "\n", "def read_dataset(dataset):      \n", "    basepath = r\"datasets\\amazon-5-core\"\n", "    df = getDF(os.path.join(basepath, dataset))\n", "    return df\n", "  \n", "def download_dataset(dataset):\n", "    request = urllib.request.Request('http://snap.stanford.edu/data/amazon/productGraph/categoryFiles/' + dataset)\n", "    request.add_header('Accept-encoding', 'gzip')\n", "    response = urllib.request.urlopen(request)\n", "    buf = io.BytesIO(response.read())\n", "    file = gzip.GzipFile(fileobj=buf)\n", "    df = []\n", "    for line in file:\n", "      df.append(eval(line))\n", "    return pd.DataFrame(df)"],
        "execution_count": 0,
        "outputs": []
    }, {
        "cell_type": "markdown",
        "metadata": {
            "id": "vTmIPVTqLc_v",
            "colab_type": "text"
        },
        "source": ["Reading from JSON"]
    }, {
        "cell_type": "code",
        "metadata": {
            "scrolled": false,
            "id": "GVoQ1KOhLc_w",
            "colab_type": "code",
            "outputId": "d9071690-53e1-4e87-a5b3-1498e7adbd83",
            "executionInfo": {
                "status": "ok",
                "timestamp": 1561730482224,
                "user_tz": -120,
                "elapsed": 23817,
                "user": {
                    "displayName": "Marco Ferri",
                    "photoUrl": "",
                    "userId": "05365402322049097285"
                }
            },
            "colab": {
                "base_uri": "https://localhost:8080/",
                "height": 50
            }
        },
        "source": ["#%time dfull = read_dataset(\"reviews_Video_Games_5.json.gz\")\n", "%time dfull = download_dataset('reviews_Video_Games_5.json.gz')"],
        "execution_count": 0,
        "outputs": [{
            "output_type": "stream",
            "text": ["CPU times: user 15.9 s, sys: 312 ms, total: 16.3 s\n", "Wall time: 22.5 s\n"],
            "name": "stdout"
        }]
    }, {
        "cell_type": "markdown",
        "metadata": {
            "id": "qMi0SIdxLc_1",
            "colab_type": "text"
        },
        "source": ["Columns renaming"]
    }, {
        "cell_type": "code",
        "metadata": {
            "scrolled": false,
            "id": "vs35GBUdLc_3",
            "colab_type": "code",
            "colab": {}
        },
        "source": ["dfull = dfull.rename(index=str, columns={\"asin\": \"productID\", \n", "                                         \"reviewerID\": \"userID\", \n", "                                         \"reviewerName\": \"userName\",\n", "                                         \"reviewText\": \"text\",\n", "                                         \"overall\": \"rating\"})"],
        "execution_count": 0,
        "outputs": []
    }, {
        "cell_type": "markdown",
        "metadata": {
            "id": "92UOH1xyLc_6",
            "colab_type": "text"
        },
        "source": ["#### Reading performance"]
    }, {
        "cell_type": "markdown",
        "metadata": {
            "id": "dJKjYztBLc_7",
            "colab_type": "text"
        },
        "source": ["!pip install py-heat-magic\n", "%load_ext heat"]
    }, {
        "cell_type": "markdown",
        "metadata": {
            "id": "6H8fXbCULc_8",
            "colab_type": "text"
        },
        "source": ["%%heat\n", "import os\n", "import gzip\n", "import fileinput\n", "import re\n", "import sys\n", "import pandas as pd\n", "import numpy as np\n", "import matplotlib.pyplot as plt\n", "\n", "def parse(path):\n", "  g = gzip.open(path, 'rb')\n", "  for l in g:\n", "    yield eval(l)\n", "\n", "def getDF(path):\n", "  df = []\n", "  for d in parse(path):\n", "    df.append(d)\n", "  return pd.DataFrame(df)\n", "\n", "def read_dataset(dataset):\n", "    basepath = r\"datasets\\amazon-5-core\"\n", "    df = getDF(os.path.join(basepath, dataset))\n", "    return df\n", "\n", "dfull = read_dataset(\"reviews_Video_Games_5.json.gz\")"]
    }, {
        "cell_type": "markdown",
        "metadata": {
            "id": "QZejB5dWLc_9",
            "colab_type": "text"
        },
        "source": ["![reading performances](https://github.com/mferri17/amazon-reviews-sentiment-network-analysis/blob/master/docs/images/00_dataset_reading_performances.png?raw=true)"]
    }, {
        "cell_type": "markdown",
        "metadata": {
            "id": "8FFQDmglLc_9",
            "colab_type": "text"
        },
        "source": ["---"]
    }, {
        "cell_type": "markdown",
        "metadata": {
            "id": "XzU2ogWCLc_-",
            "colab_type": "text"
        },
        "source": ["###  Description"]
    }, {
        "cell_type": "markdown",
        "metadata": {
            "id": "JLiIbGc_Lc__",
            "colab_type": "text"
        },
        "source": ["#### Schema"]
    }, {
        "cell_type": "code",
        "metadata": {
            "scrolled": false,
            "id": "qAnGOIo2Lc__",
            "colab_type": "code",
            "outputId": "7a4cfc93-5f83-4a09-b1a9-c33654d47f1b",
            "executionInfo": {
                "status": "ok",
                "timestamp": 1561730482463,
                "user_tz": -120,
                "elapsed": 23991,
                "user": {
                    "displayName": "Marco Ferri",
                    "photoUrl": "",
                    "userId": "05365402322049097285"
                }
            },
            "colab": {
                "base_uri": "https://localhost:8080/",
                "height": 34
            }
        },
        "source": ["dfull.shape"],
        "execution_count": 0,
        "outputs": [{
            "output_type": "execute_result",
            "data": {
                "text/plain": ["(231780, 9)"]
            },
            "metadata": {
                "tags": []
            },
            "execution_count": 124
        }]
    }, {
        "cell_type": "code",
        "metadata": {
            "scrolled": false,
            "id": "eMz4oHsOLdAE",
            "colab_type": "code",
            "outputId": "1e8c827e-eec1-4b45-ff17-2d034776f926",
            "executionInfo": {
                "status": "ok",
                "timestamp": 1561730482464,
                "user_tz": -120,
                "elapsed": 23941,
                "user": {
                    "displayName": "Marco Ferri",
                    "photoUrl": "",
                    "userId": "05365402322049097285"
                }
            },
            "colab": {
                "base_uri": "https://localhost:8080/",
                "height": 252
            }
        },
        "source": ["dfull.info()"],
        "execution_count": 0,
        "outputs": [{
            "output_type": "stream",
            "text": ["<class 'pandas.core.frame.DataFrame'>\n", "Index: 231780 entries, 0 to 231779\n", "Data columns (total 9 columns):\n", "productID         231780 non-null object\n", "helpful           231780 non-null object\n", "rating            231780 non-null float64\n", "text              231780 non-null object\n", "reviewTime        231780 non-null object\n", "userID            231780 non-null object\n", "userName          228967 non-null object\n", "summary           231780 non-null object\n", "unixReviewTime    231780 non-null int64\n", "dtypes: float64(1), int64(1), object(7)\n", "memory usage: 17.7+ MB\n"],
            "name": "stdout"
        }]
    }, {
        "cell_type": "markdown",
        "metadata": {
            "id": "tXUbC-ACLdAI",
            "colab_type": "text"
        },
        "source": ["Little dataset preview:"]
    }, {
        "cell_type": "code",
        "metadata": {
            "scrolled": false,
            "id": "FfB3d-ZJLdAJ",
            "colab_type": "code",
            "outputId": "0071f0cd-1d03-4235-cd59-c42fdb696e11",
            "executionInfo": {
                "status": "ok",
                "timestamp": 1561730482717,
                "user_tz": -120,
                "elapsed": 24145,
                "user": {
                    "displayName": "Marco Ferri",
                    "photoUrl": "",
                    "userId": "05365402322049097285"
                }
            },
            "colab": {
                "base_uri": "https://localhost:8080/",
                "height": 186
            }
        },
        "source": ["dfull.head(3)"],
        "execution_count": 0,
        "outputs": [{
            "output_type": "execute_result",
            "data": {
                "text/html": ["<div>\n", "<style scoped>\n", "    .dataframe tbody tr th:only-of-type {\n", "        vertical-align: middle;\n", "    }\n", "\n", "    .dataframe tbody tr th {\n", "        vertical-align: top;\n", "    }\n", "\n", "    .dataframe thead th {\n", "        text-align: right;\n", "    }\n", "</style>\n", "<table border=\"1\" class=\"dataframe\">\n", "  <thead>\n", "    <tr style=\"text-align: right;\">\n", "      <th></th>\n", "      <th>productID</th>\n", "      <th>helpful</th>\n", "      <th>rating</th>\n", "      <th>text</th>\n", "      <th>reviewTime</th>\n", "      <th>userID</th>\n", "      <th>userName</th>\n", "      <th>summary</th>\n", "      <th>unixReviewTime</th>\n", "    </tr>\n", "  </thead>\n", "  <tbody>\n", "    <tr>\n", "      <th>0</th>\n", "      <td>0700099867</td>\n", "      <td>[8, 12]</td>\n", "      <td>1.0</td>\n", "      <td>Installing the game was a struggle (because of...</td>\n", "      <td>07 9, 2012</td>\n", "      <td>A2HD75EMZR8QLN</td>\n", "      <td>123</td>\n", "      <td>Pay to unlock content? I don't think so.</td>\n", "      <td>1341792000</td>\n", "    </tr>\n", "    <tr>\n", "      <th>1</th>\n", "      <td>0700099867</td>\n", "      <td>[0, 0]</td>\n", "      <td>4.0</td>\n", "      <td>If you like rally cars get this game you will ...</td>\n", "      <td>06 30, 2013</td>\n", "      <td>A3UR8NLLY1ZHCX</td>\n", "      <td>Alejandro Henao \"Electronic Junky\"</td>\n", "      <td>Good rally game</td>\n", "      <td>1372550400</td>\n", "    </tr>\n", "    <tr>\n", "      <th>2</th>\n", "      <td>0700099867</td>\n", "      <td>[0, 0]</td>\n", "      <td>1.0</td>\n", "      <td>1st shipment received a book instead of the ga...</td>\n", "      <td>06 28, 2014</td>\n", "      <td>A1INA0F5CWW3J4</td>\n", "      <td>Amazon Shopper \"Mr.Repsol\"</td>\n", "      <td>Wrong key</td>\n", "      <td>1403913600</td>\n", "    </tr>\n", "  </tbody>\n", "</table>\n", "</div>"],
                "text/plain": ["    productID  ... unixReviewTime\n", "0  0700099867  ...     1341792000\n", "1  0700099867  ...     1372550400\n", "2  0700099867  ...     1403913600\n", "\n", "[3 rows x 9 columns]"]
            },
            "metadata": {
                "tags": []
            },
            "execution_count": 126
        }]
    }, {
        "cell_type": "markdown",
        "metadata": {
            "id": "d-SJ_j0eLdAO",
            "colab_type": "text"
        },
        "source": ["#### Columns analysis"]
    }, {
        "cell_type": "markdown",
        "metadata": {
            "id": "g9-2uspkLdAP",
            "colab_type": "text"
        },
        "source": ["##### Users and products"]
    }, {
        "cell_type": "code",
        "metadata": {
            "scrolled": false,
            "id": "z5WL24eHLdAP",
            "colab_type": "code",
            "outputId": "be01f4bc-2dd0-4db2-cf8e-c175d08a91c4",
            "executionInfo": {
                "status": "ok",
                "timestamp": 1561730482718,
                "user_tz": -120,
                "elapsed": 24092,
                "user": {
                    "displayName": "Marco Ferri",
                    "photoUrl": "",
                    "userId": "05365402322049097285"
                }
            },
            "colab": {
                "base_uri": "https://localhost:8080/",
                "height": 101
            }
        },
        "source": ["(rows,cols) = dfull.shape\n", "n_users = dfull['userID'].nunique()\n", "n_products = dfull['productID'].nunique()\n", "print(\"Number of REVIEWS: \", rows)\n", "print(\"Number of USERS: \", n_users)\n", "print(\"Number of PRODUCTS: \", n_products)\n", "print(\"Avarage REVIEWS PER USER: \", rows/n_users)\n", "print(\"Avarage REVIEWS PER PRODUCT: \", rows/n_products)"],
        "execution_count": 0,
        "outputs": [{
            "output_type": "stream",
            "text": ["Number of REVIEWS:  231780\n", "Number of USERS:  24303\n", "Number of PRODUCTS:  10672\n", "Avarage REVIEWS PER USER:  9.537094185902975\n", "Avarage REVIEWS PER PRODUCT:  21.718515742128936\n"],
            "name": "stdout"
        }]
    }, {
        "cell_type": "markdown",
        "metadata": {
            "id": "0BNqqqraLdAT",
            "colab_type": "text"
        },
        "source": ["##### Datetime"]
    }, {
        "cell_type": "code",
        "metadata": {
            "scrolled": false,
            "id": "JyDC2Oa_LdAT",
            "colab_type": "code",
            "outputId": "9b2ef35d-baaf-499b-bf69-7f9c88990d37",
            "executionInfo": {
                "status": "ok",
                "timestamp": 1561730483852,
                "user_tz": -120,
                "elapsed": 25171,
                "user": {
                    "displayName": "Marco Ferri",
                    "photoUrl": "",
                    "userId": "05365402322049097285"
                }
            },
            "colab": {
                "base_uri": "https://localhost:8080/",
                "height": 50
            }
        },
        "source": ["dfull['date'] = pd.to_datetime(dfull['unixReviewTime'],unit='s')\n", "print(\"First date: \", min(dfull['date']))\n", "print(\"Last date: \", max(dfull['date']))"],
        "execution_count": 0,
        "outputs": [{
            "output_type": "stream",
            "text": ["First date:  1999-10-14 00:00:00\n", "Last date:  2014-07-22 00:00:00\n"],
            "name": "stdout"
        }]
    }, {
        "cell_type": "code",
        "metadata": {
            "scrolled": false,
            "id": "SE8yze1GLdAX",
            "colab_type": "code",
            "outputId": "ec12cf70-6e5c-4c22-eb27-307fdec75adf",
            "executionInfo": {
                "status": "ok",
                "timestamp": 1561730484327,
                "user_tz": -120,
                "elapsed": 25598,
                "user": {
                    "displayName": "Marco Ferri",
                    "photoUrl": "",
                    "userId": "05365402322049097285"
                }
            },
            "colab": {
                "base_uri": "https://localhost:8080/",
                "height": 300
            }
        },
        "source": ["date_grouping = dfull.groupby('date').count()[['rating']].sort_values('date', ascending=True)\n", "date_grouping = date_grouping.rename(index=str, columns={\"rating\": \"count\"})\n", "date_grouping.plot()"],
        "execution_count": 0,
        "outputs": [{
            "output_type": "execute_result",
            "data": {
                "text/plain": ["<matplotlib.axes._subplots.AxesSubplot at 0x7f9e03dfb0f0>"]
            },
            "metadata": {
                "tags": []
            },
            "execution_count": 129
        }, {
            "output_type": "display_data",
            "data": {
                "image/png": "[encoded data removed]",
                "text/plain": ["<Figure size 432x288 with 1 Axes>"]
            },
            "metadata": {
                "tags": []
            }
        }]
    }, {
        "cell_type": "markdown",
        "metadata": {
            "id": "DQkbEqJLLdAc",
            "colab_type": "text"
        },
        "source": ["##### Rating"]
    }, {
        "cell_type": "code",
        "metadata": {
            "scrolled": false,
            "id": "_7uXYtsuLdAd",
            "colab_type": "code",
            "outputId": "8ebffd58-b1df-4c33-9b2f-d0dbe9f3221d",
            "executionInfo": {
                "status": "ok",
                "timestamp": 1561730484330,
                "user_tz": -120,
                "elapsed": 25550,
                "user": {
                    "displayName": "Marco Ferri",
                    "photoUrl": "",
                    "userId": "05365402322049097285"
                }
            },
            "colab": {
                "base_uri": "https://localhost:8080/",
                "height": 34
            }
        },
        "source": ["dfull['rating'].mean()"],
        "execution_count": 0,
        "outputs": [{
            "output_type": "execute_result",
            "data": {
                "text/plain": ["4.086396582966606"]
            },
            "metadata": {
                "tags": []
            },
            "execution_count": 130
        }]
    }, {
        "cell_type": "code",
        "metadata": {
            "scrolled": false,
            "id": "ADgiYAmLLdAh",
            "colab_type": "code",
            "outputId": "5063f78d-cb81-4c48-df67-50019ba616db",
            "executionInfo": {
                "status": "ok",
                "timestamp": 1561730484580,
                "user_tz": -120,
                "elapsed": 25749,
                "user": {
                    "displayName": "Marco Ferri",
                    "photoUrl": "",
                    "userId": "05365402322049097285"
                }
            },
            "colab": {
                "base_uri": "https://localhost:8080/",
                "height": 286
            }
        },
        "source": ["dfull['rating'].hist()"],
        "execution_count": 0,
        "outputs": [{
            "output_type": "execute_result",
            "data": {
                "text/plain": ["<matplotlib.axes._subplots.AxesSubplot at 0x7f9e03b4dd68>"]
            },
            "metadata": {
                "tags": []
            },
            "execution_count": 131
        }, {
            "output_type": "display_data",
            "data": {
                "image/png": "[encoded data removed]",
                "text/plain": ["<Figure size 432x288 with 1 Axes>"]
            },
            "metadata": {
                "tags": []
            }
        }]
    }, {
        "cell_type": "markdown",
        "metadata": {
            "id": "qTIISXJJLdAm",
            "colab_type": "text"
        },
        "source": ["***"]
    }, {
        "cell_type": "markdown",
        "metadata": {
            "id": "SL-U94NbLdAq",
            "colab_type": "text"
        },
        "source": ["## Sentiment Analysis"]
    }, {
        "cell_type": "markdown",
        "metadata": {
            "id": "3KNllyAmX-4K",
            "colab_type": "text"
        },
        "source": ["### Dependencies"]
    }, {
        "cell_type": "code",
        "metadata": {
            "id": "vYXJCv0yX-MK",
            "colab_type": "code",
            "outputId": "72ff28d1-e297-4259-a8bd-2774ba455c14",
            "executionInfo": {
                "status": "ok",
                "timestamp": 1561730484582,
                "user_tz": -120,
                "elapsed": 25750,
                "user": {
                    "displayName": "Marco Ferri",
                    "photoUrl": "",
                    "userId": "05365402322049097285"
                }
            },
            "colab": {
                "base_uri": "https://localhost:8080/",
                "height": 50
            }
        },
        "source": ["import nltk\n", "from nltk.corpus import stopwords\n", "nltk.download('stopwords')\n", "\n", "from PIL import Image\n", "from wordcloud import WordCloud\n", "\n", "from collections import Counter\n", "import itertools"],
        "execution_count": 0,
        "outputs": [{
            "output_type": "stream",
            "text": ["[nltk_data] Downloading package stopwords to /root/nltk_data...\n", "[nltk_data]   Package stopwords is already up-to-date!\n"],
            "name": "stdout"
        }]
    }, {
        "cell_type": "code",
        "metadata": {
            "id": "XKyICPu2YG8j",
            "colab_type": "code",
            "colab": {}
        },
        "source": ["from sklearn.feature_extraction.text import TfidfVectorizer\n", "from sklearn import naive_bayes\n", "from sklearn.metrics import roc_auc_score\n", "from wordcloud import WordCloud"],
        "execution_count": 0,
        "outputs": []
    }, {
        "cell_type": "markdown",
        "metadata": {
            "id": "pooIbfTGYQTj",
            "colab_type": "text"
        },
        "source": ["### Text pre-processing"]
    }, {
        "cell_type": "code",
        "metadata": {
            "scrolled": true,
            "id": "Fx6ui2JjLdAz",
            "colab_type": "code",
            "outputId": "cc1f3b21-0331-40a5-81e3-baacb7daefd5",
            "executionInfo": {
                "status": "ok",
                "timestamp": 1561730484587,
                "user_tz": -120,
                "elapsed": 25753,
                "user": {
                    "displayName": "Marco Ferri",
                    "photoUrl": "",
                    "userId": "05365402322049097285"
                }
            },
            "colab": {
                "base_uri": "https://localhost:8080/",
                "height": 1000
            }
        },
        "source": ["stopset = set(stopwords.words('english'))\n", "stopset"],
        "execution_count": 0,
        "outputs": [{
            "output_type": "execute_result",
            "data": {
                "text/plain": ["{'a',\n", " 'about',\n", " 'above',\n", " 'after',\n", " 'again',\n", " 'against',\n", " 'ain',\n", " 'all',\n", " 'am',\n", " 'an',\n", " 'and',\n", " 'any',\n", " 'are',\n", " 'aren',\n", " \"aren't\",\n", " 'as',\n", " 'at',\n", " 'be',\n", " 'because',\n", " 'been',\n", " 'before',\n", " 'being',\n", " 'below',\n", " 'between',\n", " 'both',\n", " 'but',\n", " 'by',\n", " 'can',\n", " 'couldn',\n", " \"couldn't\",\n", " 'd',\n", " 'did',\n", " 'didn',\n", " \"didn't\",\n", " 'do',\n", " 'does',\n", " 'doesn',\n", " \"doesn't\",\n", " 'doing',\n", " 'don',\n", " \"don't\",\n", " 'down',\n", " 'during',\n", " 'each',\n", " 'few',\n", " 'for',\n", " 'from',\n", " 'further',\n", " 'had',\n", " 'hadn',\n", " \"hadn't\",\n", " 'has',\n", " 'hasn',\n", " \"hasn't\",\n", " 'have',\n", " 'haven',\n", " \"haven't\",\n", " 'having',\n", " 'he',\n", " 'her',\n", " 'here',\n", " 'hers',\n", " 'herself',\n", " 'him',\n", " 'himself',\n", " 'his',\n", " 'how',\n", " 'i',\n", " 'if',\n", " 'in',\n", " 'into',\n", " 'is',\n", " 'isn',\n", " \"isn't\",\n", " 'it',\n", " \"it's\",\n", " 'its',\n", " 'itself',\n", " 'just',\n", " 'll',\n", " 'm',\n", " 'ma',\n", " 'me',\n", " 'mightn',\n", " \"mightn't\",\n", " 'more',\n", " 'most',\n", " 'mustn',\n", " \"mustn't\",\n", " 'my',\n", " 'myself',\n", " 'needn',\n", " \"needn't\",\n", " 'no',\n", " 'nor',\n", " 'not',\n", " 'now',\n", " 'o',\n", " 'of',\n", " 'off',\n", " 'on',\n", " 'once',\n", " 'only',\n", " 'or',\n", " 'other',\n", " 'our',\n", " 'ours',\n", " 'ourselves',\n", " 'out',\n", " 'over',\n", " 'own',\n", " 're',\n", " 's',\n", " 'same',\n", " 'shan',\n", " \"shan't\",\n", " 'she',\n", " \"she's\",\n", " 'should',\n", " \"should've\",\n", " 'shouldn',\n", " \"shouldn't\",\n", " 'so',\n", " 'some',\n", " 'such',\n", " 't',\n", " 'than',\n", " 'that',\n", " \"that'll\",\n", " 'the',\n", " 'their',\n", " 'theirs',\n", " 'them',\n", " 'themselves',\n", " 'then',\n", " 'there',\n", " 'these',\n", " 'they',\n", " 'this',\n", " 'those',\n", " 'through',\n", " 'to',\n", " 'too',\n", " 'under',\n", " 'until',\n", " 'up',\n", " 've',\n", " 'very',\n", " 'was',\n", " 'wasn',\n", " \"wasn't\",\n", " 'we',\n", " 'were',\n", " 'weren',\n", " \"weren't\",\n", " 'what',\n", " 'when',\n", " 'where',\n", " 'which',\n", " 'while',\n", " 'who',\n", " 'whom',\n", " 'why',\n", " 'will',\n", " 'with',\n", " 'won',\n", " \"won't\",\n", " 'wouldn',\n", " \"wouldn't\",\n", " 'y',\n", " 'you',\n", " \"you'd\",\n", " \"you'll\",\n", " \"you're\",\n", " \"you've\",\n", " 'your',\n", " 'yours',\n", " 'yourself',\n", " 'yourselves'}"]
            },
            "metadata": {
                "tags": []
            },
            "execution_count": 134
        }]
    }, {
        "cell_type": "markdown",
        "metadata": {
            "id": "MOpPKW1qLdAr",
            "colab_type": "text"
        },
        "source": ["### Common Words"]
    }, {
        "cell_type": "code",
        "metadata": {
            "scrolled": true,
            "id": "CHz_8UkGLdA3",
            "colab_type": "code",
            "outputId": "525a237d-4018-4765-d800-38bbe83739f3",
            "executionInfo": {
                "status": "error",
                "timestamp": 1561730484904,
                "user_tz": -120,
                "elapsed": 26070,
                "user": {
                    "displayName": "Marco Ferri",
                    "photoUrl": "",
                    "userId": "05365402322049097285"
                }
            },
            "colab": {
                "base_uri": "https://localhost:8080/",
                "height": 387
            }
        },
        "source": ["import itertools\n", "\n", "sentences = (list(itertools.chain(dfull)))\n", "flat_list = [item for sublist in sentences for item in sublist]\n", "  \n", "fig = plt.figure(figsize=(20,14))\n", "wordcloud = WordCloud(background_color=\"white\").generate(\" \".join(flat_list))\n", "plt.imshow(wordcloud,interpolation='bilinear')\n", "plt.axis(\"off\")"],
        "execution_count": 0,
        "outputs": [{
            "output_type": "error",
            "ename": "ValueError",
            "evalue": "ignored",
            "traceback": ["\u001b[0;31m---------------------------------------------------------------------------\u001b[0m", "\u001b[0;31mValueError\u001b[0m                                Traceback (most recent call last)", "\u001b[0;32m<ipython-input-135-ba2b35e737bd>\u001b[0m in \u001b[0;36m<module>\u001b[0;34m()\u001b[0m\n\u001b[1;32m      5\u001b[0m \u001b[0;34m\u001b[0m\u001b[0m\n\u001b[1;32m      6\u001b[0m \u001b[0mfig\u001b[0m \u001b[0;34m=\u001b[0m \u001b[0mplt\u001b[0m\u001b[0;34m.\u001b[0m\u001b[0mfigure\u001b[0m\u001b[0;34m(\u001b[0m\u001b[0mfigsize\u001b[0m\u001b[0;34m=\u001b[0m\u001b[0;34m(\u001b[0m\u001b[0;36m20\u001b[0m\u001b[0;34m,\u001b[0m\u001b[0;36m14\u001b[0m\u001b[0;34m)\u001b[0m\u001b[0;34m)\u001b[0m\u001b[0;34m\u001b[0m\u001b[0;34m\u001b[0m\u001b[0m\n\u001b[0;32m----> 7\u001b[0;31m \u001b[0mwordcloud\u001b[0m \u001b[0;34m=\u001b[0m \u001b[0mWordCloud\u001b[0m\u001b[0;34m(\u001b[0m\u001b[0mbackground_color\u001b[0m\u001b[0;34m=\u001b[0m\u001b[0;34m\"white\"\u001b[0m\u001b[0;34m)\u001b[0m\u001b[0;34m.\u001b[0m\u001b[0mgenerate\u001b[0m\u001b[0;34m(\u001b[0m\u001b[0;34m\" \"\u001b[0m\u001b[0;34m.\u001b[0m\u001b[0mjoin\u001b[0m\u001b[0;34m(\u001b[0m\u001b[0mflat_list\u001b[0m\u001b[0;34m)\u001b[0m\u001b[0;34m)\u001b[0m\u001b[0;34m\u001b[0m\u001b[0;34m\u001b[0m\u001b[0m\n\u001b[0m\u001b[1;32m      8\u001b[0m \u001b[0mplt\u001b[0m\u001b[0;34m.\u001b[0m\u001b[0mimshow\u001b[0m\u001b[0;34m(\u001b[0m\u001b[0mwordcloud\u001b[0m\u001b[0;34m,\u001b[0m\u001b[0minterpolation\u001b[0m\u001b[0;34m=\u001b[0m\u001b[0;34m'bilinear'\u001b[0m\u001b[0;34m)\u001b[0m\u001b[0;34m\u001b[0m\u001b[0;34m\u001b[0m\u001b[0m\n\u001b[1;32m      9\u001b[0m \u001b[0mplt\u001b[0m\u001b[0;34m.\u001b[0m\u001b[0maxis\u001b[0m\u001b[0;34m(\u001b[0m\u001b[0;34m\"off\"\u001b[0m\u001b[0;34m)\u001b[0m\u001b[0;34m\u001b[0m\u001b[0;34m\u001b[0m\u001b[0m\n", "\u001b[0;32m/usr/local/lib/python3.6/dist-packages/wordcloud/wordcloud.py\u001b[0m in \u001b[0;36mgenerate\u001b[0;34m(self, text)\u001b[0m\n\u001b[1;32m    603\u001b[0m         \u001b[0mself\u001b[0m\u001b[0;34m\u001b[0m\u001b[0;34m\u001b[0m\u001b[0m\n\u001b[1;32m    604\u001b[0m         \"\"\"\n\u001b[0;32m--> 605\u001b[0;31m         \u001b[0;32mreturn\u001b[0m \u001b[0mself\u001b[0m\u001b[0;34m.\u001b[0m\u001b[0mgenerate_from_text\u001b[0m\u001b[0;34m(\u001b[0m\u001b[0mtext\u001b[0m\u001b[0;34m)\u001b[0m\u001b[0;34m\u001b[0m\u001b[0;34m\u001b[0m\u001b[0m\n\u001b[0m\u001b[1;32m    606\u001b[0m \u001b[0;34m\u001b[0m\u001b[0m\n\u001b[1;32m    607\u001b[0m     \u001b[0;32mdef\u001b[0m \u001b[0m_check_generated\u001b[0m\u001b[0;34m(\u001b[0m\u001b[0mself\u001b[0m\u001b[0;34m)\u001b[0m\u001b[0;34m:\u001b[0m\u001b[0;34m\u001b[0m\u001b[0;34m\u001b[0m\u001b[0m\n", "\u001b[0;32m/usr/local/lib/python3.6/dist-packages/wordcloud/wordcloud.py\u001b[0m in \u001b[0;36mgenerate_from_text\u001b[0;34m(self, text)\u001b[0m\n\u001b[1;32m    585\u001b[0m         \"\"\"\n\u001b[1;32m    586\u001b[0m         \u001b[0mwords\u001b[0m \u001b[0;34m=\u001b[0m \u001b[0mself\u001b[0m\u001b[0;34m.\u001b[0m\u001b[0mprocess_text\u001b[0m\u001b[0;34m(\u001b[0m\u001b[0mtext\u001b[0m\u001b[0;34m)\u001b[0m\u001b[0;34m\u001b[0m\u001b[0;34m\u001b[0m\u001b[0m\n\u001b[0;32m--> 587\u001b[0;31m         \u001b[0mself\u001b[0m\u001b[0;34m.\u001b[0m\u001b[0mgenerate_from_frequencies\u001b[0m\u001b[0;34m(\u001b[0m\u001b[0mwords\u001b[0m\u001b[0;34m)\u001b[0m\u001b[0;34m\u001b[0m\u001b[0;34m\u001b[0m\u001b[0m\n\u001b[0m\u001b[1;32m    588\u001b[0m         \u001b[0;32mreturn\u001b[0m \u001b[0mself\u001b[0m\u001b[0;34m\u001b[0m\u001b[0;34m\u001b[0m\u001b[0m\n\u001b[1;32m    589\u001b[0m \u001b[0;34m\u001b[0m\u001b[0m\n", "\u001b[0;32m/usr/local/lib/python3.6/dist-packages/wordcloud/wordcloud.py\u001b[0m in \u001b[0;36mgenerate_from_frequencies\u001b[0;34m(self, frequencies, max_font_size)\u001b[0m\n\u001b[1;32m    381\u001b[0m         \u001b[0;32mif\u001b[0m \u001b[0mlen\u001b[0m\u001b[0;34m(\u001b[0m\u001b[0mfrequencies\u001b[0m\u001b[0;34m)\u001b[0m \u001b[0;34m<=\u001b[0m \u001b[0;36m0\u001b[0m\u001b[0;34m:\u001b[0m\u001b[0;34m\u001b[0m\u001b[0;34m\u001b[0m\u001b[0m\n\u001b[1;32m    382\u001b[0m             raise ValueError(\"We need at least 1 word to plot a word cloud, \"\n\u001b[0;32m--> 383\u001b[0;31m                              \"got %d.\" % len(frequencies))\n\u001b[0m\u001b[1;32m    384\u001b[0m         \u001b[0mfrequencies\u001b[0m \u001b[0;34m=\u001b[0m \u001b[0mfrequencies\u001b[0m\u001b[0;34m[\u001b[0m\u001b[0;34m:\u001b[0m\u001b[0mself\u001b[0m\u001b[0;34m.\u001b[0m\u001b[0mmax_words\u001b[0m\u001b[0;34m]\u001b[0m\u001b[0;34m\u001b[0m\u001b[0;34m\u001b[0m\u001b[0m\n\u001b[1;32m    385\u001b[0m \u001b[0;34m\u001b[0m\u001b[0m\n", "\u001b[0;31mValueError\u001b[0m: We need at least 1 word to plot a word cloud, got 0."]
        }, {
            "output_type": "display_data",
            "data": {
                "text/plain": ["<Figure size 1440x1008 with 0 Axes>"]
            },
            "metadata": {
                "tags": []
            }
        }]
    }, {
        "cell_type": "markdown",
        "metadata": {
            "id": "fHH9UuKULdA7",
            "colab_type": "text"
        },
        "source": ["---"]
    }, {
        "cell_type": "markdown",
        "metadata": {
            "id": "Tc-x-P0fLdA8",
            "colab_type": "text"
        },
        "source": ["## Rating prediction"]
    }, {
        "cell_type": "markdown",
        "metadata": {
            "id": "0aDAEb4kLdA9",
            "colab_type": "text"
        },
        "source": ["### Data manipulation"]
    }, {
        "cell_type": "markdown",
        "metadata": {
            "id": "9DDZraswLdA-",
            "colab_type": "text"
        },
        "source": ["#### Rejecting columns"]
    }, {
        "cell_type": "code",
        "metadata": {
            "scrolled": true,
            "id": "PAY_rpPiLdA_",
            "colab_type": "code",
            "colab": {}
        },
        "source": ["dfull = dfull.drop(['helpful', 'reviewTime', 'unixReviewTime', 'userName'], axis = 1)"],
        "execution_count": 0,
        "outputs": []
    }, {
        "cell_type": "markdown",
        "metadata": {
            "id": "-YoecvNDLdBB",
            "colab_type": "text"
        },
        "source": ["#### Binarization"]
    }, {
        "cell_type": "code",
        "metadata": {
            "collapsed": true,
            "scrolled": true,
            "id": "APold7gTLdBB",
            "colab_type": "code",
            "outputId": "053f1f2a-81f8-4f90-f192-f3193bf46ab9",
            "executionInfo": {
                "status": "ok",
                "timestamp": 1561730831102,
                "user_tz": -120,
                "elapsed": 577,
                "user": {
                    "displayName": "Marco Ferri",
                    "photoUrl": "",
                    "userId": "05365402322049097285"
                }
            },
            "colab": {
                "base_uri": "https://localhost:8080/",
                "height": 67
            }
        },
        "source": ["dfull['sentiment'] = ['positive' if r > 3 else 'negative' for r in dfull['rating']]\n", "dfull['sentiment'].value_counts()\n", "#dfull.sentiment.hist()"],
        "execution_count": 0,
        "outputs": [{
            "output_type": "execute_result",
            "data": {
                "text/plain": ["positive    174989\n", "negative     56791\n", "Name: sentiment, dtype: int64"]
            },
            "metadata": {
                "tags": []
            },
            "execution_count": 137
        }]
    }, {
        "cell_type": "markdown",
        "metadata": {
            "id": "dzNv8rcILdBE",
            "colab_type": "text"
        },
        "source": ["#### Undersampling"]
    }, {
        "cell_type": "code",
        "metadata": {
            "collapsed": true,
            "scrolled": true,
            "id": "X7fYTxtPLdBF",
            "colab_type": "code",
            "outputId": "4597e150-46ba-4645-d37e-ff8522ad19f4",
            "executionInfo": {
                "status": "ok",
                "timestamp": 1561730833014,
                "user_tz": -120,
                "elapsed": 760,
                "user": {
                    "displayName": "Marco Ferri",
                    "photoUrl": "",
                    "userId": "05365402322049097285"
                }
            },
            "colab": {
                "base_uri": "https://localhost:8080/",
                "height": 67
            }
        },
        "source": ["from sklearn.utils import *\n", "\n", "# Separate majority and minority classes\n", "df_majority = dfull[dfull.sentiment=='positive']\n", "df_minority = dfull[dfull.sentiment=='negative']\n", " \n", "# Downsample majority class\n", "df_majority_downsampled = resample(df_majority, \n", "                                 replace=False,    # sample without replacement\n", "                                 n_samples=dfull['sentiment'].value_counts()['negative'],     # to match minority class\n", "                                 random_state=123) # reproducible results\n", " \n", "# Combine minority class with downsampled majority class\n", "df_downsampled = pd.concat([df_majority_downsampled, df_minority])\n", " \n", "# Display new class counts\n", "df_downsampled['sentiment'].value_counts()"],
        "execution_count": 0,
        "outputs": [{
            "output_type": "execute_result",
            "data": {
                "text/plain": ["negative    56791\n", "positive    56791\n", "Name: sentiment, dtype: int64"]
            },
            "metadata": {
                "tags": []
            },
            "execution_count": 138
        }]
    }, {
        "cell_type": "markdown",
        "metadata": {
            "id": "cBYJE8N6LdBJ",
            "colab_type": "text"
        },
        "source": ["### Learning"]
    }, {
        "cell_type": "markdown",
        "metadata": {
            "id": "ZVvmah8qLdBL",
            "colab_type": "text"
        },
        "source": ["#### Train and test set"]
    }, {
        "cell_type": "markdown",
        "metadata": {
            "id": "spwZ6H4lLdBM",
            "colab_type": "text"
        },
        "source": ["#### Model"]
    }, {
        "cell_type": "markdown",
        "metadata": {
            "id": "AeDPf-lkLdBN",
            "colab_type": "text"
        },
        "source": ["### Prediction"]
    }, {
        "cell_type": "markdown",
        "metadata": {
            "id": "ehF4nKZ8LdBN",
            "colab_type": "text"
        },
        "source": ["### Performance"]
    }]
}