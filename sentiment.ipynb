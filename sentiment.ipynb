{
 "cells": [
  {
   "cell_type": "markdown",
   "metadata": {},
   "source": [
    "# Amazon Reviews Sentiment Analysis - Ferri Marco, Basso Matteo"
   ]
  },
  {
   "cell_type": "markdown",
   "metadata": {},
   "source": [
    "This project aims to experiment with sentiment analysis on [Amazon Reviews](http://jmcauley.ucsd.edu/data/amazon/) in order to build a prediction model for rating, based on NLP."
   ]
  },
  {
   "cell_type": "markdown",
   "metadata": {},
   "source": [
    "## Import"
   ]
  },
  {
   "cell_type": "code",
   "execution_count": 1,
   "metadata": {},
   "outputs": [],
   "source": [
    "import os\n",
    "import gzip\n",
    "import fileinput\n",
    "import re\n",
    "import sys\n",
    "import pandas as pd\n",
    "import numpy as np\n",
    "import matplotlib.pyplot as plt"
   ]
  },
  {
   "cell_type": "markdown",
   "metadata": {},
   "source": [
    "## Dataset reading"
   ]
  },
  {
   "cell_type": "markdown",
   "metadata": {},
   "source": [
    "Util functions to read from JSON and convert into pandas dataframe:"
   ]
  },
  {
   "cell_type": "code",
   "execution_count": 2,
   "metadata": {},
   "outputs": [],
   "source": [
    "def parse(path):\n",
    "  g = gzip.open(path, 'rb')\n",
    "  for l in g:\n",
    "    yield eval(l)\n",
    "\n",
    "def getDF(path):\n",
    "  i = 0\n",
    "  df = {}\n",
    "  for d in parse(path):\n",
    "    df[i] = d\n",
    "    i += 1\n",
    "  return pd.DataFrame.from_dict(df, orient='index')"
   ]
  },
  {
   "cell_type": "markdown",
   "metadata": {},
   "source": [
    "Reading from JSON"
   ]
  },
  {
   "cell_type": "code",
   "execution_count": 3,
   "metadata": {},
   "outputs": [],
   "source": [
    "basepath = r\"datasets\\amazon-5-core\"\n",
    "dataset = r\"reviews_Video_Games_5.json.gz\"\n",
    "dfull = getDF(os.path.join(basepath, dataset))"
   ]
  },
  {
   "cell_type": "markdown",
   "metadata": {},
   "source": [
    "basepath = r\"datasets\\amazon-original\"\n",
    "dataset = r\"amazon_reviews_us_Books_v1_01.tsv\"\n",
    "file = os.path.join(basepath, dataset);\n",
    "\n",
    "open = fileinput.input([file], inplace=True, backup='.bak');\n",
    "for line in open:\n",
    "    sys.stdout.write(re.sub(r'(?<!,)\"(?!,)', r'\"\"', line))"
   ]
  },
  {
   "cell_type": "markdown",
   "metadata": {},
   "source": [
    "dfull = pd.read_csv(file, sep = '\\t', index_col=False, nrows = 70, engine = 'python')"
   ]
  },
  {
   "cell_type": "markdown",
   "metadata": {},
   "source": [
    "Columns renaming"
   ]
  },
  {
   "cell_type": "code",
   "execution_count": 4,
   "metadata": {},
   "outputs": [],
   "source": [
    "dfull = dfull.rename(index=str, columns={\"asin\": \"productID\", \n",
    "                                         \"reviewerID\": \"userID\", \n",
    "                                         \"reviewerName\": \"userName\",\n",
    "                                         \"reviewText\": \"text\",\n",
    "                                         \"overall\": \"rating\"})"
   ]
  },
  {
   "cell_type": "markdown",
   "metadata": {},
   "source": [
    "##  Dataset description"
   ]
  },
  {
   "cell_type": "markdown",
   "metadata": {},
   "source": [
    "### Shape and schema"
   ]
  },
  {
   "cell_type": "code",
   "execution_count": 5,
   "metadata": {
    "scrolled": true
   },
   "outputs": [
    {
     "data": {
      "text/plain": [
       "(231780, 9)"
      ]
     },
     "execution_count": 5,
     "metadata": {},
     "output_type": "execute_result"
    }
   ],
   "source": [
    "dfull.shape"
   ]
  },
  {
   "cell_type": "code",
   "execution_count": 6,
   "metadata": {
    "scrolled": false
   },
   "outputs": [
    {
     "name": "stdout",
     "output_type": "stream",
     "text": [
      "<class 'pandas.core.frame.DataFrame'>\n",
      "Index: 231780 entries, 0 to 231779\n",
      "Data columns (total 9 columns):\n",
      "userID            231780 non-null object\n",
      "productID         231780 non-null object\n",
      "userName          228967 non-null object\n",
      "helpful           231780 non-null object\n",
      "text              231780 non-null object\n",
      "rating            231780 non-null float64\n",
      "summary           231780 non-null object\n",
      "unixReviewTime    231780 non-null int64\n",
      "reviewTime        231780 non-null object\n",
      "dtypes: float64(1), int64(1), object(7)\n",
      "memory usage: 10.6+ MB\n"
     ]
    }
   ],
   "source": [
    "dfull.info()"
   ]
  },
  {
   "cell_type": "markdown",
   "metadata": {},
   "source": [
    "Little dataset preview:"
   ]
  },
  {
   "cell_type": "code",
   "execution_count": 7,
   "metadata": {
    "scrolled": true
   },
   "outputs": [
    {
     "data": {
      "text/html": [
       "<div>\n",
       "<style scoped>\n",
       "    .dataframe tbody tr th:only-of-type {\n",
       "        vertical-align: middle;\n",
       "    }\n",
       "\n",
       "    .dataframe tbody tr th {\n",
       "        vertical-align: top;\n",
       "    }\n",
       "\n",
       "    .dataframe thead th {\n",
       "        text-align: right;\n",
       "    }\n",
       "</style>\n",
       "<table border=\"1\" class=\"dataframe\">\n",
       "  <thead>\n",
       "    <tr style=\"text-align: right;\">\n",
       "      <th></th>\n",
       "      <th>userID</th>\n",
       "      <th>productID</th>\n",
       "      <th>userName</th>\n",
       "      <th>helpful</th>\n",
       "      <th>text</th>\n",
       "      <th>rating</th>\n",
       "      <th>summary</th>\n",
       "      <th>unixReviewTime</th>\n",
       "      <th>reviewTime</th>\n",
       "    </tr>\n",
       "  </thead>\n",
       "  <tbody>\n",
       "    <tr>\n",
       "      <th>0</th>\n",
       "      <td>A2HD75EMZR8QLN</td>\n",
       "      <td>0700099867</td>\n",
       "      <td>123</td>\n",
       "      <td>[8, 12]</td>\n",
       "      <td>Installing the game was a struggle (because of...</td>\n",
       "      <td>1.0</td>\n",
       "      <td>Pay to unlock content? I don't think so.</td>\n",
       "      <td>1341792000</td>\n",
       "      <td>07 9, 2012</td>\n",
       "    </tr>\n",
       "    <tr>\n",
       "      <th>1</th>\n",
       "      <td>A3UR8NLLY1ZHCX</td>\n",
       "      <td>0700099867</td>\n",
       "      <td>Alejandro Henao \"Electronic Junky\"</td>\n",
       "      <td>[0, 0]</td>\n",
       "      <td>If you like rally cars get this game you will ...</td>\n",
       "      <td>4.0</td>\n",
       "      <td>Good rally game</td>\n",
       "      <td>1372550400</td>\n",
       "      <td>06 30, 2013</td>\n",
       "    </tr>\n",
       "    <tr>\n",
       "      <th>2</th>\n",
       "      <td>A1INA0F5CWW3J4</td>\n",
       "      <td>0700099867</td>\n",
       "      <td>Amazon Shopper \"Mr.Repsol\"</td>\n",
       "      <td>[0, 0]</td>\n",
       "      <td>1st shipment received a book instead of the ga...</td>\n",
       "      <td>1.0</td>\n",
       "      <td>Wrong key</td>\n",
       "      <td>1403913600</td>\n",
       "      <td>06 28, 2014</td>\n",
       "    </tr>\n",
       "  </tbody>\n",
       "</table>\n",
       "</div>"
      ],
      "text/plain": [
       "           userID   productID                            userName  helpful  \\\n",
       "0  A2HD75EMZR8QLN  0700099867                                 123  [8, 12]   \n",
       "1  A3UR8NLLY1ZHCX  0700099867  Alejandro Henao \"Electronic Junky\"   [0, 0]   \n",
       "2  A1INA0F5CWW3J4  0700099867          Amazon Shopper \"Mr.Repsol\"   [0, 0]   \n",
       "\n",
       "                                                text  rating  \\\n",
       "0  Installing the game was a struggle (because of...     1.0   \n",
       "1  If you like rally cars get this game you will ...     4.0   \n",
       "2  1st shipment received a book instead of the ga...     1.0   \n",
       "\n",
       "                                    summary  unixReviewTime   reviewTime  \n",
       "0  Pay to unlock content? I don't think so.      1341792000   07 9, 2012  \n",
       "1                           Good rally game      1372550400  06 30, 2013  \n",
       "2                                 Wrong key      1403913600  06 28, 2014  "
      ]
     },
     "execution_count": 7,
     "metadata": {},
     "output_type": "execute_result"
    }
   ],
   "source": [
    "dfull.head(3)"
   ]
  },
  {
   "cell_type": "markdown",
   "metadata": {},
   "source": [
    "### Columns analysis"
   ]
  },
  {
   "cell_type": "markdown",
   "metadata": {},
   "source": [
    "#### Users and products"
   ]
  },
  {
   "cell_type": "code",
   "execution_count": 8,
   "metadata": {
    "scrolled": false
   },
   "outputs": [
    {
     "name": "stdout",
     "output_type": "stream",
     "text": [
      "Number of REVIEWS:  231780\n",
      "Number of USERS:  24303\n",
      "Number of PRODUCTS:  10672\n",
      "Avarage REVIEWS PER USER:  9.537094185902975\n",
      "Avarage REVIEWS PER PRODUCT:  21.718515742128936\n"
     ]
    }
   ],
   "source": [
    "(rows,cols) = dfull.shape\n",
    "n_users = dfull['userID'].nunique()\n",
    "n_products = dfull['productID'].nunique()\n",
    "print(\"Number of REVIEWS: \", rows)\n",
    "print(\"Number of USERS: \", n_users)\n",
    "print(\"Number of PRODUCTS: \", n_products)\n",
    "print(\"Avarage REVIEWS PER USER: \", rows/n_users)\n",
    "print(\"Avarage REVIEWS PER PRODUCT: \", rows/n_products)"
   ]
  },
  {
   "cell_type": "markdown",
   "metadata": {},
   "source": [
    "#### Datetime"
   ]
  },
  {
   "cell_type": "code",
   "execution_count": 9,
   "metadata": {},
   "outputs": [
    {
     "name": "stdout",
     "output_type": "stream",
     "text": [
      "First date:  1999-10-14 00:00:00\n",
      "Last date:  2014-07-22 00:00:00\n"
     ]
    }
   ],
   "source": [
    "dfull['date'] = pd.to_datetime(dfull['unixReviewTime'],unit='s')\n",
    "print(\"First date: \", min(dfull['date']))\n",
    "print(\"Last date: \", max(dfull['date']))"
   ]
  },
  {
   "cell_type": "code",
   "execution_count": 11,
   "metadata": {
    "scrolled": true
   },
   "outputs": [
    {
     "data": {
      "text/plain": [
       "<matplotlib.axes._subplots.AxesSubplot at 0x21483950>"
      ]
     },
     "execution_count": 11,
     "metadata": {},
     "output_type": "execute_result"
    },
    {
     "data": {
      "image/png": "[encoded data removed]",
      "text/plain": [
       "<Figure size 432x288 with 1 Axes>"
      ]
     },
     "metadata": {
      "needs_background": "light"
     },
     "output_type": "display_data"
    }
   ],
   "source": [
    "date_grouping = dfull.groupby('date').count()[['rating']].sort_values('date', ascending=True)\n",
    "date_grouping = date_grouping.rename(index=str, columns={\"rating\": \"count\"})\n",
    "date_grouping.plot()"
   ]
  },
  {
   "cell_type": "markdown",
   "metadata": {},
   "source": [
    "#### Rating"
   ]
  },
  {
   "cell_type": "code",
   "execution_count": 12,
   "metadata": {
    "scrolled": false
   },
   "outputs": [
    {
     "data": {
      "text/plain": [
       "4.086396582966606"
      ]
     },
     "execution_count": 12,
     "metadata": {},
     "output_type": "execute_result"
    }
   ],
   "source": [
    "dfull['rating'].mean()"
   ]
  },
  {
   "cell_type": "code",
   "execution_count": 13,
   "metadata": {},
   "outputs": [
    {
     "data": {
      "text/plain": [
       "<matplotlib.axes._subplots.AxesSubplot at 0x19ee77d0>"
      ]
     },
     "execution_count": 13,
     "metadata": {},
     "output_type": "execute_result"
    },
    {
     "data": {
      "image/png": "[encoded data removed]",
      "text/plain": [
       "<Figure size 432x288 with 1 Axes>"
      ]
     },
     "metadata": {
      "needs_background": "light"
     },
     "output_type": "display_data"
    }
   ],
   "source": [
    "dfull['rating'].hist()"
   ]
  },
  {
   "cell_type": "code",
   "execution_count": null,
   "metadata": {},
   "outputs": [],
   "source": []
  }
 ],
 "metadata": {
  "kernelspec": {
   "display_name": "Python 3",
   "language": "python",
   "name": "python3"
  },
  "language_info": {
   "codemirror_mode": {
    "name": "ipython",
    "version": 3
   },
   "file_extension": ".py",
   "mimetype": "text/x-python",
   "name": "python",
   "nbconvert_exporter": "python",
   "pygments_lexer": "ipython3",
   "version": "3.7.3"
  }
 },
 "nbformat": 4,
 "nbformat_minor": 2
}
