{
  "nbformat": 4,
  "nbformat_minor": 0,
  "metadata": {
    "colab": {
      "name": "sentiment.ipynb",
      "version": "0.3.2",
      "provenance": [],
      "collapsed_sections": [
        "JLiIbGc_Lc__",
        "g9-2uspkLdAP",
        "0BNqqqraLdAT",
        "0aDAEb4kLdA9",
        "3KNllyAmX-4K"
      ],
      "include_colab_link": true
    },
    "language_info": {
      "codemirror_mode": {
        "name": "ipython",
        "version": 3
      },
      "file_extension": ".py",
      "mimetype": "text/x-python",
      "name": "python",
      "nbconvert_exporter": "python",
      "pygments_lexer": "ipython3",
      "version": "3.7.3"
    },
    "kernelspec": {
      "display_name": "Python 3",
      "language": "python",
      "name": "python3"
    }
  },
  "cells": [
    {
      "cell_type": "markdown",
      "metadata": {
        "id": "view-in-github",
        "colab_type": "text"
      },
      "source": [
        "<a href=\"https://colab.research.google.com/github/mferri17/amazon-reviews-sentiment-network-analysis/blob/master/sentiment.ipynb\" target=\"_parent\"><img src=\"https://colab.research.google.com/assets/colab-badge.svg\" alt=\"Open In Colab\"/></a>"
      ]
    },
    {
      "cell_type": "markdown",
      "metadata": {
        "id": "ysBCOUbpLc_k",
        "colab_type": "text"
      },
      "source": [
        "# Amazon Reviews Sentiment Analysis - Ferri Marco, Basso Matteo"
      ]
    },
    {
      "cell_type": "markdown",
      "metadata": {
        "id": "FpMdBSI2Lc_l",
        "colab_type": "text"
      },
      "source": [
        "This project aims to experiment with sentiment analysis on [Amazon Reviews](http://jmcauley.ucsd.edu/data/amazon/) in order to build a \"rating\" prediction model based on text analysis."
      ]
    },
    {
      "cell_type": "markdown",
      "metadata": {
        "id": "LfwyCK9SLc_m",
        "colab_type": "text"
      },
      "source": [
        "## Dataset"
      ]
    },
    {
      "cell_type": "markdown",
      "metadata": {
        "id": "lxwEn1LnX2Kx",
        "colab_type": "text"
      },
      "source": [
        "### Dependencies"
      ]
    },
    {
      "cell_type": "code",
      "metadata": {
        "scrolled": false,
        "id": "ATRnE5hmLc_n",
        "colab_type": "code",
        "colab": {}
      },
      "source": [
        "import os\n",
        "import gzip\n",
        "import fileinput\n",
        "import sys\n",
        "import datetime\n",
        "import io\n",
        "import urllib\n",
        "import pandas as pd\n",
        "import numpy as np\n",
        "import matplotlib.pyplot as plt"
      ],
      "execution_count": 0,
      "outputs": []
    },
    {
      "cell_type": "markdown",
      "metadata": {
        "id": "Ivh_vmWKLc_r",
        "colab_type": "text"
      },
      "source": [
        "### Reading"
      ]
    },
    {
      "cell_type": "markdown",
      "metadata": {
        "id": "HFHgiBhULc_s",
        "colab_type": "text"
      },
      "source": [
        "\n",
        "Util functions to read from JSON and convert into pandas dataframe:"
      ]
    },
    {
      "cell_type": "code",
      "metadata": {
        "scrolled": false,
        "id": "dS8W2vxFLc_t",
        "colab_type": "code",
        "colab": {}
      },
      "source": [
        "def parse(path):\n",
        "  g = gzip.open(path, 'rb')\n",
        "  for l in g:\n",
        "    yield eval(l)\n",
        "\n",
        "def getDF(path):\n",
        "  df = []\n",
        "  for d in parse(path):\n",
        "    df.append(d)\n",
        "  return pd.DataFrame(df)\n",
        "\n",
        "def read_dataset(dataset):      \n",
        "  basepath = r\"datasets\\amazon-5-core\"\n",
        "  df = getDF(os.path.join(basepath, dataset))\n",
        "  return df\n",
        "  \n",
        "def download_dataset(dataset):\n",
        "  request = urllib.request.Request('http://snap.stanford.edu/data/amazon/productGraph/categoryFiles/' + dataset)\n",
        "  request.add_header('Accept-encoding', 'gzip')\n",
        "  response = urllib.request.urlopen(request)\n",
        "  buf = io.BytesIO(response.read())\n",
        "  file = gzip.GzipFile(fileobj=buf)\n",
        "  df = []\n",
        "  for line in file:\n",
        "    df.append(eval(line))\n",
        "  return pd.DataFrame(df)"
      ],
      "execution_count": 0,
      "outputs": []
    },
    {
      "cell_type": "markdown",
      "metadata": {
        "id": "vTmIPVTqLc_v",
        "colab_type": "text"
      },
      "source": [
        "Reading from JSON"
      ]
    },
    {
      "cell_type": "code",
      "metadata": {
        "scrolled": false,
        "id": "GVoQ1KOhLc_w",
        "colab_type": "code",
        "outputId": "6b5d0bbb-3a89-4908-edbe-394b25b4a995",
        "colab": {
          "base_uri": "https://localhost:8080/",
          "height": 50
        }
      },
      "source": [
        "#%time dfull = read_dataset(\"reviews_Video_Games_5.json.gz\")\n",
        "%time dfull = download_dataset('reviews_Sports_and_Outdoors_5.json.gz')"
      ],
      "execution_count": 5,
      "outputs": [
        {
          "output_type": "stream",
          "text": [
            "CPU times: user 16.1 s, sys: 942 ms, total: 17.1 s\n",
            "Wall time: 35 s\n"
          ],
          "name": "stdout"
        }
      ]
    },
    {
      "cell_type": "markdown",
      "metadata": {
        "id": "92UOH1xyLc_6",
        "colab_type": "text"
      },
      "source": [
        "#### Reading performance"
      ]
    },
    {
      "cell_type": "markdown",
      "metadata": {
        "id": "dJKjYztBLc_7",
        "colab_type": "text"
      },
      "source": [
        "!pip install py-heat-magic\n",
        "%load_ext heat"
      ]
    },
    {
      "cell_type": "markdown",
      "metadata": {
        "id": "6H8fXbCULc_8",
        "colab_type": "text"
      },
      "source": [
        "%%heat\n",
        "import os\n",
        "import gzip\n",
        "import fileinput\n",
        "import re\n",
        "import sys\n",
        "import pandas as pd\n",
        "import numpy as np\n",
        "import matplotlib.pyplot as plt\n",
        "\n",
        "def parse(path):\n",
        "  g = gzip.open(path, 'rb')\n",
        "  for l in g:\n",
        "    yield eval(l)\n",
        "\n",
        "def getDF(path):\n",
        "  df = []\n",
        "  for d in parse(path):\n",
        "    df.append(d)\n",
        "  return pd.DataFrame(df)\n",
        "\n",
        "def read_dataset(dataset):\n",
        "    basepath = r\"datasets\\amazon-5-core\"\n",
        "    df = getDF(os.path.join(basepath, dataset))\n",
        "    return df\n",
        "\n",
        "dfull = read_dataset(\"reviews_Video_Games_5.json.gz\")"
      ]
    },
    {
      "cell_type": "markdown",
      "metadata": {
        "id": "QZejB5dWLc_9",
        "colab_type": "text"
      },
      "source": [
        "![reading performances](https://github.com/mferri17/amazon-reviews-sentiment-network-analysis/blob/master/docs/images/00_dataset_reading_performances.png?raw=true)"
      ]
    },
    {
      "cell_type": "markdown",
      "metadata": {
        "id": "8FFQDmglLc_9",
        "colab_type": "text"
      },
      "source": [
        "---"
      ]
    },
    {
      "cell_type": "markdown",
      "metadata": {
        "id": "XzU2ogWCLc_-",
        "colab_type": "text"
      },
      "source": [
        "###  Description"
      ]
    },
    {
      "cell_type": "markdown",
      "metadata": {
        "id": "JLiIbGc_Lc__",
        "colab_type": "text"
      },
      "source": [
        "#### Schema"
      ]
    },
    {
      "cell_type": "code",
      "metadata": {
        "scrolled": false,
        "id": "qAnGOIo2Lc__",
        "colab_type": "code",
        "outputId": "301379e2-c36f-44b2-e7e6-854012e8a300",
        "colab": {
          "base_uri": "https://localhost:8080/",
          "height": 0
        }
      },
      "source": [
        "print(\"(rows, cols) = \", dfull.shape)"
      ],
      "execution_count": 6,
      "outputs": [
        {
          "output_type": "stream",
          "text": [
            "(rows, cols) =  (296337, 9)\n"
          ],
          "name": "stdout"
        }
      ]
    },
    {
      "cell_type": "code",
      "metadata": {
        "scrolled": false,
        "id": "vs35GBUdLc_3",
        "colab_type": "code",
        "colab": {}
      },
      "source": [
        "dfull = dfull.rename(index=str, columns={\"asin\": \"productID\", \n",
        "                                         \"reviewerID\": \"userID\", \n",
        "                                         \"reviewerName\": \"userName\",\n",
        "                                         \"reviewText\": \"text\",\n",
        "                                         \"overall\": \"rating\"})"
      ],
      "execution_count": 0,
      "outputs": []
    },
    {
      "cell_type": "code",
      "metadata": {
        "scrolled": false,
        "id": "eMz4oHsOLdAE",
        "colab_type": "code",
        "outputId": "f6818f3b-d64f-422c-f66b-e744af6f876e",
        "colab": {
          "base_uri": "https://localhost:8080/",
          "height": 0
        }
      },
      "source": [
        "dfull.info()"
      ],
      "execution_count": 8,
      "outputs": [
        {
          "output_type": "stream",
          "text": [
            "<class 'pandas.core.frame.DataFrame'>\n",
            "Index: 296337 entries, 0 to 296336\n",
            "Data columns (total 9 columns):\n",
            "productID         296337 non-null object\n",
            "helpful           296337 non-null object\n",
            "rating            296337 non-null float64\n",
            "text              296337 non-null object\n",
            "reviewTime        296337 non-null object\n",
            "userID            296337 non-null object\n",
            "userName          294935 non-null object\n",
            "summary           296337 non-null object\n",
            "unixReviewTime    296337 non-null int64\n",
            "dtypes: float64(1), int64(1), object(7)\n",
            "memory usage: 22.6+ MB\n"
          ],
          "name": "stdout"
        }
      ]
    },
    {
      "cell_type": "code",
      "metadata": {
        "scrolled": false,
        "id": "FfB3d-ZJLdAJ",
        "colab_type": "code",
        "outputId": "b281ffda-e96b-4b2c-f8e6-da1fde7250cf",
        "colab": {
          "base_uri": "https://localhost:8080/",
          "height": 0
        }
      },
      "source": [
        "dfull.head(3)"
      ],
      "execution_count": 9,
      "outputs": [
        {
          "output_type": "execute_result",
          "data": {
            "text/html": [
              "<div>\n",
              "<style scoped>\n",
              "    .dataframe tbody tr th:only-of-type {\n",
              "        vertical-align: middle;\n",
              "    }\n",
              "\n",
              "    .dataframe tbody tr th {\n",
              "        vertical-align: top;\n",
              "    }\n",
              "\n",
              "    .dataframe thead th {\n",
              "        text-align: right;\n",
              "    }\n",
              "</style>\n",
              "<table border=\"1\" class=\"dataframe\">\n",
              "  <thead>\n",
              "    <tr style=\"text-align: right;\">\n",
              "      <th></th>\n",
              "      <th>productID</th>\n",
              "      <th>helpful</th>\n",
              "      <th>rating</th>\n",
              "      <th>text</th>\n",
              "      <th>reviewTime</th>\n",
              "      <th>userID</th>\n",
              "      <th>userName</th>\n",
              "      <th>summary</th>\n",
              "      <th>unixReviewTime</th>\n",
              "    </tr>\n",
              "  </thead>\n",
              "  <tbody>\n",
              "    <tr>\n",
              "      <th>0</th>\n",
              "      <td>1881509818</td>\n",
              "      <td>[0, 0]</td>\n",
              "      <td>5.0</td>\n",
              "      <td>This came in on time and I am veru happy with ...</td>\n",
              "      <td>01 26, 2014</td>\n",
              "      <td>AIXZKN4ACSKI</td>\n",
              "      <td>David Briner</td>\n",
              "      <td>Woks very good</td>\n",
              "      <td>1390694400</td>\n",
              "    </tr>\n",
              "    <tr>\n",
              "      <th>1</th>\n",
              "      <td>1881509818</td>\n",
              "      <td>[1, 1]</td>\n",
              "      <td>5.0</td>\n",
              "      <td>I had a factory Glock tool that I was using fo...</td>\n",
              "      <td>02 2, 2012</td>\n",
              "      <td>A1L5P841VIO02V</td>\n",
              "      <td>Jason A. Kramer</td>\n",
              "      <td>Works as well as the factory tool</td>\n",
              "      <td>1328140800</td>\n",
              "    </tr>\n",
              "    <tr>\n",
              "      <th>2</th>\n",
              "      <td>1881509818</td>\n",
              "      <td>[2, 2]</td>\n",
              "      <td>4.0</td>\n",
              "      <td>If you don't have a 3/32 punch or would like t...</td>\n",
              "      <td>02 28, 2012</td>\n",
              "      <td>AB2W04NI4OEAD</td>\n",
              "      <td>J. Fernald</td>\n",
              "      <td>It's a punch, that's all.</td>\n",
              "      <td>1330387200</td>\n",
              "    </tr>\n",
              "  </tbody>\n",
              "</table>\n",
              "</div>"
            ],
            "text/plain": [
              "    productID helpful  ...                            summary unixReviewTime\n",
              "0  1881509818  [0, 0]  ...                     Woks very good     1390694400\n",
              "1  1881509818  [1, 1]  ...  Works as well as the factory tool     1328140800\n",
              "2  1881509818  [2, 2]  ...          It's a punch, that's all.     1330387200\n",
              "\n",
              "[3 rows x 9 columns]"
            ]
          },
          "metadata": {
            "tags": []
          },
          "execution_count": 9
        }
      ]
    },
    {
      "cell_type": "markdown",
      "metadata": {
        "id": "d-SJ_j0eLdAO",
        "colab_type": "text"
      },
      "source": [
        "#### Columns analysis"
      ]
    },
    {
      "cell_type": "markdown",
      "metadata": {
        "id": "g9-2uspkLdAP",
        "colab_type": "text"
      },
      "source": [
        "##### Users and products"
      ]
    },
    {
      "cell_type": "code",
      "metadata": {
        "scrolled": false,
        "id": "z5WL24eHLdAP",
        "colab_type": "code",
        "outputId": "1ad341f5-3508-41aa-b00e-9b7e4682df34",
        "colab": {
          "base_uri": "https://localhost:8080/",
          "height": 0
        }
      },
      "source": [
        "(rows,cols) = dfull.shape\n",
        "n_users = dfull['userID'].nunique()\n",
        "n_products = dfull['productID'].nunique()\n",
        "print(\"Number of REVIEWS: \", rows)\n",
        "print(\"Number of USERS: \", n_users)\n",
        "print(\"Number of PRODUCTS: \", n_products)\n",
        "print(\"Avarage REVIEWS PER USER: \", rows/n_users)\n",
        "print(\"Avarage REVIEWS PER PRODUCT: \", rows/n_products)"
      ],
      "execution_count": 10,
      "outputs": [
        {
          "output_type": "stream",
          "text": [
            "Number of REVIEWS:  296337\n",
            "Number of USERS:  35598\n",
            "Number of PRODUCTS:  18357\n",
            "Avarage REVIEWS PER USER:  8.324540704533963\n",
            "Avarage REVIEWS PER PRODUCT:  16.142997221768262\n"
          ],
          "name": "stdout"
        }
      ]
    },
    {
      "cell_type": "markdown",
      "metadata": {
        "id": "0BNqqqraLdAT",
        "colab_type": "text"
      },
      "source": [
        "##### Datetime"
      ]
    },
    {
      "cell_type": "code",
      "metadata": {
        "scrolled": false,
        "id": "JyDC2Oa_LdAT",
        "colab_type": "code",
        "outputId": "f624a207-1f32-434b-ec24-45894db48c5b",
        "colab": {
          "base_uri": "https://localhost:8080/",
          "height": 0
        }
      },
      "source": [
        "dfull['date'] = pd.to_datetime(dfull['unixReviewTime'],unit='s')\n",
        "print(\"First date: \", min(dfull['date']))\n",
        "print(\"Last date: \", max(dfull['date']))"
      ],
      "execution_count": 11,
      "outputs": [
        {
          "output_type": "stream",
          "text": [
            "First date:  2002-03-07 00:00:00\n",
            "Last date:  2014-07-23 00:00:00\n"
          ],
          "name": "stdout"
        }
      ]
    },
    {
      "cell_type": "code",
      "metadata": {
        "scrolled": false,
        "id": "SE8yze1GLdAX",
        "colab_type": "code",
        "outputId": "10c8a600-a7b2-470e-c7b6-bafbd9f86c63",
        "colab": {
          "base_uri": "https://localhost:8080/",
          "height": 0
        }
      },
      "source": [
        "date_grouping = dfull.groupby('date').count()[['rating']].sort_values('date', ascending=True)\n",
        "date_grouping = date_grouping.rename(index=str, columns={\"rating\": \"count\"})\n",
        "date_grouping.plot()"
      ],
      "execution_count": 12,
      "outputs": [
        {
          "output_type": "execute_result",
          "data": {
            "text/plain": [
              "<matplotlib.axes._subplots.AxesSubplot at 0x7efec2d10ac8>"
            ]
          },
          "metadata": {
            "tags": []
          },
          "execution_count": 12
        },
        {
          "output_type": "display_data",
          "data": {
            "image/png": "[encoded data removed]",
            "text/plain": [
              "<Figure size 432x288 with 1 Axes>"
            ]
          },
          "metadata": {
            "tags": []
          }
        }
      ]
    },
    {
      "cell_type": "markdown",
      "metadata": {
        "id": "DQkbEqJLLdAc",
        "colab_type": "text"
      },
      "source": [
        "##### Rating"
      ]
    },
    {
      "cell_type": "code",
      "metadata": {
        "scrolled": false,
        "id": "_7uXYtsuLdAd",
        "colab_type": "code",
        "outputId": "986c4250-0e36-44be-d5e7-1fe36f7efbd6",
        "colab": {
          "base_uri": "https://localhost:8080/",
          "height": 34
        }
      },
      "source": [
        "print(\"Average rating: \", dfull['rating'].mean())"
      ],
      "execution_count": 13,
      "outputs": [
        {
          "output_type": "stream",
          "text": [
            "Average rating:  4.393450699710128\n"
          ],
          "name": "stdout"
        }
      ]
    },
    {
      "cell_type": "code",
      "metadata": {
        "scrolled": false,
        "id": "ADgiYAmLLdAh",
        "colab_type": "code",
        "outputId": "05f908c7-cc5b-4102-ebb7-7442e7c36f80",
        "colab": {
          "base_uri": "https://localhost:8080/",
          "height": 302
        }
      },
      "source": [
        "print(\"Rating distribution\")\n",
        "dfull['rating'].hist()"
      ],
      "execution_count": 14,
      "outputs": [
        {
          "output_type": "stream",
          "text": [
            "Rating distribution\n"
          ],
          "name": "stdout"
        },
        {
          "output_type": "execute_result",
          "data": {
            "text/plain": [
              "<matplotlib.axes._subplots.AxesSubplot at 0x7efec2d10240>"
            ]
          },
          "metadata": {
            "tags": []
          },
          "execution_count": 14
        },
        {
          "output_type": "display_data",
          "data": {
            "image/png": "[encoded data removed]",
            "text/plain": [
              "<Figure size 432x288 with 1 Axes>"
            ]
          },
          "metadata": {
            "tags": []
          }
        }
      ]
    },
    {
      "cell_type": "markdown",
      "metadata": {
        "id": "0aDAEb4kLdA9",
        "colab_type": "text"
      },
      "source": [
        "### Manipulation"
      ]
    },
    {
      "cell_type": "markdown",
      "metadata": {
        "id": "9DDZraswLdA-",
        "colab_type": "text"
      },
      "source": [
        "#### Rejecting columns"
      ]
    },
    {
      "cell_type": "code",
      "metadata": {
        "scrolled": true,
        "id": "PAY_rpPiLdA_",
        "colab_type": "code",
        "colab": {}
      },
      "source": [
        "dfull = dfull.drop(['helpful', 'reviewTime', 'unixReviewTime', 'userName'], axis = 1)"
      ],
      "execution_count": 0,
      "outputs": []
    },
    {
      "cell_type": "markdown",
      "metadata": {
        "id": "-YoecvNDLdBB",
        "colab_type": "text"
      },
      "source": [
        "#### Binarization"
      ]
    },
    {
      "cell_type": "code",
      "metadata": {
        "collapsed": true,
        "scrolled": true,
        "id": "APold7gTLdBB",
        "colab_type": "code",
        "outputId": "8d579f79-9525-4dbe-9f3e-4583eafeef19",
        "colab": {
          "base_uri": "https://localhost:8080/",
          "height": 0
        }
      },
      "source": [
        "dfull['sentiment'] = ['positive' if r > 3 else 'negative' for r in dfull['rating']]\n",
        "\n",
        "print(\"Sentiment count\")\n",
        "dfull['sentiment'].value_counts()"
      ],
      "execution_count": 16,
      "outputs": [
        {
          "output_type": "stream",
          "text": [
            "Sentiment count\n"
          ],
          "name": "stdout"
        },
        {
          "output_type": "execute_result",
          "data": {
            "text/plain": [
              "positive    253017\n",
              "negative     43320\n",
              "Name: sentiment, dtype: int64"
            ]
          },
          "metadata": {
            "tags": []
          },
          "execution_count": 16
        }
      ]
    },
    {
      "cell_type": "markdown",
      "metadata": {
        "id": "qTIISXJJLdAm",
        "colab_type": "text"
      },
      "source": [
        "***"
      ]
    },
    {
      "cell_type": "markdown",
      "metadata": {
        "id": "SL-U94NbLdAq",
        "colab_type": "text"
      },
      "source": [
        "## Sentiment Analysis"
      ]
    },
    {
      "cell_type": "markdown",
      "metadata": {
        "id": "3KNllyAmX-4K",
        "colab_type": "text"
      },
      "source": [
        "### Dependencies"
      ]
    },
    {
      "cell_type": "code",
      "metadata": {
        "id": "vYXJCv0yX-MK",
        "colab_type": "code",
        "outputId": "0205ff93-86e0-4ed4-92b6-2c33ff707f21",
        "colab": {
          "base_uri": "https://localhost:8080/",
          "height": 0
        }
      },
      "source": [
        "import nltk\n",
        "from nltk.tokenize import word_tokenize\n",
        "from nltk.tokenize import TweetTokenizer\n",
        "from nltk.tokenize import PunktSentenceTokenizer\n",
        "from nltk.corpus import stopwords\n",
        "from nltk.stem.snowball import SnowballStemmer\n",
        "\n",
        "nltk.download('stopwords')\n",
        "nltk.download('punkt')\n",
        "\n",
        "from PIL import Image\n",
        "from wordcloud import WordCloud\n",
        "\n",
        "from collections import Counter\n",
        "import itertools\n"
      ],
      "execution_count": 17,
      "outputs": [
        {
          "output_type": "stream",
          "text": [
            "[nltk_data] Downloading package stopwords to /root/nltk_data...\n",
            "[nltk_data]   Package stopwords is already up-to-date!\n",
            "[nltk_data] Downloading package punkt to /root/nltk_data...\n",
            "[nltk_data]   Package punkt is already up-to-date!\n"
          ],
          "name": "stdout"
        }
      ]
    },
    {
      "cell_type": "markdown",
      "metadata": {
        "id": "pooIbfTGYQTj",
        "colab_type": "text"
      },
      "source": [
        "### Text pre-processing"
      ]
    },
    {
      "cell_type": "markdown",
      "metadata": {
        "id": "cxty9Q2stvWz",
        "colab_type": "text"
      },
      "source": [
        "**Tokenizer**\n",
        "\n",
        "Default tokenizers have weird behaviour with puntctuation, numbers and english contractions, hence a custom Regex-based tokenizer has been chosen. Working example below."
      ]
    },
    {
      "cell_type": "code",
      "metadata": {
        "id": "UiyEbcZxkA6k",
        "colab_type": "code",
        "colab": {}
      },
      "source": [
        "from nltk.tokenize import RegexpTokenizer\n",
        "tokenizer = RegexpTokenizer(r'[^\\d\\W][\\w\\']*') # preserve alphabetic words (not numbers) and contractions"
      ],
      "execution_count": 0,
      "outputs": []
    },
    {
      "cell_type": "markdown",
      "metadata": {
        "id": "AicoDKQnt0K1",
        "colab_type": "text"
      },
      "source": [
        "**Stop words**\n",
        "\n",
        "The original stopwords list from NLTK is too aggresive for this use case. Then, stopwords list has been customized with the words below.\n",
        "\n",
        "Words \"not\" and \"but\" are not included in the list, because they could be important to determine negative class membership."
      ]
    },
    {
      "cell_type": "code",
      "metadata": {
        "scrolled": true,
        "id": "Fx6ui2JjLdAz",
        "colab_type": "code",
        "outputId": "33be3b00-0fc2-4bd4-c8ca-5ce141ee58ad",
        "colab": {
          "base_uri": "https://localhost:8080/",
          "height": 54
        }
      },
      "source": [
        "#stopset = set(stopwords.words('english')) # too aggressive\n",
        "\n",
        "stopset = {\n",
        "    'a', 'ain', 'and', 'any', 'are', 'as', 'at', \n",
        "    'be', 'because', 'being', 'between', 'both', 'by', \n",
        "    'doing', 'during', 'each', 'few', 'for', 'from', 'further', \n",
        "    'has', 'have', 'haven', \"haven't\", 'having', 'he', 'her', 'here', \n",
        "    'hers', 'herself', 'him', 'himself', 'his', 'how', 'i', 'if', 'in', 'into', \n",
        "    'is', 'it', \"it's\", 'its', 'itself', 'just', 'll', 'm', 'ma', 'me', 'my', 'myself', \n",
        "    'now', 'o', 'of', 'off', 'on', 'once', 'or', 'our', 'ours', 'ourselves', 'out', 'over', 'own', \n",
        "    're', 's', 'same', 'shan', \"shan't\", 'she', \"she's\", 'should', \"should've\", 'so', 'some', 'such', \n",
        "    't', 'than', 'that', \"that'll\", 'the', 'their', 'theirs', 'them', 'themselves', 'then', \n",
        "    'there', 'these', 'they', 'this', 'those', 'through', 'to', 'until', 'up', 've', \n",
        "    'was', 'we', 'were', 'what', 'when', 'where', 'which', 'while', 'who', 'whom', 'why', 'with', \n",
        "    'y', 'you', \"you're\", \"you've\", 'your', 'yours', 'yourself', 'yourselves'}\n",
        "\n",
        "print(\"Stopwords: \", list(stopset))"
      ],
      "execution_count": 19,
      "outputs": [
        {
          "output_type": "stream",
          "text": [
            "Stopwords:  ['through', 'being', \"should've\", 'have', 'were', 'just', 'me', 'from', 'you', 'she', 'which', \"she's\", 'they', 'themselves', 'm', 'himself', 'him', 'it', 'doing', 'to', 'because', 'out', 'your', 'should', 'such', 'off', 'yourselves', 's', \"it's\", 'there', 'into', 'now', 'itself', 'when', 'by', 'on', 'own', 'those', 'than', 'he', 'ourselves', 'same', 'their', 'each', 'is', 'its', 'be', 'this', 'if', 'of', 'any', 'has', 'whom', 'having', 'are', 'or', 'his', 'll', 'then', 'with', 'our', 'myself', 't', \"that'll\", 'what', 'further', 'y', 'both', 'the', 'we', 'a', 'that', 'o', 'haven', 'yourself', 'here', 'as', 've', 'them', 'i', 'was', 'and', 'at', 'for', 'once', 'who', 'up', 'in', 'these', \"you're\", 'during', 'ain', \"you've\", 'so', 'between', \"shan't\", \"haven't\", 'some', 'herself', 'yours', 're', 'over', 'theirs', 'her', 'how', 'my', 'where', 'why', 'until', 'ma', 'shan', 'while', 'few', 'hers', 'ours']\n"
          ],
          "name": "stdout"
        }
      ]
    },
    {
      "cell_type": "markdown",
      "metadata": {
        "id": "L6rkxtvW4hUh",
        "colab_type": "text"
      },
      "source": [
        "**Stemmer**\n",
        "\n",
        "The default english stemmer is enough for this use case. However, on large datasets it requires too much RAM and that is why it will not probably be used."
      ]
    },
    {
      "cell_type": "code",
      "metadata": {
        "id": "HDoftPlY4i9Y",
        "colab_type": "code",
        "colab": {}
      },
      "source": [
        "stemmer = SnowballStemmer('english')"
      ],
      "execution_count": 0,
      "outputs": []
    },
    {
      "cell_type": "markdown",
      "metadata": {
        "id": "O9zmBZqewI0F",
        "colab_type": "text"
      },
      "source": [
        "**Full example**"
      ]
    },
    {
      "cell_type": "code",
      "metadata": {
        "id": "s24Sy7ptwJEh",
        "colab_type": "code",
        "outputId": "1ed84216-01c5-4085-aa51-fe65d3410dec",
        "colab": {
          "base_uri": "https://localhost:8080/",
          "height": 138
        }
      },
      "source": [
        "print(\"TEXT ANALYSIS EXAMPLE\")\n",
        "\n",
        "text = \"Hi! This... isn't a beautiful sentence with some interesting $70 and €5,50 features like people's names and Mr. Fox thoughts for number such as 23, 4 and 7 or peer2peer and wi-fi with snake_case but not kebab-case.\"\n",
        "print(\"Text:\\t\\t\", text) # original\n",
        "\n",
        "# tokenizing\n",
        "tokens = tokenizer.tokenize(text)\n",
        "print(\"Tokenized:\\t\", tokens)\n",
        "\n",
        "# lowercasing\n",
        "tokens = [t.lower() for t in tokens] \n",
        "print(\"Lowercased:\\t\", tokens)\n",
        "\n",
        "# removing stopwords\n",
        "tokens = [t for t in tokens if not t in stopset]  \n",
        "print(\"No stopwords:\\t\", tokens)\n",
        "\n",
        "# stemming\n",
        "tokens = [stemmer.stem(t) for t in tokens]\n",
        "print(\"Stemmed:\\t\", tokens)"
      ],
      "execution_count": 21,
      "outputs": [
        {
          "output_type": "stream",
          "text": [
            "TEXT ANALYSIS EXAMPLE\n",
            "Text:\t\t Hi! This... isn't a beautiful sentence with some interesting $70 and €5,50 features like people's names and Mr. Fox thoughts for number such as 23, 4 and 7 or peer2peer and wi-fi with snake_case but not kebab-case.\n",
            "Tokenized:\t ['Hi', 'This', \"isn't\", 'a', 'beautiful', 'sentence', 'with', 'some', 'interesting', 'and', 'features', 'like', \"people's\", 'names', 'and', 'Mr', 'Fox', 'thoughts', 'for', 'number', 'such', 'as', 'and', 'or', 'peer2peer', 'and', 'wi', 'fi', 'with', 'snake_case', 'but', 'not', 'kebab', 'case']\n",
            "Lowercased:\t ['hi', 'this', \"isn't\", 'a', 'beautiful', 'sentence', 'with', 'some', 'interesting', 'and', 'features', 'like', \"people's\", 'names', 'and', 'mr', 'fox', 'thoughts', 'for', 'number', 'such', 'as', 'and', 'or', 'peer2peer', 'and', 'wi', 'fi', 'with', 'snake_case', 'but', 'not', 'kebab', 'case']\n",
            "No stopwords:\t ['hi', \"isn't\", 'beautiful', 'sentence', 'interesting', 'features', 'like', \"people's\", 'names', 'mr', 'fox', 'thoughts', 'number', 'peer2peer', 'wi', 'fi', 'snake_case', 'but', 'not', 'kebab', 'case']\n",
            "Stemmed:\t ['hi', \"isn't\", 'beauti', 'sentenc', 'interest', 'featur', 'like', 'peopl', 'name', 'mr', 'fox', 'thought', 'number', 'peer2peer', 'wi', 'fi', 'snake_cas', 'but', 'not', 'kebab', 'case']\n"
          ],
          "name": "stdout"
        }
      ]
    },
    {
      "cell_type": "markdown",
      "metadata": {
        "id": "7_5ZwQeXxqFo",
        "colab_type": "text"
      },
      "source": [
        "**Processing dataset**\n",
        "\n",
        "Variable `predictions_field` contains \"summary\" or \"text\", depending on the column chosen later on for machine learning predictions."
      ]
    },
    {
      "cell_type": "code",
      "metadata": {
        "id": "992EhtETxpfH",
        "colab_type": "code",
        "colab": {
          "base_uri": "https://localhost:8080/",
          "height": 50
        },
        "outputId": "bca91778-8879-4071-9dd6-1cdb532979eb"
      },
      "source": [
        "pd.set_option('display.max_columns', 150)\n",
        "\n",
        "\n",
        "def text_processing(field):\n",
        "  normalized = dfull[field]\n",
        "  normalized = normalized.apply(tokenizer.tokenize)\n",
        "  normalized = normalized.apply(lambda tokens_list: [token.lower() for token in tokens_list])\n",
        "  normalized = normalized.apply(lambda tokens_list: [token for token in tokens_list if token not in stopset])\n",
        "  #normalized = normalized.apply(lambda tokens_list: [stemmer.stem(token) for token in tokens_list])\n",
        "  return normalized\n",
        "  \n",
        "predictions_field = 'summary'\n",
        "%time normalized_field = text_processing(predictions_field)"
      ],
      "execution_count": 22,
      "outputs": [
        {
          "output_type": "stream",
          "text": [
            "CPU times: user 2.71 s, sys: 158 ms, total: 2.87 s\n",
            "Wall time: 2.87 s\n"
          ],
          "name": "stdout"
        }
      ]
    },
    {
      "cell_type": "code",
      "metadata": {
        "id": "vRpt9OhJUG2j",
        "colab_type": "code",
        "outputId": "aa1e88aa-cead-4d33-ed9d-6c9742e45d96",
        "colab": {
          "base_uri": "https://localhost:8080/",
          "height": 279
        }
      },
      "source": [
        "dfull[predictions_field + '_tokens'] = normalized_field\n",
        "dfull[predictions_field + '_normalized'] = normalized_field.apply(lambda tokens_list: ' '.join(tokens_list))\n",
        "dfull.head(5)"
      ],
      "execution_count": 23,
      "outputs": [
        {
          "output_type": "execute_result",
          "data": {
            "text/html": [
              "<div>\n",
              "<style scoped>\n",
              "    .dataframe tbody tr th:only-of-type {\n",
              "        vertical-align: middle;\n",
              "    }\n",
              "\n",
              "    .dataframe tbody tr th {\n",
              "        vertical-align: top;\n",
              "    }\n",
              "\n",
              "    .dataframe thead th {\n",
              "        text-align: right;\n",
              "    }\n",
              "</style>\n",
              "<table border=\"1\" class=\"dataframe\">\n",
              "  <thead>\n",
              "    <tr style=\"text-align: right;\">\n",
              "      <th></th>\n",
              "      <th>productID</th>\n",
              "      <th>rating</th>\n",
              "      <th>text</th>\n",
              "      <th>userID</th>\n",
              "      <th>summary</th>\n",
              "      <th>date</th>\n",
              "      <th>sentiment</th>\n",
              "      <th>summary_tokens</th>\n",
              "      <th>summary_normalized</th>\n",
              "    </tr>\n",
              "  </thead>\n",
              "  <tbody>\n",
              "    <tr>\n",
              "      <th>0</th>\n",
              "      <td>1881509818</td>\n",
              "      <td>5.0</td>\n",
              "      <td>This came in on time and I am veru happy with ...</td>\n",
              "      <td>AIXZKN4ACSKI</td>\n",
              "      <td>Woks very good</td>\n",
              "      <td>2014-01-26</td>\n",
              "      <td>positive</td>\n",
              "      <td>[woks, very, good]</td>\n",
              "      <td>woks very good</td>\n",
              "    </tr>\n",
              "    <tr>\n",
              "      <th>1</th>\n",
              "      <td>1881509818</td>\n",
              "      <td>5.0</td>\n",
              "      <td>I had a factory Glock tool that I was using fo...</td>\n",
              "      <td>A1L5P841VIO02V</td>\n",
              "      <td>Works as well as the factory tool</td>\n",
              "      <td>2012-02-02</td>\n",
              "      <td>positive</td>\n",
              "      <td>[works, well, factory, tool]</td>\n",
              "      <td>works well factory tool</td>\n",
              "    </tr>\n",
              "    <tr>\n",
              "      <th>2</th>\n",
              "      <td>1881509818</td>\n",
              "      <td>4.0</td>\n",
              "      <td>If you don't have a 3/32 punch or would like t...</td>\n",
              "      <td>AB2W04NI4OEAD</td>\n",
              "      <td>It's a punch, that's all.</td>\n",
              "      <td>2012-02-28</td>\n",
              "      <td>positive</td>\n",
              "      <td>[punch, that's, all]</td>\n",
              "      <td>punch that's all</td>\n",
              "    </tr>\n",
              "    <tr>\n",
              "      <th>3</th>\n",
              "      <td>1881509818</td>\n",
              "      <td>4.0</td>\n",
              "      <td>This works no better than any 3/32 punch you w...</td>\n",
              "      <td>A148SVSWKTJKU6</td>\n",
              "      <td>It's a punch with a Glock logo.</td>\n",
              "      <td>2012-02-05</td>\n",
              "      <td>positive</td>\n",
              "      <td>[punch, glock, logo]</td>\n",
              "      <td>punch glock logo</td>\n",
              "    </tr>\n",
              "    <tr>\n",
              "      <th>4</th>\n",
              "      <td>1881509818</td>\n",
              "      <td>4.0</td>\n",
              "      <td>I purchased this thinking maybe I need a speci...</td>\n",
              "      <td>AAAWJ6LW9WMOO</td>\n",
              "      <td>Ok,tool does what a regular punch does.</td>\n",
              "      <td>2013-04-23</td>\n",
              "      <td>positive</td>\n",
              "      <td>[ok, tool, does, regular, punch, does]</td>\n",
              "      <td>ok tool does regular punch does</td>\n",
              "    </tr>\n",
              "  </tbody>\n",
              "</table>\n",
              "</div>"
            ],
            "text/plain": [
              "    productID  rating                                               text  \\\n",
              "0  1881509818     5.0  This came in on time and I am veru happy with ...   \n",
              "1  1881509818     5.0  I had a factory Glock tool that I was using fo...   \n",
              "2  1881509818     4.0  If you don't have a 3/32 punch or would like t...   \n",
              "3  1881509818     4.0  This works no better than any 3/32 punch you w...   \n",
              "4  1881509818     4.0  I purchased this thinking maybe I need a speci...   \n",
              "\n",
              "           userID                                  summary       date  \\\n",
              "0    AIXZKN4ACSKI                           Woks very good 2014-01-26   \n",
              "1  A1L5P841VIO02V        Works as well as the factory tool 2012-02-02   \n",
              "2   AB2W04NI4OEAD                It's a punch, that's all. 2012-02-28   \n",
              "3  A148SVSWKTJKU6          It's a punch with a Glock logo. 2012-02-05   \n",
              "4   AAAWJ6LW9WMOO  Ok,tool does what a regular punch does. 2013-04-23   \n",
              "\n",
              "  sentiment                          summary_tokens  \\\n",
              "0  positive                      [woks, very, good]   \n",
              "1  positive            [works, well, factory, tool]   \n",
              "2  positive                    [punch, that's, all]   \n",
              "3  positive                    [punch, glock, logo]   \n",
              "4  positive  [ok, tool, does, regular, punch, does]   \n",
              "\n",
              "                summary_normalized  \n",
              "0                   woks very good  \n",
              "1          works well factory tool  \n",
              "2                 punch that's all  \n",
              "3                 punch glock logo  \n",
              "4  ok tool does regular punch does  "
            ]
          },
          "metadata": {
            "tags": []
          },
          "execution_count": 23
        }
      ]
    },
    {
      "cell_type": "markdown",
      "metadata": {
        "id": "MOpPKW1qLdAr",
        "colab_type": "text"
      },
      "source": [
        "### Common Words"
      ]
    },
    {
      "cell_type": "code",
      "metadata": {
        "scrolled": true,
        "id": "CHz_8UkGLdA3",
        "colab_type": "code",
        "colab": {}
      },
      "source": [
        "# sentences = (list(itertools.chain(dfull)))\n",
        "# flat_list = [item for sublist in sentences for item in sublist]\n",
        "  \n",
        "# fig = plt.figure(figsize=(20,14))\n",
        "# wordcloud = WordCloud(background_color=\"white\").generate(\" \".join(flat_list))\n",
        "# plt.imshow(wordcloud,interpolation='bilinear')\n",
        "# plt.axis(\"off\")"
      ],
      "execution_count": 0,
      "outputs": []
    },
    {
      "cell_type": "markdown",
      "metadata": {
        "id": "oi75l2oNq7aN",
        "colab_type": "text"
      },
      "source": [
        "\n",
        "\n",
        "---\n",
        "\n"
      ]
    },
    {
      "cell_type": "markdown",
      "metadata": {
        "id": "Jp3m7D4Y5A4G",
        "colab_type": "text"
      },
      "source": [
        "## Machine Learning"
      ]
    },
    {
      "cell_type": "markdown",
      "metadata": {
        "id": "Cj3YXUHgqXmZ",
        "colab_type": "text"
      },
      "source": [
        "### Undersampling\n",
        "\n",
        "As previously seen, target column (`rating`) is strongly unbalanced towards the positive class. Undersampling of the majority class is necessary here to achieve good machine learning preformances later on. This mainly afftects *recall* of testes prediction models."
      ]
    },
    {
      "cell_type": "code",
      "metadata": {
        "id": "DHgHyYGw6YZR",
        "colab_type": "code",
        "outputId": "56bbbca2-d3a5-4f7b-8c58-57154d5ff596",
        "colab": {
          "base_uri": "https://localhost:8080/",
          "height": 84
        }
      },
      "source": [
        "from sklearn.utils import *\n",
        "\n",
        "# Separate majority and minority classes\n",
        "positive_count = dfull['sentiment'].value_counts()['positive']\n",
        "negative_count = dfull['sentiment'].value_counts()['negative']\n",
        "df_majority = dfull[dfull.sentiment==('positive' if positive_count >= negative_count else 'negative')]\n",
        "df_minority = dfull[dfull.sentiment==('negative' if positive_count >= negative_count else 'positive')]\n",
        " \n",
        "# Downsample majority class\n",
        "obj_samples = negative_count if positive_count >= negative_count else positive_count\n",
        "df_majority_downsampled = resample(df_majority, \n",
        "                                 replace=False,\n",
        "                                 n_samples = obj_samples, # match minority class\n",
        "                                 random_state=123) # reproducible results\n",
        " \n",
        "# Combine minority class with downsampled majority class\n",
        "df_downsampled = pd.concat([df_majority_downsampled, df_minority])\n",
        " \n",
        "# Display new class counts\n",
        "print(\"Positive/negative distribution post-undersampling\")\n",
        "df_downsampled['sentiment'].value_counts()"
      ],
      "execution_count": 48,
      "outputs": [
        {
          "output_type": "stream",
          "text": [
            "Positive/negative distribution post-undersampling\n"
          ],
          "name": "stdout"
        },
        {
          "output_type": "execute_result",
          "data": {
            "text/plain": [
              "positive    43320\n",
              "negative    43320\n",
              "Name: sentiment, dtype: int64"
            ]
          },
          "metadata": {
            "tags": []
          },
          "execution_count": 48
        }
      ]
    },
    {
      "cell_type": "markdown",
      "metadata": {
        "id": "64WhvQEkqcLd",
        "colab_type": "text"
      },
      "source": [
        "### TF-IDF (term frequency - inverse document frequency)\n",
        "\n",
        "In information retrieval, tf–idf or TFIDF, short for term frequency–inverse document frequency, is a numerical statistic that is intended to reflect **how important a word is to a document in a collection or corpus**. It is often used as a weighting factor in searches of information retrieval, text mining, and user modeling. The tf–idf value increases proportionally to the number of times a word appears in the document and is offset by the number of documents in the corpus that contain the word, which helps to adjust for the fact that some words appear more frequently in general. tf–idf is one of the most popular term-weighting schemes today.\n",
        "\n",
        "\\- Wikipedia"
      ]
    },
    {
      "cell_type": "code",
      "metadata": {
        "id": "Zg7LAbR713Gt",
        "colab_type": "code",
        "outputId": "2022e888-9d0b-412e-c104-c684e5be793c",
        "colab": {
          "base_uri": "https://localhost:8080/",
          "height": 50
        }
      },
      "source": [
        "from sklearn.feature_extraction.text import TfidfVectorizer\n",
        "\n",
        "df_downsampled = df_downsampled.drop(['rating'], axis = 1) # directly infers sentiment\n",
        "\n",
        "tvec = TfidfVectorizer(use_idf=True,\n",
        "                       strip_accents=None,\n",
        "                       stop_words=None,\n",
        "                       lowercase=False) # Tf-idf settings\n",
        "\n",
        "actuals = df_downsampled.sentiment\n",
        "tfidf = tvec.fit_transform(df_downsampled[predictions_field + '_normalized']) # learning vocabulary and idf\n",
        "\n",
        "print(\"(rows,) \\t=\", actuals.shape) # actual target\n",
        "print(\"(rows, terms)\\t=\", tfidf.shape) # Tf-idf-weighted document-term matrix"
      ],
      "execution_count": 49,
      "outputs": [
        {
          "output_type": "stream",
          "text": [
            "(rows,) \t= (86640,)\n",
            "(rows, terms)\t= (86640, 15123)\n"
          ],
          "name": "stdout"
        }
      ]
    },
    {
      "cell_type": "markdown",
      "metadata": {
        "id": "IGV8phoHqMDK",
        "colab_type": "text"
      },
      "source": [
        "### Term Weights\n",
        "\n",
        "Common terms have higher weights in the resulting Tf-idf-weighted document-term matrix. If a term appears to be very frequent but not much significant, then it should be inserted in the stopwords list."
      ]
    },
    {
      "cell_type": "code",
      "metadata": {
        "id": "OUbROh6c4zLX",
        "colab_type": "code",
        "colab": {
          "base_uri": "https://localhost:8080/",
          "height": 360
        },
        "outputId": "4adc2209-fca1-4623-f6e6-13e23700a998"
      },
      "source": [
        "print(\"Most common terms weights\")\n",
        "weights = np.asarray(tfidf.mean(axis=0)).ravel().tolist()\n",
        "weights_df = pd.DataFrame({'term': tvec.get_feature_names(), 'weight': weights})\n",
        "weights_df.sort_values(by='weight', ascending=False).head(10)"
      ],
      "execution_count": 93,
      "outputs": [
        {
          "output_type": "stream",
          "text": [
            "Most common terms weights\n"
          ],
          "name": "stdout"
        },
        {
          "output_type": "execute_result",
          "data": {
            "text/html": [
              "<div>\n",
              "<style scoped>\n",
              "    .dataframe tbody tr th:only-of-type {\n",
              "        vertical-align: middle;\n",
              "    }\n",
              "\n",
              "    .dataframe tbody tr th {\n",
              "        vertical-align: top;\n",
              "    }\n",
              "\n",
              "    .dataframe thead th {\n",
              "        text-align: right;\n",
              "    }\n",
              "</style>\n",
              "<table border=\"1\" class=\"dataframe\">\n",
              "  <thead>\n",
              "    <tr style=\"text-align: right;\">\n",
              "      <th></th>\n",
              "      <th>term</th>\n",
              "      <th>weight</th>\n",
              "    </tr>\n",
              "  </thead>\n",
              "  <tbody>\n",
              "    <tr>\n",
              "      <th>5559</th>\n",
              "      <td>great</td>\n",
              "      <td>0.044849</td>\n",
              "    </tr>\n",
              "    <tr>\n",
              "      <th>5455</th>\n",
              "      <td>good</td>\n",
              "      <td>0.034516</td>\n",
              "    </tr>\n",
              "    <tr>\n",
              "      <th>8729</th>\n",
              "      <td>not</td>\n",
              "      <td>0.031376</td>\n",
              "    </tr>\n",
              "    <tr>\n",
              "      <th>14822</th>\n",
              "      <td>works</td>\n",
              "      <td>0.021034</td>\n",
              "    </tr>\n",
              "    <tr>\n",
              "      <th>1745</th>\n",
              "      <td>but</td>\n",
              "      <td>0.020693</td>\n",
              "    </tr>\n",
              "    <tr>\n",
              "      <th>8625</th>\n",
              "      <td>nice</td>\n",
              "      <td>0.017409</td>\n",
              "    </tr>\n",
              "    <tr>\n",
              "      <th>8877</th>\n",
              "      <td>ok</td>\n",
              "      <td>0.016891</td>\n",
              "    </tr>\n",
              "    <tr>\n",
              "      <th>9993</th>\n",
              "      <td>product</td>\n",
              "      <td>0.015933</td>\n",
              "    </tr>\n",
              "    <tr>\n",
              "      <th>9926</th>\n",
              "      <td>price</td>\n",
              "      <td>0.013778</td>\n",
              "    </tr>\n",
              "    <tr>\n",
              "      <th>14288</th>\n",
              "      <td>very</td>\n",
              "      <td>0.013346</td>\n",
              "    </tr>\n",
              "  </tbody>\n",
              "</table>\n",
              "</div>"
            ],
            "text/plain": [
              "          term    weight\n",
              "5559     great  0.044849\n",
              "5455      good  0.034516\n",
              "8729       not  0.031376\n",
              "14822    works  0.021034\n",
              "1745       but  0.020693\n",
              "8625      nice  0.017409\n",
              "8877        ok  0.016891\n",
              "9993   product  0.015933\n",
              "9926     price  0.013778\n",
              "14288     very  0.013346"
            ]
          },
          "metadata": {
            "tags": []
          },
          "execution_count": 93
        }
      ]
    },
    {
      "cell_type": "markdown",
      "metadata": {
        "id": "n9FzPKlXvoyw",
        "colab_type": "text"
      },
      "source": [
        "### Splitting training and test set\n",
        "\n",
        "Altough *Tf-idf-weighted document-term matrix* is learnt on the whole dataset, ML models must be run on splitted dataset for training and testing porposes."
      ]
    },
    {
      "cell_type": "code",
      "metadata": {
        "id": "YhsFSXv2vpBi",
        "colab_type": "code",
        "colab": {}
      },
      "source": [
        "tfidf_train, tfidf_test, actuals_train, actuals_test = train_test_split(tfidf, actuals, test_size = 0.3, shuffle = True)"
      ],
      "execution_count": 0,
      "outputs": []
    },
    {
      "cell_type": "markdown",
      "metadata": {
        "id": "AMwlHEZGqG6L",
        "colab_type": "text"
      },
      "source": [
        "### Models\n",
        "\n",
        "Several machine learning models will be tried out to predict `rating` from review `summary` or `text`."
      ]
    },
    {
      "cell_type": "code",
      "metadata": {
        "id": "WWi08pFM5F3Q",
        "colab_type": "code",
        "colab": {}
      },
      "source": [
        "from sklearn.model_selection import train_test_split\n",
        "from sklearn import metrics\n",
        "from sklearn.model_selection import cross_val_score\n",
        "from sklearn.preprocessing import LabelBinarizer\n",
        "\n",
        "from sklearn import naive_bayes\n",
        "from sklearn.linear_model import SGDClassifier\n",
        "from sklearn.ensemble import RandomForestClassifier\n",
        "\n",
        "\n",
        "\n",
        "def roc_and_auc(model):  \n",
        "  \n",
        "  fpr, tpr, thresholds = metrics.roc_curve(actuals_test, model.predict_proba(tfidf_test)[:,1], pos_label = 'positive')\n",
        "\n",
        "  pred_probs = model.predict_proba(tfidf_test)[:,1] # prediction probabilities for positive class\n",
        "  auc = metrics.roc_auc_score(actuals_test, pred_probs)\n",
        "  \n",
        "  plt.figure()\n",
        "  plt.plot(fpr, tpr, label = 'AUROC = %0.4f' % auc)\n",
        "  plt.plot([0, 1], [0, 1],'r--')\n",
        "  plt.xlim([0.0, 1.0])\n",
        "  plt.ylim([0.0, 1.05])\n",
        "  plt.xlabel('False Positive Rate')\n",
        "  plt.ylabel('True Positive Rate')\n",
        "  plt.legend(loc=\"lower right\")\n",
        "  plt.title('ROC Curve')\n",
        "    \n",
        "\n",
        "    \n",
        "    \n",
        "def run_model(model, folds = 10):\n",
        "  \n",
        "  print(model)\n",
        "  print()\n",
        "  \n",
        "  # LEARNING AND PREDICTION\n",
        "  \n",
        "  model.fit(tfidf_train, actuals_train)\n",
        "  predictions = model.predict(tfidf_test)\n",
        "  \n",
        "  \n",
        "  # CROSS VALIDATION\n",
        "  \n",
        "  df_confusion = pd.crosstab(actuals_test, predictions, rownames=['Actual'], colnames=['Predicted'], margins=True)\n",
        "  print(\"Confusion matrix\\n\", df_confusion)\n",
        "  \n",
        "  cm = metrics.confusion_matrix(actuals_test, predictions)\n",
        "  plt.matshow(cm)\n",
        "  plt.title('Confusion matrix')\n",
        "  plt.colorbar()\n",
        "  plt.ylabel('Actual')\n",
        "  plt.xlabel('Predicted')\n",
        "  plt.show()\n",
        "  \n",
        "  print(\"\\n METRICS\")\n",
        "  print(metrics.classification_report(actuals_test, predictions))\n",
        "  \n",
        "  \n",
        "  # ROC/AUC\n",
        "  roc_and_auc(model)\n",
        "  \n",
        "  \n",
        "  # CROSS VALIDATION\n",
        "  \n",
        "  print()\n",
        "  accuracy = cross_val_score(model, tfidf, actuals, cv=folds, scoring='accuracy')\n",
        "#   precision = cross_val_score(model, tfidf, actuals, cv=folds, scoring='precision')\n",
        "#   recall = cross_val_score(model, tfidf, actuals, cv=folds, scoring='recall')\n",
        "  print(\"ACCURACY ON \", folds, \"FOLD CROSS VALIDATION: \", accuracy.mean())\n",
        "#   print(\"PRECISION ON \", folds, \"FOLD CROSS VALIDATION: \", precision.mean())\n",
        "#   print(\"RECALL ON \", folds, \"FOLD CROSS VALIDATION: \", recall.mean())\n",
        "  \n",
        "  print(\"\\n\")"
      ],
      "execution_count": 0,
      "outputs": []
    },
    {
      "cell_type": "markdown",
      "metadata": {
        "id": "QaHnM_5C2Hot",
        "colab_type": "text"
      },
      "source": [
        "#### Naive Bayes"
      ]
    },
    {
      "cell_type": "code",
      "metadata": {
        "id": "NYK8373i1b5V",
        "colab_type": "code",
        "colab": {
          "base_uri": "https://localhost:8080/",
          "height": 959
        },
        "outputId": "f559cc52-b6a0-4bb8-f82b-8ba51fe9fdc5"
      },
      "source": [
        "  bayes = naive_bayes.MultinomialNB()\n",
        "  %time run_model(bayes)"
      ],
      "execution_count": 96,
      "outputs": [
        {
          "output_type": "stream",
          "text": [
            "MultinomialNB(alpha=1.0, class_prior=None, fit_prior=True)\n",
            "\n",
            "Confusion matrix\n",
            " Predicted  negative  positive    All\n",
            "Actual                              \n",
            "negative      10019      2904  12923\n",
            "positive       2576     10493  13069\n",
            "All           12595     13397  25992\n"
          ],
          "name": "stdout"
        },
        {
          "output_type": "display_data",
          "data": {
            "image/png": "[encoded data removed]",
            "text/plain": [
              "<Figure size 288x288 with 2 Axes>"
            ]
          },
          "metadata": {
            "tags": []
          }
        },
        {
          "output_type": "stream",
          "text": [
            "\n",
            " METRICS\n",
            "              precision    recall  f1-score   support\n",
            "\n",
            "    negative       0.80      0.78      0.79     12923\n",
            "    positive       0.78      0.80      0.79     13069\n",
            "\n",
            "    accuracy                           0.79     25992\n",
            "   macro avg       0.79      0.79      0.79     25992\n",
            "weighted avg       0.79      0.79      0.79     25992\n",
            "\n",
            "\n",
            "ACCURACY ON  10 -FOLD CROSS VALIDATION:  0.7892313019390581\n",
            "\n",
            "\n",
            "CPU times: user 3.96 s, sys: 192 ms, total: 4.15 s\n",
            "Wall time: 3.94 s\n"
          ],
          "name": "stdout"
        },
        {
          "output_type": "display_data",
          "data": {
            "image/png": "[encoded data removed]",
            "text/plain": [
              "<Figure size 432x288 with 1 Axes>"
            ]
          },
          "metadata": {
            "tags": []
          }
        }
      ]
    },
    {
      "cell_type": "markdown",
      "metadata": {
        "id": "T7uFcc4Z2JuX",
        "colab_type": "text"
      },
      "source": [
        "#### SVM"
      ]
    },
    {
      "cell_type": "code",
      "metadata": {
        "id": "jKpqMgDTmM1n",
        "colab_type": "code",
        "colab": {
          "base_uri": "https://localhost:8080/",
          "height": 1000
        },
        "outputId": "9f720189-040c-4050-83ce-b82a8bb5b526"
      },
      "source": [
        "svm = SGDClassifier(loss='log')\n",
        "%time run_model(svm)"
      ],
      "execution_count": 97,
      "outputs": [
        {
          "output_type": "stream",
          "text": [
            "SGDClassifier(alpha=0.0001, average=False, class_weight=None,\n",
            "              early_stopping=False, epsilon=0.1, eta0=0.0, fit_intercept=True,\n",
            "              l1_ratio=0.15, learning_rate='optimal', loss='log', max_iter=1000,\n",
            "              n_iter_no_change=5, n_jobs=None, penalty='l2', power_t=0.5,\n",
            "              random_state=None, shuffle=True, tol=0.001,\n",
            "              validation_fraction=0.1, verbose=0, warm_start=False)\n",
            "\n",
            "Confusion matrix\n",
            " Predicted  negative  positive    All\n",
            "Actual                              \n",
            "negative      10396      2527  12923\n",
            "positive       2563     10506  13069\n",
            "All           12959     13033  25992\n"
          ],
          "name": "stdout"
        },
        {
          "output_type": "display_data",
          "data": {
            "image/png": "[encoded data removed]",
            "text/plain": [
              "<Figure size 288x288 with 2 Axes>"
            ]
          },
          "metadata": {
            "tags": []
          }
        },
        {
          "output_type": "stream",
          "text": [
            "\n",
            " METRICS\n",
            "              precision    recall  f1-score   support\n",
            "\n",
            "    negative       0.80      0.80      0.80     12923\n",
            "    positive       0.81      0.80      0.80     13069\n",
            "\n",
            "    accuracy                           0.80     25992\n",
            "   macro avg       0.80      0.80      0.80     25992\n",
            "weighted avg       0.80      0.80      0.80     25992\n",
            "\n",
            "\n",
            "ACCURACY ON  10 -FOLD CROSS VALIDATION:  0.8039127423822714\n",
            "\n",
            "\n",
            "CPU times: user 4.68 s, sys: 1.16 s, total: 5.83 s\n",
            "Wall time: 4.33 s\n"
          ],
          "name": "stdout"
        },
        {
          "output_type": "display_data",
          "data": {
            "image/png": "[encoded data removed]",
            "text/plain": [
              "<Figure size 432x288 with 1 Axes>"
            ]
          },
          "metadata": {
            "tags": []
          }
        }
      ]
    },
    {
      "cell_type": "markdown",
      "metadata": {
        "id": "wAWaDUCr2DuQ",
        "colab_type": "text"
      },
      "source": [
        "#### Random Forest\n",
        "\n",
        "Random Forest is slow and performs worse than the other models."
      ]
    },
    {
      "cell_type": "code",
      "metadata": {
        "id": "ifr8fDDUoz9D",
        "colab_type": "code",
        "colab": {
          "base_uri": "https://localhost:8080/",
          "height": 1000
        },
        "outputId": "a2469505-c1f6-4cc4-e621-2e4d2b7649b0"
      },
      "source": [
        "#forest = RandomForestClassifier(n_estimators = 4) # default n_estimators is 10\n",
        "#%time run_model(forest)"
      ],
      "execution_count": 98,
      "outputs": [
        {
          "output_type": "stream",
          "text": [
            "RandomForestClassifier(bootstrap=True, class_weight=None, criterion='gini',\n",
            "                       max_depth=None, max_features='auto', max_leaf_nodes=None,\n",
            "                       min_impurity_decrease=0.0, min_impurity_split=None,\n",
            "                       min_samples_leaf=1, min_samples_split=2,\n",
            "                       min_weight_fraction_leaf=0.0, n_estimators=4,\n",
            "                       n_jobs=None, oob_score=False, random_state=None,\n",
            "                       verbose=0, warm_start=False)\n",
            "\n",
            "Confusion matrix\n",
            " Predicted  negative  positive    All\n",
            "Actual                              \n",
            "negative      10892      2031  12923\n",
            "positive       3677      9392  13069\n",
            "All           14569     11423  25992\n"
          ],
          "name": "stdout"
        },
        {
          "output_type": "display_data",
          "data": {
            "image/png": "[encoded data removed]",
            "text/plain": [
              "<Figure size 288x288 with 2 Axes>"
            ]
          },
          "metadata": {
            "tags": []
          }
        },
        {
          "output_type": "stream",
          "text": [
            "\n",
            " METRICS\n",
            "              precision    recall  f1-score   support\n",
            "\n",
            "    negative       0.75      0.84      0.79     12923\n",
            "    positive       0.82      0.72      0.77     13069\n",
            "\n",
            "    accuracy                           0.78     25992\n",
            "   macro avg       0.78      0.78      0.78     25992\n",
            "weighted avg       0.79      0.78      0.78     25992\n",
            "\n",
            "\n",
            "ACCURACY ON  10 -FOLD CROSS VALIDATION:  0.7845683287165282\n",
            "\n",
            "\n",
            "CPU times: user 3min, sys: 338 ms, total: 3min\n",
            "Wall time: 3min\n"
          ],
          "name": "stdout"
        },
        {
          "output_type": "display_data",
          "data": {
            "image/png": "[encoded data removed]",
            "text/plain": [
              "<Figure size 432x288 with 1 Axes>"
            ]
          },
          "metadata": {
            "tags": []
          }
        }
      ]
    },
    {
      "cell_type": "markdown",
      "metadata": {
        "id": "fHH9UuKULdA7",
        "colab_type": "text"
      },
      "source": [
        "---"
      ]
    }
  ]
}